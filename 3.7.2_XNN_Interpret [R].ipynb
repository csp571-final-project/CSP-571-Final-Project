{
 "cells": [
  {
   "cell_type": "markdown",
   "metadata": {},
   "source": [
    "# 3.7.2 XNN Model Testing / Interpretation"
   ]
  },
  {
   "cell_type": "markdown",
   "metadata": {},
   "source": [
    "## 1) Load Required Libraries"
   ]
  },
  {
   "cell_type": "code",
   "execution_count": 16,
   "metadata": {},
   "outputs": [
    {
     "name": "stderr",
     "output_type": "stream",
     "text": [
      "\n",
      "Attaching package: ‘MLmetrics’\n",
      "\n",
      "The following objects are masked from ‘package:caret’:\n",
      "\n",
      "    MAE, RMSE\n",
      "\n",
      "The following object is masked from ‘package:base’:\n",
      "\n",
      "    Recall\n",
      "\n"
     ]
    }
   ],
   "source": [
    "library(\"dplyr\")\n",
    "library(\"ggplot2\")\n",
    "library(\"caret\")\n",
    "library(\"mltools\")\n",
    "library(\"data.table\")\n",
    "library(\"pROC\")\n",
    "library(\"PRROC\")\n",
    "library(\"MLmetrics\")"
   ]
  },
  {
   "cell_type": "markdown",
   "metadata": {},
   "source": [
    "## 2) Load Data"
   ]
  },
  {
   "cell_type": "markdown",
   "metadata": {},
   "source": [
    "### 2.1) Test Data"
   ]
  },
  {
   "cell_type": "code",
   "execution_count": 2,
   "metadata": {},
   "outputs": [
    {
     "name": "stdout",
     "output_type": "stream",
     "text": [
      "Observations: 51,159\n",
      "Variables: 45\n",
      "$ X                                      <int> 1, 2, 3, 4, 5, 6, 7, 8, 9, 10,…\n",
      "$ loan_amnt                              <int> 12200, 9325, 15000, 15000, 400…\n",
      "$ term_36MO                              <int> 1, 1, 1, 1, 1, 1, 1, 1, 1, 1, …\n",
      "$ term_60MO                              <int> 0, 0, 0, 0, 0, 0, 0, 0, 0, 0, …\n",
      "$ int_rate                               <dbl> 12.29, 12.53, 11.89, 13.16, 12…\n",
      "$ installment                            <dbl> 406.91, 312.08, 497.46, 506.56…\n",
      "$ grade_A                                <int> 0, 0, 0, 0, 0, 0, 0, 0, 1, 0, …\n",
      "$ grade_B                                <int> 0, 0, 1, 0, 0, 1, 1, 0, 0, 1, …\n",
      "$ grade_C                                <int> 1, 1, 0, 1, 1, 0, 0, 0, 0, 0, …\n",
      "$ grade_D                                <int> 0, 0, 0, 0, 0, 0, 0, 1, 0, 0, …\n",
      "$ grade_E                                <int> 0, 0, 0, 0, 0, 0, 0, 0, 0, 0, …\n",
      "$ grade_F                                <int> 0, 0, 0, 0, 0, 0, 0, 0, 0, 0, …\n",
      "$ grade_G                                <int> 0, 0, 0, 0, 0, 0, 0, 0, 0, 0, …\n",
      "$ home_ownership_MORTGAGE                <int> 0, 1, 1, 1, 1, 0, 0, 1, 1, 1, …\n",
      "$ home_ownership_OWN                     <int> 1, 0, 0, 0, 0, 0, 0, 0, 0, 0, …\n",
      "$ home_ownership_RENT                    <int> 0, 0, 0, 0, 0, 1, 1, 0, 0, 0, …\n",
      "$ annual_inc                             <dbl> 38400, 85000, 90000, 150000, 8…\n",
      "$ verification_status_NOT_VERIFIED       <int> 1, 1, 0, 0, 1, 1, 1, 0, 0, 0, …\n",
      "$ verification_status_SOURCE_VERIFIED    <int> 0, 0, 0, 0, 0, 0, 0, 1, 0, 0, …\n",
      "$ verification_status_VERIFIED           <int> 0, 0, 1, 1, 0, 0, 0, 0, 1, 1, …\n",
      "$ purpose_CREDIT_CARD                    <int> 0, 0, 0, 0, 0, 0, 0, 0, 0, 1, …\n",
      "$ purpose_DEBT_CONSOLIDATION             <int> 0, 0, 0, 0, 0, 0, 1, 0, 1, 0, …\n",
      "$ purpose_HOME_IMPROVEMENT               <int> 1, 0, 1, 0, 0, 0, 0, 1, 0, 0, …\n",
      "$ purpose_MAJOR_PURCHASE                 <int> 0, 0, 0, 0, 0, 0, 0, 0, 0, 0, …\n",
      "$ purpose_OTHERS                         <int> 0, 0, 0, 0, 1, 1, 0, 0, 0, 0, …\n",
      "$ purpose_SMALL_BUSINESS                 <int> 0, 1, 0, 1, 0, 0, 0, 0, 0, 0, …\n",
      "$ dti                                    <dbl> 9.31, 18.58, 17.11, 4.06, 12.2…\n",
      "$ open_acc                               <int> 4, 16, 18, 8, 6, 12, 6, 8, 7, …\n",
      "$ pub_rec                                <int> 0, 0, 0, 0, 0, 0, 0, 0, 0, 0, …\n",
      "$ total_acc                              <int> 8, 41, 23, 32, 7, 49, 12, 24, …\n",
      "$ initial_list_status_F                  <int> 1, 1, 1, 1, 1, 1, 1, 1, 1, 1, …\n",
      "$ initial_list_status_W                  <int> 0, 0, 0, 0, 0, 0, 0, 0, 0, 0, …\n",
      "$ compensation_of_employees              <int> 149, 159, 159, 159, 170, 170, …\n",
      "$ gross_operating_surplus                <int> 197, 198, 198, 198, 193, 193, …\n",
      "$ per_capita_real_gdp_by_state           <int> 442, 445, 445, 445, 456, 456, …\n",
      "$ quantity_indexes_for_real_gdp_by_state <int> 333, 335, 335, 335, 1, 1, 1, 1…\n",
      "$ real_gdp_by_state                      <int> 309, 310, 310, 310, 339, 339, …\n",
      "$ subsidies                              <int> 6, 377, 377, 377, 23, 23, 23, …\n",
      "$ taxes_on_production_and_imports        <int> 339, 4, 4, 4, 324, 324, 324, 3…\n",
      "$ default                                <lgl> FALSE, TRUE, FALSE, FALSE, FAL…\n",
      "$ regions_MIDWEST                        <int> 0, 0, 0, 0, 0, 0, 0, 0, 0, 0, …\n",
      "$ regions_NORTHEAST                      <int> 0, 0, 0, 0, 0, 0, 0, 0, 0, 0, …\n",
      "$ regions_SOUTH                          <int> 0, 0, 0, 0, 0, 0, 0, 0, 0, 0, …\n",
      "$ regions_WEST                           <int> 1, 1, 1, 1, 1, 1, 1, 1, 1, 1, …\n",
      "$ month                                  <int> 3, 3, 1, 1, 12, 7, 5, 9, 8, 11…\n"
     ]
    }
   ],
   "source": [
    "test.1hot.df <- read.csv(file=\"./data/new.test.1hot.df.csv\", header=TRUE, sep=\",\")\n",
    "glimpse(test.1hot.df)"
   ]
  },
  {
   "cell_type": "code",
   "execution_count": 3,
   "metadata": {},
   "outputs": [],
   "source": [
    "y_test <- subset(test.1hot.df, select=default)"
   ]
  },
  {
   "cell_type": "markdown",
   "metadata": {},
   "source": [
    "### 2.2) XNN Probabilities"
   ]
  },
  {
   "cell_type": "code",
   "execution_count": 4,
   "metadata": {},
   "outputs": [
    {
     "name": "stdout",
     "output_type": "stream",
     "text": [
      "Observations: 51,159\n",
      "Variables: 2\n",
      "$ X        <int> 0, 1, 2, 3, 4, 5, 6, 7, 8, 9, 10, 11, 12, 13, 14, 15, 16, 17…\n",
      "$ XNN_prob <dbl> 0.15377873, 0.27356870, 0.15619719, 0.18449620, 0.14224678, …\n"
     ]
    }
   ],
   "source": [
    "xnn.prob.df <- read.csv(file=\"./pred/XNN_prob.csv\", header=TRUE, sep=\",\")\n",
    "glimpse(xnn.prob.df)"
   ]
  },
  {
   "cell_type": "markdown",
   "metadata": {},
   "source": [
    "### 2.3) Calculate Sampled Medians (for Cost Sensitive Evaluation)\n",
    "#### On test dataset because it's evaluation"
   ]
  },
  {
   "cell_type": "markdown",
   "metadata": {},
   "source": [
    "Calculate median sample returns"
   ]
  },
  {
   "cell_type": "code",
   "execution_count": 5,
   "metadata": {},
   "outputs": [
    {
     "data": {
      "text/html": [
       "4137.98114271194"
      ],
      "text/latex": [
       "4137.98114271194"
      ],
      "text/markdown": [
       "4137.98114271194"
      ],
      "text/plain": [
       "[1] 4137.981"
      ]
     },
     "metadata": {},
     "output_type": "display_data"
    }
   ],
   "source": [
    "mreturns <- mean((test.1hot.df %>% mutate(returns = ((installment * term_36MO * 36) + (installment * term_60MO * 60)) - loan_amnt))$returns)\n",
    "mreturns"
   ]
  },
  {
   "cell_type": "markdown",
   "metadata": {},
   "source": [
    "Median sample loan amount"
   ]
  },
  {
   "cell_type": "code",
   "execution_count": 6,
   "metadata": {},
   "outputs": [
    {
     "data": {
      "text/html": [
       "13535.8299614926"
      ],
      "text/latex": [
       "13535.8299614926"
      ],
      "text/markdown": [
       "13535.8299614926"
      ],
      "text/plain": [
       "[1] 13535.83"
      ]
     },
     "metadata": {},
     "output_type": "display_data"
    }
   ],
   "source": [
    "mloan_amnt <- mean(test.1hot.df$loan_amnt)\n",
    "mloan_amnt"
   ]
  },
  {
   "cell_type": "markdown",
   "metadata": {},
   "source": [
    "## 3) Cost Sensitive Evaluation \n",
    "#### on XNN probabilities"
   ]
  },
  {
   "cell_type": "markdown",
   "metadata": {},
   "source": [
    "### 3.1) Find optimal Threshold"
   ]
  },
  {
   "cell_type": "code",
   "execution_count": 7,
   "metadata": {},
   "outputs": [
    {
     "data": {
      "text/html": [
       "45274233.9416673"
      ],
      "text/latex": [
       "45274233.9416673"
      ],
      "text/markdown": [
       "45274233.9416673"
      ],
      "text/plain": [
       "[1] 45274234"
      ]
     },
     "metadata": {},
     "output_type": "display_data"
    }
   ],
   "source": [
    "xnn.res.df <- data.frame(Threshold=0, CR=0, Profit=0, stringsAsFactors=FALSE)\n",
    "threshs <- seq(0.03, 0.5725, by = 0.0025)\n",
    "crs <- c()\n",
    "rets <- c()\n",
    "for(i in 1:length(threshs)) {\n",
    "    cm <- confusionMatrix(table(xnn.prob.df$XNN_prob > threshs[i], y_test$default))\n",
    "    nir <- sum(cm$table[,1])/sum(cm$table)\n",
    "    cr <-  ((cm$table[1,2]*mloan_amnt)+(cm$table[2,1]*mreturns)) / (sum(cm$table[,1])*mreturns)\n",
    "    pr <-  (cm$table[1,1]*mreturns) - (cm$table[1,2]*mloan_amnt)\n",
    "    nv <- (round(nir * sum(cm$table[1,]),0)*mreturns)-(round((1-nir) * sum(cm$table[1,]),0)*mloan_amnt)\n",
    "    crs <- c(crs,pr)\n",
    "    rets <- c(rets, sum(cm$table[1,])*mreturns)\n",
    "    xnn.res.df[nrow(xnn.res.df) + 1,] = list(threshs[i],cr,pr)\n",
    "}\n",
    "max(pr) #xgb.mono.CSL.cv.opt2.threshold = 0.035, 0.26"
   ]
  },
  {
   "cell_type": "code",
   "execution_count": 8,
   "metadata": {},
   "outputs": [
    {
     "data": {
      "text/html": [
       "<table>\n",
       "<thead><tr><th scope=col>Threshold</th><th scope=col>CR</th><th scope=col>Profit</th></tr></thead>\n",
       "<tbody>\n",
       "\t<tr><td>0.2600   </td><td>0.6062130</td><td>68017892 </td></tr>\n",
       "\t<tr><td>0.2675   </td><td>0.6064838</td><td>67971115 </td></tr>\n",
       "\t<tr><td>0.2650   </td><td>0.6065306</td><td>67963025 </td></tr>\n",
       "\t<tr><td>0.2700   </td><td>0.6066047</td><td>67950238 </td></tr>\n",
       "\t<tr><td>0.2625   </td><td>0.6066842</td><td>67936490 </td></tr>\n",
       "\t<tr><td>0.2725   </td><td>0.6070715</td><td>67869608 </td></tr>\n",
       "\t<tr><td>0.2825   </td><td>0.6081984</td><td>67674945 </td></tr>\n",
       "\t<tr><td>0.2525   </td><td>0.6082371</td><td>67668268 </td></tr>\n",
       "\t<tr><td>0.2575   </td><td>0.6083956</td><td>67640896 </td></tr>\n",
       "\t<tr><td>0.2750   </td><td>0.6087921</td><td>67572406 </td></tr>\n",
       "\t<tr><td>0.2850   </td><td>0.6089198</td><td>67550343 </td></tr>\n",
       "\t<tr><td>0.2550   </td><td>0.6090588</td><td>67526342 </td></tr>\n",
       "\t<tr><td>0.2800   </td><td>0.6092316</td><td>67496500 </td></tr>\n",
       "\t<tr><td>0.2775   </td><td>0.6094830</td><td>67453063 </td></tr>\n",
       "\t<tr><td>0.2875   </td><td>0.6097285</td><td>67410660 </td></tr>\n",
       "\t<tr><td>0.2900   </td><td>0.6103127</td><td>67309763 </td></tr>\n",
       "\t<tr><td>0.2500   </td><td>0.6103434</td><td>67304459 </td></tr>\n",
       "\t<tr><td>0.2925   </td><td>0.6103442</td><td>67304316 </td></tr>\n",
       "\t<tr><td>0.2950   </td><td>0.6106173</td><td>67257140 </td></tr>\n",
       "\t<tr><td>0.2475   </td><td>0.6111868</td><td>67158768 </td></tr>\n",
       "\t<tr><td>0.2975   </td><td>0.6125995</td><td>66914769 </td></tr>\n",
       "\t<tr><td>0.3000   </td><td>0.6130362</td><td>66839327 </td></tr>\n",
       "\t<tr><td>0.2450   </td><td>0.6132821</td><td>66796853 </td></tr>\n",
       "\t<tr><td>0.3025   </td><td>0.6149315</td><td>66511963 </td></tr>\n",
       "\t<tr><td>0.2425   </td><td>0.6154777</td><td>66417614 </td></tr>\n",
       "\t<tr><td>0.3050   </td><td>0.6163760</td><td>66262449 </td></tr>\n",
       "\t<tr><td>0.3075   </td><td>0.6177662</td><td>66022332 </td></tr>\n",
       "\t<tr><td>0.2400   </td><td>0.6179563</td><td>65989491 </td></tr>\n",
       "\t<tr><td>0.2375   </td><td>0.6186021</td><td>65877953 </td></tr>\n",
       "\t<tr><td>0.3100   </td><td>0.6189692</td><td>65814547 </td></tr>\n",
       "\t<tr><td>⋮</td><td>⋮</td><td>⋮</td></tr>\n",
       "\t<tr><td>0.2275   </td><td>0.6244272</td><td>64871788 </td></tr>\n",
       "\t<tr><td>0.2300   </td><td>0.6244502</td><td>64867813 </td></tr>\n",
       "\t<tr><td>0.3175   </td><td>0.6247670</td><td>64813091 </td></tr>\n",
       "\t<tr><td>0.3200   </td><td>0.6254653</td><td>64692480 </td></tr>\n",
       "\t<tr><td>0.2250   </td><td>0.6256016</td><td>64668938 </td></tr>\n",
       "\t<tr><td>0.2225   </td><td>0.6269697</td><td>64432634 </td></tr>\n",
       "\t<tr><td>0.2200   </td><td>0.6287690</td><td>64121846 </td></tr>\n",
       "\t<tr><td>0.3225   </td><td>0.6288219</td><td>64112700 </td></tr>\n",
       "\t<tr><td>0.2175   </td><td>0.6292815</td><td>64033314 </td></tr>\n",
       "\t<tr><td>0.3250   </td><td>0.6303672</td><td>63845788 </td></tr>\n",
       "\t<tr><td>0.2150   </td><td>0.6312441</td><td>63694333 </td></tr>\n",
       "\t<tr><td>0.3275   </td><td>0.6320976</td><td>63546894 </td></tr>\n",
       "\t<tr><td>0.2125   </td><td>0.6323920</td><td>63496043 </td></tr>\n",
       "\t<tr><td>0.2100   </td><td>0.6343631</td><td>63155590 </td></tr>\n",
       "\t<tr><td>0.2075   </td><td>0.6352565</td><td>63001273 </td></tr>\n",
       "\t<tr><td>0.3300   </td><td>0.6353934</td><td>62977633 </td></tr>\n",
       "\t<tr><td>0.3325   </td><td>0.6379883</td><td>62529423 </td></tr>\n",
       "\t<tr><td>0.2050   </td><td>0.6384424</td><td>62450979 </td></tr>\n",
       "\t<tr><td>0.2025   </td><td>0.6412734</td><td>61961981 </td></tr>\n",
       "\t<tr><td>0.3350   </td><td>0.6421988</td><td>61802146 </td></tr>\n",
       "\t<tr><td>0.2000   </td><td>0.6432640</td><td>61618163 </td></tr>\n",
       "\t<tr><td>0.3375   </td><td>0.6440320</td><td>61485506 </td></tr>\n",
       "\t<tr><td>0.3400   </td><td>0.6451729</td><td>61288444 </td></tr>\n",
       "\t<tr><td>0.3425   </td><td>0.6462484</td><td>61102674 </td></tr>\n",
       "\t<tr><td>0.1975   </td><td>0.6463301</td><td>61088558 </td></tr>\n",
       "\t<tr><td>0.1950   </td><td>0.6483860</td><td>60733448 </td></tr>\n",
       "\t<tr><td>0.3450   </td><td>0.6486520</td><td>60687494 </td></tr>\n",
       "\t<tr><td>0.3475   </td><td>0.6507902</td><td>60318181 </td></tr>\n",
       "\t<tr><td>0.1925   </td><td>0.6509190</td><td>60295927 </td></tr>\n",
       "\t<tr><td>0.3500   </td><td>0.6522644</td><td>60063537 </td></tr>\n",
       "</tbody>\n",
       "</table>\n"
      ],
      "text/latex": [
       "\\begin{tabular}{r|lll}\n",
       " Threshold & CR & Profit\\\\\n",
       "\\hline\n",
       "\t 0.2600    & 0.6062130 & 68017892 \\\\\n",
       "\t 0.2675    & 0.6064838 & 67971115 \\\\\n",
       "\t 0.2650    & 0.6065306 & 67963025 \\\\\n",
       "\t 0.2700    & 0.6066047 & 67950238 \\\\\n",
       "\t 0.2625    & 0.6066842 & 67936490 \\\\\n",
       "\t 0.2725    & 0.6070715 & 67869608 \\\\\n",
       "\t 0.2825    & 0.6081984 & 67674945 \\\\\n",
       "\t 0.2525    & 0.6082371 & 67668268 \\\\\n",
       "\t 0.2575    & 0.6083956 & 67640896 \\\\\n",
       "\t 0.2750    & 0.6087921 & 67572406 \\\\\n",
       "\t 0.2850    & 0.6089198 & 67550343 \\\\\n",
       "\t 0.2550    & 0.6090588 & 67526342 \\\\\n",
       "\t 0.2800    & 0.6092316 & 67496500 \\\\\n",
       "\t 0.2775    & 0.6094830 & 67453063 \\\\\n",
       "\t 0.2875    & 0.6097285 & 67410660 \\\\\n",
       "\t 0.2900    & 0.6103127 & 67309763 \\\\\n",
       "\t 0.2500    & 0.6103434 & 67304459 \\\\\n",
       "\t 0.2925    & 0.6103442 & 67304316 \\\\\n",
       "\t 0.2950    & 0.6106173 & 67257140 \\\\\n",
       "\t 0.2475    & 0.6111868 & 67158768 \\\\\n",
       "\t 0.2975    & 0.6125995 & 66914769 \\\\\n",
       "\t 0.3000    & 0.6130362 & 66839327 \\\\\n",
       "\t 0.2450    & 0.6132821 & 66796853 \\\\\n",
       "\t 0.3025    & 0.6149315 & 66511963 \\\\\n",
       "\t 0.2425    & 0.6154777 & 66417614 \\\\\n",
       "\t 0.3050    & 0.6163760 & 66262449 \\\\\n",
       "\t 0.3075    & 0.6177662 & 66022332 \\\\\n",
       "\t 0.2400    & 0.6179563 & 65989491 \\\\\n",
       "\t 0.2375    & 0.6186021 & 65877953 \\\\\n",
       "\t 0.3100    & 0.6189692 & 65814547 \\\\\n",
       "\t ⋮ & ⋮ & ⋮\\\\\n",
       "\t 0.2275    & 0.6244272 & 64871788 \\\\\n",
       "\t 0.2300    & 0.6244502 & 64867813 \\\\\n",
       "\t 0.3175    & 0.6247670 & 64813091 \\\\\n",
       "\t 0.3200    & 0.6254653 & 64692480 \\\\\n",
       "\t 0.2250    & 0.6256016 & 64668938 \\\\\n",
       "\t 0.2225    & 0.6269697 & 64432634 \\\\\n",
       "\t 0.2200    & 0.6287690 & 64121846 \\\\\n",
       "\t 0.3225    & 0.6288219 & 64112700 \\\\\n",
       "\t 0.2175    & 0.6292815 & 64033314 \\\\\n",
       "\t 0.3250    & 0.6303672 & 63845788 \\\\\n",
       "\t 0.2150    & 0.6312441 & 63694333 \\\\\n",
       "\t 0.3275    & 0.6320976 & 63546894 \\\\\n",
       "\t 0.2125    & 0.6323920 & 63496043 \\\\\n",
       "\t 0.2100    & 0.6343631 & 63155590 \\\\\n",
       "\t 0.2075    & 0.6352565 & 63001273 \\\\\n",
       "\t 0.3300    & 0.6353934 & 62977633 \\\\\n",
       "\t 0.3325    & 0.6379883 & 62529423 \\\\\n",
       "\t 0.2050    & 0.6384424 & 62450979 \\\\\n",
       "\t 0.2025    & 0.6412734 & 61961981 \\\\\n",
       "\t 0.3350    & 0.6421988 & 61802146 \\\\\n",
       "\t 0.2000    & 0.6432640 & 61618163 \\\\\n",
       "\t 0.3375    & 0.6440320 & 61485506 \\\\\n",
       "\t 0.3400    & 0.6451729 & 61288444 \\\\\n",
       "\t 0.3425    & 0.6462484 & 61102674 \\\\\n",
       "\t 0.1975    & 0.6463301 & 61088558 \\\\\n",
       "\t 0.1950    & 0.6483860 & 60733448 \\\\\n",
       "\t 0.3450    & 0.6486520 & 60687494 \\\\\n",
       "\t 0.3475    & 0.6507902 & 60318181 \\\\\n",
       "\t 0.1925    & 0.6509190 & 60295927 \\\\\n",
       "\t 0.3500    & 0.6522644 & 60063537 \\\\\n",
       "\\end{tabular}\n"
      ],
      "text/markdown": [
       "\n",
       "| Threshold | CR | Profit |\n",
       "|---|---|---|\n",
       "| 0.2600    | 0.6062130 | 68017892  |\n",
       "| 0.2675    | 0.6064838 | 67971115  |\n",
       "| 0.2650    | 0.6065306 | 67963025  |\n",
       "| 0.2700    | 0.6066047 | 67950238  |\n",
       "| 0.2625    | 0.6066842 | 67936490  |\n",
       "| 0.2725    | 0.6070715 | 67869608  |\n",
       "| 0.2825    | 0.6081984 | 67674945  |\n",
       "| 0.2525    | 0.6082371 | 67668268  |\n",
       "| 0.2575    | 0.6083956 | 67640896  |\n",
       "| 0.2750    | 0.6087921 | 67572406  |\n",
       "| 0.2850    | 0.6089198 | 67550343  |\n",
       "| 0.2550    | 0.6090588 | 67526342  |\n",
       "| 0.2800    | 0.6092316 | 67496500  |\n",
       "| 0.2775    | 0.6094830 | 67453063  |\n",
       "| 0.2875    | 0.6097285 | 67410660  |\n",
       "| 0.2900    | 0.6103127 | 67309763  |\n",
       "| 0.2500    | 0.6103434 | 67304459  |\n",
       "| 0.2925    | 0.6103442 | 67304316  |\n",
       "| 0.2950    | 0.6106173 | 67257140  |\n",
       "| 0.2475    | 0.6111868 | 67158768  |\n",
       "| 0.2975    | 0.6125995 | 66914769  |\n",
       "| 0.3000    | 0.6130362 | 66839327  |\n",
       "| 0.2450    | 0.6132821 | 66796853  |\n",
       "| 0.3025    | 0.6149315 | 66511963  |\n",
       "| 0.2425    | 0.6154777 | 66417614  |\n",
       "| 0.3050    | 0.6163760 | 66262449  |\n",
       "| 0.3075    | 0.6177662 | 66022332  |\n",
       "| 0.2400    | 0.6179563 | 65989491  |\n",
       "| 0.2375    | 0.6186021 | 65877953  |\n",
       "| 0.3100    | 0.6189692 | 65814547  |\n",
       "| ⋮ | ⋮ | ⋮ |\n",
       "| 0.2275    | 0.6244272 | 64871788  |\n",
       "| 0.2300    | 0.6244502 | 64867813  |\n",
       "| 0.3175    | 0.6247670 | 64813091  |\n",
       "| 0.3200    | 0.6254653 | 64692480  |\n",
       "| 0.2250    | 0.6256016 | 64668938  |\n",
       "| 0.2225    | 0.6269697 | 64432634  |\n",
       "| 0.2200    | 0.6287690 | 64121846  |\n",
       "| 0.3225    | 0.6288219 | 64112700  |\n",
       "| 0.2175    | 0.6292815 | 64033314  |\n",
       "| 0.3250    | 0.6303672 | 63845788  |\n",
       "| 0.2150    | 0.6312441 | 63694333  |\n",
       "| 0.3275    | 0.6320976 | 63546894  |\n",
       "| 0.2125    | 0.6323920 | 63496043  |\n",
       "| 0.2100    | 0.6343631 | 63155590  |\n",
       "| 0.2075    | 0.6352565 | 63001273  |\n",
       "| 0.3300    | 0.6353934 | 62977633  |\n",
       "| 0.3325    | 0.6379883 | 62529423  |\n",
       "| 0.2050    | 0.6384424 | 62450979  |\n",
       "| 0.2025    | 0.6412734 | 61961981  |\n",
       "| 0.3350    | 0.6421988 | 61802146  |\n",
       "| 0.2000    | 0.6432640 | 61618163  |\n",
       "| 0.3375    | 0.6440320 | 61485506  |\n",
       "| 0.3400    | 0.6451729 | 61288444  |\n",
       "| 0.3425    | 0.6462484 | 61102674  |\n",
       "| 0.1975    | 0.6463301 | 61088558  |\n",
       "| 0.1950    | 0.6483860 | 60733448  |\n",
       "| 0.3450    | 0.6486520 | 60687494  |\n",
       "| 0.3475    | 0.6507902 | 60318181  |\n",
       "| 0.1925    | 0.6509190 | 60295927  |\n",
       "| 0.3500    | 0.6522644 | 60063537  |\n",
       "\n"
      ],
      "text/plain": [
       "   Threshold CR        Profit  \n",
       "1  0.2600    0.6062130 68017892\n",
       "2  0.2675    0.6064838 67971115\n",
       "3  0.2650    0.6065306 67963025\n",
       "4  0.2700    0.6066047 67950238\n",
       "5  0.2625    0.6066842 67936490\n",
       "6  0.2725    0.6070715 67869608\n",
       "7  0.2825    0.6081984 67674945\n",
       "8  0.2525    0.6082371 67668268\n",
       "9  0.2575    0.6083956 67640896\n",
       "10 0.2750    0.6087921 67572406\n",
       "11 0.2850    0.6089198 67550343\n",
       "12 0.2550    0.6090588 67526342\n",
       "13 0.2800    0.6092316 67496500\n",
       "14 0.2775    0.6094830 67453063\n",
       "15 0.2875    0.6097285 67410660\n",
       "16 0.2900    0.6103127 67309763\n",
       "17 0.2500    0.6103434 67304459\n",
       "18 0.2925    0.6103442 67304316\n",
       "19 0.2950    0.6106173 67257140\n",
       "20 0.2475    0.6111868 67158768\n",
       "21 0.2975    0.6125995 66914769\n",
       "22 0.3000    0.6130362 66839327\n",
       "23 0.2450    0.6132821 66796853\n",
       "24 0.3025    0.6149315 66511963\n",
       "25 0.2425    0.6154777 66417614\n",
       "26 0.3050    0.6163760 66262449\n",
       "27 0.3075    0.6177662 66022332\n",
       "28 0.2400    0.6179563 65989491\n",
       "29 0.2375    0.6186021 65877953\n",
       "30 0.3100    0.6189692 65814547\n",
       "⋮  ⋮         ⋮         ⋮       \n",
       "35 0.2275    0.6244272 64871788\n",
       "36 0.2300    0.6244502 64867813\n",
       "37 0.3175    0.6247670 64813091\n",
       "38 0.3200    0.6254653 64692480\n",
       "39 0.2250    0.6256016 64668938\n",
       "40 0.2225    0.6269697 64432634\n",
       "41 0.2200    0.6287690 64121846\n",
       "42 0.3225    0.6288219 64112700\n",
       "43 0.2175    0.6292815 64033314\n",
       "44 0.3250    0.6303672 63845788\n",
       "45 0.2150    0.6312441 63694333\n",
       "46 0.3275    0.6320976 63546894\n",
       "47 0.2125    0.6323920 63496043\n",
       "48 0.2100    0.6343631 63155590\n",
       "49 0.2075    0.6352565 63001273\n",
       "50 0.3300    0.6353934 62977633\n",
       "51 0.3325    0.6379883 62529423\n",
       "52 0.2050    0.6384424 62450979\n",
       "53 0.2025    0.6412734 61961981\n",
       "54 0.3350    0.6421988 61802146\n",
       "55 0.2000    0.6432640 61618163\n",
       "56 0.3375    0.6440320 61485506\n",
       "57 0.3400    0.6451729 61288444\n",
       "58 0.3425    0.6462484 61102674\n",
       "59 0.1975    0.6463301 61088558\n",
       "60 0.1950    0.6483860 60733448\n",
       "61 0.3450    0.6486520 60687494\n",
       "62 0.3475    0.6507902 60318181\n",
       "63 0.1925    0.6509190 60295927\n",
       "64 0.3500    0.6522644 60063537"
      ]
     },
     "metadata": {},
     "output_type": "display_data"
    }
   ],
   "source": [
    "xnn.res.df[which(xnn.res.df$Profit > 60000000),] %>% arrange(-Profit)"
   ]
  },
  {
   "cell_type": "code",
   "execution_count": 9,
   "metadata": {},
   "outputs": [],
   "source": [
    "xnn.threshold <- 0.26"
   ]
  },
  {
   "cell_type": "markdown",
   "metadata": {},
   "source": [
    "### 3.2) Save Predictions using this threshold"
   ]
  },
  {
   "cell_type": "code",
   "execution_count": 134,
   "metadata": {},
   "outputs": [],
   "source": [
    "XNN.pred.df <- as.data.frame(xnn.prob.df$XNN_prob > xnn.threshold)\n",
    "colnames(XNN.pred.df) <- c(\"XNN_pred\")"
   ]
  },
  {
   "cell_type": "code",
   "execution_count": 135,
   "metadata": {},
   "outputs": [],
   "source": [
    "write.csv(XNN.pred.df , file = \"./pred/XNN_pred.csv\")"
   ]
  },
  {
   "cell_type": "markdown",
   "metadata": {},
   "source": [
    "## 4) Model Testing"
   ]
  },
  {
   "cell_type": "markdown",
   "metadata": {},
   "source": [
    "### 4.1) Confusion Matrix"
   ]
  },
  {
   "cell_type": "code",
   "execution_count": 10,
   "metadata": {},
   "outputs": [
    {
     "data": {
      "text/plain": [
       "Confusion Matrix and Statistics\n",
       "\n",
       "       \n",
       "        FALSE  TRUE\n",
       "  FALSE 30500  4299\n",
       "  TRUE  11242  5118\n",
       "                                          \n",
       "               Accuracy : 0.6962          \n",
       "                 95% CI : (0.6922, 0.7002)\n",
       "    No Information Rate : 0.8159          \n",
       "    P-Value [Acc > NIR] : 1               \n",
       "                                          \n",
       "                  Kappa : 0.2133          \n",
       "                                          \n",
       " Mcnemar's Test P-Value : <2e-16          \n",
       "                                          \n",
       "            Sensitivity : 0.7307          \n",
       "            Specificity : 0.5435          \n",
       "         Pos Pred Value : 0.8765          \n",
       "         Neg Pred Value : 0.3128          \n",
       "             Prevalence : 0.8159          \n",
       "         Detection Rate : 0.5962          \n",
       "   Detection Prevalence : 0.6802          \n",
       "      Balanced Accuracy : 0.6371          \n",
       "                                          \n",
       "       'Positive' Class : FALSE           \n",
       "                                          "
      ]
     },
     "metadata": {},
     "output_type": "display_data"
    }
   ],
   "source": [
    "xnn.cm <- confusionMatrix(table(xnn.prob.df$XNN_prob > xnn.threshold, y_test$default))\n",
    "xnn.cm"
   ]
  },
  {
   "cell_type": "markdown",
   "metadata": {},
   "source": [
    "### 4.2) Profit Lift"
   ]
  },
  {
   "cell_type": "code",
   "execution_count": 11,
   "metadata": {},
   "outputs": [
    {
     "data": {
      "text/html": [
       "2.2098675096258"
      ],
      "text/latex": [
       "2.2098675096258"
      ],
      "text/markdown": [
       "2.2098675096258"
      ],
      "text/plain": [
       "[1] 2.209868"
      ]
     },
     "metadata": {},
     "output_type": "display_data"
    }
   ],
   "source": [
    "pr <-  (xnn.cm$table[1,1]*mreturns) - (xnn.cm$table[1,2]*mloan_amnt)\n",
    "nv <- (round(nir * sum(xnn.cm$table[1,]),0)*mreturns)-(round((1-nir) * sum(xnn.cm$table[1,]),0)*mloan_amnt)\n",
    "pr / nv"
   ]
  },
  {
   "cell_type": "code",
   "execution_count": 18,
   "metadata": {},
   "outputs": [
    {
     "data": {
      "text/html": [
       "0.606212971408936"
      ],
      "text/latex": [
       "0.606212971408936"
      ],
      "text/markdown": [
       "0.606212971408936"
      ],
      "text/plain": [
       "[1] 0.606213"
      ]
     },
     "metadata": {},
     "output_type": "display_data"
    }
   ],
   "source": [
    "cr <-  ((xnn.cm$table[1,2]*mloan_amnt)+(xnn.cm$table[2,1]*mreturns)) / (sum(xnn.cm$table[,1])*mreturns)\n",
    "cr"
   ]
  },
  {
   "cell_type": "markdown",
   "metadata": {},
   "source": [
    "### 4.3) ROC/PR Curves"
   ]
  },
  {
   "cell_type": "code",
   "execution_count": 12,
   "metadata": {},
   "outputs": [],
   "source": [
    "xnn.pred.fg <- xnn.prob.df$XNN_prob[y_test$default==TRUE]\n",
    "xnn.pred.bg <- xnn.prob.df$XNN_prob[y_test$default==FALSE]"
   ]
  },
  {
   "cell_type": "code",
   "execution_count": 13,
   "metadata": {},
   "outputs": [
    {
     "data": {
      "image/png": "[encoded data removed]",
      "text/plain": [
       "Plot with title “ROC curve\n",
       "AUC = 0.6957307”"
      ]
     },
     "metadata": {},
     "output_type": "display_data"
    }
   ],
   "source": [
    "xnn.pred.roc <- roc.curve(scores.class0 = xnn.pred.fg, scores.class1 = xnn.pred.bg, curve = T)\n",
    "plot(xnn.pred.roc)"
   ]
  },
  {
   "cell_type": "code",
   "execution_count": 14,
   "metadata": {},
   "outputs": [
    {
     "data": {
      "image/png": "[encoded data removed]",
      "text/plain": [
       "Plot with title “PR curve\n",
       "AUC = 0.3329955”"
      ]
     },
     "metadata": {},
     "output_type": "display_data"
    }
   ],
   "source": [
    "xnn.pred.prc <- pr.curve(scores.class0 = xnn.pred.fg, scores.class1 = xnn.pred.bg, curve = T)\n",
    "plot(xnn.pred.prc)"
   ]
  },
  {
   "cell_type": "markdown",
   "metadata": {},
   "source": [
    "### 4.4) F1 Score"
   ]
  },
  {
   "cell_type": "code",
   "execution_count": 17,
   "metadata": {},
   "outputs": [
    {
     "data": {
      "text/html": [
       "0.796958492833906"
      ],
      "text/latex": [
       "0.796958492833906"
      ],
      "text/markdown": [
       "0.796958492833906"
      ],
      "text/plain": [
       "[1] 0.7969585"
      ]
     },
     "metadata": {},
     "output_type": "display_data"
    }
   ],
   "source": [
    "xnn.pred.f1 <- F1_Score(ifelse(xnn.prob.df$XNN_prob > xnn.threshold, 1, 0), ifelse(y_test$default, 1, 0), positive = \"0\")\n",
    "xnn.pred.f1"
   ]
  },
  {
   "cell_type": "code",
   "execution_count": null,
   "metadata": {},
   "outputs": [],
   "source": []
  }
 ],
 "metadata": {
  "kernelspec": {
   "display_name": "R",
   "language": "R",
   "name": "ir"
  },
  "language_info": {
   "codemirror_mode": "r",
   "file_extension": ".r",
   "mimetype": "text/x-r-source",
   "name": "R",
   "pygments_lexer": "r",
   "version": "3.4.4"
  }
 },
 "nbformat": 4,
 "nbformat_minor": 2
}
