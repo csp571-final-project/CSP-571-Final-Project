{
 "cells": [
  {
   "cell_type": "markdown",
   "metadata": {},
   "source": [
    "# 3.7.1 XNN Model Keras\n",
    "#### (Training Only)"
   ]
  },
  {
   "cell_type": "markdown",
   "metadata": {},
   "source": [
    "## 1) Load Required Libraries"
   ]
  },
  {
   "cell_type": "code",
   "execution_count": 78,
   "metadata": {},
   "outputs": [],
   "source": [
    "import os\n",
    "import numpy as np\n",
    "from numpy import genfromtxt\n",
    "\n",
    "import keras\n",
    "import keras.backend as K\n",
    "import tensorflow as tf\n",
    "from keras.models import Sequential\n",
    "from keras.layers import Dense, Dropout, Activation, BatchNormalization\n",
    "from keras.optimizers import SGD, Adam, RMSprop, Adagrad, Adadelta, Adamax, Nadam\n",
    "from functools import partial, update_wrapper\n",
    "import h5py\n",
    "\n",
    "from sklearn import preprocessing, model_selection\n",
    "from sklearn.model_selection import train_test_split\n",
    "from sklearn.preprocessing import MinMaxScaler\n",
    "\n",
    "import pandas as pd\n",
    "import matplotlib.pyplot as plt\n",
    "import NN\n",
    "\n",
    "saved_models_path = os.path.join(os.getcwd(), 'models')\n",
    "datasets_path = os.path.join(os.getcwd(), 'data')"
   ]
  },
  {
   "cell_type": "code",
   "execution_count": 79,
   "metadata": {},
   "outputs": [],
   "source": [
    "pd.set_option('display.max_rows', 500)\n",
    "pd.set_option('display.max_columns', 500)\n",
    "pd.set_option('display.width', 1000)"
   ]
  },
  {
   "cell_type": "markdown",
   "metadata": {},
   "source": [
    "## 2) Load Data"
   ]
  },
  {
   "cell_type": "markdown",
   "metadata": {},
   "source": [
    "### 2.1) Load One-hot encoded version"
   ]
  },
  {
   "cell_type": "code",
   "execution_count": 101,
   "metadata": {},
   "outputs": [],
   "source": [
    "train_df = pd.read_csv(os.path.join(datasets_path, 'new.train.1hot.df.csv'))\n",
    "test_df = pd.read_csv(os.path.join(datasets_path, 'new.test.1hot.df.csv'))"
   ]
  },
  {
   "cell_type": "markdown",
   "metadata": {},
   "source": [
    "### 2.2) Calculate Sampled Means (for Cost Sensitive Learning & Evaluation )"
   ]
  },
  {
   "cell_type": "code",
   "execution_count": 102,
   "metadata": {},
   "outputs": [],
   "source": [
    "mreturns = ((((train_df.term_36MO * 36) + (train_df.term_60MO * 60)) * train_df.installment) - train_df.loan_amnt).mean()\n",
    "mloan_amnt = train_df.loan_amnt.mean()"
   ]
  },
  {
   "cell_type": "markdown",
   "metadata": {},
   "source": [
    "### 2.3) Some Minor Data Prep"
   ]
  },
  {
   "cell_type": "markdown",
   "metadata": {},
   "source": [
    "Drop useless columns"
   ]
  },
  {
   "cell_type": "code",
   "execution_count": 103,
   "metadata": {},
   "outputs": [],
   "source": [
    "train_df = train_df.drop(columns=[\"Unnamed: 0\"])\n",
    "test_df = test_df.drop(columns=[\"Unnamed: 0\"])"
   ]
  },
  {
   "cell_type": "markdown",
   "metadata": {},
   "source": [
    "Reorder default to first"
   ]
  },
  {
   "cell_type": "code",
   "execution_count": 104,
   "metadata": {},
   "outputs": [],
   "source": [
    "train_df = train_df[['default', 'loan_amnt', 'term_36MO', 'term_60MO', 'int_rate', 'installment', 'grade_A', 'grade_B', 'grade_C', 'grade_D', 'grade_E', 'grade_F', 'grade_G', 'home_ownership_MORTGAGE', 'home_ownership_OWN', 'home_ownership_RENT', 'annual_inc', 'verification_status_NOT_VERIFIED', 'verification_status_SOURCE_VERIFIED', 'verification_status_VERIFIED', 'purpose_CREDIT_CARD', 'purpose_DEBT_CONSOLIDATION', 'purpose_HOME_IMPROVEMENT', 'purpose_MAJOR_PURCHASE', 'purpose_OTHERS', 'purpose_SMALL_BUSINESS', 'dti', 'open_acc', 'pub_rec', 'total_acc', 'initial_list_status_F', 'initial_list_status_W', 'compensation_of_employees', 'gross_operating_surplus', 'per_capita_real_gdp_by_state', 'quantity_indexes_for_real_gdp_by_state', 'real_gdp_by_state', 'subsidies', 'taxes_on_production_and_imports', 'regions_MIDWEST', 'regions_NORTHEAST', 'regions_SOUTH', 'regions_WEST', 'month']]\n",
    "test_df = test_df[['default', 'loan_amnt', 'term_36MO', 'term_60MO', 'int_rate', 'installment', 'grade_A', 'grade_B', 'grade_C', 'grade_D', 'grade_E', 'grade_F', 'grade_G', 'home_ownership_MORTGAGE', 'home_ownership_OWN', 'home_ownership_RENT', 'annual_inc', 'verification_status_NOT_VERIFIED', 'verification_status_SOURCE_VERIFIED', 'verification_status_VERIFIED', 'purpose_CREDIT_CARD', 'purpose_DEBT_CONSOLIDATION', 'purpose_HOME_IMPROVEMENT', 'purpose_MAJOR_PURCHASE', 'purpose_OTHERS', 'purpose_SMALL_BUSINESS', 'dti', 'open_acc', 'pub_rec', 'total_acc', 'initial_list_status_F', 'initial_list_status_W', 'compensation_of_employees', 'gross_operating_surplus', 'per_capita_real_gdp_by_state', 'quantity_indexes_for_real_gdp_by_state', 'real_gdp_by_state', 'subsidies', 'taxes_on_production_and_imports', 'regions_MIDWEST', 'regions_NORTHEAST', 'regions_SOUTH', 'regions_WEST', 'month']]"
   ]
  },
  {
   "cell_type": "markdown",
   "metadata": {},
   "source": [
    "Convert `default` to integer"
   ]
  },
  {
   "cell_type": "code",
   "execution_count": 105,
   "metadata": {},
   "outputs": [],
   "source": [
    "train_df.default = train_df.default.astype(int)\n",
    "test_df.default = test_df.default.astype(int)"
   ]
  },
  {
   "cell_type": "markdown",
   "metadata": {},
   "source": [
    "See summary stats to make sure data has no issues"
   ]
  },
  {
   "cell_type": "code",
   "execution_count": 106,
   "metadata": {},
   "outputs": [
    {
     "data": {
      "text/html": [
       "<div>\n",
       "<style scoped>\n",
       "    .dataframe tbody tr th:only-of-type {\n",
       "        vertical-align: middle;\n",
       "    }\n",
       "\n",
       "    .dataframe tbody tr th {\n",
       "        vertical-align: top;\n",
       "    }\n",
       "\n",
       "    .dataframe thead th {\n",
       "        text-align: right;\n",
       "    }\n",
       "</style>\n",
       "<table border=\"1\" class=\"dataframe\">\n",
       "  <thead>\n",
       "    <tr style=\"text-align: right;\">\n",
       "      <th></th>\n",
       "      <th>count</th>\n",
       "      <th>mean</th>\n",
       "      <th>std</th>\n",
       "      <th>min</th>\n",
       "      <th>25%</th>\n",
       "      <th>50%</th>\n",
       "      <th>75%</th>\n",
       "      <th>max</th>\n",
       "    </tr>\n",
       "  </thead>\n",
       "  <tbody>\n",
       "    <tr>\n",
       "      <th>default</th>\n",
       "      <td>204640.0</td>\n",
       "      <td>0.184079</td>\n",
       "      <td>0.387550</td>\n",
       "      <td>0.00</td>\n",
       "      <td>0.00</td>\n",
       "      <td>0.00</td>\n",
       "      <td>0.00</td>\n",
       "      <td>1.00</td>\n",
       "    </tr>\n",
       "    <tr>\n",
       "      <th>loan_amnt</th>\n",
       "      <td>204640.0</td>\n",
       "      <td>13522.286699</td>\n",
       "      <td>8128.199436</td>\n",
       "      <td>500.00</td>\n",
       "      <td>7200.00</td>\n",
       "      <td>12000.00</td>\n",
       "      <td>18200.00</td>\n",
       "      <td>35000.00</td>\n",
       "    </tr>\n",
       "    <tr>\n",
       "      <th>term_36MO</th>\n",
       "      <td>204640.0</td>\n",
       "      <td>0.777370</td>\n",
       "      <td>0.416013</td>\n",
       "      <td>0.00</td>\n",
       "      <td>1.00</td>\n",
       "      <td>1.00</td>\n",
       "      <td>1.00</td>\n",
       "      <td>1.00</td>\n",
       "    </tr>\n",
       "    <tr>\n",
       "      <th>term_60MO</th>\n",
       "      <td>204640.0</td>\n",
       "      <td>0.222630</td>\n",
       "      <td>0.416013</td>\n",
       "      <td>0.00</td>\n",
       "      <td>0.00</td>\n",
       "      <td>0.00</td>\n",
       "      <td>0.00</td>\n",
       "      <td>1.00</td>\n",
       "    </tr>\n",
       "    <tr>\n",
       "      <th>int_rate</th>\n",
       "      <td>204640.0</td>\n",
       "      <td>13.780552</td>\n",
       "      <td>4.387821</td>\n",
       "      <td>5.32</td>\n",
       "      <td>10.74</td>\n",
       "      <td>13.61</td>\n",
       "      <td>16.55</td>\n",
       "      <td>28.99</td>\n",
       "    </tr>\n",
       "    <tr>\n",
       "      <th>installment</th>\n",
       "      <td>204640.0</td>\n",
       "      <td>416.810278</td>\n",
       "      <td>244.639684</td>\n",
       "      <td>15.69</td>\n",
       "      <td>238.06</td>\n",
       "      <td>364.38</td>\n",
       "      <td>546.21</td>\n",
       "      <td>1424.57</td>\n",
       "    </tr>\n",
       "    <tr>\n",
       "      <th>grade_A</th>\n",
       "      <td>204640.0</td>\n",
       "      <td>0.165618</td>\n",
       "      <td>0.371738</td>\n",
       "      <td>0.00</td>\n",
       "      <td>0.00</td>\n",
       "      <td>0.00</td>\n",
       "      <td>0.00</td>\n",
       "      <td>1.00</td>\n",
       "    </tr>\n",
       "    <tr>\n",
       "      <th>grade_B</th>\n",
       "      <td>204640.0</td>\n",
       "      <td>0.297601</td>\n",
       "      <td>0.457204</td>\n",
       "      <td>0.00</td>\n",
       "      <td>0.00</td>\n",
       "      <td>0.00</td>\n",
       "      <td>1.00</td>\n",
       "      <td>1.00</td>\n",
       "    </tr>\n",
       "    <tr>\n",
       "      <th>grade_C</th>\n",
       "      <td>204640.0</td>\n",
       "      <td>0.258556</td>\n",
       "      <td>0.437842</td>\n",
       "      <td>0.00</td>\n",
       "      <td>0.00</td>\n",
       "      <td>0.00</td>\n",
       "      <td>1.00</td>\n",
       "      <td>1.00</td>\n",
       "    </tr>\n",
       "    <tr>\n",
       "      <th>grade_D</th>\n",
       "      <td>204640.0</td>\n",
       "      <td>0.161249</td>\n",
       "      <td>0.367761</td>\n",
       "      <td>0.00</td>\n",
       "      <td>0.00</td>\n",
       "      <td>0.00</td>\n",
       "      <td>0.00</td>\n",
       "      <td>1.00</td>\n",
       "    </tr>\n",
       "    <tr>\n",
       "      <th>grade_E</th>\n",
       "      <td>204640.0</td>\n",
       "      <td>0.077302</td>\n",
       "      <td>0.267070</td>\n",
       "      <td>0.00</td>\n",
       "      <td>0.00</td>\n",
       "      <td>0.00</td>\n",
       "      <td>0.00</td>\n",
       "      <td>1.00</td>\n",
       "    </tr>\n",
       "    <tr>\n",
       "      <th>grade_F</th>\n",
       "      <td>204640.0</td>\n",
       "      <td>0.031245</td>\n",
       "      <td>0.173980</td>\n",
       "      <td>0.00</td>\n",
       "      <td>0.00</td>\n",
       "      <td>0.00</td>\n",
       "      <td>0.00</td>\n",
       "      <td>1.00</td>\n",
       "    </tr>\n",
       "    <tr>\n",
       "      <th>grade_G</th>\n",
       "      <td>204640.0</td>\n",
       "      <td>0.008429</td>\n",
       "      <td>0.091424</td>\n",
       "      <td>0.00</td>\n",
       "      <td>0.00</td>\n",
       "      <td>0.00</td>\n",
       "      <td>0.00</td>\n",
       "      <td>1.00</td>\n",
       "    </tr>\n",
       "    <tr>\n",
       "      <th>home_ownership_MORTGAGE</th>\n",
       "      <td>204640.0</td>\n",
       "      <td>0.493599</td>\n",
       "      <td>0.499960</td>\n",
       "      <td>0.00</td>\n",
       "      <td>0.00</td>\n",
       "      <td>0.00</td>\n",
       "      <td>1.00</td>\n",
       "      <td>1.00</td>\n",
       "    </tr>\n",
       "    <tr>\n",
       "      <th>home_ownership_OWN</th>\n",
       "      <td>204640.0</td>\n",
       "      <td>0.086987</td>\n",
       "      <td>0.281817</td>\n",
       "      <td>0.00</td>\n",
       "      <td>0.00</td>\n",
       "      <td>0.00</td>\n",
       "      <td>0.00</td>\n",
       "      <td>1.00</td>\n",
       "    </tr>\n",
       "    <tr>\n",
       "      <th>home_ownership_RENT</th>\n",
       "      <td>204640.0</td>\n",
       "      <td>0.419415</td>\n",
       "      <td>0.493464</td>\n",
       "      <td>0.00</td>\n",
       "      <td>0.00</td>\n",
       "      <td>0.00</td>\n",
       "      <td>1.00</td>\n",
       "      <td>1.00</td>\n",
       "    </tr>\n",
       "    <tr>\n",
       "      <th>annual_inc</th>\n",
       "      <td>204640.0</td>\n",
       "      <td>72520.141287</td>\n",
       "      <td>60155.449235</td>\n",
       "      <td>2000.00</td>\n",
       "      <td>45000.00</td>\n",
       "      <td>62000.00</td>\n",
       "      <td>87000.00</td>\n",
       "      <td>8706582.00</td>\n",
       "    </tr>\n",
       "    <tr>\n",
       "      <th>verification_status_NOT_VERIFIED</th>\n",
       "      <td>204640.0</td>\n",
       "      <td>0.343012</td>\n",
       "      <td>0.474717</td>\n",
       "      <td>0.00</td>\n",
       "      <td>0.00</td>\n",
       "      <td>0.00</td>\n",
       "      <td>1.00</td>\n",
       "      <td>1.00</td>\n",
       "    </tr>\n",
       "    <tr>\n",
       "      <th>verification_status_SOURCE_VERIFIED</th>\n",
       "      <td>204640.0</td>\n",
       "      <td>0.291082</td>\n",
       "      <td>0.454262</td>\n",
       "      <td>0.00</td>\n",
       "      <td>0.00</td>\n",
       "      <td>0.00</td>\n",
       "      <td>1.00</td>\n",
       "      <td>1.00</td>\n",
       "    </tr>\n",
       "    <tr>\n",
       "      <th>verification_status_VERIFIED</th>\n",
       "      <td>204640.0</td>\n",
       "      <td>0.365906</td>\n",
       "      <td>0.481684</td>\n",
       "      <td>0.00</td>\n",
       "      <td>0.00</td>\n",
       "      <td>0.00</td>\n",
       "      <td>1.00</td>\n",
       "      <td>1.00</td>\n",
       "    </tr>\n",
       "    <tr>\n",
       "      <th>purpose_CREDIT_CARD</th>\n",
       "      <td>204640.0</td>\n",
       "      <td>0.197669</td>\n",
       "      <td>0.398242</td>\n",
       "      <td>0.00</td>\n",
       "      <td>0.00</td>\n",
       "      <td>0.00</td>\n",
       "      <td>0.00</td>\n",
       "      <td>1.00</td>\n",
       "    </tr>\n",
       "    <tr>\n",
       "      <th>purpose_DEBT_CONSOLIDATION</th>\n",
       "      <td>204640.0</td>\n",
       "      <td>0.584822</td>\n",
       "      <td>0.492754</td>\n",
       "      <td>0.00</td>\n",
       "      <td>0.00</td>\n",
       "      <td>1.00</td>\n",
       "      <td>1.00</td>\n",
       "      <td>1.00</td>\n",
       "    </tr>\n",
       "    <tr>\n",
       "      <th>purpose_HOME_IMPROVEMENT</th>\n",
       "      <td>204640.0</td>\n",
       "      <td>0.059114</td>\n",
       "      <td>0.235838</td>\n",
       "      <td>0.00</td>\n",
       "      <td>0.00</td>\n",
       "      <td>0.00</td>\n",
       "      <td>0.00</td>\n",
       "      <td>1.00</td>\n",
       "    </tr>\n",
       "    <tr>\n",
       "      <th>purpose_MAJOR_PURCHASE</th>\n",
       "      <td>204640.0</td>\n",
       "      <td>0.024707</td>\n",
       "      <td>0.155230</td>\n",
       "      <td>0.00</td>\n",
       "      <td>0.00</td>\n",
       "      <td>0.00</td>\n",
       "      <td>0.00</td>\n",
       "      <td>1.00</td>\n",
       "    </tr>\n",
       "    <tr>\n",
       "      <th>purpose_OTHERS</th>\n",
       "      <td>204640.0</td>\n",
       "      <td>0.114587</td>\n",
       "      <td>0.318523</td>\n",
       "      <td>0.00</td>\n",
       "      <td>0.00</td>\n",
       "      <td>0.00</td>\n",
       "      <td>0.00</td>\n",
       "      <td>1.00</td>\n",
       "    </tr>\n",
       "    <tr>\n",
       "      <th>purpose_SMALL_BUSINESS</th>\n",
       "      <td>204640.0</td>\n",
       "      <td>0.019102</td>\n",
       "      <td>0.136883</td>\n",
       "      <td>0.00</td>\n",
       "      <td>0.00</td>\n",
       "      <td>0.00</td>\n",
       "      <td>0.00</td>\n",
       "      <td>1.00</td>\n",
       "    </tr>\n",
       "    <tr>\n",
       "      <th>dti</th>\n",
       "      <td>204640.0</td>\n",
       "      <td>16.535040</td>\n",
       "      <td>7.789461</td>\n",
       "      <td>0.00</td>\n",
       "      <td>10.75</td>\n",
       "      <td>16.20</td>\n",
       "      <td>21.98</td>\n",
       "      <td>57.14</td>\n",
       "    </tr>\n",
       "    <tr>\n",
       "      <th>open_acc</th>\n",
       "      <td>204640.0</td>\n",
       "      <td>10.933943</td>\n",
       "      <td>4.901919</td>\n",
       "      <td>0.00</td>\n",
       "      <td>7.00</td>\n",
       "      <td>10.00</td>\n",
       "      <td>14.00</td>\n",
       "      <td>76.00</td>\n",
       "    </tr>\n",
       "    <tr>\n",
       "      <th>pub_rec</th>\n",
       "      <td>204640.0</td>\n",
       "      <td>0.144009</td>\n",
       "      <td>0.438609</td>\n",
       "      <td>0.00</td>\n",
       "      <td>0.00</td>\n",
       "      <td>0.00</td>\n",
       "      <td>0.00</td>\n",
       "      <td>15.00</td>\n",
       "    </tr>\n",
       "    <tr>\n",
       "      <th>total_acc</th>\n",
       "      <td>204640.0</td>\n",
       "      <td>25.023568</td>\n",
       "      <td>11.795251</td>\n",
       "      <td>1.00</td>\n",
       "      <td>16.00</td>\n",
       "      <td>23.00</td>\n",
       "      <td>32.00</td>\n",
       "      <td>150.00</td>\n",
       "    </tr>\n",
       "    <tr>\n",
       "      <th>initial_list_status_F</th>\n",
       "      <td>204640.0</td>\n",
       "      <td>0.722048</td>\n",
       "      <td>0.447990</td>\n",
       "      <td>0.00</td>\n",
       "      <td>0.00</td>\n",
       "      <td>1.00</td>\n",
       "      <td>1.00</td>\n",
       "      <td>1.00</td>\n",
       "    </tr>\n",
       "    <tr>\n",
       "      <th>initial_list_status_W</th>\n",
       "      <td>204640.0</td>\n",
       "      <td>0.277952</td>\n",
       "      <td>0.447990</td>\n",
       "      <td>0.00</td>\n",
       "      <td>0.00</td>\n",
       "      <td>0.00</td>\n",
       "      <td>1.00</td>\n",
       "      <td>1.00</td>\n",
       "    </tr>\n",
       "    <tr>\n",
       "      <th>compensation_of_employees</th>\n",
       "      <td>204640.0</td>\n",
       "      <td>213.928352</td>\n",
       "      <td>142.790472</td>\n",
       "      <td>1.00</td>\n",
       "      <td>79.00</td>\n",
       "      <td>207.00</td>\n",
       "      <td>347.00</td>\n",
       "      <td>459.00</td>\n",
       "    </tr>\n",
       "    <tr>\n",
       "      <th>gross_operating_surplus</th>\n",
       "      <td>204640.0</td>\n",
       "      <td>247.008503</td>\n",
       "      <td>139.953104</td>\n",
       "      <td>1.00</td>\n",
       "      <td>116.00</td>\n",
       "      <td>248.00</td>\n",
       "      <td>379.00</td>\n",
       "      <td>458.00</td>\n",
       "    </tr>\n",
       "    <tr>\n",
       "      <th>per_capita_real_gdp_by_state</th>\n",
       "      <td>204640.0</td>\n",
       "      <td>278.891839</td>\n",
       "      <td>120.415863</td>\n",
       "      <td>10.00</td>\n",
       "      <td>168.00</td>\n",
       "      <td>327.00</td>\n",
       "      <td>378.00</td>\n",
       "      <td>457.00</td>\n",
       "    </tr>\n",
       "    <tr>\n",
       "      <th>quantity_indexes_for_real_gdp_by_state</th>\n",
       "      <td>204640.0</td>\n",
       "      <td>189.734861</td>\n",
       "      <td>103.712270</td>\n",
       "      <td>1.00</td>\n",
       "      <td>107.00</td>\n",
       "      <td>205.00</td>\n",
       "      <td>269.00</td>\n",
       "      <td>401.00</td>\n",
       "    </tr>\n",
       "    <tr>\n",
       "      <th>real_gdp_by_state</th>\n",
       "      <td>204640.0</td>\n",
       "      <td>202.754051</td>\n",
       "      <td>129.670463</td>\n",
       "      <td>1.00</td>\n",
       "      <td>110.00</td>\n",
       "      <td>172.00</td>\n",
       "      <td>301.00</td>\n",
       "      <td>459.00</td>\n",
       "    </tr>\n",
       "    <tr>\n",
       "      <th>subsidies</th>\n",
       "      <td>204640.0</td>\n",
       "      <td>209.683302</td>\n",
       "      <td>117.023214</td>\n",
       "      <td>1.00</td>\n",
       "      <td>111.00</td>\n",
       "      <td>202.00</td>\n",
       "      <td>316.00</td>\n",
       "      <td>403.00</td>\n",
       "    </tr>\n",
       "    <tr>\n",
       "      <th>taxes_on_production_and_imports</th>\n",
       "      <td>204640.0</td>\n",
       "      <td>198.053787</td>\n",
       "      <td>143.285349</td>\n",
       "      <td>1.00</td>\n",
       "      <td>59.00</td>\n",
       "      <td>166.00</td>\n",
       "      <td>326.00</td>\n",
       "      <td>455.00</td>\n",
       "    </tr>\n",
       "    <tr>\n",
       "      <th>regions_MIDWEST</th>\n",
       "      <td>204640.0</td>\n",
       "      <td>0.159710</td>\n",
       "      <td>0.366338</td>\n",
       "      <td>0.00</td>\n",
       "      <td>0.00</td>\n",
       "      <td>0.00</td>\n",
       "      <td>0.00</td>\n",
       "      <td>1.00</td>\n",
       "    </tr>\n",
       "    <tr>\n",
       "      <th>regions_NORTHEAST</th>\n",
       "      <td>204640.0</td>\n",
       "      <td>0.206543</td>\n",
       "      <td>0.404826</td>\n",
       "      <td>0.00</td>\n",
       "      <td>0.00</td>\n",
       "      <td>0.00</td>\n",
       "      <td>0.00</td>\n",
       "      <td>1.00</td>\n",
       "    </tr>\n",
       "    <tr>\n",
       "      <th>regions_SOUTH</th>\n",
       "      <td>204640.0</td>\n",
       "      <td>0.338771</td>\n",
       "      <td>0.473293</td>\n",
       "      <td>0.00</td>\n",
       "      <td>0.00</td>\n",
       "      <td>0.00</td>\n",
       "      <td>1.00</td>\n",
       "      <td>1.00</td>\n",
       "    </tr>\n",
       "    <tr>\n",
       "      <th>regions_WEST</th>\n",
       "      <td>204640.0</td>\n",
       "      <td>0.294977</td>\n",
       "      <td>0.456033</td>\n",
       "      <td>0.00</td>\n",
       "      <td>0.00</td>\n",
       "      <td>0.00</td>\n",
       "      <td>1.00</td>\n",
       "      <td>1.00</td>\n",
       "    </tr>\n",
       "    <tr>\n",
       "      <th>month</th>\n",
       "      <td>204640.0</td>\n",
       "      <td>6.561528</td>\n",
       "      <td>3.417220</td>\n",
       "      <td>1.00</td>\n",
       "      <td>4.00</td>\n",
       "      <td>7.00</td>\n",
       "      <td>10.00</td>\n",
       "      <td>12.00</td>\n",
       "    </tr>\n",
       "  </tbody>\n",
       "</table>\n",
       "</div>"
      ],
      "text/plain": [
       "                                           count          mean           std      min       25%       50%       75%         max\n",
       "default                                 204640.0      0.184079      0.387550     0.00      0.00      0.00      0.00        1.00\n",
       "loan_amnt                               204640.0  13522.286699   8128.199436   500.00   7200.00  12000.00  18200.00    35000.00\n",
       "term_36MO                               204640.0      0.777370      0.416013     0.00      1.00      1.00      1.00        1.00\n",
       "term_60MO                               204640.0      0.222630      0.416013     0.00      0.00      0.00      0.00        1.00\n",
       "int_rate                                204640.0     13.780552      4.387821     5.32     10.74     13.61     16.55       28.99\n",
       "installment                             204640.0    416.810278    244.639684    15.69    238.06    364.38    546.21     1424.57\n",
       "grade_A                                 204640.0      0.165618      0.371738     0.00      0.00      0.00      0.00        1.00\n",
       "grade_B                                 204640.0      0.297601      0.457204     0.00      0.00      0.00      1.00        1.00\n",
       "grade_C                                 204640.0      0.258556      0.437842     0.00      0.00      0.00      1.00        1.00\n",
       "grade_D                                 204640.0      0.161249      0.367761     0.00      0.00      0.00      0.00        1.00\n",
       "grade_E                                 204640.0      0.077302      0.267070     0.00      0.00      0.00      0.00        1.00\n",
       "grade_F                                 204640.0      0.031245      0.173980     0.00      0.00      0.00      0.00        1.00\n",
       "grade_G                                 204640.0      0.008429      0.091424     0.00      0.00      0.00      0.00        1.00\n",
       "home_ownership_MORTGAGE                 204640.0      0.493599      0.499960     0.00      0.00      0.00      1.00        1.00\n",
       "home_ownership_OWN                      204640.0      0.086987      0.281817     0.00      0.00      0.00      0.00        1.00\n",
       "home_ownership_RENT                     204640.0      0.419415      0.493464     0.00      0.00      0.00      1.00        1.00\n",
       "annual_inc                              204640.0  72520.141287  60155.449235  2000.00  45000.00  62000.00  87000.00  8706582.00\n",
       "verification_status_NOT_VERIFIED        204640.0      0.343012      0.474717     0.00      0.00      0.00      1.00        1.00\n",
       "verification_status_SOURCE_VERIFIED     204640.0      0.291082      0.454262     0.00      0.00      0.00      1.00        1.00\n",
       "verification_status_VERIFIED            204640.0      0.365906      0.481684     0.00      0.00      0.00      1.00        1.00\n",
       "purpose_CREDIT_CARD                     204640.0      0.197669      0.398242     0.00      0.00      0.00      0.00        1.00\n",
       "purpose_DEBT_CONSOLIDATION              204640.0      0.584822      0.492754     0.00      0.00      1.00      1.00        1.00\n",
       "purpose_HOME_IMPROVEMENT                204640.0      0.059114      0.235838     0.00      0.00      0.00      0.00        1.00\n",
       "purpose_MAJOR_PURCHASE                  204640.0      0.024707      0.155230     0.00      0.00      0.00      0.00        1.00\n",
       "purpose_OTHERS                          204640.0      0.114587      0.318523     0.00      0.00      0.00      0.00        1.00\n",
       "purpose_SMALL_BUSINESS                  204640.0      0.019102      0.136883     0.00      0.00      0.00      0.00        1.00\n",
       "dti                                     204640.0     16.535040      7.789461     0.00     10.75     16.20     21.98       57.14\n",
       "open_acc                                204640.0     10.933943      4.901919     0.00      7.00     10.00     14.00       76.00\n",
       "pub_rec                                 204640.0      0.144009      0.438609     0.00      0.00      0.00      0.00       15.00\n",
       "total_acc                               204640.0     25.023568     11.795251     1.00     16.00     23.00     32.00      150.00\n",
       "initial_list_status_F                   204640.0      0.722048      0.447990     0.00      0.00      1.00      1.00        1.00\n",
       "initial_list_status_W                   204640.0      0.277952      0.447990     0.00      0.00      0.00      1.00        1.00\n",
       "compensation_of_employees               204640.0    213.928352    142.790472     1.00     79.00    207.00    347.00      459.00\n",
       "gross_operating_surplus                 204640.0    247.008503    139.953104     1.00    116.00    248.00    379.00      458.00\n",
       "per_capita_real_gdp_by_state            204640.0    278.891839    120.415863    10.00    168.00    327.00    378.00      457.00\n",
       "quantity_indexes_for_real_gdp_by_state  204640.0    189.734861    103.712270     1.00    107.00    205.00    269.00      401.00\n",
       "real_gdp_by_state                       204640.0    202.754051    129.670463     1.00    110.00    172.00    301.00      459.00\n",
       "subsidies                               204640.0    209.683302    117.023214     1.00    111.00    202.00    316.00      403.00\n",
       "taxes_on_production_and_imports         204640.0    198.053787    143.285349     1.00     59.00    166.00    326.00      455.00\n",
       "regions_MIDWEST                         204640.0      0.159710      0.366338     0.00      0.00      0.00      0.00        1.00\n",
       "regions_NORTHEAST                       204640.0      0.206543      0.404826     0.00      0.00      0.00      0.00        1.00\n",
       "regions_SOUTH                           204640.0      0.338771      0.473293     0.00      0.00      0.00      1.00        1.00\n",
       "regions_WEST                            204640.0      0.294977      0.456033     0.00      0.00      0.00      1.00        1.00\n",
       "month                                   204640.0      6.561528      3.417220     1.00      4.00      7.00     10.00       12.00"
      ]
     },
     "execution_count": 106,
     "metadata": {},
     "output_type": "execute_result"
    }
   ],
   "source": [
    "train_df.describe().transpose()"
   ]
  },
  {
   "cell_type": "markdown",
   "metadata": {},
   "source": [
    "Check for missing values"
   ]
  },
  {
   "cell_type": "code",
   "execution_count": 107,
   "metadata": {},
   "outputs": [
    {
     "data": {
      "text/plain": [
       "default                                   False\n",
       "loan_amnt                                 False\n",
       "term_36MO                                 False\n",
       "term_60MO                                 False\n",
       "int_rate                                  False\n",
       "installment                               False\n",
       "grade_A                                   False\n",
       "grade_B                                   False\n",
       "grade_C                                   False\n",
       "grade_D                                   False\n",
       "grade_E                                   False\n",
       "grade_F                                   False\n",
       "grade_G                                   False\n",
       "home_ownership_MORTGAGE                   False\n",
       "home_ownership_OWN                        False\n",
       "home_ownership_RENT                       False\n",
       "annual_inc                                False\n",
       "verification_status_NOT_VERIFIED          False\n",
       "verification_status_SOURCE_VERIFIED       False\n",
       "verification_status_VERIFIED              False\n",
       "purpose_CREDIT_CARD                       False\n",
       "purpose_DEBT_CONSOLIDATION                False\n",
       "purpose_HOME_IMPROVEMENT                  False\n",
       "purpose_MAJOR_PURCHASE                    False\n",
       "purpose_OTHERS                            False\n",
       "purpose_SMALL_BUSINESS                    False\n",
       "dti                                       False\n",
       "open_acc                                  False\n",
       "pub_rec                                   False\n",
       "total_acc                                 False\n",
       "initial_list_status_F                     False\n",
       "initial_list_status_W                     False\n",
       "compensation_of_employees                 False\n",
       "gross_operating_surplus                   False\n",
       "per_capita_real_gdp_by_state              False\n",
       "quantity_indexes_for_real_gdp_by_state    False\n",
       "real_gdp_by_state                         False\n",
       "subsidies                                 False\n",
       "taxes_on_production_and_imports           False\n",
       "regions_MIDWEST                           False\n",
       "regions_NORTHEAST                         False\n",
       "regions_SOUTH                             False\n",
       "regions_WEST                              False\n",
       "month                                     False\n",
       "dtype: bool"
      ]
     },
     "execution_count": 107,
     "metadata": {},
     "output_type": "execute_result"
    }
   ],
   "source": [
    "train_df.isna().any()"
   ]
  },
  {
   "cell_type": "markdown",
   "metadata": {},
   "source": [
    "### 2.4) Convert Datasets to Numpy Matrices\n",
    "#### (they are all numeric so this should work fine)"
   ]
  },
  {
   "cell_type": "code",
   "execution_count": 108,
   "metadata": {},
   "outputs": [
    {
     "name": "stderr",
     "output_type": "stream",
     "text": [
      "/home/sri/anaconda3/envs/pt1/lib/python3.7/site-packages/ipykernel_launcher.py:1: FutureWarning: Method .as_matrix will be removed in a future version. Use .values instead.\n",
      "  \"\"\"Entry point for launching an IPython kernel.\n",
      "/home/sri/anaconda3/envs/pt1/lib/python3.7/site-packages/ipykernel_launcher.py:2: FutureWarning: Method .as_matrix will be removed in a future version. Use .values instead.\n",
      "  \n"
     ]
    }
   ],
   "source": [
    "train = train_df.as_matrix()\n",
    "test = test_df.as_matrix()"
   ]
  },
  {
   "cell_type": "markdown",
   "metadata": {},
   "source": [
    "Make sure they are all the right shape"
   ]
  },
  {
   "cell_type": "code",
   "execution_count": 109,
   "metadata": {},
   "outputs": [
    {
     "data": {
      "text/plain": [
       "(204640, 44)"
      ]
     },
     "execution_count": 109,
     "metadata": {},
     "output_type": "execute_result"
    }
   ],
   "source": [
    "train.shape"
   ]
  },
  {
   "cell_type": "code",
   "execution_count": 110,
   "metadata": {},
   "outputs": [
    {
     "data": {
      "text/plain": [
       "(51159, 44)"
      ]
     },
     "execution_count": 110,
     "metadata": {},
     "output_type": "execute_result"
    }
   ],
   "source": [
    "test.shape"
   ]
  },
  {
   "cell_type": "markdown",
   "metadata": {},
   "source": [
    "### 2.5) Generate Y/X Sets for all versions"
   ]
  },
  {
   "cell_type": "code",
   "execution_count": 118,
   "metadata": {},
   "outputs": [],
   "source": [
    "x_train = train[:,1:44]\n",
    "y_train = train[:,0:1]\n",
    "x_test = test[:,1:44]\n",
    "y_test = test[:,0:1]"
   ]
  },
  {
   "cell_type": "markdown",
   "metadata": {},
   "source": [
    "### 2.6) MinMax Scale Datasets"
   ]
  },
  {
   "cell_type": "code",
   "execution_count": 121,
   "metadata": {},
   "outputs": [],
   "source": [
    "scaler = preprocessing.MinMaxScaler()\n",
    "x_train = scaler.fit_transform(x_train)\n",
    "x_test = scaler.fit_transform(x_test)"
   ]
  },
  {
   "cell_type": "markdown",
   "metadata": {},
   "source": [
    "## 3) Modelling"
   ]
  },
  {
   "cell_type": "markdown",
   "metadata": {},
   "source": [
    "### 3.1) eXplainable Neural Network"
   ]
  },
  {
   "cell_type": "markdown",
   "metadata": {},
   "source": [
    "### 3.1) Set Misclassification Weights"
   ]
  },
  {
   "cell_type": "code",
   "execution_count": 122,
   "metadata": {},
   "outputs": [
    {
     "data": {
      "text/plain": [
       "array([[1.        , 1.        ],\n",
       "       [3.28166745, 1.        ]])"
      ]
     },
     "execution_count": 122,
     "metadata": {},
     "output_type": "execute_result"
    }
   ],
   "source": [
    "w_array = np.ones((2,2))\n",
    "w_array[1, 0] = mloan_amnt/mreturns\n",
    "w_array"
   ]
  },
  {
   "cell_type": "markdown",
   "metadata": {},
   "source": [
    "### 3.2) Create Modified Loss Function"
   ]
  },
  {
   "cell_type": "code",
   "execution_count": 123,
   "metadata": {},
   "outputs": [],
   "source": [
    "def weigted_binary_crossentropy(y_true, y_pred, weights):\n",
    "    y_diff = y_true - y_pred\n",
    "    #print(K.eval(y_diff))\n",
    "    y_mask = (tf.cast(tf.equal(y_diff[:,0],-1), tf.float32) * w_array[1,0]) + \\\n",
    "            (tf.cast(tf.equal(y_diff[:,0],1), tf.float32) * w_array[0,1]) + \\\n",
    "            (tf.cast(tf.equal(y_diff[:,0],0), tf.float32) * tf.cast(tf.equal(y_true[:,0],0), tf.float32) * w_array[0,0]) + \\\n",
    "            (tf.cast(tf.equal(y_diff[:,0],0), tf.float32) * tf.cast(tf.equal(y_true[:,0],1), tf.float32) * w_array[1,1])\n",
    "    y_mask = K.transpose(K.expand_dims(y_mask,axis=0))\n",
    "    y_pred = K.clip(y_pred, K.epsilon(), 1.0 - K.epsilon())\n",
    "    #print(K.eval(y_mask))\n",
    "    #print(K.eval((-y_true * K.log(y_pred) - (1.0 - y_true) * K.log(1.0 - y_pred))))\n",
    "    #loss = K.mean(y_mask * ((-y_true * K.log(y_pred) - (1.0 - y_true) * K.log(1.0 - y_pred))),axis=-1)\n",
    "    loss = K.mean(y_mask * keras.losses.binary_crossentropy(y_true, y_pred),axis=-1)\n",
    "    return loss"
   ]
  },
  {
   "cell_type": "code",
   "execution_count": 124,
   "metadata": {},
   "outputs": [],
   "source": [
    "def wrapped_partial(func, *args, **kwargs):\n",
    "    partial_func = partial(func, *args, **kwargs)\n",
    "    update_wrapper(partial_func, func)\n",
    "    return partial_func"
   ]
  },
  {
   "cell_type": "code",
   "execution_count": 125,
   "metadata": {},
   "outputs": [],
   "source": [
    "custom_weigted_binary_crossentropy = wrapped_partial(weigted_binary_crossentropy, weights=w_array)"
   ]
  },
  {
   "cell_type": "code",
   "execution_count": 126,
   "metadata": {},
   "outputs": [],
   "source": [
    "def sensitivity(y_true, y_pred):\n",
    "    true_positives = K.sum(K.round(K.clip(y_true * y_pred, 0, 1)))\n",
    "    possible_positives = K.sum(K.round(K.clip(y_true, 0, 1)))\n",
    "    return true_positives / (possible_positives + K.epsilon())\n",
    "\n",
    "def specificity(y_true, y_pred):\n",
    "    true_negatives = K.sum(K.round(K.clip((1-y_true) * (1-y_pred), 0, 1)))\n",
    "    possible_negatives = K.sum(K.round(K.clip(1-y_true, 0, 1)))\n",
    "    return true_negatives / (possible_negatives + K.epsilon())"
   ]
  },
  {
   "cell_type": "markdown",
   "metadata": {},
   "source": [
    "### 3.3) Load Common Utilities"
   ]
  },
  {
   "cell_type": "code",
   "execution_count": 127,
   "metadata": {},
   "outputs": [],
   "source": [
    "obj = NN.Common(saved_models_path)"
   ]
  },
  {
   "cell_type": "markdown",
   "metadata": {},
   "source": [
    "Get Random Sample of 3,000 rows"
   ]
  },
  {
   "cell_type": "code",
   "execution_count": 20,
   "metadata": {},
   "outputs": [],
   "source": [
    "sample_idx = np.random.randint(train.shape[0], size=30000)\n",
    "x_train_sample = x_train[sample_idx,:]\n",
    "y_train_sample = y_train[sample_idx,:]"
   ]
  },
  {
   "cell_type": "markdown",
   "metadata": {},
   "source": [
    "### 3.4) Hyperparameter Tune Base Model"
   ]
  },
  {
   "cell_type": "markdown",
   "metadata": {},
   "source": [
    "#### 3.4.1) Define Base Model\n",
    "\n",
    "__Base model architecture__: \n",
    "\n",
    "- __Hidden Layers:__ 1 x 47-node layer with linear activation\n",
    "- __Output Layers:__ 1-node layer with softmax activation\n",
    "\n",
    "__Fixed Parameters__: \n",
    "\n",
    "- __Batch Size:__ 32\n",
    "- __Epochs:__ 10\n",
    "- __Loss Functions:__ binary_crossentropy\n",
    "\n",
    "__Dynamic Parameters__: \n",
    "\n",
    "- __Optimizers:__ Adam (Default), SGD, RMSprop, Adamax\n",
    "- __Learning Rates:__ .0007 (Default), .0008, .0009, .001"
   ]
  },
  {
   "cell_type": "code",
   "execution_count": 411,
   "metadata": {},
   "outputs": [],
   "source": [
    "def run_model(lossfn='binary_crossentropy', optimizer='Adam', lr=.01, name='model'):\n",
    "    BATCH_SIZE = 32\n",
    "    EPOCHS = 10\n",
    "\n",
    "    model = Sequential()\n",
    "    model.add(Dense(47, input_dim=47))\n",
    "    model.add(Dense(1))\n",
    "    model.add(Activation('sigmoid'))\n",
    "\n",
    "    #Compile & train the model\n",
    "    model, history = obj.compile_and_fit(model, optimizer, lr, x_train, y_train, BATCH_SIZE, EPOCHS, loss=lossfn, verbose=0, metrics=['accuracy',sensitivity,specificity])\n",
    "    \n",
    "    return model, history"
   ]
  },
  {
   "cell_type": "markdown",
   "metadata": {},
   "source": [
    "#### 3.4.2) Iterate through Optimizers"
   ]
  },
  {
   "cell_type": "code",
   "execution_count": null,
   "metadata": {},
   "outputs": [],
   "source": [
    "modelhist = {}\n",
    "results = []\n",
    "optimizers = ['Adam', 'SGD', 'RMSprop', 'Adamax']\n",
    "lrs = [.0005, .001, .01]\n",
    "for optimizer in optimizers:\n",
    "    for lr in lrs:\n",
    "        model, history = run_model(lossfn='binary_crossentropy', optimizer=optimizer, lr=lr)\n",
    "        modelhist[optimizer+'_'+str(lr)] = {'model': model, 'history': history.history}\n",
    "        result = obj.eval_result(optimizer+'_'+str(lr), model, history.history, x_test, y_test)\n",
    "        results.append(result)"
   ]
  },
  {
   "cell_type": "markdown",
   "metadata": {},
   "source": [
    "#### 3.4.3) Display Results"
   ]
  },
  {
   "cell_type": "code",
   "execution_count": 414,
   "metadata": {},
   "outputs": [
    {
     "data": {
      "text/html": [
       "<div>\n",
       "<style scoped>\n",
       "    .dataframe tbody tr th:only-of-type {\n",
       "        vertical-align: middle;\n",
       "    }\n",
       "\n",
       "    .dataframe tbody tr th {\n",
       "        vertical-align: top;\n",
       "    }\n",
       "\n",
       "    .dataframe thead th {\n",
       "        text-align: right;\n",
       "    }\n",
       "</style>\n",
       "<table border=\"1\" class=\"dataframe\">\n",
       "  <thead>\n",
       "    <tr style=\"text-align: right;\">\n",
       "      <th></th>\n",
       "      <th>_name</th>\n",
       "      <th>_test_accuracy</th>\n",
       "      <th>_test_loss</th>\n",
       "      <th>last_loss</th>\n",
       "      <th>last_val_accuracy</th>\n",
       "      <th>max_val_accuracy</th>\n",
       "      <th>max_val_epoch</th>\n",
       "    </tr>\n",
       "  </thead>\n",
       "  <tbody>\n",
       "    <tr>\n",
       "      <th>0</th>\n",
       "      <td>Adam_0.0005</td>\n",
       "      <td>0.946769</td>\n",
       "      <td>0.857988</td>\n",
       "      <td>0.752221</td>\n",
       "      <td>0.953331</td>\n",
       "      <td>0.953331</td>\n",
       "      <td>0</td>\n",
       "    </tr>\n",
       "    <tr>\n",
       "      <th>1</th>\n",
       "      <td>Adam_0.001</td>\n",
       "      <td>0.946769</td>\n",
       "      <td>0.857988</td>\n",
       "      <td>0.752221</td>\n",
       "      <td>0.953331</td>\n",
       "      <td>0.953331</td>\n",
       "      <td>0</td>\n",
       "    </tr>\n",
       "    <tr>\n",
       "      <th>2</th>\n",
       "      <td>Adam_0.01</td>\n",
       "      <td>0.946769</td>\n",
       "      <td>0.857988</td>\n",
       "      <td>0.752221</td>\n",
       "      <td>0.953331</td>\n",
       "      <td>0.953331</td>\n",
       "      <td>0</td>\n",
       "    </tr>\n",
       "    <tr>\n",
       "      <th>4</th>\n",
       "      <td>SGD_0.001</td>\n",
       "      <td>0.946769</td>\n",
       "      <td>0.857988</td>\n",
       "      <td>0.752221</td>\n",
       "      <td>0.953331</td>\n",
       "      <td>0.953331</td>\n",
       "      <td>0</td>\n",
       "    </tr>\n",
       "    <tr>\n",
       "      <th>7</th>\n",
       "      <td>RMSprop_0.001</td>\n",
       "      <td>0.946769</td>\n",
       "      <td>0.857988</td>\n",
       "      <td>0.752221</td>\n",
       "      <td>0.953331</td>\n",
       "      <td>0.953331</td>\n",
       "      <td>0</td>\n",
       "    </tr>\n",
       "    <tr>\n",
       "      <th>8</th>\n",
       "      <td>RMSprop_0.01</td>\n",
       "      <td>0.946769</td>\n",
       "      <td>0.857988</td>\n",
       "      <td>0.752221</td>\n",
       "      <td>0.953331</td>\n",
       "      <td>0.953331</td>\n",
       "      <td>0</td>\n",
       "    </tr>\n",
       "    <tr>\n",
       "      <th>10</th>\n",
       "      <td>Adamax_0.001</td>\n",
       "      <td>0.946769</td>\n",
       "      <td>0.857988</td>\n",
       "      <td>0.752221</td>\n",
       "      <td>0.953331</td>\n",
       "      <td>0.953331</td>\n",
       "      <td>0</td>\n",
       "    </tr>\n",
       "    <tr>\n",
       "      <th>11</th>\n",
       "      <td>Adamax_0.01</td>\n",
       "      <td>0.946769</td>\n",
       "      <td>0.857988</td>\n",
       "      <td>0.752221</td>\n",
       "      <td>0.953331</td>\n",
       "      <td>0.953331</td>\n",
       "      <td>0</td>\n",
       "    </tr>\n",
       "    <tr>\n",
       "      <th>3</th>\n",
       "      <td>SGD_0.0005</td>\n",
       "      <td>0.053231</td>\n",
       "      <td>15.093750</td>\n",
       "      <td>15.198364</td>\n",
       "      <td>0.046669</td>\n",
       "      <td>0.046669</td>\n",
       "      <td>0</td>\n",
       "    </tr>\n",
       "    <tr>\n",
       "      <th>5</th>\n",
       "      <td>SGD_0.01</td>\n",
       "      <td>0.053231</td>\n",
       "      <td>15.093750</td>\n",
       "      <td>15.198364</td>\n",
       "      <td>0.046669</td>\n",
       "      <td>0.046669</td>\n",
       "      <td>0</td>\n",
       "    </tr>\n",
       "    <tr>\n",
       "      <th>6</th>\n",
       "      <td>RMSprop_0.0005</td>\n",
       "      <td>0.053231</td>\n",
       "      <td>15.093750</td>\n",
       "      <td>15.198364</td>\n",
       "      <td>0.046669</td>\n",
       "      <td>0.046669</td>\n",
       "      <td>0</td>\n",
       "    </tr>\n",
       "    <tr>\n",
       "      <th>9</th>\n",
       "      <td>Adamax_0.0005</td>\n",
       "      <td>0.053231</td>\n",
       "      <td>15.093750</td>\n",
       "      <td>15.198364</td>\n",
       "      <td>0.046669</td>\n",
       "      <td>0.046669</td>\n",
       "      <td>0</td>\n",
       "    </tr>\n",
       "  </tbody>\n",
       "</table>\n",
       "</div>"
      ],
      "text/plain": [
       "             _name  _test_accuracy  _test_loss  last_loss  last_val_accuracy  max_val_accuracy  max_val_epoch\n",
       "0      Adam_0.0005        0.946769    0.857988   0.752221           0.953331          0.953331              0\n",
       "1       Adam_0.001        0.946769    0.857988   0.752221           0.953331          0.953331              0\n",
       "2        Adam_0.01        0.946769    0.857988   0.752221           0.953331          0.953331              0\n",
       "4        SGD_0.001        0.946769    0.857988   0.752221           0.953331          0.953331              0\n",
       "7    RMSprop_0.001        0.946769    0.857988   0.752221           0.953331          0.953331              0\n",
       "8     RMSprop_0.01        0.946769    0.857988   0.752221           0.953331          0.953331              0\n",
       "10    Adamax_0.001        0.946769    0.857988   0.752221           0.953331          0.953331              0\n",
       "11     Adamax_0.01        0.946769    0.857988   0.752221           0.953331          0.953331              0\n",
       "3       SGD_0.0005        0.053231   15.093750  15.198364           0.046669          0.046669              0\n",
       "5         SGD_0.01        0.053231   15.093750  15.198364           0.046669          0.046669              0\n",
       "6   RMSprop_0.0005        0.053231   15.093750  15.198364           0.046669          0.046669              0\n",
       "9    Adamax_0.0005        0.053231   15.093750  15.198364           0.046669          0.046669              0"
      ]
     },
     "execution_count": 414,
     "metadata": {},
     "output_type": "execute_result"
    }
   ],
   "source": [
    "results_df = pd.DataFrame.from_dict(results)\n",
    "results_df.sort_values(by=['_test_accuracy','max_val_epoch'],ascending=[False,False])"
   ]
  },
  {
   "cell_type": "markdown",
   "metadata": {},
   "source": [
    "#### 3.4.4) Plot Accuracy"
   ]
  },
  {
   "cell_type": "code",
   "execution_count": 415,
   "metadata": {},
   "outputs": [
    {
     "data": {
      "image/png": "[encoded data removed]",
      "text/plain": [
       "<Figure size 1152x576 with 1 Axes>"
      ]
     },
     "metadata": {
      "needs_background": "light"
     },
     "output_type": "display_data"
    }
   ],
   "source": [
    "plots = []\n",
    "for name in results_df['_name'].tolist(): \n",
    "    plots.append((modelhist[name]['history']['val_acc'], name))\n",
    "obj.plot_multiple ('validation accuracy', plots)"
   ]
  },
  {
   "cell_type": "markdown",
   "metadata": {},
   "source": [
    "#### 3.4.5) Plot Loss"
   ]
  },
  {
   "cell_type": "code",
   "execution_count": 416,
   "metadata": {},
   "outputs": [
    {
     "data": {
      "image/png": "[encoded data removed]",
      "text/plain": [
       "<Figure size 1152x576 with 1 Axes>"
      ]
     },
     "metadata": {
      "needs_background": "light"
     },
     "output_type": "display_data"
    }
   ],
   "source": [
    "plots = []\n",
    "for name in results_df['_name'].tolist(): \n",
    "    plots.append((modelhist[name]['history']['val_loss'], name))\n",
    "obj.plot_multiple ('validation loss', plots)"
   ]
  },
  {
   "cell_type": "markdown",
   "metadata": {},
   "source": [
    "#### 3.4.6) Save Best Model"
   ]
  },
  {
   "cell_type": "code",
   "execution_count": 417,
   "metadata": {},
   "outputs": [
    {
     "data": {
      "text/plain": [
       "<keras.engine.sequential.Sequential at 0x7fb2032ac6d8>"
      ]
     },
     "execution_count": 417,
     "metadata": {},
     "output_type": "execute_result"
    }
   ],
   "source": [
    "modelhist['Adam_0.0005']['model']"
   ]
  },
  {
   "cell_type": "code",
   "execution_count": 418,
   "metadata": {},
   "outputs": [
    {
     "ename": "AttributeError",
     "evalue": "'float' object has no attribute 'eval'",
     "output_type": "error",
     "traceback": [
      "\u001b[0;31m--------------------------------------------------------\u001b[0m",
      "\u001b[0;31mAttributeError\u001b[0m         Traceback (most recent call last)",
      "\u001b[0;32m<ipython-input-418-72b5bf3eda3d>\u001b[0m in \u001b[0;36m<module>\u001b[0;34m\u001b[0m\n\u001b[0;32m----> 1\u001b[0;31m \u001b[0mobj\u001b[0m\u001b[0;34m.\u001b[0m\u001b[0msave_model\u001b[0m\u001b[0;34m(\u001b[0m\u001b[0mmodelhist\u001b[0m\u001b[0;34m[\u001b[0m\u001b[0;34m'Adam_0.0005'\u001b[0m\u001b[0;34m]\u001b[0m\u001b[0;34m[\u001b[0m\u001b[0;34m'model'\u001b[0m\u001b[0;34m]\u001b[0m\u001b[0;34m,\u001b[0m \u001b[0;34m'DNN_Adam_0.0005'\u001b[0m\u001b[0;34m)\u001b[0m\u001b[0;34m\u001b[0m\u001b[0;34m\u001b[0m\u001b[0m\n\u001b[0m",
      "\u001b[0;32m~/SERG/2-csp-571_proj/NN.py\u001b[0m in \u001b[0;36msave_model\u001b[0;34m(self, model, MODELID)\u001b[0m\n\u001b[1;32m     95\u001b[0m         \u001b[0;32mdef\u001b[0m \u001b[0msave_model\u001b[0m\u001b[0;34m(\u001b[0m\u001b[0mself\u001b[0m\u001b[0;34m,\u001b[0m \u001b[0mmodel\u001b[0m\u001b[0;34m,\u001b[0m \u001b[0mMODELID\u001b[0m\u001b[0;34m)\u001b[0m\u001b[0;34m:\u001b[0m\u001b[0;34m\u001b[0m\u001b[0;34m\u001b[0m\u001b[0m\n\u001b[1;32m     96\u001b[0m                 \u001b[0mmodel_path\u001b[0m \u001b[0;34m=\u001b[0m \u001b[0mos\u001b[0m\u001b[0;34m.\u001b[0m\u001b[0mpath\u001b[0m\u001b[0;34m.\u001b[0m\u001b[0mjoin\u001b[0m\u001b[0;34m(\u001b[0m\u001b[0mself\u001b[0m\u001b[0;34m.\u001b[0m\u001b[0mSAVE_DIR\u001b[0m\u001b[0;34m,\u001b[0m \u001b[0mMODELID\u001b[0m\u001b[0;34m+\u001b[0m\u001b[0;34m'.h5'\u001b[0m\u001b[0;34m)\u001b[0m\u001b[0;34m\u001b[0m\u001b[0;34m\u001b[0m\u001b[0m\n\u001b[0;32m---> 97\u001b[0;31m                 \u001b[0mmodel\u001b[0m\u001b[0;34m.\u001b[0m\u001b[0msave\u001b[0m\u001b[0;34m(\u001b[0m\u001b[0mmodel_path\u001b[0m\u001b[0;34m)\u001b[0m\u001b[0;34m\u001b[0m\u001b[0;34m\u001b[0m\u001b[0m\n\u001b[0m\u001b[1;32m     98\u001b[0m                 \u001b[0mprint\u001b[0m\u001b[0;34m(\u001b[0m\u001b[0;34m\"\\r\\nSaved trained model at: '%s'\"\u001b[0m \u001b[0;34m%\u001b[0m \u001b[0mmodel_path\u001b[0m\u001b[0;34m)\u001b[0m\u001b[0;34m\u001b[0m\u001b[0;34m\u001b[0m\u001b[0m\n",
      "\u001b[0;32m~/anaconda3/envs/pt1/lib/python3.7/site-packages/keras/engine/network.py\u001b[0m in \u001b[0;36msave\u001b[0;34m(self, filepath, overwrite, include_optimizer)\u001b[0m\n\u001b[1;32m   1088\u001b[0m         \u001b[0;32mreturn\u001b[0m \u001b[0mcls\u001b[0m\u001b[0;34m(\u001b[0m\u001b[0minputs\u001b[0m\u001b[0;34m=\u001b[0m\u001b[0minput_tensors\u001b[0m\u001b[0;34m,\u001b[0m \u001b[0moutputs\u001b[0m\u001b[0;34m=\u001b[0m\u001b[0moutput_tensors\u001b[0m\u001b[0;34m,\u001b[0m \u001b[0mname\u001b[0m\u001b[0;34m=\u001b[0m\u001b[0mname\u001b[0m\u001b[0;34m)\u001b[0m\u001b[0;34m\u001b[0m\u001b[0;34m\u001b[0m\u001b[0m\n\u001b[1;32m   1089\u001b[0m \u001b[0;34m\u001b[0m\u001b[0m\n\u001b[0;32m-> 1090\u001b[0;31m     \u001b[0;32mdef\u001b[0m \u001b[0msave\u001b[0m\u001b[0;34m(\u001b[0m\u001b[0mself\u001b[0m\u001b[0;34m,\u001b[0m \u001b[0mfilepath\u001b[0m\u001b[0;34m,\u001b[0m \u001b[0moverwrite\u001b[0m\u001b[0;34m=\u001b[0m\u001b[0;32mTrue\u001b[0m\u001b[0;34m,\u001b[0m \u001b[0minclude_optimizer\u001b[0m\u001b[0;34m=\u001b[0m\u001b[0;32mTrue\u001b[0m\u001b[0;34m)\u001b[0m\u001b[0;34m:\u001b[0m\u001b[0;34m\u001b[0m\u001b[0;34m\u001b[0m\u001b[0m\n\u001b[0m\u001b[1;32m   1091\u001b[0m         \"\"\"Saves the model to a single HDF5 file.\n\u001b[1;32m   1092\u001b[0m \u001b[0;34m\u001b[0m\u001b[0m\n",
      "\u001b[0;32m~/anaconda3/envs/pt1/lib/python3.7/site-packages/keras/engine/saving.py\u001b[0m in \u001b[0;36msave_model\u001b[0;34m(model, filepath, overwrite, include_optimizer)\u001b[0m\n\u001b[1;32m    380\u001b[0m     \"\"\"\n\u001b[1;32m    381\u001b[0m     \u001b[0;32mreturn\u001b[0m \u001b[0misinstance\u001b[0m\u001b[0;34m(\u001b[0m\u001b[0mfilepath\u001b[0m\u001b[0;34m,\u001b[0m \u001b[0mstring_types\u001b[0m\u001b[0;34m)\u001b[0m \u001b[0;32mand\u001b[0m \u001b[0mfilepath\u001b[0m\u001b[0;34m.\u001b[0m\u001b[0mstartswith\u001b[0m\u001b[0;34m(\u001b[0m\u001b[0;34m'gs://'\u001b[0m\u001b[0;34m)\u001b[0m\u001b[0;34m\u001b[0m\u001b[0;34m\u001b[0m\u001b[0m\n\u001b[0;32m--> 382\u001b[0;31m \u001b[0;34m\u001b[0m\u001b[0m\n\u001b[0m\u001b[1;32m    383\u001b[0m \u001b[0;34m\u001b[0m\u001b[0m\n\u001b[1;32m    384\u001b[0m \u001b[0;32mdef\u001b[0m \u001b[0mallow_write_to_gcs\u001b[0m\u001b[0;34m(\u001b[0m\u001b[0msave_function\u001b[0m\u001b[0;34m)\u001b[0m\u001b[0;34m:\u001b[0m\u001b[0;34m\u001b[0m\u001b[0;34m\u001b[0m\u001b[0m\n",
      "\u001b[0;32m~/anaconda3/envs/pt1/lib/python3.7/site-packages/keras/engine/saving.py\u001b[0m in \u001b[0;36m_serialize_model\u001b[0;34m(model, f, include_optimizer)\u001b[0m\n\u001b[1;32m    130\u001b[0m         \u001b[0;32mfor\u001b[0m \u001b[0mname\u001b[0m\u001b[0;34m,\u001b[0m \u001b[0mval\u001b[0m \u001b[0;32min\u001b[0m \u001b[0mzip\u001b[0m\u001b[0;34m(\u001b[0m\u001b[0mweight_names\u001b[0m\u001b[0;34m,\u001b[0m \u001b[0mweight_values\u001b[0m\u001b[0;34m)\u001b[0m\u001b[0;34m:\u001b[0m\u001b[0;34m\u001b[0m\u001b[0;34m\u001b[0m\u001b[0m\n\u001b[1;32m    131\u001b[0m             \u001b[0mlayer_group\u001b[0m\u001b[0;34m[\u001b[0m\u001b[0mname\u001b[0m\u001b[0;34m]\u001b[0m \u001b[0;34m=\u001b[0m \u001b[0mval\u001b[0m\u001b[0;34m\u001b[0m\u001b[0;34m\u001b[0m\u001b[0m\n\u001b[0;32m--> 132\u001b[0;31m     \u001b[0;32mif\u001b[0m \u001b[0minclude_optimizer\u001b[0m \u001b[0;32mand\u001b[0m \u001b[0mmodel\u001b[0m\u001b[0;34m.\u001b[0m\u001b[0moptimizer\u001b[0m\u001b[0;34m:\u001b[0m\u001b[0;34m\u001b[0m\u001b[0;34m\u001b[0m\u001b[0m\n\u001b[0m\u001b[1;32m    133\u001b[0m         \u001b[0;32mif\u001b[0m \u001b[0misinstance\u001b[0m\u001b[0;34m(\u001b[0m\u001b[0mmodel\u001b[0m\u001b[0;34m.\u001b[0m\u001b[0moptimizer\u001b[0m\u001b[0;34m,\u001b[0m \u001b[0moptimizers\u001b[0m\u001b[0;34m.\u001b[0m\u001b[0mTFOptimizer\u001b[0m\u001b[0;34m)\u001b[0m\u001b[0;34m:\u001b[0m\u001b[0;34m\u001b[0m\u001b[0;34m\u001b[0m\u001b[0m\n\u001b[1;32m    134\u001b[0m             warnings.warn(\n",
      "\u001b[0;32m~/anaconda3/envs/pt1/lib/python3.7/site-packages/keras/optimizers.py\u001b[0m in \u001b[0;36mget_config\u001b[0;34m(self)\u001b[0m\n\u001b[1;32m    515\u001b[0m                   \u001b[0;34m'beta_1'\u001b[0m\u001b[0;34m:\u001b[0m \u001b[0mfloat\u001b[0m\u001b[0;34m(\u001b[0m\u001b[0mK\u001b[0m\u001b[0;34m.\u001b[0m\u001b[0mget_value\u001b[0m\u001b[0;34m(\u001b[0m\u001b[0mself\u001b[0m\u001b[0;34m.\u001b[0m\u001b[0mbeta_1\u001b[0m\u001b[0;34m)\u001b[0m\u001b[0;34m)\u001b[0m\u001b[0;34m,\u001b[0m\u001b[0;34m\u001b[0m\u001b[0;34m\u001b[0m\u001b[0m\n\u001b[1;32m    516\u001b[0m                   \u001b[0;34m'beta_2'\u001b[0m\u001b[0;34m:\u001b[0m \u001b[0mfloat\u001b[0m\u001b[0;34m(\u001b[0m\u001b[0mK\u001b[0m\u001b[0;34m.\u001b[0m\u001b[0mget_value\u001b[0m\u001b[0;34m(\u001b[0m\u001b[0mself\u001b[0m\u001b[0;34m.\u001b[0m\u001b[0mbeta_2\u001b[0m\u001b[0;34m)\u001b[0m\u001b[0;34m)\u001b[0m\u001b[0;34m,\u001b[0m\u001b[0;34m\u001b[0m\u001b[0;34m\u001b[0m\u001b[0m\n\u001b[0;32m--> 517\u001b[0;31m                   \u001b[0;34m'decay'\u001b[0m\u001b[0;34m:\u001b[0m \u001b[0mfloat\u001b[0m\u001b[0;34m(\u001b[0m\u001b[0mK\u001b[0m\u001b[0;34m.\u001b[0m\u001b[0mget_value\u001b[0m\u001b[0;34m(\u001b[0m\u001b[0mself\u001b[0m\u001b[0;34m.\u001b[0m\u001b[0mdecay\u001b[0m\u001b[0;34m)\u001b[0m\u001b[0;34m)\u001b[0m\u001b[0;34m,\u001b[0m\u001b[0;34m\u001b[0m\u001b[0;34m\u001b[0m\u001b[0m\n\u001b[0m\u001b[1;32m    518\u001b[0m                   \u001b[0;34m'epsilon'\u001b[0m\u001b[0;34m:\u001b[0m \u001b[0mself\u001b[0m\u001b[0;34m.\u001b[0m\u001b[0mepsilon\u001b[0m\u001b[0;34m,\u001b[0m\u001b[0;34m\u001b[0m\u001b[0;34m\u001b[0m\u001b[0m\n\u001b[1;32m    519\u001b[0m                   'amsgrad': self.amsgrad}\n",
      "\u001b[0;32m~/anaconda3/envs/pt1/lib/python3.7/site-packages/keras/backend/tensorflow_backend.py\u001b[0m in \u001b[0;36mget_value\u001b[0;34m(x)\u001b[0m\n\u001b[1;32m   2405\u001b[0m         array([[1., 0., 1., 0., 1., 0.],\n\u001b[1;32m   2406\u001b[0m                \u001b[0;34m[\u001b[0m\u001b[0;36m0.\u001b[0m\u001b[0;34m,\u001b[0m \u001b[0;36m1.\u001b[0m\u001b[0;34m,\u001b[0m \u001b[0;36m0.\u001b[0m\u001b[0;34m,\u001b[0m \u001b[0;36m1.\u001b[0m\u001b[0;34m,\u001b[0m \u001b[0;36m0.\u001b[0m\u001b[0;34m,\u001b[0m \u001b[0;36m1.\u001b[0m\u001b[0;34m]\u001b[0m\u001b[0;34m,\u001b[0m\u001b[0;34m\u001b[0m\u001b[0;34m\u001b[0m\u001b[0m\n\u001b[0;32m-> 2407\u001b[0;31m                \u001b[0;34m[\u001b[0m\u001b[0;36m1.\u001b[0m\u001b[0;34m,\u001b[0m \u001b[0;36m0.\u001b[0m\u001b[0;34m,\u001b[0m \u001b[0;36m1.\u001b[0m\u001b[0;34m,\u001b[0m \u001b[0;36m0.\u001b[0m\u001b[0;34m,\u001b[0m \u001b[0;36m1.\u001b[0m\u001b[0;34m,\u001b[0m \u001b[0;36m0.\u001b[0m\u001b[0;34m]\u001b[0m\u001b[0;34m,\u001b[0m\u001b[0;34m\u001b[0m\u001b[0;34m\u001b[0m\u001b[0m\n\u001b[0m\u001b[1;32m   2408\u001b[0m                [0., 1., 0., 1., 0., 1.]], dtype=float32)\n\u001b[1;32m   2409\u001b[0m     \u001b[0;31m`\u001b[0m\u001b[0;31m`\u001b[0m\u001b[0;31m`\u001b[0m\u001b[0;34m\u001b[0m\u001b[0;34m\u001b[0m\u001b[0m\n",
      "\u001b[0;31mAttributeError\u001b[0m: 'float' object has no attribute 'eval'"
     ]
    }
   ],
   "source": [
    "obj.save_model(modelhist['Adam_0.0005']['model'], 'DNN_Adam_0.0005')"
   ]
  },
  {
   "cell_type": "markdown",
   "metadata": {},
   "source": [
    "### 3.5) Optimized Model"
   ]
  },
  {
   "cell_type": "markdown",
   "metadata": {},
   "source": [
    "#### 3.5.1) Train Cost Sensitive Learning eXplainable Neural Network"
   ]
  },
  {
   "cell_type": "code",
   "execution_count": 132,
   "metadata": {},
   "outputs": [
    {
     "name": "stdout",
     "output_type": "stream",
     "text": [
      "Train on 163712 samples, validate on 40928 samples\n",
      "Epoch 1/5\n",
      "163712/163712 [==============================] - 7s 41us/step - loss: 0.5352 - acc: 0.7632 - sensitivity: 0.1170 - specificity: 0.9121 - val_loss: 0.4313 - val_acc: 0.8277 - val_sensitivity: 0.0000e+00 - val_specificity: 1.0000\n",
      "Epoch 2/5\n",
      "163712/163712 [==============================] - 4s 25us/step - loss: 0.4622 - acc: 0.8120 - sensitivity: 0.0128 - specificity: 0.9959 - val_loss: 0.4286 - val_acc: 0.8277 - val_sensitivity: 0.0000e+00 - val_specificity: 1.0000\n",
      "Epoch 3/5\n",
      "163712/163712 [==============================] - 4s 25us/step - loss: 0.4559 - acc: 0.8126 - sensitivity: 0.0098 - specificity: 0.9973 - val_loss: 0.4280 - val_acc: 0.8277 - val_sensitivity: 6.0612e-04 - val_specificity: 0.9999\n",
      "Epoch 4/5\n",
      "163712/163712 [==============================] - 4s 25us/step - loss: 0.4534 - acc: 0.8127 - sensitivity: 0.0117 - specificity: 0.9971 - val_loss: 0.4272 - val_acc: 0.8278 - val_sensitivity: 0.0020 - val_specificity: 0.9998\n",
      "Epoch 5/5\n",
      "163712/163712 [==============================] - 4s 25us/step - loss: 0.4520 - acc: 0.8128 - sensitivity: 0.0130 - specificity: 0.9969 - val_loss: 0.4268 - val_acc: 0.8278 - val_sensitivity: 0.0011 - val_specificity: 0.9999\n"
     ]
    }
   ],
   "source": [
    "BATCH_SIZE = 64\n",
    "EPOCHS = 5\n",
    "LR = 0.0005 #0.00001 \n",
    "model = Sequential([\n",
    "\tDense(43, input_dim=43),\n",
    "\tDense(1, activation='sigmoid')\n",
    "])\n",
    "model, history = obj.compile_and_fit(model, 'Adam', LR, x_train, y_train, BATCH_SIZE, EPOCHS, loss=custom_weigted_binary_crossentropy, verbose=1, metrics=['accuracy',sensitivity,specificity])"
   ]
  },
  {
   "cell_type": "code",
   "execution_count": 130,
   "metadata": {},
   "outputs": [
    {
     "data": {
      "image/png": "[encoded data removed]",
      "text/plain": [
       "<Figure size 1152x576 with 1 Axes>"
      ]
     },
     "metadata": {
      "needs_background": "light"
     },
     "output_type": "display_data"
    },
    {
     "data": {
      "image/png": "[encoded data removed]",
      "text/plain": [
       "<Figure size 1296x648 with 1 Axes>"
      ]
     },
     "metadata": {
      "needs_background": "light"
     },
     "output_type": "display_data"
    }
   ],
   "source": [
    "obj.plot_single (history.history, 'Adam')"
   ]
  },
  {
   "cell_type": "markdown",
   "metadata": {},
   "source": [
    "#### 3.5.2) Get Predictions"
   ]
  },
  {
   "cell_type": "code",
   "execution_count": 133,
   "metadata": {},
   "outputs": [
    {
     "data": {
      "text/plain": [
       "(51159, 1)"
      ]
     },
     "execution_count": 133,
     "metadata": {},
     "output_type": "execute_result"
    }
   ],
   "source": [
    "y_pred = model.predict(x_test)\n",
    "y_pred.shape"
   ]
  },
  {
   "cell_type": "markdown",
   "metadata": {},
   "source": [
    "#### 3.5.3) Save Model"
   ]
  },
  {
   "cell_type": "code",
   "execution_count": 134,
   "metadata": {},
   "outputs": [
    {
     "name": "stdout",
     "output_type": "stream",
     "text": [
      "\n",
      "Saved trained model weights at: '/home/sri/SERG/2-csp-571_proj/models/XNN.h5'\n"
     ]
    }
   ],
   "source": [
    "obj.save_model(model, 'XNN', True)"
   ]
  },
  {
   "cell_type": "code",
   "execution_count": 136,
   "metadata": {},
   "outputs": [],
   "source": [
    "prediction = pd.DataFrame(y_pred, columns=['XNN_prob']).to_csv('./pred/XNN_prob.csv')"
   ]
  }
 ],
 "metadata": {
  "kernelspec": {
   "display_name": "Python 3",
   "language": "python",
   "name": "python3"
  },
  "language_info": {
   "codemirror_mode": {
    "name": "ipython",
    "version": 3
   },
   "file_extension": ".py",
   "mimetype": "text/x-python",
   "name": "python",
   "nbconvert_exporter": "python",
   "pygments_lexer": "ipython3",
   "version": "3.7.3"
  }
 },
 "nbformat": 4,
 "nbformat_minor": 2
}
