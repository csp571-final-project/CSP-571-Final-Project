{
 "cells": [
  {
   "cell_type": "markdown",
   "metadata": {},
   "source": [
    "# 3.4.2-4 Modelling Dataset Versions\n",
    "#### normalization, balancing and train/test splits"
   ]
  },
  {
   "cell_type": "markdown",
   "metadata": {},
   "source": [
    "## 1) Load Required Libraries"
   ]
  },
  {
   "cell_type": "code",
   "execution_count": 82,
   "metadata": {},
   "outputs": [],
   "source": [
    "library(\"dplyr\")\n",
    "library(\"caret\")\n",
    "library(\"mltools\")"
   ]
  },
  {
   "cell_type": "markdown",
   "metadata": {},
   "source": [
    "## 2) Load Data"
   ]
  },
  {
   "cell_type": "code",
   "execution_count": 2,
   "metadata": {},
   "outputs": [
    {
     "name": "stdout",
     "output_type": "stream",
     "text": [
      "Observations: 884,570\n",
      "Variables: 27\n",
      "$ X                                      <int> 1, 2, 3, 4, 5, 6, 7, 8, 9, 10,…\n",
      "$ loan_amnt                              <int> 5600, 7500, 12200, 11200, 2500…\n",
      "$ term                                   <fct>  36 months,  36 months,  36 mo…\n",
      "$ int_rate                               <dbl> 18.04, 13.87, 12.29, 11.34, 15…\n",
      "$ installment                            <dbl> 202.57, 255.86, 406.91, 368.48…\n",
      "$ grade                                  <fct> G, D, C, C, E, C, C, A, B, C, …\n",
      "$ home_ownership                         <fct> OWN, MORTGAGE, OWN, RENT, MORT…\n",
      "$ annual_inc                             <dbl> 0.6677529, 0.7174611, 0.661276…\n",
      "$ verification_status                    <fct> Not Verified, Not Verified, No…\n",
      "$ pymnt_plan                             <fct> n, n, n, n, n, n, n, n, n, n, …\n",
      "$ purpose                                <fct> home_improvement, Others, home…\n",
      "$ dti                                    <dbl> 25.84, 20.95, 9.31, 6.92, 6.82…\n",
      "$ open_acc                               <int> 11, 15, 4, 9, 5, 9, 16, 6, 7, …\n",
      "$ pub_rec                                <int> 0, 0, 0, 0, 0, 0, 0, 0, 0, 0, …\n",
      "$ total_acc                              <int> 17, 29, 8, 11, 12, 12, 41, 14,…\n",
      "$ initial_list_status                    <fct> f, f, f, f, f, f, f, f, f, f, …\n",
      "$ application_type                       <fct> INDIVIDUAL, INDIVIDUAL, INDIVI…\n",
      "$ Compensation.of.employees              <int> 149, 149, 149, 149, 149, 159, …\n",
      "$ Gross.operating.surplus                <int> 197, 197, 197, 197, 197, 198, …\n",
      "$ Per.capita.real.GDP.by.state           <int> 442, 442, 442, 442, 442, 445, …\n",
      "$ Quantity.indexes.for.real.GDP.by.state <int> 333, 333, 333, 333, 333, 335, …\n",
      "$ Real.GDP.by.state                      <int> 309, 309, 309, 309, 309, 310, …\n",
      "$ Subsidies                              <int> 6, 6, 6, 6, 6, 377, 377, 377, …\n",
      "$ Taxes.on.production.and.imports        <int> 339, 339, 339, 339, 339, 4, 4,…\n",
      "$ regions                                <fct> West, West, West, West, West, …\n",
      "$ month                                  <int> 1, 6, 3, 3, 12, 12, 3, 11, 5, …\n",
      "$ default                                <lgl> TRUE, FALSE, FALSE, FALSE, FAL…\n"
     ]
    }
   ],
   "source": [
    "transformed2.df <- read.csv(file=\"TransfromedData2.csv\", header=TRUE, sep=\",\")\n",
    "glimpse(transformed2.df)"
   ]
  },
  {
   "cell_type": "markdown",
   "metadata": {},
   "source": [
    "## 3) Transform Data for Modelling"
   ]
  },
  {
   "cell_type": "markdown",
   "metadata": {},
   "source": [
    "### 3.1) Basic Transforms"
   ]
  },
  {
   "cell_type": "markdown",
   "metadata": {},
   "source": [
    "Convert all factor levels to uppercase and replace spaces for underscores to make them more readable"
   ]
  },
  {
   "cell_type": "code",
   "execution_count": 3,
   "metadata": {},
   "outputs": [],
   "source": [
    "transformed2.df <- transformed2.df %>% mutate(term = factor(term, labels = c('36MO', '60MO')),\n",
    "        verification_status = factor(verification_status, labels = c('NOT_VERIFIED', 'SOURCE_VERIFIED', 'VERIFIED')),\n",
    "        purpose = factor(purpose, labels = c('CREDIT_CARD', 'DEBT_CONSOLIDATION', 'HOME_IMPROVEMENT', 'MAJOR_PURCHASE', 'OTHERS', 'SMALL_BUSINESS')),\n",
    "        initial_list_status = factor(initial_list_status, labels = c('F', 'W')),\n",
    "        regions = factor(regions, labels = c('MIDWEST', 'NORTHEAST', 'SOUTH', 'WEST')),\n",
    "        pymnt_plan = factor(pymnt_plan, labels = c(\"N\", \"Y\")))"
   ]
  },
  {
   "cell_type": "markdown",
   "metadata": {},
   "source": [
    "Rename external source columns for readability and ease of programmatic reference"
   ]
  },
  {
   "cell_type": "code",
   "execution_count": 4,
   "metadata": {},
   "outputs": [],
   "source": [
    "transformed2.df <- transformed2.df %>% rename(\"compensation_of_employees\" = \"Compensation.of.employees\", \n",
    "                           \"gross_operating_surplus\" = \"Gross.operating.surplus\",\n",
    "                           \"per_capita_real_gdp_by_state\" = \"Per.capita.real.GDP.by.state\",\n",
    "                           \"quantity_indexes_for_real_gdp_by_state\" = \"Quantity.indexes.for.real.GDP.by.state\",\n",
    "                           \"real_gdp_by_state\" = \"Real.GDP.by.state\",\n",
    "                           \"subsidies\" = \"Subsidies\",\n",
    "                           \"taxes_on_production_and_imports\" = \"Taxes.on.production.and.imports\")"
   ]
  },
  {
   "cell_type": "markdown",
   "metadata": {},
   "source": [
    "Add a `returns` with the amount expected to be gained from the loan from interests alone"
   ]
  },
  {
   "cell_type": "code",
   "execution_count": 5,
   "metadata": {},
   "outputs": [],
   "source": [
    "transformed2.df <- transformed2.df %>% mutate(returns = (installment * ifelse(term=='36MO', 36, 60)) - loan_amnt)"
   ]
  },
  {
   "cell_type": "markdown",
   "metadata": {},
   "source": [
    "Glimpse newly transformed dataframe"
   ]
  },
  {
   "cell_type": "code",
   "execution_count": 6,
   "metadata": {},
   "outputs": [
    {
     "name": "stdout",
     "output_type": "stream",
     "text": [
      "Observations: 884,570\n",
      "Variables: 28\n",
      "$ X                                      <int> 1, 2, 3, 4, 5, 6, 7, 8, 9, 10,…\n",
      "$ loan_amnt                              <int> 5600, 7500, 12200, 11200, 2500…\n",
      "$ term                                   <fct> 36MO, 36MO, 36MO, 36MO, 36MO, …\n",
      "$ int_rate                               <dbl> 18.04, 13.87, 12.29, 11.34, 15…\n",
      "$ installment                            <dbl> 202.57, 255.86, 406.91, 368.48…\n",
      "$ grade                                  <fct> G, D, C, C, E, C, C, A, B, C, …\n",
      "$ home_ownership                         <fct> OWN, MORTGAGE, OWN, RENT, MORT…\n",
      "$ annual_inc                             <dbl> 0.6677529, 0.7174611, 0.661276…\n",
      "$ verification_status                    <fct> NOT_VERIFIED, NOT_VERIFIED, NO…\n",
      "$ pymnt_plan                             <fct> N, N, N, N, N, N, N, N, N, N, …\n",
      "$ purpose                                <fct> HOME_IMPROVEMENT, OTHERS, HOME…\n",
      "$ dti                                    <dbl> 25.84, 20.95, 9.31, 6.92, 6.82…\n",
      "$ open_acc                               <int> 11, 15, 4, 9, 5, 9, 16, 6, 7, …\n",
      "$ pub_rec                                <int> 0, 0, 0, 0, 0, 0, 0, 0, 0, 0, …\n",
      "$ total_acc                              <int> 17, 29, 8, 11, 12, 12, 41, 14,…\n",
      "$ initial_list_status                    <fct> F, F, F, F, F, F, F, F, F, F, …\n",
      "$ application_type                       <fct> INDIVIDUAL, INDIVIDUAL, INDIVI…\n",
      "$ compensation_of_employees              <int> 149, 149, 149, 149, 149, 159, …\n",
      "$ gross_operating_surplus                <int> 197, 197, 197, 197, 197, 198, …\n",
      "$ per_capita_real_gdp_by_state           <int> 442, 442, 442, 442, 442, 445, …\n",
      "$ quantity_indexes_for_real_gdp_by_state <int> 333, 333, 333, 333, 333, 335, …\n",
      "$ real_gdp_by_state                      <int> 309, 309, 309, 309, 309, 310, …\n",
      "$ subsidies                              <int> 6, 6, 6, 6, 6, 377, 377, 377, …\n",
      "$ taxes_on_production_and_imports        <int> 339, 339, 339, 339, 339, 4, 4,…\n",
      "$ regions                                <fct> WEST, WEST, WEST, WEST, WEST, …\n",
      "$ month                                  <int> 1, 6, 3, 3, 12, 12, 3, 11, 5, …\n",
      "$ default                                <lgl> TRUE, FALSE, FALSE, FALSE, FAL…\n",
      "$ returns                                <dbl> 1692.52, 1710.96, 2448.76, 206…\n"
     ]
    }
   ],
   "source": [
    "glimpse(transformed2.df)"
   ]
  },
  {
   "cell_type": "markdown",
   "metadata": {},
   "source": [
    "### 3.2) One-hot encoded version (for monotonic constraints)"
   ]
  },
  {
   "cell_type": "code",
   "execution_count": 7,
   "metadata": {},
   "outputs": [
    {
     "name": "stdout",
     "output_type": "stream",
     "text": [
      "Observations: 884,570\n",
      "Variables: 50\n",
      "$ X                                      <int> 1, 2, 3, 4, 5, 6, 7, 8, 9, 10,…\n",
      "$ loan_amnt                              <int> 5600, 7500, 12200, 11200, 2500…\n",
      "$ term_36MO                              <int> 1, 1, 1, 1, 1, 1, 1, 1, 1, 1, …\n",
      "$ term_60MO                              <int> 0, 0, 0, 0, 0, 0, 0, 0, 0, 0, …\n",
      "$ int_rate                               <dbl> 18.04, 13.87, 12.29, 11.34, 15…\n",
      "$ installment                            <dbl> 202.57, 255.86, 406.91, 368.48…\n",
      "$ grade_A                                <int> 0, 0, 0, 0, 0, 0, 0, 1, 0, 0, …\n",
      "$ grade_B                                <int> 0, 0, 0, 0, 0, 0, 0, 0, 1, 0, …\n",
      "$ grade_C                                <int> 0, 0, 1, 1, 0, 1, 1, 0, 0, 1, …\n",
      "$ grade_D                                <int> 0, 1, 0, 0, 0, 0, 0, 0, 0, 0, …\n",
      "$ grade_E                                <int> 0, 0, 0, 0, 1, 0, 0, 0, 0, 0, …\n",
      "$ grade_F                                <int> 0, 0, 0, 0, 0, 0, 0, 0, 0, 0, …\n",
      "$ grade_G                                <int> 1, 0, 0, 0, 0, 0, 0, 0, 0, 0, …\n",
      "$ home_ownership_MORTGAGE                <int> 0, 1, 0, 0, 1, 0, 1, 1, 1, 1, …\n",
      "$ home_ownership_OWN                     <int> 1, 0, 1, 0, 0, 0, 0, 0, 0, 0, …\n",
      "$ home_ownership_RENT                    <int> 0, 0, 0, 1, 0, 1, 0, 0, 0, 0, …\n",
      "$ annual_inc                             <dbl> 0.6677529, 0.7174611, 0.661276…\n",
      "$ verification_status_NOT_VERIFIED       <int> 1, 1, 1, 1, 0, 1, 1, 1, 1, 0, …\n",
      "$ verification_status_SOURCE_VERIFIED    <int> 0, 0, 0, 0, 0, 0, 0, 0, 0, 0, …\n",
      "$ verification_status_VERIFIED           <int> 0, 0, 0, 0, 1, 0, 0, 0, 0, 1, …\n",
      "$ pymnt_plan_N                           <int> 1, 1, 1, 1, 1, 1, 1, 1, 1, 1, …\n",
      "$ pymnt_plan_Y                           <int> 0, 0, 0, 0, 0, 0, 0, 0, 0, 0, …\n",
      "$ purpose_CREDIT_CARD                    <int> 0, 0, 0, 0, 0, 0, 0, 1, 0, 0, …\n",
      "$ purpose_DEBT_CONSOLIDATION             <int> 0, 0, 0, 1, 0, 0, 0, 0, 1, 0, …\n",
      "$ purpose_HOME_IMPROVEMENT               <int> 1, 0, 1, 0, 0, 0, 0, 0, 0, 0, …\n",
      "$ purpose_MAJOR_PURCHASE                 <int> 0, 0, 0, 0, 0, 0, 0, 0, 0, 0, …\n",
      "$ purpose_OTHERS                         <int> 0, 1, 0, 0, 0, 1, 0, 0, 0, 0, …\n",
      "$ purpose_SMALL_BUSINESS                 <int> 0, 0, 0, 0, 1, 0, 1, 0, 0, 1, …\n",
      "$ dti                                    <dbl> 25.84, 20.95, 9.31, 6.92, 6.82…\n",
      "$ open_acc                               <int> 11, 15, 4, 9, 5, 9, 16, 6, 7, …\n",
      "$ pub_rec                                <int> 0, 0, 0, 0, 0, 0, 0, 0, 0, 0, …\n",
      "$ total_acc                              <int> 17, 29, 8, 11, 12, 12, 41, 14,…\n",
      "$ initial_list_status_F                  <int> 1, 1, 1, 1, 1, 1, 1, 1, 1, 1, …\n",
      "$ initial_list_status_W                  <int> 0, 0, 0, 0, 0, 0, 0, 0, 0, 0, …\n",
      "$ application_type_INDIVIDUAL            <int> 1, 1, 1, 1, 1, 1, 1, 1, 1, 1, …\n",
      "$ application_type_JOINT                 <int> 0, 0, 0, 0, 0, 0, 0, 0, 0, 0, …\n",
      "$ compensation_of_employees              <int> 149, 149, 149, 149, 149, 159, …\n",
      "$ gross_operating_surplus                <int> 197, 197, 197, 197, 197, 198, …\n",
      "$ per_capita_real_gdp_by_state           <int> 442, 442, 442, 442, 442, 445, …\n",
      "$ quantity_indexes_for_real_gdp_by_state <int> 333, 333, 333, 333, 333, 335, …\n",
      "$ real_gdp_by_state                      <int> 309, 309, 309, 309, 309, 310, …\n",
      "$ subsidies                              <int> 6, 6, 6, 6, 6, 377, 377, 377, …\n",
      "$ taxes_on_production_and_imports        <int> 339, 339, 339, 339, 339, 4, 4,…\n",
      "$ regions_MIDWEST                        <int> 0, 0, 0, 0, 0, 0, 0, 0, 0, 0, …\n",
      "$ regions_NORTHEAST                      <int> 0, 0, 0, 0, 0, 0, 0, 0, 0, 0, …\n",
      "$ regions_SOUTH                          <int> 0, 0, 0, 0, 0, 0, 0, 0, 0, 0, …\n",
      "$ regions_WEST                           <int> 1, 1, 1, 1, 1, 1, 1, 1, 1, 1, …\n",
      "$ month                                  <int> 1, 6, 3, 3, 12, 12, 3, 11, 5, …\n",
      "$ default                                <lgl> TRUE, FALSE, FALSE, FALSE, FAL…\n",
      "$ returns                                <dbl> 1692.52, 1710.96, 2448.76, 206…\n"
     ]
    }
   ],
   "source": [
    "transformed2.1hot.df <- one_hot(as.data.table(transformed2.df))\n",
    "glimpse(transformed2.1hot.df)"
   ]
  },
  {
   "cell_type": "markdown",
   "metadata": {},
   "source": [
    "### 3.3) Train / Test split both versions"
   ]
  },
  {
   "cell_type": "markdown",
   "metadata": {},
   "source": [
    "Initialize Seed"
   ]
  },
  {
   "cell_type": "code",
   "execution_count": 8,
   "metadata": {},
   "outputs": [],
   "source": [
    "seedNum = 19\n",
    "set.seed(seedNum)"
   ]
  },
  {
   "cell_type": "markdown",
   "metadata": {},
   "source": [
    "Create partitions"
   ]
  },
  {
   "cell_type": "code",
   "execution_count": 9,
   "metadata": {},
   "outputs": [],
   "source": [
    "train.indx <- createDataPartition(y=transformed2.df$default, p=0.85, list=FALSE)\n",
    "train.1hot.df <- transformed2.1hot.df[train.indx,-1]\n",
    "test.1hot.df <- transformed2.1hot.df[-train.indx,-1]\n",
    "train.df <- transformed2.df[train.indx,-1]\n",
    "test.df <- transformed2.df[-train.indx,-1]"
   ]
  },
  {
   "cell_type": "markdown",
   "metadata": {},
   "source": [
    "### 3.4) Create sampled versions of both training datasets (for cross validation)"
   ]
  },
  {
   "cell_type": "markdown",
   "metadata": {},
   "source": [
    "Undersample train dataset for cross validation "
   ]
  },
  {
   "cell_type": "raw",
   "metadata": {},
   "source": [
    "train.samp.df <- downSample(x = train.df[, -26], y = as.factor(train.df$default))\n",
    "train.samp.df <- train.samp.df %>% rename(\"default\" = \"Class\")\n",
    "#train.samp.df$default <- as.logical(train.samp.df$default)\n",
    "table(train.samp.df$default)"
   ]
  },
  {
   "cell_type": "raw",
   "metadata": {},
   "source": [
    "train.samp.1hot.df <- downSample(x = train.1hot.df[, -48], y = as.factor(train.1hot.df$default))\n",
    "train.samp.1hot.df <- train.samp.1hot.df %>% rename(\"default\" = \"Class\") %>% mutate(default = as.logical(default)) \n",
    "#train.samp.1hot.df$default <- as.logical(train.samp.1hot.df$default)\n",
    "table(train.samp.1hot.df$default)"
   ]
  },
  {
   "cell_type": "code",
   "execution_count": 10,
   "metadata": {},
   "outputs": [],
   "source": [
    "train.samp.indx <- createDataPartition(y=train.df$default, p=0.15, list=FALSE)\n",
    "train.samp.df <- transformed2.1hot.df[train.samp.indx,-1]\n",
    "train.samp.1hot.df <- transformed2.1hot.df[train.samp.indx,-1]"
   ]
  },
  {
   "cell_type": "markdown",
   "metadata": {},
   "source": [
    "### 3.5) Save Datasets"
   ]
  },
  {
   "cell_type": "code",
   "execution_count": 12,
   "metadata": {},
   "outputs": [
    {
     "data": {
      "text/html": [
       "13000"
      ],
      "text/latex": [
       "13000"
      ],
      "text/markdown": [
       "13000"
      ],
      "text/plain": [
       "[1] 13000"
      ]
     },
     "metadata": {},
     "output_type": "display_data"
    }
   ],
   "source": [
    "write.csv(transformed2.df, file = \"transformed2.df.csv\")\n",
    "write.csv(transformed2.1hot.df, file = \"transformed2.1hot.df.csv\")\n",
    "write.csv(train.df, file = \"train.df.csv\")\n",
    "write.csv(train.samp.df, file = \"train.samp.df.csv\")\n",
    "write.csv(train.1hot.df, file = \"train.1hot.df.csv\")\n",
    "write.csv(train.samp.1hot.df, file = \"train.samp.1hot.df.csv\")\n",
    "write.csv(test.df, file = \"test.df.csv\")\n",
    "write.csv(test.1hot.df, file = \"test.1hot.df.csv\")"
   ]
  },
  {
   "cell_type": "code",
   "execution_count": null,
   "metadata": {},
   "outputs": [],
   "source": []
  }
 ],
 "metadata": {
  "kernelspec": {
   "display_name": "R",
   "language": "R",
   "name": "ir"
  },
  "language_info": {
   "codemirror_mode": "r",
   "file_extension": ".r",
   "mimetype": "text/x-r-source",
   "name": "R",
   "pygments_lexer": "r",
   "version": "3.5.1"
  }
 },
 "nbformat": 4,
 "nbformat_minor": 2
}
