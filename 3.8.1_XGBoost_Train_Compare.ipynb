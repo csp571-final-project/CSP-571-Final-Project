{
 "cells": [
  {
   "cell_type": "markdown",
   "metadata": {},
   "source": [
    "# 3.8.1 Monotonic XGBoost Model\n",
    "#### and comparison with non-monotonic model"
   ]
  },
  {
   "cell_type": "markdown",
   "metadata": {},
   "source": [
    "## 1) Load Required Libraries"
   ]
  },
  {
   "cell_type": "code",
   "execution_count": 1,
   "metadata": {},
   "outputs": [
    {
     "name": "stderr",
     "output_type": "stream",
     "text": [
      "\n",
      "Attaching package: ‘dplyr’\n",
      "\n",
      "The following objects are masked from ‘package:stats’:\n",
      "\n",
      "    filter, lag\n",
      "\n",
      "The following objects are masked from ‘package:base’:\n",
      "\n",
      "    intersect, setdiff, setequal, union\n",
      "\n",
      "Loaded ROSE 0.0-3\n",
      "\n",
      "\n",
      "Attaching package: ‘xgboost’\n",
      "\n",
      "The following object is masked from ‘package:dplyr’:\n",
      "\n",
      "    slice\n",
      "\n",
      "Loaded gbm 2.1.5\n",
      "Loading required package: lattice\n",
      "\n",
      "Attaching package: ‘data.table’\n",
      "\n",
      "The following objects are masked from ‘package:dplyr’:\n",
      "\n",
      "    between, first, last\n",
      "\n",
      "Type 'citation(\"pROC\")' for a citation.\n",
      "\n",
      "Attaching package: ‘pROC’\n",
      "\n",
      "The following objects are masked from ‘package:stats’:\n",
      "\n",
      "    cov, smooth, var\n",
      "\n",
      "\n",
      "Attaching package: ‘PRROC’\n",
      "\n",
      "The following object is masked from ‘package:ROSE’:\n",
      "\n",
      "    roc.curve\n",
      "\n",
      "\n",
      "Attaching package: ‘MLmetrics’\n",
      "\n",
      "The following objects are masked from ‘package:caret’:\n",
      "\n",
      "    MAE, RMSE\n",
      "\n",
      "The following object is masked from ‘package:base’:\n",
      "\n",
      "    Recall\n",
      "\n"
     ]
    }
   ],
   "source": [
    "library(\"dplyr\")\n",
    "library(\"ggplot2\")\n",
    "library(\"ROSE\")\n",
    "library(\"xgboost\")\n",
    "library(\"gbm\")\n",
    "library(\"Matrix\")\n",
    "library(\"pdp\") \n",
    "library(\"caret\")\n",
    "library(\"mltools\")\n",
    "library(\"data.table\")\n",
    "library(\"pROC\")\n",
    "library(\"PRROC\")\n",
    "library(\"rBayesianOptimization\")\n",
    "library(\"DiagrammeR\")\n",
    "library(\"MLmetrics\")"
   ]
  },
  {
   "cell_type": "markdown",
   "metadata": {},
   "source": [
    "## 2) Load Data"
   ]
  },
  {
   "cell_type": "code",
   "execution_count": 2,
   "metadata": {},
   "outputs": [
    {
     "name": "stdout",
     "output_type": "stream",
     "text": [
      "Observations: 884,570\n",
      "Variables: 27\n",
      "$ X                                      <int> 1, 2, 3, 4, 5, 6, 7, 8, 9, 10,…\n",
      "$ loan_amnt                              <int> 5600, 7500, 12200, 11200, 2500…\n",
      "$ term                                   <fct>  36 months,  36 months,  36 mo…\n",
      "$ int_rate                               <dbl> 18.04, 13.87, 12.29, 11.34, 15…\n",
      "$ installment                            <dbl> 202.57, 255.86, 406.91, 368.48…\n",
      "$ grade                                  <fct> G, D, C, C, E, C, C, A, B, C, …\n",
      "$ home_ownership                         <fct> OWN, MORTGAGE, OWN, RENT, MORT…\n",
      "$ annual_inc                             <dbl> 0.6677529, 0.7174611, 0.661276…\n",
      "$ verification_status                    <fct> Not Verified, Not Verified, No…\n",
      "$ pymnt_plan                             <fct> n, n, n, n, n, n, n, n, n, n, …\n",
      "$ purpose                                <fct> home_improvement, Others, home…\n",
      "$ dti                                    <dbl> 25.84, 20.95, 9.31, 6.92, 6.82…\n",
      "$ open_acc                               <int> 11, 15, 4, 9, 5, 9, 16, 6, 7, …\n",
      "$ pub_rec                                <int> 0, 0, 0, 0, 0, 0, 0, 0, 0, 0, …\n",
      "$ total_acc                              <int> 17, 29, 8, 11, 12, 12, 41, 14,…\n",
      "$ initial_list_status                    <fct> f, f, f, f, f, f, f, f, f, f, …\n",
      "$ application_type                       <fct> INDIVIDUAL, INDIVIDUAL, INDIVI…\n",
      "$ Compensation.of.employees              <int> 149, 149, 149, 149, 149, 159, …\n",
      "$ Gross.operating.surplus                <int> 197, 197, 197, 197, 197, 198, …\n",
      "$ Per.capita.real.GDP.by.state           <int> 442, 442, 442, 442, 442, 445, …\n",
      "$ Quantity.indexes.for.real.GDP.by.state <int> 333, 333, 333, 333, 333, 335, …\n",
      "$ Real.GDP.by.state                      <int> 309, 309, 309, 309, 309, 310, …\n",
      "$ Subsidies                              <int> 6, 6, 6, 6, 6, 377, 377, 377, …\n",
      "$ Taxes.on.production.and.imports        <int> 339, 339, 339, 339, 339, 4, 4,…\n",
      "$ regions                                <fct> West, West, West, West, West, …\n",
      "$ month                                  <int> 1, 6, 3, 3, 12, 12, 3, 11, 5, …\n",
      "$ default                                <lgl> TRUE, FALSE, FALSE, FALSE, FAL…\n"
     ]
    }
   ],
   "source": [
    "transformed2.df <- read.csv(file=\"TransfromedData2.csv\", header=TRUE, sep=\",\")\n",
    "glimpse(transformed2.df)"
   ]
  },
  {
   "cell_type": "markdown",
   "metadata": {},
   "source": [
    "## 3) Transform Data for Modelling"
   ]
  },
  {
   "cell_type": "markdown",
   "metadata": {},
   "source": [
    "### 3.1) Basic Transforms"
   ]
  },
  {
   "cell_type": "markdown",
   "metadata": {},
   "source": [
    "Convert all factor levels to uppercase and replace spaces for underscores to make them more readable"
   ]
  },
  {
   "cell_type": "code",
   "execution_count": 3,
   "metadata": {},
   "outputs": [],
   "source": [
    "transformed2.df <- transformed2.df %>% mutate(term = factor(term, labels = c('36MO', '60MO')),\n",
    "        verification_status = factor(verification_status, labels = c('NOT_VERIFIED', 'SOURCE_VERIFIED', 'VERIFIED')),\n",
    "        purpose = factor(purpose, labels = c('CREDIT_CARD', 'DEBT_CONSOLIDATION', 'HOME_IMPROVEMENT', 'MAJOR_PURCHASE', 'OTHERS', 'SMALL_BUSINESS')),\n",
    "        initial_list_status = factor(initial_list_status, labels = c('F', 'W')),\n",
    "        regions = factor(regions, labels = c('MIDWEST', 'NORTHEAST', 'SOUTH', 'WEST')),\n",
    "        pymnt_plan = factor(pymnt_plan, labels = c(\"N\", \"Y\")))"
   ]
  },
  {
   "cell_type": "markdown",
   "metadata": {},
   "source": [
    "Rename external source columns for readability and ease of programmatic reference"
   ]
  },
  {
   "cell_type": "code",
   "execution_count": 4,
   "metadata": {},
   "outputs": [],
   "source": [
    "transformed2.df <- transformed2.df %>% rename(\"compensation_of_employees\" = \"Compensation.of.employees\", \n",
    "                           \"gross_operating_surplus\" = \"Gross.operating.surplus\",\n",
    "                           \"per_capita_real_gdp_by_state\" = \"Per.capita.real.GDP.by.state\",\n",
    "                           \"quantity_indexes_for_real_gdp_by_state\" = \"Quantity.indexes.for.real.GDP.by.state\",\n",
    "                           \"real_gdp_by_state\" = \"Real.GDP.by.state\",\n",
    "                           \"subsidies\" = \"Subsidies\",\n",
    "                           \"taxes_on_production_and_imports\" = \"Taxes.on.production.and.imports\")"
   ]
  },
  {
   "cell_type": "markdown",
   "metadata": {},
   "source": [
    "Add a `returns` with the amount expected to be gained from the loan from interests alone"
   ]
  },
  {
   "cell_type": "code",
   "execution_count": 5,
   "metadata": {},
   "outputs": [],
   "source": [
    "transformed2.df <- transformed2.df %>% mutate(returns = (installment * ifelse(term=='36MO', 36, 60)) - loan_amnt)"
   ]
  },
  {
   "cell_type": "markdown",
   "metadata": {},
   "source": [
    "Glimpse newly transformed dataframe"
   ]
  },
  {
   "cell_type": "code",
   "execution_count": 6,
   "metadata": {},
   "outputs": [
    {
     "name": "stdout",
     "output_type": "stream",
     "text": [
      "Observations: 884,570\n",
      "Variables: 28\n",
      "$ X                                      <int> 1, 2, 3, 4, 5, 6, 7, 8, 9, 10,…\n",
      "$ loan_amnt                              <int> 5600, 7500, 12200, 11200, 2500…\n",
      "$ term                                   <fct> 36MO, 36MO, 36MO, 36MO, 36MO, …\n",
      "$ int_rate                               <dbl> 18.04, 13.87, 12.29, 11.34, 15…\n",
      "$ installment                            <dbl> 202.57, 255.86, 406.91, 368.48…\n",
      "$ grade                                  <fct> G, D, C, C, E, C, C, A, B, C, …\n",
      "$ home_ownership                         <fct> OWN, MORTGAGE, OWN, RENT, MORT…\n",
      "$ annual_inc                             <dbl> 0.6677529, 0.7174611, 0.661276…\n",
      "$ verification_status                    <fct> NOT_VERIFIED, NOT_VERIFIED, NO…\n",
      "$ pymnt_plan                             <fct> N, N, N, N, N, N, N, N, N, N, …\n",
      "$ purpose                                <fct> HOME_IMPROVEMENT, OTHERS, HOME…\n",
      "$ dti                                    <dbl> 25.84, 20.95, 9.31, 6.92, 6.82…\n",
      "$ open_acc                               <int> 11, 15, 4, 9, 5, 9, 16, 6, 7, …\n",
      "$ pub_rec                                <int> 0, 0, 0, 0, 0, 0, 0, 0, 0, 0, …\n",
      "$ total_acc                              <int> 17, 29, 8, 11, 12, 12, 41, 14,…\n",
      "$ initial_list_status                    <fct> F, F, F, F, F, F, F, F, F, F, …\n",
      "$ application_type                       <fct> INDIVIDUAL, INDIVIDUAL, INDIVI…\n",
      "$ compensation_of_employees              <int> 149, 149, 149, 149, 149, 159, …\n",
      "$ gross_operating_surplus                <int> 197, 197, 197, 197, 197, 198, …\n",
      "$ per_capita_real_gdp_by_state           <int> 442, 442, 442, 442, 442, 445, …\n",
      "$ quantity_indexes_for_real_gdp_by_state <int> 333, 333, 333, 333, 333, 335, …\n",
      "$ real_gdp_by_state                      <int> 309, 309, 309, 309, 309, 310, …\n",
      "$ subsidies                              <int> 6, 6, 6, 6, 6, 377, 377, 377, …\n",
      "$ taxes_on_production_and_imports        <int> 339, 339, 339, 339, 339, 4, 4,…\n",
      "$ regions                                <fct> WEST, WEST, WEST, WEST, WEST, …\n",
      "$ month                                  <int> 1, 6, 3, 3, 12, 12, 3, 11, 5, …\n",
      "$ default                                <lgl> TRUE, FALSE, FALSE, FALSE, FAL…\n",
      "$ returns                                <dbl> 1692.52, 1710.96, 2448.76, 206…\n"
     ]
    }
   ],
   "source": [
    "glimpse(transformed2.df)"
   ]
  },
  {
   "cell_type": "markdown",
   "metadata": {},
   "source": [
    "### 3.2) One-hot encoded version (for monotonic constraints)"
   ]
  },
  {
   "cell_type": "code",
   "execution_count": 7,
   "metadata": {},
   "outputs": [
    {
     "name": "stdout",
     "output_type": "stream",
     "text": [
      "Observations: 884,570\n",
      "Variables: 50\n",
      "$ X                                      <int> 1, 2, 3, 4, 5, 6, 7, 8, 9, 10,…\n",
      "$ loan_amnt                              <int> 5600, 7500, 12200, 11200, 2500…\n",
      "$ term_36MO                              <int> 1, 1, 1, 1, 1, 1, 1, 1, 1, 1, …\n",
      "$ term_60MO                              <int> 0, 0, 0, 0, 0, 0, 0, 0, 0, 0, …\n",
      "$ int_rate                               <dbl> 18.04, 13.87, 12.29, 11.34, 15…\n",
      "$ installment                            <dbl> 202.57, 255.86, 406.91, 368.48…\n",
      "$ grade_A                                <int> 0, 0, 0, 0, 0, 0, 0, 1, 0, 0, …\n",
      "$ grade_B                                <int> 0, 0, 0, 0, 0, 0, 0, 0, 1, 0, …\n",
      "$ grade_C                                <int> 0, 0, 1, 1, 0, 1, 1, 0, 0, 1, …\n",
      "$ grade_D                                <int> 0, 1, 0, 0, 0, 0, 0, 0, 0, 0, …\n",
      "$ grade_E                                <int> 0, 0, 0, 0, 1, 0, 0, 0, 0, 0, …\n",
      "$ grade_F                                <int> 0, 0, 0, 0, 0, 0, 0, 0, 0, 0, …\n",
      "$ grade_G                                <int> 1, 0, 0, 0, 0, 0, 0, 0, 0, 0, …\n",
      "$ home_ownership_MORTGAGE                <int> 0, 1, 0, 0, 1, 0, 1, 1, 1, 1, …\n",
      "$ home_ownership_OWN                     <int> 1, 0, 1, 0, 0, 0, 0, 0, 0, 0, …\n",
      "$ home_ownership_RENT                    <int> 0, 0, 0, 1, 0, 1, 0, 0, 0, 0, …\n",
      "$ annual_inc                             <dbl> 0.6677529, 0.7174611, 0.661276…\n",
      "$ verification_status_NOT_VERIFIED       <int> 1, 1, 1, 1, 0, 1, 1, 1, 1, 0, …\n",
      "$ verification_status_SOURCE_VERIFIED    <int> 0, 0, 0, 0, 0, 0, 0, 0, 0, 0, …\n",
      "$ verification_status_VERIFIED           <int> 0, 0, 0, 0, 1, 0, 0, 0, 0, 1, …\n",
      "$ pymnt_plan_N                           <int> 1, 1, 1, 1, 1, 1, 1, 1, 1, 1, …\n",
      "$ pymnt_plan_Y                           <int> 0, 0, 0, 0, 0, 0, 0, 0, 0, 0, …\n",
      "$ purpose_CREDIT_CARD                    <int> 0, 0, 0, 0, 0, 0, 0, 1, 0, 0, …\n",
      "$ purpose_DEBT_CONSOLIDATION             <int> 0, 0, 0, 1, 0, 0, 0, 0, 1, 0, …\n",
      "$ purpose_HOME_IMPROVEMENT               <int> 1, 0, 1, 0, 0, 0, 0, 0, 0, 0, …\n",
      "$ purpose_MAJOR_PURCHASE                 <int> 0, 0, 0, 0, 0, 0, 0, 0, 0, 0, …\n",
      "$ purpose_OTHERS                         <int> 0, 1, 0, 0, 0, 1, 0, 0, 0, 0, …\n",
      "$ purpose_SMALL_BUSINESS                 <int> 0, 0, 0, 0, 1, 0, 1, 0, 0, 1, …\n",
      "$ dti                                    <dbl> 25.84, 20.95, 9.31, 6.92, 6.82…\n",
      "$ open_acc                               <int> 11, 15, 4, 9, 5, 9, 16, 6, 7, …\n",
      "$ pub_rec                                <int> 0, 0, 0, 0, 0, 0, 0, 0, 0, 0, …\n",
      "$ total_acc                              <int> 17, 29, 8, 11, 12, 12, 41, 14,…\n",
      "$ initial_list_status_F                  <int> 1, 1, 1, 1, 1, 1, 1, 1, 1, 1, …\n",
      "$ initial_list_status_W                  <int> 0, 0, 0, 0, 0, 0, 0, 0, 0, 0, …\n",
      "$ application_type_INDIVIDUAL            <int> 1, 1, 1, 1, 1, 1, 1, 1, 1, 1, …\n",
      "$ application_type_JOINT                 <int> 0, 0, 0, 0, 0, 0, 0, 0, 0, 0, …\n",
      "$ compensation_of_employees              <int> 149, 149, 149, 149, 149, 159, …\n",
      "$ gross_operating_surplus                <int> 197, 197, 197, 197, 197, 198, …\n",
      "$ per_capita_real_gdp_by_state           <int> 442, 442, 442, 442, 442, 445, …\n",
      "$ quantity_indexes_for_real_gdp_by_state <int> 333, 333, 333, 333, 333, 335, …\n",
      "$ real_gdp_by_state                      <int> 309, 309, 309, 309, 309, 310, …\n",
      "$ subsidies                              <int> 6, 6, 6, 6, 6, 377, 377, 377, …\n",
      "$ taxes_on_production_and_imports        <int> 339, 339, 339, 339, 339, 4, 4,…\n",
      "$ regions_MIDWEST                        <int> 0, 0, 0, 0, 0, 0, 0, 0, 0, 0, …\n",
      "$ regions_NORTHEAST                      <int> 0, 0, 0, 0, 0, 0, 0, 0, 0, 0, …\n",
      "$ regions_SOUTH                          <int> 0, 0, 0, 0, 0, 0, 0, 0, 0, 0, …\n",
      "$ regions_WEST                           <int> 1, 1, 1, 1, 1, 1, 1, 1, 1, 1, …\n",
      "$ month                                  <int> 1, 6, 3, 3, 12, 12, 3, 11, 5, …\n",
      "$ default                                <lgl> TRUE, FALSE, FALSE, FALSE, FAL…\n",
      "$ returns                                <dbl> 1692.52, 1710.96, 2448.76, 206…\n"
     ]
    }
   ],
   "source": [
    "transformed2.1hot.df <- one_hot(as.data.table(transformed2.df))\n",
    "glimpse(transformed2.1hot.df)"
   ]
  },
  {
   "cell_type": "markdown",
   "metadata": {},
   "source": [
    "### 3.3) Train / Test split both versions"
   ]
  },
  {
   "cell_type": "markdown",
   "metadata": {},
   "source": [
    "Initialize Seed"
   ]
  },
  {
   "cell_type": "code",
   "execution_count": 8,
   "metadata": {},
   "outputs": [],
   "source": [
    "seedNum = 19\n",
    "set.seed(seedNum)"
   ]
  },
  {
   "cell_type": "markdown",
   "metadata": {},
   "source": [
    "Create partitions"
   ]
  },
  {
   "cell_type": "code",
   "execution_count": 9,
   "metadata": {},
   "outputs": [],
   "source": [
    "train.indx <- createDataPartition(y=transformed2.df$default, p=0.85, list=FALSE)\n",
    "train.1hot.df <- transformed2.1hot.df[train.indx,-1]\n",
    "test.1hot.df <- transformed2.1hot.df[-train.indx,-1]\n",
    "train.df <- transformed2.df[train.indx,-1]\n",
    "test.df <- transformed2.df[-train.indx,-1]"
   ]
  },
  {
   "cell_type": "markdown",
   "metadata": {},
   "source": [
    "### 3.4) Create sampled versions of both training datasets (for cross validation)"
   ]
  },
  {
   "cell_type": "markdown",
   "metadata": {},
   "source": [
    "Undersample train dataset for cross validation "
   ]
  },
  {
   "cell_type": "raw",
   "metadata": {},
   "source": [
    "train.samp.df <- downSample(x = train.df[, -26], y = as.factor(train.df$default))\n",
    "train.samp.df <- train.samp.df %>% rename(\"default\" = \"Class\")\n",
    "#train.samp.df$default <- as.logical(train.samp.df$default)\n",
    "table(train.samp.df$default)"
   ]
  },
  {
   "cell_type": "raw",
   "metadata": {},
   "source": [
    "train.samp.1hot.df <- downSample(x = train.1hot.df[, -48], y = as.factor(train.1hot.df$default))\n",
    "train.samp.1hot.df <- train.samp.1hot.df %>% rename(\"default\" = \"Class\") %>% mutate(default = as.logical(default)) \n",
    "#train.samp.1hot.df$default <- as.logical(train.samp.1hot.df$default)\n",
    "table(train.samp.1hot.df$default)"
   ]
  },
  {
   "cell_type": "code",
   "execution_count": 10,
   "metadata": {},
   "outputs": [],
   "source": [
    "train.samp.indx <- createDataPartition(y=train.df$default, p=0.15, list=FALSE)\n",
    "train.samp.df <- transformed2.1hot.df[train.samp.indx,-1]\n",
    "train.samp.1hot.df <- transformed2.1hot.df[train.samp.indx,-1]"
   ]
  },
  {
   "cell_type": "markdown",
   "metadata": {},
   "source": [
    "### 3.4) Calculate Sampled Medians (for Cost Sensitive Learning Evaluation )"
   ]
  },
  {
   "cell_type": "markdown",
   "metadata": {},
   "source": [
    "Calculate mean sample returns"
   ]
  },
  {
   "cell_type": "code",
   "execution_count": 11,
   "metadata": {},
   "outputs": [
    {
     "data": {
      "text/html": [
       "2786.8"
      ],
      "text/latex": [
       "2786.8"
      ],
      "text/markdown": [
       "2786.8"
      ],
      "text/plain": [
       "[1] 2786.8"
      ]
     },
     "metadata": {},
     "output_type": "display_data"
    }
   ],
   "source": [
    "mreturns <- median(train.1hot.df$returns)\n",
    "mreturns"
   ]
  },
  {
   "cell_type": "markdown",
   "metadata": {},
   "source": [
    "Median sample loan amount"
   ]
  },
  {
   "cell_type": "code",
   "execution_count": 12,
   "metadata": {},
   "outputs": [
    {
     "data": {
      "text/html": [
       "13000"
      ],
      "text/latex": [
       "13000"
      ],
      "text/markdown": [
       "13000"
      ],
      "text/plain": [
       "[1] 13000"
      ]
     },
     "metadata": {},
     "output_type": "display_data"
    }
   ],
   "source": [
    "mloan_amnt <- median(train.1hot.df$loan_amnt)\n",
    "mloan_amnt"
   ]
  },
  {
   "cell_type": "markdown",
   "metadata": {},
   "source": [
    "### 3.6) Generate Y/X Sets for all versions"
   ]
  },
  {
   "cell_type": "markdown",
   "metadata": {},
   "source": [
    "Remove returns from all training set to"
   ]
  },
  {
   "cell_type": "code",
   "execution_count": 13,
   "metadata": {},
   "outputs": [],
   "source": [
    "y_train <- subset(train.1hot.df, select=default)\n",
    "y_train.samp <- subset(train.samp.1hot.df, select=default)\n",
    "x_train <- subset(train.df, select=-c(default, returns))\n",
    "x_train.samp <- subset(train.samp.df, select=-c(default, returns))\n",
    "y_test <- subset(test.1hot.df, select=default)\n",
    "x_test <- subset(test.df, select=-c(default, returns))\n",
    "x_train.1hot <- subset(train.1hot.df, select=-c(default, returns))\n",
    "x_train.samp.1hot <- subset(train.samp.1hot.df, select=-c(default, returns))\n",
    "x_test.1hot <- subset(test.1hot.df, select=-c(default, returns))"
   ]
  },
  {
   "cell_type": "markdown",
   "metadata": {},
   "source": [
    "### 3.7) Create Constraint Matrix"
   ]
  },
  {
   "cell_type": "markdown",
   "metadata": {},
   "source": [
    "**Calculate the Correlation Direction Between Response and Predictors**"
   ]
  },
  {
   "cell_type": "code",
   "execution_count": 14,
   "metadata": {},
   "outputs": [],
   "source": [
    "mono <- cor(y_train, x_train.1hot, method = 'spearman', use=\"pairwise.complete.obs\") / abs(cor(y_train, x_train.1hot, method = 'spearman', use=\"pairwise.complete.obs\"))"
   ]
  },
  {
   "cell_type": "markdown",
   "metadata": {},
   "source": [
    "Take a look at the constraints"
   ]
  },
  {
   "cell_type": "code",
   "execution_count": 15,
   "metadata": {},
   "outputs": [
    {
     "name": "stdout",
     "output_type": "stream",
     "text": [
      "Observations: 1\n",
      "Variables: 47\n",
      "$ loan_amnt                              <dbl> -1\n",
      "$ term_36MO                              <dbl> -1\n",
      "$ term_60MO                              <dbl> 1\n",
      "$ int_rate                               <dbl> 1\n",
      "$ installment                            <dbl> 1\n",
      "$ grade_A                                <dbl> -1\n",
      "$ grade_B                                <dbl> -1\n",
      "$ grade_C                                <dbl> 1\n",
      "$ grade_D                                <dbl> 1\n",
      "$ grade_E                                <dbl> 1\n",
      "$ grade_F                                <dbl> 1\n",
      "$ grade_G                                <dbl> 1\n",
      "$ home_ownership_MORTGAGE                <dbl> -1\n",
      "$ home_ownership_OWN                     <dbl> -1\n",
      "$ home_ownership_RENT                    <dbl> 1\n",
      "$ annual_inc                             <dbl> -1\n",
      "$ verification_status_NOT_VERIFIED       <dbl> -1\n",
      "$ verification_status_SOURCE_VERIFIED    <dbl> -1\n",
      "$ verification_status_VERIFIED           <dbl> 1\n",
      "$ pymnt_plan_N                           <dbl> 1\n",
      "$ pymnt_plan_Y                           <dbl> -1\n",
      "$ purpose_CREDIT_CARD                    <dbl> -1\n",
      "$ purpose_DEBT_CONSOLIDATION             <dbl> 1\n",
      "$ purpose_HOME_IMPROVEMENT               <dbl> -1\n",
      "$ purpose_MAJOR_PURCHASE                 <dbl> -1\n",
      "$ purpose_OTHERS                         <dbl> 1\n",
      "$ purpose_SMALL_BUSINESS                 <dbl> 1\n",
      "$ dti                                    <dbl> 1\n",
      "$ open_acc                               <dbl> -1\n",
      "$ pub_rec                                <dbl> -1\n",
      "$ total_acc                              <dbl> -1\n",
      "$ initial_list_status_F                  <dbl> 1\n",
      "$ initial_list_status_W                  <dbl> -1\n",
      "$ application_type_INDIVIDUAL            <dbl> 1\n",
      "$ application_type_JOINT                 <dbl> -1\n",
      "$ compensation_of_employees              <dbl> -1\n",
      "$ gross_operating_surplus                <dbl> -1\n",
      "$ per_capita_real_gdp_by_state           <dbl> -1\n",
      "$ quantity_indexes_for_real_gdp_by_state <dbl> -1\n",
      "$ real_gdp_by_state                      <dbl> -1\n",
      "$ subsidies                              <dbl> 1\n",
      "$ taxes_on_production_and_imports        <dbl> -1\n",
      "$ regions_MIDWEST                        <dbl> -1\n",
      "$ regions_NORTHEAST                      <dbl> 1\n",
      "$ regions_SOUTH                          <dbl> -1\n",
      "$ regions_WEST                           <dbl> 1\n",
      "$ month                                  <dbl> -1\n"
     ]
    }
   ],
   "source": [
    "glimpse(as.data.frame(mono))"
   ]
  },
  {
   "cell_type": "markdown",
   "metadata": {},
   "source": [
    "### 3.8) Create DMatrixes"
   ]
  },
  {
   "cell_type": "code",
   "execution_count": 19,
   "metadata": {},
   "outputs": [],
   "source": [
    "dtrain.1hot <- xgb.DMatrix(data = data.matrix(x_train.1hot), label = data.matrix(y_train))\n",
    "dtrain.samp.1hot <- xgb.DMatrix(data = data.matrix(x_train.samp.1hot), label = data.matrix(y_train.samp))\n",
    "dtrain.samp <- xgb.DMatrix(data = data.matrix(x_train.samp), label = data.matrix(y_train.samp))\n",
    "dtrain <- xgb.DMatrix(data = data.matrix(x_train), label = data.matrix(y_train))"
   ]
  },
  {
   "cell_type": "markdown",
   "metadata": {},
   "source": [
    "### 3.9) Create Folds on Sampling"
   ]
  },
  {
   "cell_type": "code",
   "execution_count": 16,
   "metadata": {},
   "outputs": [],
   "source": [
    "cv_folds <- KFold(y_train.samp$default, nfolds = 5, stratified = FALSE, seed=seedNum)"
   ]
  },
  {
   "cell_type": "markdown",
   "metadata": {},
   "source": [
    "## 4) Modelling"
   ]
  },
  {
   "cell_type": "markdown",
   "metadata": {},
   "source": [
    "### 4.1) Monotonic Constrained XGBoost"
   ]
  },
  {
   "cell_type": "markdown",
   "metadata": {},
   "source": [
    "#### 4.1.1) Perform Hyperparameter Tuning with Bayesian Optimization and Cross Validation on the Training Data Sample\n",
    "\n",
    "Optimize the PR AUC"
   ]
  },
  {
   "cell_type": "code",
   "execution_count": 29,
   "metadata": {},
   "outputs": [],
   "source": [
    "xgb.mono.cv.bayes <- function(nround, max_depth, min_child_weight, eta, gamma) { # subsample, colsample_bytree, max_delta_step\n",
    "    xgb.getLift <- function(preds, dtrain) {\n",
    "        labels <- getinfo(dtrain, \"label\")\n",
    "        lift <- getLift(preds, labels, thresholds[i])\n",
    "        return(list(metric = \"Lift\", value = lift))\n",
    "    }\n",
    "    params <- list(\n",
    "                    booster = \"gbtree\", #\"gblinear\", \"dart\"\n",
    "                    max_depth = max_depth,\n",
    "                    min_child_weight = min_child_weight,\n",
    "                    eta = eta,\n",
    "                    gamma = gamma,\n",
    "                    subsample = 0.9, #subsample, \n",
    "                    colsample_bytree = 0.8, #colsample_bytree,\n",
    "                    #max_delta_step = max_delta_step,\n",
    "                    #lambda = 1, \n",
    "                    #alpha = 0,\n",
    "                    objective = \"binary:logistic\",\n",
    "                    eval_metric = \"aucpr\", \n",
    "                    monotone_constraints = mono\n",
    "                 )\n",
    "    cv <- xgb.cv(params = params, data = dtrain.samp.1hot, folds = cv_folds, nrounds = 300, \n",
    "                 early_stopping_rounds = 20, maximize = TRUE, verbose = TRUE, print_every_n=20)\n",
    "    return(list(Score = cv$evaluation_log$test_aucpr_mean[cv$best_iteration], Pred=cv$best_iteration))\n",
    "}"
   ]
  },
  {
   "cell_type": "code",
   "execution_count": 30,
   "metadata": {},
   "outputs": [
    {
     "name": "stdout",
     "output_type": "stream",
     "text": [
      "\n",
      " Best Parameters Found: \n",
      "Round = 14\tmax_depth = 9.0000\tmin_child_weight = 3.0000\teta = 0.1235\tgamma = 0.0600\tValue = 0.1696 \n",
      "Time difference of 25.23762 mins\n"
     ]
    }
   ],
   "source": [
    "stime <- Sys.time()\n",
    "xgb.mono.cv.bayes.opt <- BayesianOptimization(xgb.mono.cv.bayes,\n",
    "                              bounds = list(max_depth = c(3L, 15L), \n",
    "                                            min_child_weight = c(1L, 7L),\n",
    "                                            eta=c(0.05, 0.3),\n",
    "                                            gamma = c(0.0, 0.4) #,\n",
    "                                            #subsample = c(0.6, 0.9),\n",
    "                                            #colsample_bytree=c(0.3, 0.7),\n",
    "                                            #max_delta_step=c(1L, 10L)\n",
    "                                        ),\n",
    "                              init_grid_dt = NULL, init_points = 10, n_iter = 10,\n",
    "                              acq = \"ucb\", kappa = 2.576, eps = 0.0, verbose = FALSE)\n",
    "print(Sys.time() - stime)"
   ]
  },
  {
   "cell_type": "markdown",
   "metadata": {},
   "source": [
    "**Bayesian Optimization History**"
   ]
  },
  {
   "cell_type": "code",
   "execution_count": 31,
   "metadata": {},
   "outputs": [
    {
     "data": {
      "text/html": [
       "<table>\n",
       "<thead><tr><th scope=col>Round</th><th scope=col>max_depth</th><th scope=col>min_child_weight</th><th scope=col>eta</th><th scope=col>gamma</th><th scope=col>Value</th></tr></thead>\n",
       "<tbody>\n",
       "\t<tr><td> 1         </td><td> 8         </td><td>4          </td><td>0.07271464 </td><td>0.265945908</td><td>0.1687354  </td></tr>\n",
       "\t<tr><td> 2         </td><td> 7         </td><td>4          </td><td>0.07589280 </td><td>0.046489001</td><td>0.1691880  </td></tr>\n",
       "\t<tr><td> 3         </td><td> 9         </td><td>3          </td><td>0.05422341 </td><td>0.102699775</td><td>0.1691848  </td></tr>\n",
       "\t<tr><td> 4         </td><td>11         </td><td>6          </td><td>0.05380360 </td><td>0.162892138</td><td>0.1682702  </td></tr>\n",
       "\t<tr><td> 5         </td><td>10         </td><td>5          </td><td>0.07208863 </td><td>0.034798493</td><td>0.1681436  </td></tr>\n",
       "\t<tr><td> 6         </td><td> 5         </td><td>6          </td><td>0.13791058 </td><td>0.314659841</td><td>0.1686334  </td></tr>\n",
       "\t<tr><td> 7         </td><td>13         </td><td>4          </td><td>0.29243773 </td><td>0.094681766</td><td>0.1682176  </td></tr>\n",
       "\t<tr><td> 8         </td><td>13         </td><td>5          </td><td>0.18768913 </td><td>0.346128870</td><td>0.1674650  </td></tr>\n",
       "\t<tr><td> 9         </td><td>12         </td><td>2          </td><td>0.10547161 </td><td>0.160181972</td><td>0.1687480  </td></tr>\n",
       "\t<tr><td>10         </td><td>13         </td><td>6          </td><td>0.29918105 </td><td>0.008326368</td><td>0.1682072  </td></tr>\n",
       "\t<tr><td>11         </td><td> 3         </td><td>1          </td><td>0.19268097 </td><td>0.063514923</td><td>0.1684440  </td></tr>\n",
       "\t<tr><td>12         </td><td> 4         </td><td>3          </td><td>0.06245319 </td><td>0.001119396</td><td>0.1679032  </td></tr>\n",
       "\t<tr><td>13         </td><td> 7         </td><td>4          </td><td>0.19237326 </td><td>0.024149042</td><td>0.1675152  </td></tr>\n",
       "\t<tr><td>14         </td><td> 9         </td><td>3          </td><td>0.12353491 </td><td>0.060035322</td><td>0.1696068  </td></tr>\n",
       "\t<tr><td>15         </td><td> 9         </td><td>3          </td><td>0.10369390 </td><td>0.124774687</td><td>0.1688382  </td></tr>\n",
       "\t<tr><td>16         </td><td> 9         </td><td>3          </td><td>0.14113153 </td><td>0.140110828</td><td>0.1683618  </td></tr>\n",
       "\t<tr><td>17         </td><td>11         </td><td>2          </td><td>0.14466151 </td><td>0.056467316</td><td>0.1688268  </td></tr>\n",
       "\t<tr><td>18         </td><td> 5         </td><td>4          </td><td>0.11294796 </td><td>0.070364056</td><td>0.1684786  </td></tr>\n",
       "\t<tr><td>19         </td><td>11         </td><td>4          </td><td>0.14400307 </td><td>0.040822134</td><td>0.1690674  </td></tr>\n",
       "\t<tr><td>20         </td><td> 9         </td><td>2          </td><td>0.08755778 </td><td>0.019904887</td><td>0.1686334  </td></tr>\n",
       "</tbody>\n",
       "</table>\n"
      ],
      "text/latex": [
       "\\begin{tabular}{r|llllll}\n",
       " Round & max\\_depth & min\\_child\\_weight & eta & gamma & Value\\\\\n",
       "\\hline\n",
       "\t  1          &  8          & 4           & 0.07271464  & 0.265945908 & 0.1687354  \\\\\n",
       "\t  2          &  7          & 4           & 0.07589280  & 0.046489001 & 0.1691880  \\\\\n",
       "\t  3          &  9          & 3           & 0.05422341  & 0.102699775 & 0.1691848  \\\\\n",
       "\t  4          & 11          & 6           & 0.05380360  & 0.162892138 & 0.1682702  \\\\\n",
       "\t  5          & 10          & 5           & 0.07208863  & 0.034798493 & 0.1681436  \\\\\n",
       "\t  6          &  5          & 6           & 0.13791058  & 0.314659841 & 0.1686334  \\\\\n",
       "\t  7          & 13          & 4           & 0.29243773  & 0.094681766 & 0.1682176  \\\\\n",
       "\t  8          & 13          & 5           & 0.18768913  & 0.346128870 & 0.1674650  \\\\\n",
       "\t  9          & 12          & 2           & 0.10547161  & 0.160181972 & 0.1687480  \\\\\n",
       "\t 10          & 13          & 6           & 0.29918105  & 0.008326368 & 0.1682072  \\\\\n",
       "\t 11          &  3          & 1           & 0.19268097  & 0.063514923 & 0.1684440  \\\\\n",
       "\t 12          &  4          & 3           & 0.06245319  & 0.001119396 & 0.1679032  \\\\\n",
       "\t 13          &  7          & 4           & 0.19237326  & 0.024149042 & 0.1675152  \\\\\n",
       "\t 14          &  9          & 3           & 0.12353491  & 0.060035322 & 0.1696068  \\\\\n",
       "\t 15          &  9          & 3           & 0.10369390  & 0.124774687 & 0.1688382  \\\\\n",
       "\t 16          &  9          & 3           & 0.14113153  & 0.140110828 & 0.1683618  \\\\\n",
       "\t 17          & 11          & 2           & 0.14466151  & 0.056467316 & 0.1688268  \\\\\n",
       "\t 18          &  5          & 4           & 0.11294796  & 0.070364056 & 0.1684786  \\\\\n",
       "\t 19          & 11          & 4           & 0.14400307  & 0.040822134 & 0.1690674  \\\\\n",
       "\t 20          &  9          & 2           & 0.08755778  & 0.019904887 & 0.1686334  \\\\\n",
       "\\end{tabular}\n"
      ],
      "text/markdown": [
       "\n",
       "| Round | max_depth | min_child_weight | eta | gamma | Value |\n",
       "|---|---|---|---|---|---|\n",
       "|  1          |  8          | 4           | 0.07271464  | 0.265945908 | 0.1687354   |\n",
       "|  2          |  7          | 4           | 0.07589280  | 0.046489001 | 0.1691880   |\n",
       "|  3          |  9          | 3           | 0.05422341  | 0.102699775 | 0.1691848   |\n",
       "|  4          | 11          | 6           | 0.05380360  | 0.162892138 | 0.1682702   |\n",
       "|  5          | 10          | 5           | 0.07208863  | 0.034798493 | 0.1681436   |\n",
       "|  6          |  5          | 6           | 0.13791058  | 0.314659841 | 0.1686334   |\n",
       "|  7          | 13          | 4           | 0.29243773  | 0.094681766 | 0.1682176   |\n",
       "|  8          | 13          | 5           | 0.18768913  | 0.346128870 | 0.1674650   |\n",
       "|  9          | 12          | 2           | 0.10547161  | 0.160181972 | 0.1687480   |\n",
       "| 10          | 13          | 6           | 0.29918105  | 0.008326368 | 0.1682072   |\n",
       "| 11          |  3          | 1           | 0.19268097  | 0.063514923 | 0.1684440   |\n",
       "| 12          |  4          | 3           | 0.06245319  | 0.001119396 | 0.1679032   |\n",
       "| 13          |  7          | 4           | 0.19237326  | 0.024149042 | 0.1675152   |\n",
       "| 14          |  9          | 3           | 0.12353491  | 0.060035322 | 0.1696068   |\n",
       "| 15          |  9          | 3           | 0.10369390  | 0.124774687 | 0.1688382   |\n",
       "| 16          |  9          | 3           | 0.14113153  | 0.140110828 | 0.1683618   |\n",
       "| 17          | 11          | 2           | 0.14466151  | 0.056467316 | 0.1688268   |\n",
       "| 18          |  5          | 4           | 0.11294796  | 0.070364056 | 0.1684786   |\n",
       "| 19          | 11          | 4           | 0.14400307  | 0.040822134 | 0.1690674   |\n",
       "| 20          |  9          | 2           | 0.08755778  | 0.019904887 | 0.1686334   |\n",
       "\n"
      ],
      "text/plain": [
       "   Round max_depth min_child_weight eta        gamma       Value    \n",
       "1   1     8        4                0.07271464 0.265945908 0.1687354\n",
       "2   2     7        4                0.07589280 0.046489001 0.1691880\n",
       "3   3     9        3                0.05422341 0.102699775 0.1691848\n",
       "4   4    11        6                0.05380360 0.162892138 0.1682702\n",
       "5   5    10        5                0.07208863 0.034798493 0.1681436\n",
       "6   6     5        6                0.13791058 0.314659841 0.1686334\n",
       "7   7    13        4                0.29243773 0.094681766 0.1682176\n",
       "8   8    13        5                0.18768913 0.346128870 0.1674650\n",
       "9   9    12        2                0.10547161 0.160181972 0.1687480\n",
       "10 10    13        6                0.29918105 0.008326368 0.1682072\n",
       "11 11     3        1                0.19268097 0.063514923 0.1684440\n",
       "12 12     4        3                0.06245319 0.001119396 0.1679032\n",
       "13 13     7        4                0.19237326 0.024149042 0.1675152\n",
       "14 14     9        3                0.12353491 0.060035322 0.1696068\n",
       "15 15     9        3                0.10369390 0.124774687 0.1688382\n",
       "16 16     9        3                0.14113153 0.140110828 0.1683618\n",
       "17 17    11        2                0.14466151 0.056467316 0.1688268\n",
       "18 18     5        4                0.11294796 0.070364056 0.1684786\n",
       "19 19    11        4                0.14400307 0.040822134 0.1690674\n",
       "20 20     9        2                0.08755778 0.019904887 0.1686334"
      ]
     },
     "metadata": {},
     "output_type": "display_data"
    }
   ],
   "source": [
    "xgb.mono.cv.bayes.opt$History"
   ]
  },
  {
   "cell_type": "markdown",
   "metadata": {},
   "source": [
    "**Bayesian Optimization Best Parameters**"
   ]
  },
  {
   "cell_type": "code",
   "execution_count": 32,
   "metadata": {},
   "outputs": [
    {
     "data": {
      "text/html": [
       "<dl class=dl-horizontal>\n",
       "\t<dt>max_depth</dt>\n",
       "\t\t<dd>9</dd>\n",
       "\t<dt>min_child_weight</dt>\n",
       "\t\t<dd>3</dd>\n",
       "\t<dt>eta</dt>\n",
       "\t\t<dd>0.123534911747329</dd>\n",
       "\t<dt>gamma</dt>\n",
       "\t\t<dd>0.0600353218575309</dd>\n",
       "</dl>\n"
      ],
      "text/latex": [
       "\\begin{description*}\n",
       "\\item[max\\textbackslash{}\\_depth] 9\n",
       "\\item[min\\textbackslash{}\\_child\\textbackslash{}\\_weight] 3\n",
       "\\item[eta] 0.123534911747329\n",
       "\\item[gamma] 0.0600353218575309\n",
       "\\end{description*}\n"
      ],
      "text/markdown": [
       "max_depth\n",
       ":   9min_child_weight\n",
       ":   3eta\n",
       ":   0.123534911747329gamma\n",
       ":   0.0600353218575309\n",
       "\n"
      ],
      "text/plain": [
       "       max_depth min_child_weight              eta            gamma \n",
       "      9.00000000       3.00000000       0.12353491       0.06003532 "
      ]
     },
     "metadata": {},
     "output_type": "display_data"
    }
   ],
   "source": [
    "xgb.mono.cv.bayes.opt$Best_Par"
   ]
  },
  {
   "cell_type": "markdown",
   "metadata": {},
   "source": [
    "**Set Optimal # Rounds**"
   ]
  },
  {
   "cell_type": "code",
   "execution_count": 33,
   "metadata": {},
   "outputs": [
    {
     "data": {
      "text/html": [
       "176"
      ],
      "text/latex": [
       "176"
      ],
      "text/markdown": [
       "176"
      ],
      "text/plain": [
       "[1] 176"
      ]
     },
     "metadata": {},
     "output_type": "display_data"
    }
   ],
   "source": [
    "xgb.mono.cv.bayes.opt.nrounds <- xgb.mono.cv.bayes.opt$Pred[[which.max(xgb.mono.cv.bayes.opt$History$Value)]]\n",
    "xgb.mono.cv.bayes.opt.nrounds"
   ]
  },
  {
   "cell_type": "markdown",
   "metadata": {},
   "source": [
    "#### 4.1.2) Perform Cost Sensitive Learning with Cross Validation on the Training Data Sample"
   ]
  },
  {
   "cell_type": "markdown",
   "metadata": {},
   "source": [
    "**Objective Functions to Test**"
   ]
  },
  {
   "cell_type": "code",
   "execution_count": 46,
   "metadata": {},
   "outputs": [],
   "source": [
    "#To Minimize\n",
    "getCost <- function(obs, pred, threshold = 0.5) {\n",
    "    tp_num <- sum(obs == 1 & obs == pred) #No Value assigned\n",
    "    tn_num <- sum(obs == 0 & obs == pred) #No Value assigned\n",
    "    fp_num <- sum(obs == 0 & obs != pred) #Value of median loan_amnt \n",
    "    fn_num <- sum(obs == 1 & obs != pred) #Value of median returns\n",
    "    profit <- (tn_num * mreturns) + (fn_num * mloan_amnt)\n",
    "    return(profit)\n",
    "}\n",
    "\n",
    "#To Maximize\n",
    "getProfit <- function(obs, pred, threshold = 0.5) {\n",
    "    pred <- ifelse(pred >= threshold, 1, 0)\n",
    "    tp_num <- sum(obs == 1 & obs == pred) #No Value assigned\n",
    "    tn_num <- sum(obs == 0 & obs == pred) #Value of median returns\n",
    "    fp_num <- sum(obs == 0 & obs != pred) #No Value assigned\n",
    "    fn_num <- sum(obs == 1 & obs != pred) #Value of median loan_amnt\n",
    "    #print(sprintf(\"%s, %s, %s, %s\", tp_num, tn_num, fp_num, fn_num))\n",
    "    profit <- (tn_num * mreturns) - (fn_num * mloan_amnt)\n",
    "    return(profit)\n",
    "}\n",
    "\n",
    "# Predict non-returning for everyone\n",
    "getBenchmarkProfit <- function(obs) { \n",
    "  n <- length(obs)\n",
    "  getProfit(obs, rep(0, times = n))\n",
    "}\n",
    "\n",
    "getLift <- function(probs, labels, thresh) {\n",
    "    pred_profit <- as.numeric(getProfit(obs = labels,\n",
    "                                      pred = probs,\n",
    "                                      threshold = thresh))\n",
    "    naive_profit <- as.numeric(getBenchmarkProfit(labels))\n",
    "    profit_lift <- pred_profit/naive_profit\n",
    "    #print(sprintf(\"%.2f / %.2f = %.4f\", pred_profit, naive_profit, profit_lift))\n",
    "    return(profit_lift)\n",
    "}"
   ]
  },
  {
   "cell_type": "markdown",
   "metadata": {},
   "source": [
    "**Custom Cost Sensitive Learning Function**"
   ]
  },
  {
   "cell_type": "code",
   "execution_count": 49,
   "metadata": {},
   "outputs": [],
   "source": [
    "CSL <- function(params, data, nfold, nrounds, tstart, tend, tinterval, feval = \"lift\", verbose = FALSE, print_every_n = 50){\n",
    "    thresholds <- seq(tstart, tend, by = tinterval)\n",
    "    performance <- vector(length = length(thresholds))\n",
    "    for(i in 1:length(thresholds)) {\n",
    "        print(paste(i, \":\", thresholds[i]))\n",
    "        xgb.getCost <- function(preds, dtrain) {\n",
    "            labels <- getinfo(dtrain, \"label\")\n",
    "            cost <- getCost(labels, preds, thresholds[i])\n",
    "            return(list(metric = \"Cost\", value = cost))\n",
    "        }\n",
    "        xgb.getLift <- function(preds, dtrain) {\n",
    "            labels <- getinfo(dtrain, \"label\")\n",
    "            lift <- getLift(preds, labels, thresholds[i])\n",
    "            return(list(metric = \"Lift\", value = lift))\n",
    "        }\n",
    "        # train the model again using the current threshold \n",
    "        if (feval == \"lift\"){\n",
    "            xgb.csl <- xgb.cv(params = params, data = data, nfold = nfold,\n",
    "                            nrounds = nrounds, feval = xgb.getLift, maximize = TRUE, \n",
    "                            early_stopping_rounds = 10, verbose = verbose, print_every_n = print_every_n)   \n",
    "        }else{\n",
    "            xgb.csl <- xgb.cv(params = params, data = data, nfold = nfold,\n",
    "                            nrounds = nrounds, feval = xgb.getCost, maximize = FALSE, \n",
    "                            early_stopping_rounds = 10, verbose = verbose, print_every_n = print_every_n)  \n",
    "        }\n",
    "        # store results\n",
    "        performance[i] <- as.data.frame(xgb.csl$evaluation_log)[xgb.csl$best_iteration,4]\n",
    "    }\n",
    "    return(list(\"thresholds\" = thresholds, \"performance\" = performance))\n",
    "}"
   ]
  },
  {
   "cell_type": "markdown",
   "metadata": {},
   "source": [
    "**Run CSL on a 0.003 threshold interval**"
   ]
  },
  {
   "cell_type": "code",
   "execution_count": 50,
   "metadata": {},
   "outputs": [
    {
     "name": "stdout",
     "output_type": "stream",
     "text": [
      "[1] \"1 : 0.1\"\n",
      "[1] \"2 : 0.13\"\n",
      "[1] \"3 : 0.16\"\n",
      "[1] \"4 : 0.19\"\n",
      "[1] \"5 : 0.22\"\n",
      "[1] \"6 : 0.25\"\n",
      "[1] \"7 : 0.28\"\n",
      "[1] \"8 : 0.31\"\n",
      "[1] \"9 : 0.34\"\n",
      "[1] \"10 : 0.37\"\n",
      "[1] \"11 : 0.4\"\n",
      "[1] \"12 : 0.43\"\n",
      "[1] \"13 : 0.46\"\n",
      "[1] \"14 : 0.49\"\n",
      "[1] \"15 : 0.52\"\n",
      "[1] \"16 : 0.55\"\n",
      "[1] \"17 : 0.58\"\n",
      "[1] \"18 : 0.61\"\n",
      "[1] \"19 : 0.64\"\n",
      "[1] \"20 : 0.67\"\n",
      "Time difference of 3.504518 mins\n"
     ]
    }
   ],
   "source": [
    "params <- list(\n",
    "                objective = \"binary:logistic\",\n",
    "                eta = xgb.mono.cv.bayes.opt$Best_Par[\"eta\"],\n",
    "                max_depth = xgb.mono.cv.bayes.opt$Best_Par[\"max_depth\"],\n",
    "                gamma = xgb.mono.cv.bayes.opt$Best_Par[\"gamma\"],\n",
    "                min_child_weight = xgb.mono.cv.bayes.opt$Best_Par[\"min_child_weight\"],\n",
    "                subsample = 0.75,\n",
    "                colsample_bytree = 1,\n",
    "                monotone_constraints = mono\n",
    "              )\n",
    "stime <- Sys.time()\n",
    "xgb.mono.CSL.cv.opt1 <- CSL(params, dtrain.samp.1hot, 5, xgb.mono.cv.bayes.opt.nrounds, \n",
    "                           0.1, 0.69, 0.03, feval = \"lift\")\n",
    "print(Sys.time() - stime)"
   ]
  },
  {
   "cell_type": "markdown",
   "metadata": {},
   "source": [
    "**Plot the lift for every threshold in the 0.10-0.69 range**"
   ]
  },
  {
   "cell_type": "code",
   "execution_count": 60,
   "metadata": {},
   "outputs": [
    {
     "data": {
      "image/png": "[encoded data removed]",
      "text/plain": [
       "plot without title"
      ]
     },
     "metadata": {},
     "output_type": "display_data"
    }
   ],
   "source": [
    "xgb.mono.CSL.cv.opt1.df <- as.data.frame(xgb.mono.CSL.cv.opt1)\n",
    "ggplot(xgb.mono.CSL.cv.opt1.df, aes(x = thresholds, y = performance)) +\n",
    "  geom_line() +\n",
    "  labs(title = \"Profit lift over naïve predictions using XGBoost\",\n",
    "          x = \"Threshold\", y = \"Lift over naive profit\")"
   ]
  },
  {
   "cell_type": "markdown",
   "metadata": {},
   "source": [
    "**Set Optimal Threshold for CSL on a 0.03 scale**"
   ]
  },
  {
   "cell_type": "code",
   "execution_count": 58,
   "metadata": {},
   "outputs": [
    {
     "data": {
      "text/html": [
       "0.16"
      ],
      "text/latex": [
       "0.16"
      ],
      "text/markdown": [
       "0.16"
      ],
      "text/plain": [
       "[1] 0.16"
      ]
     },
     "metadata": {},
     "output_type": "display_data"
    }
   ],
   "source": [
    "xgb.mono.CSL.cv.opt1.threshold <- xgb.mono.CSL.cv.opt1.df$thresholds[which.max(xgb.mono.CSL.cv1.opt.df$performance)]\n",
    "xgb.mono.CSL.cv.opt1.threshold"
   ]
  },
  {
   "cell_type": "markdown",
   "metadata": {},
   "source": [
    "**Get more granular at a 0.005 threshold level**"
   ]
  },
  {
   "cell_type": "code",
   "execution_count": 63,
   "metadata": {},
   "outputs": [
    {
     "name": "stdout",
     "output_type": "stream",
     "text": [
      "[1] \"1 : 0.13\"\n",
      "[1] \"2 : 0.135\"\n",
      "[1] \"3 : 0.14\"\n",
      "[1] \"4 : 0.145\"\n",
      "[1] \"5 : 0.15\"\n",
      "[1] \"6 : 0.155\"\n",
      "[1] \"7 : 0.16\"\n",
      "[1] \"8 : 0.165\"\n",
      "[1] \"9 : 0.17\"\n",
      "[1] \"10 : 0.175\"\n",
      "[1] \"11 : 0.18\"\n",
      "[1] \"12 : 0.185\"\n",
      "[1] \"13 : 0.19\"\n",
      "Time difference of 8.78262 mins\n"
     ]
    }
   ],
   "source": [
    "params <- list(\n",
    "                objective = \"binary:logistic\",\n",
    "                eta = xgb.mono.cv.bayes.opt$Best_Par[\"eta\"],\n",
    "                max_depth = xgb.mono.cv.bayes.opt$Best_Par[\"max_depth\"],\n",
    "                gamma = xgb.mono.cv.bayes.opt$Best_Par[\"gamma\"],\n",
    "                min_child_weight = xgb.mono.cv.bayes.opt$Best_Par[\"min_child_weight\"],\n",
    "                subsample = 0.75,\n",
    "                colsample_bytree = 1,\n",
    "                monotone_constraints = mono\n",
    "              )\n",
    "stime <- Sys.time()\n",
    "xgb.mono.CSL.cv.opt2 <- CSL(params, dtrain.samp.1hot, 5, xgb.mono.cv.bayes.opt.nrounds, \n",
    "                           xgb.mono.CSL.cv.opt1.threshold - 0.03, xgb.mono.CSL.cv.opt1.threshold + 0.03, 0.005, feval = \"lift\")\n",
    "print(Sys.time() - stime)"
   ]
  },
  {
   "cell_type": "markdown",
   "metadata": {},
   "source": [
    "**Plot the lift for every threshold in the 0.13-0.19 range**"
   ]
  },
  {
   "cell_type": "code",
   "execution_count": 64,
   "metadata": {},
   "outputs": [
    {
     "data": {
      "image/png": "[encoded data removed]",
      "text/plain": [
       "plot without title"
      ]
     },
     "metadata": {},
     "output_type": "display_data"
    }
   ],
   "source": [
    "xgb.mono.CSL.cv.opt2.df <- as.data.frame(xgb.mono.CSL.cv.opt2)\n",
    "ggplot(xgb.mono.CSL.cv.opt2.df, aes(x = thresholds, y = performance)) +\n",
    "  geom_line() +\n",
    "  labs(title = \"Profit lift over naïve predictions using XGBoost\",\n",
    "          x = \"Threshold\", y = \"Lift over naive profit\")"
   ]
  },
  {
   "cell_type": "markdown",
   "metadata": {},
   "source": [
    "**Set Optimal Threshold for CSL on a 0.005 scale**"
   ]
  },
  {
   "cell_type": "code",
   "execution_count": 66,
   "metadata": {},
   "outputs": [
    {
     "data": {
      "text/html": [
       "0.175"
      ],
      "text/latex": [
       "0.175"
      ],
      "text/markdown": [
       "0.175"
      ],
      "text/plain": [
       "[1] 0.175"
      ]
     },
     "metadata": {},
     "output_type": "display_data"
    }
   ],
   "source": [
    "xgb.mono.CSL.cv.opt2.threshold <- xgb.mono.CSL.cv.opt2.df$thresholds[which.max(xgb.mono.CSL.cv.opt2.df$performance)]\n",
    "xgb.mono.CSL.cv.opt2.threshold"
   ]
  },
  {
   "cell_type": "markdown",
   "metadata": {},
   "source": [
    "#### 4.1.3) Run & Test XGBoost on Optimal Params but on Full Training Set"
   ]
  },
  {
   "cell_type": "markdown",
   "metadata": {},
   "source": [
    "**Set Optimal Params for Monotonic**"
   ]
  },
  {
   "cell_type": "code",
   "execution_count": 34,
   "metadata": {},
   "outputs": [],
   "source": [
    "xgb.mono.cv.bayes.opt.params <- list(\n",
    "    booster = \"gbtree\",\n",
    "    max_depth = xgb.mono.cv.bayes.opt$Best_Par[\"max_depth\"],\n",
    "    min_child_weight = xgb.mono.cv.bayes.opt$Best_Par[\"min_child_weight\"],\n",
    "    eta = xgb.mono.cv.bayes.opt$Best_Par[\"eta\"],\n",
    "    gamma = xgb.mono.cv.bayes.opt$Best_Par[\"gamma\"],\n",
    "    subsample = 0.9, #xgb.mono.cv.bayes.opt$Best_Par[\"subsample\"],\n",
    "    colsample_bytree = 0.8, #xgb.mono.cv.bayes.opt$Best_Par[\"colsample_bytree\"],\n",
    "    #max_delta_step = xgb.mono.cv.bayes.opt$Best_Par[\"max_delta_step\"], \n",
    "    objective = \"binary:logistic\",\n",
    "    eval_metric=c(\"logloss\", \"auc\", \"aucpr\", \"error\"),\n",
    "    monotone_constraints = mono\n",
    ")"
   ]
  },
  {
   "cell_type": "markdown",
   "metadata": {},
   "source": [
    "**Train model on full training set**"
   ]
  },
  {
   "cell_type": "code",
   "execution_count": 67,
   "metadata": {},
   "outputs": [
    {
     "name": "stdout",
     "output_type": "stream",
     "text": [
      "Time difference of 2.22174 mins\n"
     ]
    }
   ],
   "source": [
    "stime <- Sys.time()\n",
    "xgb.mono.opt.mdl <- xgb.train (params = xgb.mono.cv.bayes.opt.params, nrounds = xgb.mono.cv.bayes.opt.nrounds, data = dtrain.1hot, \n",
    "                              verbose=1, print_every_n=5)\n",
    "print(Sys.time() - stime)"
   ]
  },
  {
   "cell_type": "markdown",
   "metadata": {},
   "source": [
    "**Get Predictions using Test Dataset**"
   ]
  },
  {
   "cell_type": "code",
   "execution_count": 68,
   "metadata": {},
   "outputs": [],
   "source": [
    "xgb.mono.opt.pred <- predict(xgb.mono.opt.mdl, as.matrix(x_test.1hot))"
   ]
  },
  {
   "cell_type": "markdown",
   "metadata": {},
   "source": [
    "**Plot ROC Curve**"
   ]
  },
  {
   "cell_type": "code",
   "execution_count": 70,
   "metadata": {},
   "outputs": [],
   "source": [
    "xgb.mono.opt.pred.fg <- xgb.mono.opt.pred[y_test$default==TRUE]\n",
    "xgb.mono.opt.pred.bg <- xgb.mono.opt.pred[y_test$default==FALSE]"
   ]
  },
  {
   "cell_type": "code",
   "execution_count": 71,
   "metadata": {},
   "outputs": [
    {
     "data": {
      "image/png": "[encoded data removed]",
      "text/plain": [
       "Plot with title “ROC curve\n",
       "AUC = 0.807247”"
      ]
     },
     "metadata": {},
     "output_type": "display_data"
    }
   ],
   "source": [
    "xgb.mono.opt.roc <- roc.curve(scores.class0 = xgb.mono.opt.pred.fg, scores.class1 = xgb.mono.opt.pred.bg, curve = T)\n",
    "plot(xgb.mono.opt.roc)"
   ]
  },
  {
   "cell_type": "code",
   "execution_count": 72,
   "metadata": {},
   "outputs": [
    {
     "data": {
      "image/png": "[encoded data removed]",
      "text/plain": [
       "Plot with title “PR curve\n",
       "AUC = 0.177849”"
      ]
     },
     "metadata": {},
     "output_type": "display_data"
    }
   ],
   "source": [
    "xgb.mono.opt.prc <- pr.curve(scores.class0 = xgb.mono.opt.pred.fg, scores.class1 = xgb.mono.opt.pred.bg, curve = T)\n",
    "plot(xgb.mono.opt.prc)"
   ]
  },
  {
   "cell_type": "markdown",
   "metadata": {},
   "source": [
    "**Calculate AUC**"
   ]
  },
  {
   "cell_type": "code",
   "execution_count": 74,
   "metadata": {},
   "outputs": [
    {
     "data": {
      "text/html": [
       "0.807246984960644"
      ],
      "text/latex": [
       "0.807246984960644"
      ],
      "text/markdown": [
       "0.807246984960644"
      ],
      "text/plain": [
       "Area under the curve: 0.8072"
      ]
     },
     "metadata": {},
     "output_type": "display_data"
    }
   ],
   "source": [
    "xgb.mono.opt.auc <- auc(roc(y_test$default, xgb.mono.opt.pred))\n",
    "xgb.mono.opt.auc"
   ]
  },
  {
   "cell_type": "markdown",
   "metadata": {},
   "source": [
    "**Calculate F-score**"
   ]
  },
  {
   "cell_type": "code",
   "execution_count": 75,
   "metadata": {},
   "outputs": [
    {
     "data": {
      "text/html": [
       "0.955117469735394"
      ],
      "text/latex": [
       "0.955117469735394"
      ],
      "text/markdown": [
       "0.955117469735394"
      ],
      "text/plain": [
       "[1] 0.9551175"
      ]
     },
     "metadata": {},
     "output_type": "display_data"
    }
   ],
   "source": [
    "xgb.mono.opt.f1 <- F1_Score(ifelse(xgb.mono.opt.pred > xgb.mono.CSL.cv.opt2.threshold, 1, 0), ifelse(y_test$default, 1, 0), positive = \"0\")\n",
    "xgb.mono.opt.f1"
   ]
  },
  {
   "cell_type": "markdown",
   "metadata": {},
   "source": [
    "**Generate and Save Confusion Matrix**"
   ]
  },
  {
   "cell_type": "code",
   "execution_count": 73,
   "metadata": {},
   "outputs": [
    {
     "data": {
      "text/plain": [
       "Confusion Matrix and Statistics\n",
       "\n",
       "       \n",
       "         FALSE   TRUE\n",
       "  FALSE 119766   5400\n",
       "  TRUE    5856   1663\n",
       "                                          \n",
       "               Accuracy : 0.9152          \n",
       "                 95% CI : (0.9137, 0.9167)\n",
       "    No Information Rate : 0.9468          \n",
       "    P-Value [Acc > NIR] : 1               \n",
       "                                          \n",
       "                  Kappa : 0.1833          \n",
       "                                          \n",
       " Mcnemar's Test P-Value : 1.798e-05       \n",
       "                                          \n",
       "            Sensitivity : 0.9534          \n",
       "            Specificity : 0.2355          \n",
       "         Pos Pred Value : 0.9569          \n",
       "         Neg Pred Value : 0.2212          \n",
       "             Prevalence : 0.9468          \n",
       "         Detection Rate : 0.9026          \n",
       "   Detection Prevalence : 0.9433          \n",
       "      Balanced Accuracy : 0.5944          \n",
       "                                          \n",
       "       'Positive' Class : FALSE           \n",
       "                                          "
      ]
     },
     "metadata": {},
     "output_type": "display_data"
    }
   ],
   "source": [
    "xgb.mono.opt.cm <- confusionMatrix(table(xgb.mono.opt.pred > xgb.mono.CSL.cv.opt2.threshold, y_test$default))\n",
    "xgb.mono.opt.cm"
   ]
  },
  {
   "cell_type": "markdown",
   "metadata": {},
   "source": [
    "**Calculate Feature Importance/Influence**"
   ]
  },
  {
   "cell_type": "code",
   "execution_count": 76,
   "metadata": {},
   "outputs": [
    {
     "name": "stdout",
     "output_type": "stream",
     "text": [
      "                                   Feature         Gain        Cover\n",
      " 1:                               int_rate 0.2844785140 0.1289872057\n",
      " 2: quantity_indexes_for_real_gdp_by_state 0.1982133119 0.1065392095\n",
      " 3:                      real_gdp_by_state 0.0716099972 0.0784651982\n",
      " 4:                  initial_list_status_F 0.0631546241 0.0273675034\n",
      " 5:                              subsidies 0.0542717509 0.0740487226\n",
      " 6:              compensation_of_employees 0.0415941106 0.0441476333\n",
      " 7:                             annual_inc 0.0411808065 0.0568885978\n",
      " 8:        taxes_on_production_and_imports 0.0375805764 0.0536641750\n",
      " 9:                                  month 0.0340116021 0.0430751861\n",
      "10:                gross_operating_surplus 0.0328176240 0.0519784075\n",
      "11:           per_capita_real_gdp_by_state 0.0299016295 0.0402028044\n",
      "12:                  initial_list_status_W 0.0237556841 0.0073579205\n",
      "13:                            installment 0.0138090561 0.0696311595\n",
      "14:                              loan_amnt 0.0076737547 0.0443928714\n",
      "15:                                    dti 0.0075820103 0.0249564183\n",
      "16:                      regions_NORTHEAST 0.0071247038 0.0099482606\n",
      "17:                 purpose_SMALL_BUSINESS 0.0056968325 0.0119153684\n",
      "18:                          regions_SOUTH 0.0051609537 0.0136105332\n",
      "19:                                pub_rec 0.0043610468 0.0182156633\n",
      "20:                              term_36MO 0.0042875439 0.0022131171\n",
      "21:                                grade_C 0.0037433214 0.0018406498\n",
      "22:                                grade_A 0.0035060983 0.0045348076\n",
      "23:    verification_status_SOURCE_VERIFIED 0.0030780055 0.0066132628\n",
      "24:                    home_ownership_RENT 0.0024958830 0.0033490327\n",
      "25:                                grade_D 0.0024927626 0.0015892663\n",
      "26:                                grade_B 0.0017741703 0.0019712056\n",
      "27:                    purpose_CREDIT_CARD 0.0017520897 0.0102111993\n",
      "28:                              total_acc 0.0017005509 0.0095056839\n",
      "29:           verification_status_VERIFIED 0.0016993691 0.0033509436\n",
      "30:                home_ownership_MORTGAGE 0.0015578133 0.0012886429\n",
      "31:                               open_acc 0.0015135613 0.0119995551\n",
      "32:                        regions_MIDWEST 0.0014460201 0.0033101574\n",
      "33:                         purpose_OTHERS 0.0008236544 0.0056343079\n",
      "34:                                grade_E 0.0006897097 0.0007707940\n",
      "35:                              term_60MO 0.0005987517 0.0004460715\n",
      "36:                                grade_F 0.0005344968 0.0026371703\n",
      "37:                                grade_G 0.0004561312 0.0036400083\n",
      "38:             purpose_DEBT_CONSOLIDATION 0.0003875886 0.0012201206\n",
      "39:                           regions_WEST 0.0003685352 0.0007752471\n",
      "40:                     home_ownership_OWN 0.0003641897 0.0079276289\n",
      "41:       verification_status_NOT_VERIFIED 0.0002707746 0.0013654243\n",
      "42:            application_type_INDIVIDUAL 0.0002323553 0.0058090736\n",
      "43:                 purpose_MAJOR_PURCHASE 0.0001719076 0.0018225097\n",
      "44:               purpose_HOME_IMPROVEMENT 0.0000761268 0.0007812808\n",
      "                                   Feature         Gain        Cover\n",
      "       Frequency\n",
      " 1: 0.0708370406\n",
      " 2: 0.0779549654\n",
      " 3: 0.0633084662\n",
      " 4: 0.0078023407\n",
      " 5: 0.0752173020\n",
      " 6: 0.0627609335\n",
      " 7: 0.0654301554\n",
      " 8: 0.0524946958\n",
      " 9: 0.0499623571\n",
      "10: 0.0555061255\n",
      "11: 0.0581753473\n",
      "12: 0.0015057149\n",
      "13: 0.0762439258\n",
      "14: 0.0418862501\n",
      "15: 0.0519471631\n",
      "16: 0.0119088358\n",
      "17: 0.0094449387\n",
      "18: 0.0093080556\n",
      "19: 0.0097187051\n",
      "20: 0.0052700021\n",
      "21: 0.0044487030\n",
      "22: 0.0038327288\n",
      "23: 0.0061597427\n",
      "24: 0.0052015605\n",
      "25: 0.0033536377\n",
      "26: 0.0039011704\n",
      "27: 0.0104031209\n",
      "28: 0.0264868934\n",
      "29: 0.0039011704\n",
      "30: 0.0047909110\n",
      "31: 0.0214906577\n",
      "32: 0.0074601328\n",
      "33: 0.0078707823\n",
      "34: 0.0021901307\n",
      "35: 0.0010950654\n",
      "36: 0.0033536377\n",
      "37: 0.0032167545\n",
      "38: 0.0044487030\n",
      "39: 0.0030798713\n",
      "40: 0.0059544179\n",
      "41: 0.0036958456\n",
      "42: 0.0006844159\n",
      "43: 0.0034220793\n",
      "44: 0.0028745466\n",
      "       Frequency\n"
     ]
    }
   ],
   "source": [
    "xgb.mono.opt.imp <- xgb.importance(model = xgb.mono.opt.mdl)\n",
    "print(xgb.mono.opt.imp)"
   ]
  },
  {
   "cell_type": "markdown",
   "metadata": {},
   "source": [
    "**Plot Importance/Influence**"
   ]
  },
  {
   "cell_type": "code",
   "execution_count": 77,
   "metadata": {},
   "outputs": [
    {
     "data": {
      "image/png": "[encoded data removed]",
      "text/plain": [
       "plot without title"
      ]
     },
     "metadata": {},
     "output_type": "display_data"
    }
   ],
   "source": [
    "xgb.plot.importance(importance_matrix = xgb.mono.opt.imp)"
   ]
  },
  {
   "cell_type": "markdown",
   "metadata": {},
   "source": [
    "**Dump Tree**"
   ]
  },
  {
   "cell_type": "code",
   "execution_count": 78,
   "metadata": {},
   "outputs": [
    {
     "name": "stderr",
     "output_type": "stream",
     "text": [
      "Warning message:\n",
      "“'with.stats' is deprecated.\n",
      "Use 'with_stats' instead.\n",
      "See help(\"Deprecated\") and help(\"xgboost-deprecated\").”"
     ]
    },
    {
     "data": {
      "text/html": [
       "TRUE"
      ],
      "text/latex": [
       "TRUE"
      ],
      "text/markdown": [
       "TRUE"
      ],
      "text/plain": [
       "[1] TRUE"
      ]
     },
     "metadata": {},
     "output_type": "display_data"
    }
   ],
   "source": [
    "xgb.dump(xgb.mono.opt.mdl, with.stats = T, fname = \"./models/xgb.mono.opt.tree.costopt.txt\")"
   ]
  },
  {
   "cell_type": "markdown",
   "metadata": {},
   "source": [
    "**Save Model**"
   ]
  },
  {
   "cell_type": "code",
   "execution_count": 79,
   "metadata": {},
   "outputs": [
    {
     "data": {
      "text/html": [
       "TRUE"
      ],
      "text/latex": [
       "TRUE"
      ],
      "text/markdown": [
       "TRUE"
      ],
      "text/plain": [
       "[1] TRUE"
      ]
     },
     "metadata": {},
     "output_type": "display_data"
    }
   ],
   "source": [
    "xgb.save(xgb.mono.opt.mdl, \"./models/xgb.mono.opt.costopt.mdl\")"
   ]
  },
  {
   "cell_type": "markdown",
   "metadata": {},
   "source": [
    "**Partial Graph (for 3 top vars)**"
   ]
  },
  {
   "cell_type": "code",
   "execution_count": 115,
   "metadata": {},
   "outputs": [],
   "source": [
    "stime <- Sys.time()\n",
    "xgb.mono.opt.mdl.1p <- partial(xgb.mono.opt.mdl, pred.var = \"int_rate\", train = x_train.1hot,\n",
    "                                 grid.resolution = 250, trim.outliers = FALSE, prob = TRUE, rug = TRUE, plot = TRUE)\n",
    "print(Sys.time() - stime)"
   ]
  },
  {
   "cell_type": "code",
   "execution_count": null,
   "metadata": {},
   "outputs": [],
   "source": [
    "stime <- Sys.time()\n",
    "xgb.mono.opt.mdl.2p <- partial(xgb.mono.opt.mdl, pred.var = \"quantity_indexes_for_real_gdp_by_state\", train = x_train.1hot,\n",
    "                                 grid.resolution = 250, trim.outliers = FALSE, prob = TRUE, rug = TRUE, plot = TRUE)\n",
    "print(Sys.time() - stime)"
   ]
  },
  {
   "cell_type": "code",
   "execution_count": null,
   "metadata": {},
   "outputs": [],
   "source": [
    "stime <- Sys.time()\n",
    "xgb.mono.opt.mdl.3p <- partial(xgb.mono.opt.mdl, pred.var = \"annual_inc\", train = x_train.1hot,\n",
    "                                 grid.resolution = 250, trim.outliers = FALSE, prob = TRUE, rug = TRUE, plot = TRUE)\n",
    "print(Sys.time() - stime)"
   ]
  },
  {
   "cell_type": "markdown",
   "metadata": {},
   "source": [
    "#### 4.1.4) Calculate Model Relative Losses"
   ]
  },
  {
   "cell_type": "markdown",
   "metadata": {},
   "source": [
    "**Losses ($L$)**: We cannot calculate the Loss Given Default (LGD) or Exposure to Default (EAD) precisely because we don't know what is the value of the collateral for each loan and administrative costs associated to a default so we are going to assume it's `loan_amnt` which is potentially a larger amount.\n",
    "\n",
    "**Returns ($R$)**: We cannot calculate the Return on Allocated Equity (ROE) precisely because to do this we would need to factor cost of funds, income taxes and other costs associated in producing this money but we can calculate how much money is _yielded by the interest of each loan_ should it go to full term. Although this can be calculated using the compounded annualized `int_rate` on the `loan_amnt` for the duration of the `term` and deduct the `loan_amnt`. It's far easier to just leverage the `installment` column like this:\n",
    "\n",
    "(`installment` * `term`) - `loan_amnt`\n",
    "\n",
    "So I devised a way to best depict the relative amount of losses like this:\n",
    "\n",
    "Cost Ratio = $\\large{\\frac{R(FN) + L(FP)}{R(TN)}}$ \n",
    "\n",
    "Which is the ratio produced by bad predictions over the total amount made by good predictions. In other words the total lost loan principals by false negatives plus the total lost in revenue by false positives over the total produced in revenue by true negatives."
   ]
  },
  {
   "cell_type": "code",
   "execution_count": 126,
   "metadata": {},
   "outputs": [
    {
     "data": {
      "text/html": [
       "0.259223671892931"
      ],
      "text/latex": [
       "0.259223671892931"
      ],
      "text/markdown": [
       "0.259223671892931"
      ],
      "text/plain": [
       "[1] 0.2592237"
      ]
     },
     "metadata": {},
     "output_type": "display_data"
    }
   ],
   "source": [
    "xgb.mono.opt.cost.ratio <- ((xgb.mono.opt.cm$table[2,1]*mreturns)+(xgb.mono.opt.cm$table[1,2]*mloan_amnt)) / ((xgb.mono.opt.cm$table[1,1]*mreturns))\n",
    "xgb.mono.opt.cost.ratio"
   ]
  },
  {
   "cell_type": "markdown",
   "metadata": {},
   "source": [
    "### 4.2) Non-Monotonic Constrained XGBoost"
   ]
  },
  {
   "cell_type": "markdown",
   "metadata": {},
   "source": [
    "#### 4.2.1) Perform Hyperparameter Tuning with Bayesian Optimization and Cross Validation on the Training Data Sample\n",
    "\n",
    "Optimize the PR AUC"
   ]
  },
  {
   "cell_type": "code",
   "execution_count": 80,
   "metadata": {},
   "outputs": [],
   "source": [
    "xgb.cv.bayes <- function(nround, max_depth, min_child_weight, eta, gamma) { # subsample, colsample_bytree, max_delta_step\n",
    "    params <- list(\n",
    "                    booster = \"gbtree\", #\"gblinear\", \"dart\"\n",
    "                    max_depth = max_depth,\n",
    "                    min_child_weight = min_child_weight,\n",
    "                    eta = eta,\n",
    "                    gamma = gamma,\n",
    "                    subsample = 0.9, #subsample, \n",
    "                    colsample_bytree = 0.8, #colsample_bytree,\n",
    "                    #max_delta_step = max_delta_step,\n",
    "                    #lambda = 1, \n",
    "                    #alpha = 0,\n",
    "                    objective = \"binary:logistic\",\n",
    "                    eval_metric = \"aucpr\"\n",
    "                 )\n",
    "    cv <- xgb.cv(params = params, data = dtrain.samp.1hot, folds = cv_folds, nrounds = 500, \n",
    "                 early_stopping_rounds = 10, maximize = TRUE, verbose = TRUE, print_every_n=20)\n",
    "    return(list(Score = cv$evaluation_log$test_aucpr_mean[cv$best_iteration], Pred=cv$best_iteration))\n",
    "}"
   ]
  },
  {
   "cell_type": "code",
   "execution_count": 81,
   "metadata": {},
   "outputs": [
    {
     "name": "stdout",
     "output_type": "stream",
     "text": [
      "\n",
      " Best Parameters Found: \n",
      "Round = 12\tmax_depth = 3.0000\tmin_child_weight = 5.0000\teta = 0.1127\tgamma = 0.0704\tValue = 0.1842 \n",
      "Time difference of 12.16042 mins\n"
     ]
    }
   ],
   "source": [
    "stime <- Sys.time()\n",
    "xgb.cv.bayes.opt <- BayesianOptimization(xgb.cv.bayes,\n",
    "                              bounds = list(max_depth = c(3L, 15L), \n",
    "                                            min_child_weight = c(1L, 7L),\n",
    "                                            eta=c(0.05, 0.3),\n",
    "                                            gamma = c(0.0, 0.4) #,\n",
    "                                            #subsample = c(0.6, 0.9),\n",
    "                                            #colsample_bytree=c(0.3, 0.7),\n",
    "                                            #max_delta_step=c(1L, 10L)\n",
    "                                        ),\n",
    "                              init_grid_dt = NULL, init_points = 10, n_iter = 10,\n",
    "                              acq = \"ucb\", kappa = 2.576, eps = 0.0, verbose = FALSE)\n",
    "print(Sys.time() - stime)"
   ]
  },
  {
   "cell_type": "markdown",
   "metadata": {},
   "source": [
    "**Bayesian Optimization History**"
   ]
  },
  {
   "cell_type": "code",
   "execution_count": 82,
   "metadata": {},
   "outputs": [
    {
     "data": {
      "text/html": [
       "<table>\n",
       "<thead><tr><th scope=col>Round</th><th scope=col>max_depth</th><th scope=col>min_child_weight</th><th scope=col>eta</th><th scope=col>gamma</th><th scope=col>Value</th></tr></thead>\n",
       "<tbody>\n",
       "\t<tr><td> 1          </td><td>10          </td><td>2           </td><td>0.06100444  </td><td>2.480890e-01</td><td>0.1713648   </td></tr>\n",
       "\t<tr><td> 2          </td><td> 7          </td><td>4           </td><td>0.25770141  </td><td>3.290715e-01</td><td>0.1667714   </td></tr>\n",
       "\t<tr><td> 3          </td><td> 4          </td><td>6           </td><td>0.07933967  </td><td>3.070848e-01</td><td>0.1812742   </td></tr>\n",
       "\t<tr><td> 4          </td><td>13          </td><td>3           </td><td>0.06082554  </td><td>1.147279e-01</td><td>0.1673892   </td></tr>\n",
       "\t<tr><td> 5          </td><td>12          </td><td>6           </td><td>0.15109382  </td><td>2.791822e-01</td><td>0.1643116   </td></tr>\n",
       "\t<tr><td> 6          </td><td> 4          </td><td>4           </td><td>0.19858879  </td><td>3.008555e-01</td><td>0.1786960   </td></tr>\n",
       "\t<tr><td> 7          </td><td> 5          </td><td>7           </td><td>0.22571012  </td><td>2.931242e-01</td><td>0.1755438   </td></tr>\n",
       "\t<tr><td> 8          </td><td> 8          </td><td>4           </td><td>0.19229396  </td><td>3.204153e-01</td><td>0.1750228   </td></tr>\n",
       "\t<tr><td> 9          </td><td>12          </td><td>3           </td><td>0.13688850  </td><td>1.167994e-01</td><td>0.1644986   </td></tr>\n",
       "\t<tr><td>10          </td><td>14          </td><td>4           </td><td>0.05259967  </td><td>4.490848e-02</td><td>0.1669682   </td></tr>\n",
       "\t<tr><td>11          </td><td> 3          </td><td>2           </td><td>0.05000000  </td><td>2.220446e-16</td><td>0.1803684   </td></tr>\n",
       "\t<tr><td>12          </td><td> 3          </td><td>5           </td><td>0.11268020  </td><td>7.042609e-02</td><td>0.1842210   </td></tr>\n",
       "\t<tr><td>13          </td><td> 3          </td><td>7           </td><td>0.14564458  </td><td>3.606624e-01</td><td>0.1810172   </td></tr>\n",
       "\t<tr><td>14          </td><td> 3          </td><td>2           </td><td>0.09253909  </td><td>2.220446e-16</td><td>0.1834690   </td></tr>\n",
       "\t<tr><td>15          </td><td> 3          </td><td>3           </td><td>0.10951076  </td><td>2.645278e-01</td><td>0.1830880   </td></tr>\n",
       "\t<tr><td>16          </td><td> 5          </td><td>4           </td><td>0.14970298  </td><td>2.220446e-16</td><td>0.1777966   </td></tr>\n",
       "\t<tr><td>17          </td><td> 3          </td><td>7           </td><td>0.10076617  </td><td>2.220446e-16</td><td>0.1804478   </td></tr>\n",
       "\t<tr><td>18          </td><td> 3          </td><td>3           </td><td>0.17322138  </td><td>2.220446e-16</td><td>0.1812120   </td></tr>\n",
       "\t<tr><td>19          </td><td> 4          </td><td>3           </td><td>0.09877044  </td><td>2.792491e-02</td><td>0.1783744   </td></tr>\n",
       "\t<tr><td>20          </td><td> 5          </td><td>7           </td><td>0.08768383  </td><td>3.811584e-01</td><td>0.1793762   </td></tr>\n",
       "</tbody>\n",
       "</table>\n"
      ],
      "text/latex": [
       "\\begin{tabular}{r|llllll}\n",
       " Round & max\\_depth & min\\_child\\_weight & eta & gamma & Value\\\\\n",
       "\\hline\n",
       "\t  1           & 10           & 2            & 0.06100444   & 2.480890e-01 & 0.1713648   \\\\\n",
       "\t  2           &  7           & 4            & 0.25770141   & 3.290715e-01 & 0.1667714   \\\\\n",
       "\t  3           &  4           & 6            & 0.07933967   & 3.070848e-01 & 0.1812742   \\\\\n",
       "\t  4           & 13           & 3            & 0.06082554   & 1.147279e-01 & 0.1673892   \\\\\n",
       "\t  5           & 12           & 6            & 0.15109382   & 2.791822e-01 & 0.1643116   \\\\\n",
       "\t  6           &  4           & 4            & 0.19858879   & 3.008555e-01 & 0.1786960   \\\\\n",
       "\t  7           &  5           & 7            & 0.22571012   & 2.931242e-01 & 0.1755438   \\\\\n",
       "\t  8           &  8           & 4            & 0.19229396   & 3.204153e-01 & 0.1750228   \\\\\n",
       "\t  9           & 12           & 3            & 0.13688850   & 1.167994e-01 & 0.1644986   \\\\\n",
       "\t 10           & 14           & 4            & 0.05259967   & 4.490848e-02 & 0.1669682   \\\\\n",
       "\t 11           &  3           & 2            & 0.05000000   & 2.220446e-16 & 0.1803684   \\\\\n",
       "\t 12           &  3           & 5            & 0.11268020   & 7.042609e-02 & 0.1842210   \\\\\n",
       "\t 13           &  3           & 7            & 0.14564458   & 3.606624e-01 & 0.1810172   \\\\\n",
       "\t 14           &  3           & 2            & 0.09253909   & 2.220446e-16 & 0.1834690   \\\\\n",
       "\t 15           &  3           & 3            & 0.10951076   & 2.645278e-01 & 0.1830880   \\\\\n",
       "\t 16           &  5           & 4            & 0.14970298   & 2.220446e-16 & 0.1777966   \\\\\n",
       "\t 17           &  3           & 7            & 0.10076617   & 2.220446e-16 & 0.1804478   \\\\\n",
       "\t 18           &  3           & 3            & 0.17322138   & 2.220446e-16 & 0.1812120   \\\\\n",
       "\t 19           &  4           & 3            & 0.09877044   & 2.792491e-02 & 0.1783744   \\\\\n",
       "\t 20           &  5           & 7            & 0.08768383   & 3.811584e-01 & 0.1793762   \\\\\n",
       "\\end{tabular}\n"
      ],
      "text/markdown": [
       "\n",
       "| Round | max_depth | min_child_weight | eta | gamma | Value |\n",
       "|---|---|---|---|---|---|\n",
       "|  1           | 10           | 2            | 0.06100444   | 2.480890e-01 | 0.1713648    |\n",
       "|  2           |  7           | 4            | 0.25770141   | 3.290715e-01 | 0.1667714    |\n",
       "|  3           |  4           | 6            | 0.07933967   | 3.070848e-01 | 0.1812742    |\n",
       "|  4           | 13           | 3            | 0.06082554   | 1.147279e-01 | 0.1673892    |\n",
       "|  5           | 12           | 6            | 0.15109382   | 2.791822e-01 | 0.1643116    |\n",
       "|  6           |  4           | 4            | 0.19858879   | 3.008555e-01 | 0.1786960    |\n",
       "|  7           |  5           | 7            | 0.22571012   | 2.931242e-01 | 0.1755438    |\n",
       "|  8           |  8           | 4            | 0.19229396   | 3.204153e-01 | 0.1750228    |\n",
       "|  9           | 12           | 3            | 0.13688850   | 1.167994e-01 | 0.1644986    |\n",
       "| 10           | 14           | 4            | 0.05259967   | 4.490848e-02 | 0.1669682    |\n",
       "| 11           |  3           | 2            | 0.05000000   | 2.220446e-16 | 0.1803684    |\n",
       "| 12           |  3           | 5            | 0.11268020   | 7.042609e-02 | 0.1842210    |\n",
       "| 13           |  3           | 7            | 0.14564458   | 3.606624e-01 | 0.1810172    |\n",
       "| 14           |  3           | 2            | 0.09253909   | 2.220446e-16 | 0.1834690    |\n",
       "| 15           |  3           | 3            | 0.10951076   | 2.645278e-01 | 0.1830880    |\n",
       "| 16           |  5           | 4            | 0.14970298   | 2.220446e-16 | 0.1777966    |\n",
       "| 17           |  3           | 7            | 0.10076617   | 2.220446e-16 | 0.1804478    |\n",
       "| 18           |  3           | 3            | 0.17322138   | 2.220446e-16 | 0.1812120    |\n",
       "| 19           |  4           | 3            | 0.09877044   | 2.792491e-02 | 0.1783744    |\n",
       "| 20           |  5           | 7            | 0.08768383   | 3.811584e-01 | 0.1793762    |\n",
       "\n"
      ],
      "text/plain": [
       "   Round max_depth min_child_weight eta        gamma        Value    \n",
       "1   1    10        2                0.06100444 2.480890e-01 0.1713648\n",
       "2   2     7        4                0.25770141 3.290715e-01 0.1667714\n",
       "3   3     4        6                0.07933967 3.070848e-01 0.1812742\n",
       "4   4    13        3                0.06082554 1.147279e-01 0.1673892\n",
       "5   5    12        6                0.15109382 2.791822e-01 0.1643116\n",
       "6   6     4        4                0.19858879 3.008555e-01 0.1786960\n",
       "7   7     5        7                0.22571012 2.931242e-01 0.1755438\n",
       "8   8     8        4                0.19229396 3.204153e-01 0.1750228\n",
       "9   9    12        3                0.13688850 1.167994e-01 0.1644986\n",
       "10 10    14        4                0.05259967 4.490848e-02 0.1669682\n",
       "11 11     3        2                0.05000000 2.220446e-16 0.1803684\n",
       "12 12     3        5                0.11268020 7.042609e-02 0.1842210\n",
       "13 13     3        7                0.14564458 3.606624e-01 0.1810172\n",
       "14 14     3        2                0.09253909 2.220446e-16 0.1834690\n",
       "15 15     3        3                0.10951076 2.645278e-01 0.1830880\n",
       "16 16     5        4                0.14970298 2.220446e-16 0.1777966\n",
       "17 17     3        7                0.10076617 2.220446e-16 0.1804478\n",
       "18 18     3        3                0.17322138 2.220446e-16 0.1812120\n",
       "19 19     4        3                0.09877044 2.792491e-02 0.1783744\n",
       "20 20     5        7                0.08768383 3.811584e-01 0.1793762"
      ]
     },
     "metadata": {},
     "output_type": "display_data"
    }
   ],
   "source": [
    "xgb.cv.bayes.opt$History"
   ]
  },
  {
   "cell_type": "markdown",
   "metadata": {},
   "source": [
    "**Bayesian Optimization Best Parameters**"
   ]
  },
  {
   "cell_type": "code",
   "execution_count": 83,
   "metadata": {},
   "outputs": [
    {
     "data": {
      "text/html": [
       "<dl class=dl-horizontal>\n",
       "\t<dt>max_depth</dt>\n",
       "\t\t<dd>3</dd>\n",
       "\t<dt>min_child_weight</dt>\n",
       "\t\t<dd>5</dd>\n",
       "\t<dt>eta</dt>\n",
       "\t\t<dd>0.112680198914794</dd>\n",
       "\t<dt>gamma</dt>\n",
       "\t\t<dd>0.0704260916858417</dd>\n",
       "</dl>\n"
      ],
      "text/latex": [
       "\\begin{description*}\n",
       "\\item[max\\textbackslash{}\\_depth] 3\n",
       "\\item[min\\textbackslash{}\\_child\\textbackslash{}\\_weight] 5\n",
       "\\item[eta] 0.112680198914794\n",
       "\\item[gamma] 0.0704260916858417\n",
       "\\end{description*}\n"
      ],
      "text/markdown": [
       "max_depth\n",
       ":   3min_child_weight\n",
       ":   5eta\n",
       ":   0.112680198914794gamma\n",
       ":   0.0704260916858417\n",
       "\n"
      ],
      "text/plain": [
       "       max_depth min_child_weight              eta            gamma \n",
       "      3.00000000       5.00000000       0.11268020       0.07042609 "
      ]
     },
     "metadata": {},
     "output_type": "display_data"
    }
   ],
   "source": [
    "xgb.cv.bayes.opt$Best_Par"
   ]
  },
  {
   "cell_type": "markdown",
   "metadata": {},
   "source": [
    "**Set Optimal # Rounds**"
   ]
  },
  {
   "cell_type": "code",
   "execution_count": 87,
   "metadata": {},
   "outputs": [
    {
     "data": {
      "text/html": [
       "301"
      ],
      "text/latex": [
       "301"
      ],
      "text/markdown": [
       "301"
      ],
      "text/plain": [
       "[1] 301"
      ]
     },
     "metadata": {},
     "output_type": "display_data"
    }
   ],
   "source": [
    "xgb.cv.bayes.opt.nrounds <- xgb.cv.bayes.opt$Pred[[which.max(xgb.cv.bayes.opt$History$Value)]]\n",
    "xgb.cv.bayes.opt.nrounds"
   ]
  },
  {
   "cell_type": "markdown",
   "metadata": {},
   "source": [
    "#### 4.1.2) Perform Cost Sensitive Learning with Cross Validation on the Training Data Sample"
   ]
  },
  {
   "cell_type": "markdown",
   "metadata": {},
   "source": [
    "**Run CSL on a 0.003 threshold interval**"
   ]
  },
  {
   "cell_type": "code",
   "execution_count": 88,
   "metadata": {},
   "outputs": [
    {
     "name": "stdout",
     "output_type": "stream",
     "text": [
      "[1] \"1 : 0.1\"\n",
      "[1] \"2 : 0.13\"\n",
      "[1] \"3 : 0.16\"\n",
      "[1] \"4 : 0.19\"\n",
      "[1] \"5 : 0.22\"\n",
      "[1] \"6 : 0.25\"\n",
      "[1] \"7 : 0.28\"\n",
      "[1] \"8 : 0.31\"\n",
      "[1] \"9 : 0.34\"\n",
      "[1] \"10 : 0.37\"\n",
      "[1] \"11 : 0.4\"\n",
      "[1] \"12 : 0.43\"\n",
      "[1] \"13 : 0.46\"\n",
      "[1] \"14 : 0.49\"\n",
      "[1] \"15 : 0.52\"\n",
      "[1] \"16 : 0.55\"\n",
      "[1] \"17 : 0.58\"\n",
      "[1] \"18 : 0.61\"\n",
      "[1] \"19 : 0.64\"\n",
      "[1] \"20 : 0.67\"\n",
      "Time difference of 1.405682 mins\n"
     ]
    }
   ],
   "source": [
    "params <- list(\n",
    "                objective = \"binary:logistic\",\n",
    "                eta = xgb.cv.bayes.opt$Best_Par[\"eta\"],\n",
    "                max_depth = xgb.cv.bayes.opt$Best_Par[\"max_depth\"],\n",
    "                gamma = xgb.cv.bayes.opt$Best_Par[\"gamma\"],\n",
    "                min_child_weight = xgb.cv.bayes.opt$Best_Par[\"min_child_weight\"],\n",
    "                subsample = 0.75,\n",
    "                colsample_bytree = 1\n",
    "              )\n",
    "stime <- Sys.time()\n",
    "xgb.CSL.cv.opt1 <- CSL(params, dtrain.samp.1hot, 5, xgb.cv.bayes.opt.nrounds, \n",
    "                           0.1, 0.69, 0.03, feval = \"lift\")\n",
    "print(Sys.time() - stime)"
   ]
  },
  {
   "cell_type": "markdown",
   "metadata": {},
   "source": [
    "**Plot the lift for every threshold in the 0.10-0.69 range**"
   ]
  },
  {
   "cell_type": "code",
   "execution_count": 89,
   "metadata": {},
   "outputs": [
    {
     "data": {
      "image/png": "[encoded data removed]",
      "text/plain": [
       "plot without title"
      ]
     },
     "metadata": {},
     "output_type": "display_data"
    }
   ],
   "source": [
    "xgb.CSL.cv.opt1.df <- as.data.frame(xgb.CSL.cv.opt1)\n",
    "ggplot(xgb.CSL.cv.opt1.df, aes(x = thresholds, y = performance)) +\n",
    "  geom_line() +\n",
    "  labs(title = \"Profit lift over naïve predictions using XGBoost\",\n",
    "          x = \"Threshold\", y = \"Lift over naive profit\")"
   ]
  },
  {
   "cell_type": "markdown",
   "metadata": {},
   "source": [
    "**Set Optimal Threshold for CSL on a 0.03 scale**"
   ]
  },
  {
   "cell_type": "code",
   "execution_count": 91,
   "metadata": {},
   "outputs": [
    {
     "data": {
      "text/html": [
       "0.16"
      ],
      "text/latex": [
       "0.16"
      ],
      "text/markdown": [
       "0.16"
      ],
      "text/plain": [
       "[1] 0.16"
      ]
     },
     "metadata": {},
     "output_type": "display_data"
    }
   ],
   "source": [
    "xgb.CSL.cv.opt1.threshold <- xgb.CSL.cv.opt1.df$thresholds[which.max(xgb.CSL.cv.opt1.df$performance)]\n",
    "xgb.CSL.cv.opt1.threshold"
   ]
  },
  {
   "cell_type": "markdown",
   "metadata": {},
   "source": [
    "**Get more granular at a 0.005 threshold level**"
   ]
  },
  {
   "cell_type": "code",
   "execution_count": 92,
   "metadata": {},
   "outputs": [
    {
     "name": "stdout",
     "output_type": "stream",
     "text": [
      "[1] \"1 : 0.13\"\n",
      "[1] \"2 : 0.135\"\n",
      "[1] \"3 : 0.14\"\n",
      "[1] \"4 : 0.145\"\n",
      "[1] \"5 : 0.15\"\n",
      "[1] \"6 : 0.155\"\n",
      "[1] \"7 : 0.16\"\n",
      "[1] \"8 : 0.165\"\n",
      "[1] \"9 : 0.17\"\n",
      "[1] \"10 : 0.175\"\n",
      "[1] \"11 : 0.18\"\n",
      "[1] \"12 : 0.185\"\n",
      "[1] \"13 : 0.19\"\n",
      "Time difference of 2.393708 mins\n"
     ]
    }
   ],
   "source": [
    "params <- list(\n",
    "                objective = \"binary:logistic\",\n",
    "                eta = xgb.cv.bayes.opt$Best_Par[\"eta\"],\n",
    "                max_depth = xgb.cv.bayes.opt$Best_Par[\"max_depth\"],\n",
    "                gamma = xgb.cv.bayes.opt$Best_Par[\"gamma\"],\n",
    "                min_child_weight = xgb.cv.bayes.opt$Best_Par[\"min_child_weight\"],\n",
    "                subsample = 0.75,\n",
    "                colsample_bytree = 1,\n",
    "                monotone_constraints = mono\n",
    "              )\n",
    "stime <- Sys.time()\n",
    "xgb.CSL.cv.opt2 <- CSL(params, dtrain.samp.1hot, 5, xgb.cv.bayes.opt.nrounds, \n",
    "                           xgb.CSL.cv.opt1.threshold - 0.03, xgb.CSL.cv.opt1.threshold + 0.03, 0.005, feval = \"lift\")\n",
    "print(Sys.time() - stime)"
   ]
  },
  {
   "cell_type": "markdown",
   "metadata": {},
   "source": [
    "**Plot the lift for every threshold in the 0.13-0.19 range**"
   ]
  },
  {
   "cell_type": "code",
   "execution_count": 98,
   "metadata": {},
   "outputs": [
    {
     "data": {
      "image/png": "[encoded data removed]",
      "text/plain": [
       "plot without title"
      ]
     },
     "metadata": {},
     "output_type": "display_data"
    }
   ],
   "source": [
    "xgb.CSL.cv.opt2.df <- as.data.frame(xgb.CSL.cv.opt2)\n",
    "ggplot(xgb.CSL.cv.opt2.df[which(xgb.CSL.cv.opt2.df$performance>0),], aes(x = thresholds, y = performance)) +\n",
    "  geom_line() +\n",
    "  labs(title = \"Profit lift over naïve predictions using XGBoost\",\n",
    "          x = \"Threshold\", y = \"Lift over naive profit\")"
   ]
  },
  {
   "cell_type": "markdown",
   "metadata": {},
   "source": [
    "**Set Optimal Threshold for CSL on a 0.005 scale**"
   ]
  },
  {
   "cell_type": "code",
   "execution_count": 99,
   "metadata": {},
   "outputs": [
    {
     "data": {
      "text/html": [
       "0.16"
      ],
      "text/latex": [
       "0.16"
      ],
      "text/markdown": [
       "0.16"
      ],
      "text/plain": [
       "[1] 0.16"
      ]
     },
     "metadata": {},
     "output_type": "display_data"
    }
   ],
   "source": [
    "xgb.CSL.cv.opt2.threshold <- xgb.CSL.cv.opt2.df$thresholds[which.max(xgb.CSL.cv.opt2.df$performance)]\n",
    "xgb.CSL.cv.opt2.threshold"
   ]
  },
  {
   "cell_type": "markdown",
   "metadata": {},
   "source": [
    "#### 4.2.2) Run & Test XGBoost on Optimal Params but on Full Training Set"
   ]
  },
  {
   "cell_type": "markdown",
   "metadata": {},
   "source": [
    "**Set Optimal Params for Non-Monotonic**"
   ]
  },
  {
   "cell_type": "code",
   "execution_count": 85,
   "metadata": {},
   "outputs": [],
   "source": [
    "xgb.cv.bayes.opt.params <- list(\n",
    "    booster = \"gbtree\",\n",
    "    max_depth = xgb.cv.bayes.opt$Best_Par[\"max_depth\"],\n",
    "    min_child_weight = xgb.cv.bayes.opt$Best_Par[\"min_child_weight\"],\n",
    "    eta = xgb.cv.bayes.opt$Best_Par[\"eta\"],\n",
    "    gamma = xgb.cv.bayes.opt$Best_Par[\"gamma\"],\n",
    "    subsample = 0.9, #xgb.cv.bayes.opt$Best_Par[\"subsample\"],\n",
    "    colsample_bytree = 0.8, #xgb.cv.bayes.opt$Best_Par[\"colsample_bytree\"],\n",
    "    #max_delta_step = xgb.cv.bayes.opt$Best_Par[\"max_delta_step\"], \n",
    "    objective = \"binary:logistic\",\n",
    "    eval_metric=c(\"logloss\", \"auc\", \"aucpr\", \"error\")\n",
    ")"
   ]
  },
  {
   "cell_type": "markdown",
   "metadata": {},
   "source": [
    "**Train model on full training set**"
   ]
  },
  {
   "cell_type": "code",
   "execution_count": 101,
   "metadata": {},
   "outputs": [
    {
     "name": "stdout",
     "output_type": "stream",
     "text": [
      "Time difference of 1.229811 mins\n"
     ]
    }
   ],
   "source": [
    "stime <- Sys.time()\n",
    "xgb.opt.mdl <- xgb.train(params = xgb.cv.bayes.opt.params, nrounds = xgb.cv.bayes.opt.nrounds, data = dtrain.1hot, \n",
    "                              verbose=1, print_every_n=30)\n",
    "print(Sys.time() - stime)"
   ]
  },
  {
   "cell_type": "markdown",
   "metadata": {},
   "source": [
    "**Get Predictions using Test Dataset**"
   ]
  },
  {
   "cell_type": "code",
   "execution_count": 102,
   "metadata": {},
   "outputs": [],
   "source": [
    "xgb.opt.pred <- predict(xgb.opt.mdl, as.matrix(x_test.1hot))"
   ]
  },
  {
   "cell_type": "markdown",
   "metadata": {},
   "source": [
    "**Plot ROC Curve**"
   ]
  },
  {
   "cell_type": "code",
   "execution_count": 105,
   "metadata": {},
   "outputs": [],
   "source": [
    "xgb.opt.pred.fg <- xgb.opt.pred[y_test$default==TRUE]\n",
    "xgb.opt.pred.bg <- xgb.opt.pred[y_test$default==FALSE]"
   ]
  },
  {
   "cell_type": "code",
   "execution_count": 106,
   "metadata": {},
   "outputs": [
    {
     "data": {
      "image/png": "[encoded data removed]",
      "text/plain": [
       "Plot with title “ROC curve\n",
       "AUC = 0.8238248”"
      ]
     },
     "metadata": {},
     "output_type": "display_data"
    }
   ],
   "source": [
    "xgb.opt.roc <- roc.curve(scores.class0 = xgb.opt.pred.fg, scores.class1 = xgb.opt.pred.bg, curve = T)\n",
    "plot(xgb.opt.roc)"
   ]
  },
  {
   "cell_type": "code",
   "execution_count": 108,
   "metadata": {},
   "outputs": [
    {
     "data": {
      "image/png": "[encoded data removed]",
      "text/plain": [
       "Plot with title “PR curve\n",
       "AUC = 0.1899124”"
      ]
     },
     "metadata": {},
     "output_type": "display_data"
    }
   ],
   "source": [
    "xgb.opt.prc <- pr.curve(scores.class0 = xgb.opt.pred.fg, scores.class1 = xgb.opt.pred.bg, curve = T)\n",
    "plot(xgb.opt.prc)"
   ]
  },
  {
   "cell_type": "markdown",
   "metadata": {},
   "source": [
    "**Calculate AUC**"
   ]
  },
  {
   "cell_type": "code",
   "execution_count": 109,
   "metadata": {},
   "outputs": [
    {
     "data": {
      "text/html": [
       "0.823824841275217"
      ],
      "text/latex": [
       "0.823824841275217"
      ],
      "text/markdown": [
       "0.823824841275217"
      ],
      "text/plain": [
       "Area under the curve: 0.8238"
      ]
     },
     "metadata": {},
     "output_type": "display_data"
    }
   ],
   "source": [
    "xgb.opt.auc <- auc(roc(y_test$default, xgb.opt.pred))\n",
    "xgb.opt.auc"
   ]
  },
  {
   "cell_type": "markdown",
   "metadata": {},
   "source": [
    "**Calculate F-score**"
   ]
  },
  {
   "cell_type": "code",
   "execution_count": 110,
   "metadata": {},
   "outputs": [
    {
     "data": {
      "text/html": [
       "0.972652378592666"
      ],
      "text/latex": [
       "0.972652378592666"
      ],
      "text/markdown": [
       "0.972652378592666"
      ],
      "text/plain": [
       "[1] 0.9726524"
      ]
     },
     "metadata": {},
     "output_type": "display_data"
    }
   ],
   "source": [
    "xgb.opt.f1 <- F1_Score(ifelse(xgb.opt.pred > 0.5, 1, 0), ifelse(y_test$default, 1, 0), positive = \"0\")\n",
    "xgb.opt.f1"
   ]
  },
  {
   "cell_type": "markdown",
   "metadata": {},
   "source": [
    "**Generate and Save Confusion Matrix**"
   ]
  },
  {
   "cell_type": "code",
   "execution_count": 104,
   "metadata": {},
   "outputs": [
    {
     "data": {
      "text/plain": [
       "Confusion Matrix and Statistics\n",
       "\n",
       "       \n",
       "         FALSE   TRUE\n",
       "  FALSE 117227   4731\n",
       "  TRUE    8395   2332\n",
       "                                          \n",
       "               Accuracy : 0.9011          \n",
       "                 95% CI : (0.8995, 0.9027)\n",
       "    No Information Rate : 0.9468          \n",
       "    P-Value [Acc > NIR] : 1               \n",
       "                                          \n",
       "                  Kappa : 0.2116          \n",
       "                                          \n",
       " Mcnemar's Test P-Value : <2e-16          \n",
       "                                          \n",
       "            Sensitivity : 0.9332          \n",
       "            Specificity : 0.3302          \n",
       "         Pos Pred Value : 0.9612          \n",
       "         Neg Pred Value : 0.2174          \n",
       "             Prevalence : 0.9468          \n",
       "         Detection Rate : 0.8835          \n",
       "   Detection Prevalence : 0.9192          \n",
       "      Balanced Accuracy : 0.6317          \n",
       "                                          \n",
       "       'Positive' Class : FALSE           \n",
       "                                          "
      ]
     },
     "metadata": {},
     "output_type": "display_data"
    }
   ],
   "source": [
    "xgb.opt.cm <- confusionMatrix(table(xgb.opt.pred > xgb.CSL.cv.opt2.threshold, y_test$default))\n",
    "xgb.opt.cm"
   ]
  },
  {
   "cell_type": "markdown",
   "metadata": {},
   "source": [
    "**Calculate Feature Importance/Influence**"
   ]
  },
  {
   "cell_type": "code",
   "execution_count": 111,
   "metadata": {},
   "outputs": [
    {
     "name": "stdout",
     "output_type": "stream",
     "text": [
      "                                   Feature         Gain        Cover\n",
      " 1:                               int_rate 2.950606e-01 1.592069e-01\n",
      " 2: quantity_indexes_for_real_gdp_by_state 2.296463e-01 1.886576e-01\n",
      " 3:                      real_gdp_by_state 8.181268e-02 6.415944e-02\n",
      " 4:                  initial_list_status_F 6.199753e-02 4.387092e-02\n",
      " 5:           per_capita_real_gdp_by_state 4.254872e-02 6.096016e-02\n",
      " 6:        taxes_on_production_and_imports 4.248315e-02 3.965745e-02\n",
      " 7:              compensation_of_employees 4.237251e-02 5.596858e-02\n",
      " 8:                              subsidies 3.730237e-02 7.783413e-02\n",
      " 9:                gross_operating_surplus 3.498949e-02 6.354411e-02\n",
      "10:                             annual_inc 3.493759e-02 4.744721e-02\n",
      "11:                                  month 2.851295e-02 4.478193e-02\n",
      "12:                  initial_list_status_W 1.050778e-02 1.054389e-02\n",
      "13:                                    dti 8.378386e-03 2.619847e-02\n",
      "14:                 purpose_SMALL_BUSINESS 6.704838e-03 1.102008e-02\n",
      "15:                                grade_C 4.819098e-03 3.488213e-03\n",
      "16:                            installment 4.169448e-03 1.601366e-02\n",
      "17:                              loan_amnt 3.517974e-03 1.605829e-02\n",
      "18:                                grade_A 3.211576e-03 1.617255e-03\n",
      "19:                              term_36MO 2.679747e-03 4.851173e-03\n",
      "20:                        regions_MIDWEST 2.659761e-03 5.841976e-03\n",
      "21:                    home_ownership_RENT 2.495790e-03 8.768504e-03\n",
      "22:                           regions_WEST 2.492662e-03 6.244273e-04\n",
      "23:                                pub_rec 2.419749e-03 8.524616e-03\n",
      "24:                              term_60MO 2.191744e-03 2.172803e-03\n",
      "25:                                grade_E 1.891737e-03 1.365696e-03\n",
      "26:                      regions_NORTHEAST 1.482186e-03 2.912187e-04\n",
      "27:                    purpose_CREDIT_CARD 1.337554e-03 1.016289e-02\n",
      "28:    verification_status_SOURCE_VERIFIED 1.269295e-03 1.861339e-03\n",
      "29:                               open_acc 1.261332e-03 1.099233e-02\n",
      "30:                                grade_D 1.227718e-03 6.269852e-04\n",
      "31:                              total_acc 9.943137e-04 4.032466e-03\n",
      "32:                                grade_G 4.626663e-04 4.614537e-03\n",
      "33:       verification_status_NOT_VERIFIED 4.366449e-04 4.190791e-04\n",
      "34:           verification_status_VERIFIED 4.158694e-04 5.578652e-04\n",
      "35:                          regions_SOUTH 3.538206e-04 3.904155e-05\n",
      "36:                         purpose_OTHERS 3.331269e-04 1.366103e-03\n",
      "37:                home_ownership_MORTGAGE 2.181283e-04 4.236569e-05\n",
      "38:                     home_ownership_OWN 1.679964e-04 6.554192e-04\n",
      "39:                                grade_F 1.317464e-04 5.820038e-04\n",
      "40:                 purpose_MAJOR_PURCHASE 9.545878e-05 5.782400e-04\n",
      "41:             purpose_DEBT_CONSOLIDATION 7.996007e-06 6.520374e-07\n",
      "                                   Feature         Gain        Cover\n",
      "       Frequency\n",
      " 1: 0.1074698795\n",
      " 2: 0.1397590361\n",
      " 3: 0.0790361446\n",
      " 4: 0.0293975904\n",
      " 5: 0.0756626506\n",
      " 6: 0.0496385542\n",
      " 7: 0.0660240964\n",
      " 8: 0.0660240964\n",
      " 9: 0.0621686747\n",
      "10: 0.0573493976\n",
      "11: 0.0583132530\n",
      "12: 0.0067469880\n",
      "13: 0.0390361446\n",
      "14: 0.0091566265\n",
      "15: 0.0038554217\n",
      "16: 0.0303614458\n",
      "17: 0.0240963855\n",
      "18: 0.0024096386\n",
      "19: 0.0096385542\n",
      "20: 0.0053012048\n",
      "21: 0.0081927711\n",
      "22: 0.0043373494\n",
      "23: 0.0053012048\n",
      "24: 0.0033734940\n",
      "25: 0.0028915663\n",
      "26: 0.0019277108\n",
      "27: 0.0077108434\n",
      "28: 0.0024096386\n",
      "29: 0.0144578313\n",
      "30: 0.0019277108\n",
      "31: 0.0101204819\n",
      "32: 0.0024096386\n",
      "33: 0.0024096386\n",
      "34: 0.0019277108\n",
      "35: 0.0004819277\n",
      "36: 0.0033734940\n",
      "37: 0.0019277108\n",
      "38: 0.0014457831\n",
      "39: 0.0004819277\n",
      "40: 0.0009638554\n",
      "41: 0.0004819277\n",
      "       Frequency\n"
     ]
    }
   ],
   "source": [
    "xgb.opt.imp <- xgb.importance(model = xgb.opt.mdl)\n",
    "print(xgb.opt.imp)"
   ]
  },
  {
   "cell_type": "markdown",
   "metadata": {},
   "source": [
    "**Plot Importance/Influence**"
   ]
  },
  {
   "cell_type": "code",
   "execution_count": 112,
   "metadata": {},
   "outputs": [
    {
     "data": {
      "image/png": "[encoded data removed]",
      "text/plain": [
       "plot without title"
      ]
     },
     "metadata": {},
     "output_type": "display_data"
    }
   ],
   "source": [
    "xgb.plot.importance(importance_matrix = xgb.opt.imp)"
   ]
  },
  {
   "cell_type": "markdown",
   "metadata": {},
   "source": [
    "**Dump Tree**"
   ]
  },
  {
   "cell_type": "code",
   "execution_count": 113,
   "metadata": {},
   "outputs": [
    {
     "name": "stderr",
     "output_type": "stream",
     "text": [
      "Warning message:\n",
      "“'with.stats' is deprecated.\n",
      "Use 'with_stats' instead.\n",
      "See help(\"Deprecated\") and help(\"xgboost-deprecated\").”"
     ]
    },
    {
     "data": {
      "text/html": [
       "TRUE"
      ],
      "text/latex": [
       "TRUE"
      ],
      "text/markdown": [
       "TRUE"
      ],
      "text/plain": [
       "[1] TRUE"
      ]
     },
     "metadata": {},
     "output_type": "display_data"
    }
   ],
   "source": [
    "xgb.dump(xgb.opt.mdl, with.stats = T, fname = \"./models/xgb.opt.tree.costopt.txt\")"
   ]
  },
  {
   "cell_type": "markdown",
   "metadata": {},
   "source": [
    "**Save Model**"
   ]
  },
  {
   "cell_type": "code",
   "execution_count": 114,
   "metadata": {},
   "outputs": [
    {
     "data": {
      "text/html": [
       "TRUE"
      ],
      "text/latex": [
       "TRUE"
      ],
      "text/markdown": [
       "TRUE"
      ],
      "text/plain": [
       "[1] TRUE"
      ]
     },
     "metadata": {},
     "output_type": "display_data"
    }
   ],
   "source": [
    "xgb.save(xgb.opt.mdl, \"./models/xgb.opt.costopt.mdl\")"
   ]
  },
  {
   "cell_type": "markdown",
   "metadata": {},
   "source": [
    "**Partial Graph (for 3 top vars)**"
   ]
  },
  {
   "cell_type": "code",
   "execution_count": 139,
   "metadata": {},
   "outputs": [
    {
     "name": "stdout",
     "output_type": "stream",
     "text": [
      "Time difference of 23.6353 mins\n"
     ]
    }
   ],
   "source": [
    "stime <- Sys.time()\n",
    "xgb.opt.mdl.1p <- partial(xgb.opt.mdl, pred.var = \"int_rate\", train = x_train.1hot,\n",
    "                         grid.resolution = 250, trim.outliers = FALSE, prob = TRUE, rug = TRUE, plot = TRUE)\n",
    "print(Sys.time() - stime)"
   ]
  },
  {
   "cell_type": "code",
   "execution_count": 140,
   "metadata": {},
   "outputs": [
    {
     "name": "stdout",
     "output_type": "stream",
     "text": [
      "Time difference of 24.29695 mins\n"
     ]
    }
   ],
   "source": [
    "stime <- Sys.time()\n",
    "xgb.opt.mdl.2p <- partial(xgb.opt.mdl, pred.var = \"quantity_indexes_for_real_gdp_by_state\", train = x_train.1hot,\n",
    "                         grid.resolution = 250, trim.outliers = FALSE, prob = TRUE, rug = TRUE, plot = TRUE)\n",
    "print(Sys.time() - stime)"
   ]
  },
  {
   "cell_type": "code",
   "execution_count": 141,
   "metadata": {},
   "outputs": [
    {
     "name": "stdout",
     "output_type": "stream",
     "text": [
      "Time difference of 24.20846 mins\n"
     ]
    }
   ],
   "source": [
    "stime <- Sys.time()\n",
    "xgb.opt.mdl.3p <- partial(xgb.opt.mdl, pred.var = \"annual_inc\", train = x_train.1hot,\n",
    "                         grid.resolution = 250, trim.outliers = FALSE, prob = TRUE, rug = TRUE, plot = TRUE)\n",
    "print(Sys.time() - stime)"
   ]
  },
  {
   "cell_type": "markdown",
   "metadata": {},
   "source": [
    "#### 4.2.4) Calculate Model Relative Losses"
   ]
  },
  {
   "cell_type": "code",
   "execution_count": 127,
   "metadata": {},
   "outputs": [
    {
     "data": {
      "text/html": [
       "0.259875272704827"
      ],
      "text/latex": [
       "0.259875272704827"
      ],
      "text/markdown": [
       "0.259875272704827"
      ],
      "text/plain": [
       "[1] 0.2598753"
      ]
     },
     "metadata": {},
     "output_type": "display_data"
    }
   ],
   "source": [
    "xgb.opt.cost.ratio <- ((xgb.opt.cm$table[2,1]*mreturns)+(xgb.opt.cm$table[1,2]*mloan_amnt)) / ((xgb.opt.cm$table[1,1]*mreturns))\n",
    "xgb.opt.cost.ratio"
   ]
  },
  {
   "cell_type": "markdown",
   "metadata": {},
   "source": [
    "### 4.3) Compare Models"
   ]
  },
  {
   "cell_type": "markdown",
   "metadata": {},
   "source": [
    "#### 4.3.1) Plot Monotonic Constraint Differences for Top 3 features"
   ]
  },
  {
   "cell_type": "code",
   "execution_count": 142,
   "metadata": {},
   "outputs": [
    {
     "ename": "ERROR",
     "evalue": "Error in as.data.frame(xgb.mono.opt.mdl.1p$panel.args): object 'xgb.mono.opt.mdl.1p' not found\n",
     "output_type": "error",
     "traceback": [
      "Error in as.data.frame(xgb.mono.opt.mdl.1p$panel.args): object 'xgb.mono.opt.mdl.1p' not found\nTraceback:\n",
      "1. as.data.frame(xgb.mono.opt.mdl.1p$panel.args)"
     ]
    }
   ],
   "source": [
    "xgb.mono.opt.mdl.1p.df <- as.data.frame(xgb.mono.opt.mdl.1p$panel.args)\n",
    "xgb.mono.opt.mdl.1p.df$model <- \"monotonic\"\n",
    "xgb.opt.mdl.1p.df <- as.data.frame(xgb.opt.mdl.1p$panel.args)\n",
    "xgb.opt.mdl.1p.df$model <- \"non-monotonic\"\n",
    "xgb.opt.mdl.1p.df <- rbind.data.frame(xgb.mono.opt.mdl.1p.df, xgb.opt.mdl.1p.df)\n",
    "ggplot(xgb.opt.mdl.1p.df, aes(x=x, y=y)) + geom_line(aes(colour = model)) +\n",
    "            xlab(\"int_rate\") + ylab(\"yhat\") + theme_minimal() + theme(legend.position=c(0.2, 0.8))"
   ]
  },
  {
   "cell_type": "code",
   "execution_count": null,
   "metadata": {},
   "outputs": [],
   "source": [
    "xgb.mono.opt.mdl.2p.df <- as.data.frame(xgb.mono.opt.mdl.2p$panel.args)\n",
    "xgb.mono.opt.mdl.2p.df$model <- \"monotonic\"\n",
    "xgb.opt.mdl.2p.df <- as.data.frame(xgb.opt.mdl.2p$panel.args)\n",
    "xgb.opt.mdl.2p.df$model <- \"non-monotonic\"\n",
    "xgb.opt.mdl.2p.df <- rbind.data.frame(xgb.mono.opt.mdl.2p.df, xgb.opt.mdl.2p.df)\n",
    "ggplot(xgb.opt.mdl.2p.df, aes(x=x, y=y)) + geom_line(aes(colour = model)) +\n",
    "            xlab(\"quantity_indexes_for_real_gdp_by_state\") + ylab(\"yhat\") + theme_minimal() + theme(legend.position=c(0.6, 0.8))"
   ]
  },
  {
   "cell_type": "code",
   "execution_count": null,
   "metadata": {},
   "outputs": [],
   "source": [
    "xgb.mono.opt.mdl.3p.df <- as.data.frame(xgb.mono.opt.mdl.3p$panel.args)\n",
    "xgb.mono.opt.mdl.3p.df$model <- \"monotonic\"\n",
    "xgb.opt.mdl.3p.df <- as.data.frame(xgb.opt.mdl.3p$panel.args)\n",
    "xgb.opt.mdl.3p.df$model <- \"non-monotonic\"\n",
    "xgb.opt.mdl.3p.df <- rbind.data.frame(xgb.mono.opt.mdl.3p.df, xgb.opt.mdl.3p.df)\n",
    "ggplot(xgb.opt.mdl.3p.df, aes(x=x, y=y)) + geom_line(aes(colour = model)) +\n",
    "            xlab(\"annual_inc\") + ylab(\"yhat\") + theme_minimal() + theme(legend.position=c(0.6, 0.8))"
   ]
  },
  {
   "cell_type": "code",
   "execution_count": null,
   "metadata": {},
   "outputs": [],
   "source": []
  },
  {
   "cell_type": "code",
   "execution_count": null,
   "metadata": {},
   "outputs": [],
   "source": []
  },
  {
   "cell_type": "code",
   "execution_count": null,
   "metadata": {},
   "outputs": [],
   "source": []
  }
 ],
 "metadata": {
  "kernelspec": {
   "display_name": "R",
   "language": "R",
   "name": "ir"
  },
  "language_info": {
   "codemirror_mode": "r",
   "file_extension": ".r",
   "mimetype": "text/x-r-source",
   "name": "R",
   "pygments_lexer": "r",
   "version": "3.4.4"
  }
 },
 "nbformat": 4,
 "nbformat_minor": 2
}
