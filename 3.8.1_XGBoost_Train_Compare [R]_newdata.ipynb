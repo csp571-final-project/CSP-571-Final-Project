{
 "cells": [
  {
   "cell_type": "markdown",
   "metadata": {},
   "source": [
    "# 3.8.1 Monotonic XGBoost Model\n",
    "#### and comparison with non-monotonic model"
   ]
  },
  {
   "cell_type": "markdown",
   "metadata": {},
   "source": [
    "## 1) Load Required Libraries"
   ]
  },
  {
   "cell_type": "code",
   "execution_count": 1,
   "metadata": {},
   "outputs": [
    {
     "name": "stderr",
     "output_type": "stream",
     "text": [
      "\n",
      "Attaching package: ‘dplyr’\n",
      "\n",
      "The following objects are masked from ‘package:stats’:\n",
      "\n",
      "    filter, lag\n",
      "\n",
      "The following objects are masked from ‘package:base’:\n",
      "\n",
      "    intersect, setdiff, setequal, union\n",
      "\n",
      "Loaded ROSE 0.0-3\n",
      "\n",
      "\n",
      "Attaching package: ‘xgboost’\n",
      "\n",
      "The following object is masked from ‘package:dplyr’:\n",
      "\n",
      "    slice\n",
      "\n",
      "Loaded gbm 2.1.5\n",
      "Loading required package: lattice\n",
      "\n",
      "Attaching package: ‘data.table’\n",
      "\n",
      "The following objects are masked from ‘package:dplyr’:\n",
      "\n",
      "    between, first, last\n",
      "\n",
      "Type 'citation(\"pROC\")' for a citation.\n",
      "\n",
      "Attaching package: ‘pROC’\n",
      "\n",
      "The following objects are masked from ‘package:stats’:\n",
      "\n",
      "    cov, smooth, var\n",
      "\n",
      "\n",
      "Attaching package: ‘PRROC’\n",
      "\n",
      "The following object is masked from ‘package:ROSE’:\n",
      "\n",
      "    roc.curve\n",
      "\n",
      "\n",
      "Attaching package: ‘MLmetrics’\n",
      "\n",
      "The following objects are masked from ‘package:caret’:\n",
      "\n",
      "    MAE, RMSE\n",
      "\n",
      "The following object is masked from ‘package:base’:\n",
      "\n",
      "    Recall\n",
      "\n"
     ]
    }
   ],
   "source": [
    "library(\"dplyr\")\n",
    "library(\"ggplot2\")\n",
    "library(\"ROSE\")\n",
    "library(\"xgboost\")\n",
    "library(\"gbm\")\n",
    "library(\"Matrix\")\n",
    "library(\"pdp\") \n",
    "library(\"caret\")\n",
    "library(\"mltools\")\n",
    "library(\"data.table\")\n",
    "library(\"pROC\")\n",
    "library(\"PRROC\")\n",
    "library(\"rBayesianOptimization\")\n",
    "library(\"DiagrammeR\")\n",
    "library(\"MLmetrics\")"
   ]
  },
  {
   "cell_type": "markdown",
   "metadata": {},
   "source": [
    "## 2) Load Data"
   ]
  },
  {
   "cell_type": "code",
   "execution_count": 2,
   "metadata": {},
   "outputs": [
    {
     "name": "stdout",
     "output_type": "stream",
     "text": [
      "Observations: 204,640\n",
      "Variables: 30\n",
      "$ X.1                                    <int> 1, 2, 3, 4, 8, 9, 10, 11, 12, …\n",
      "$ X                                      <int> 1, 2, 3, 4, 8, 9, 10, 11, 12, …\n",
      "$ loan_amnt                              <int> 7500, 5600, 11200, 25000, 5000…\n",
      "$ term                                   <fct>  36 months,  36 months,  36 mo…\n",
      "$ int_rate                               <dbl> 13.87, 18.04, 11.34, 15.25, 12…\n",
      "$ installment                            <dbl> 255.86, 202.57, 368.48, 869.70…\n",
      "$ grade                                  <fct> D, G, C, E, C, B, A, B, B, C, …\n",
      "$ home_ownership                         <fct> MORTGAGE, OWN, RENT, MORTGAGE,…\n",
      "$ annual_inc                             <dbl> 165000, 45000, 44400, 150000, …\n",
      "$ verification_status                    <fct> Not Verified, Not Verified, No…\n",
      "$ pymnt_plan                             <fct> n, n, n, n, n, n, n, n, n, n, …\n",
      "$ purpose                                <fct> Others, home_improvement, debt…\n",
      "$ dti                                    <dbl> 20.95, 25.84, 6.92, 6.82, 18.2…\n",
      "$ open_acc                               <int> 15, 11, 9, 5, 9, 5, 6, 12, 7, …\n",
      "$ pub_rec                                <int> 0, 0, 0, 0, 0, 0, 0, 0, 0, 0, …\n",
      "$ total_acc                              <int> 29, 17, 11, 12, 12, 18, 14, 30…\n",
      "$ initial_list_status                    <fct> f, f, f, f, f, f, f, f, f, f, …\n",
      "$ application_type                       <fct> INDIVIDUAL, INDIVIDUAL, INDIVI…\n",
      "$ GeoName                                <fct> Alaska, Alaska, Alaska, Alaska…\n",
      "$ Compensation.of.employees              <int> 149, 149, 149, 149, 159, 159, …\n",
      "$ Gross.operating.surplus                <int> 197, 197, 197, 197, 198, 198, …\n",
      "$ Per.capita.real.GDP.by.state           <int> 442, 442, 442, 442, 445, 445, …\n",
      "$ Quantity.indexes.for.real.GDP.by.state <int> 333, 333, 333, 333, 335, 335, …\n",
      "$ Real.GDP.by.state                      <int> 309, 309, 309, 309, 310, 310, …\n",
      "$ Subsidies                              <int> 6, 6, 6, 6, 377, 377, 377, 377…\n",
      "$ Taxes.on.production.and.imports        <int> 339, 339, 339, 339, 4, 4, 4, 4…\n",
      "$ profit                                 <dbl> 1710.870, -1872.500, 2063.930,…\n",
      "$ default                                <lgl> FALSE, TRUE, FALSE, FALSE, FAL…\n",
      "$ regions                                <fct> West, West, West, West, West, …\n",
      "$ month                                  <int> 6, 1, 3, 12, 12, 7, 11, 4, 5, …\n"
     ]
    }
   ],
   "source": [
    "train.df <- read.csv(file=\"./data/TrainData.csv\", header=TRUE, sep=\",\")\n",
    "train.orig.df <- train.df\n",
    "glimpse(train.df)"
   ]
  },
  {
   "cell_type": "code",
   "execution_count": 3,
   "metadata": {},
   "outputs": [
    {
     "name": "stdout",
     "output_type": "stream",
     "text": [
      "Observations: 51,159\n",
      "Variables: 30\n",
      "$ X.1                                    <int> 5, 6, 7, 13, 15, 19, 30, 32, 3…\n",
      "$ X                                      <int> 5, 6, 7, 13, 15, 19, 30, 32, 3…\n",
      "$ loan_amnt                              <int> 12200, 9325, 15000, 15000, 400…\n",
      "$ term                                   <fct>  36 months,  36 months,  36 mo…\n",
      "$ int_rate                               <dbl> 12.29, 12.53, 11.89, 13.16, 12…\n",
      "$ installment                            <dbl> 406.91, 312.08, 497.46, 506.56…\n",
      "$ grade                                  <fct> C, C, B, C, C, B, B, D, A, B, …\n",
      "$ home_ownership                         <fct> OWN, MORTGAGE, MORTGAGE, MORTG…\n",
      "$ annual_inc                             <dbl> 38400, 85000, 90000, 150000, 8…\n",
      "$ verification_status                    <fct> Not Verified, Not Verified, Ve…\n",
      "$ pymnt_plan                             <fct> n, n, n, n, n, n, n, n, n, n, …\n",
      "$ purpose                                <fct> home_improvement, small_busine…\n",
      "$ dti                                    <dbl> 9.31, 18.58, 17.11, 4.06, 12.2…\n",
      "$ open_acc                               <int> 4, 16, 18, 8, 6, 12, 6, 8, 7, …\n",
      "$ pub_rec                                <int> 0, 0, 0, 0, 0, 0, 0, 0, 0, 0, …\n",
      "$ total_acc                              <int> 8, 41, 23, 32, 7, 49, 12, 24, …\n",
      "$ initial_list_status                    <fct> f, f, f, f, f, f, f, f, f, f, …\n",
      "$ application_type                       <fct> INDIVIDUAL, INDIVIDUAL, INDIVI…\n",
      "$ GeoName                                <fct> Alaska, Alaska, Alaska, Alaska…\n",
      "$ Compensation.of.employees              <int> 149, 159, 159, 159, 170, 170, …\n",
      "$ Gross.operating.surplus                <int> 197, 198, 198, 198, 193, 193, …\n",
      "$ Per.capita.real.GDP.by.state           <int> 442, 445, 445, 445, 456, 456, …\n",
      "$ Quantity.indexes.for.real.GDP.by.state <int> 333, 335, 335, 335, 1, 1, 1, 1…\n",
      "$ Real.GDP.by.state                      <int> 309, 310, 310, 310, 339, 339, …\n",
      "$ Subsidies                              <int> 6, 377, 377, 377, 23, 23, 23, …\n",
      "$ Taxes.on.production.and.imports        <int> 339, 4, 4, 4, 324, 324, 324, 3…\n",
      "$ profit                                 <dbl> 2447.9500, -3778.9300, 2691.20…\n",
      "$ default                                <lgl> FALSE, TRUE, FALSE, FALSE, FAL…\n",
      "$ regions                                <fct> West, West, West, West, West, …\n",
      "$ month                                  <int> 3, 3, 1, 1, 12, 7, 5, 9, 8, 11…\n"
     ]
    }
   ],
   "source": [
    "test.df <- read.csv(file=\"./data/TestData.csv\", header=TRUE, sep=\",\")\n",
    "test.orig.df <- test.df\n",
    "glimpse(test.df)"
   ]
  },
  {
   "cell_type": "markdown",
   "metadata": {},
   "source": [
    "## 3) Transform Data for Modelling"
   ]
  },
  {
   "cell_type": "markdown",
   "metadata": {},
   "source": [
    "### 3.1) Basic Transforms"
   ]
  },
  {
   "cell_type": "markdown",
   "metadata": {},
   "source": [
    "Remove `X.1`, `X`, `pymnt_plan`, `application_type` and `profit` columns"
   ]
  },
  {
   "cell_type": "code",
   "execution_count": 4,
   "metadata": {},
   "outputs": [],
   "source": [
    "train.df$X.1 <- NULL\n",
    "train.df$X <- NULL\n",
    "train.df$GeoName <- NULL\n",
    "train.df$pymnt_plan <- NULL\n",
    "train.df$application_type <- NULL\n",
    "train.df$profit <- NULL"
   ]
  },
  {
   "cell_type": "code",
   "execution_count": 5,
   "metadata": {},
   "outputs": [],
   "source": [
    "test.df$X.1 <- NULL\n",
    "test.df$X <- NULL\n",
    "test.df$GeoName <- NULL\n",
    "test.df$pymnt_plan <- NULL\n",
    "test.df$application_type <- NULL\n",
    "test.df$profit <- NULL"
   ]
  },
  {
   "cell_type": "markdown",
   "metadata": {},
   "source": [
    "Convert all factor levels to uppercase and replace spaces for underscores to make them more readable"
   ]
  },
  {
   "cell_type": "code",
   "execution_count": 6,
   "metadata": {},
   "outputs": [],
   "source": [
    "train.df <- train.df %>% mutate(term = factor(term, labels = c('36MO', '60MO')),\n",
    "        verification_status = factor(verification_status, labels = c('NOT_VERIFIED', 'SOURCE_VERIFIED', 'VERIFIED')),\n",
    "        purpose = factor(purpose, labels = c('CREDIT_CARD', 'DEBT_CONSOLIDATION', 'HOME_IMPROVEMENT', 'MAJOR_PURCHASE', 'OTHERS', 'SMALL_BUSINESS')),\n",
    "        initial_list_status = factor(initial_list_status, labels = c('F', 'W')),\n",
    "        regions = factor(regions, labels = c('MIDWEST', 'NORTHEAST', 'SOUTH', 'WEST')))"
   ]
  },
  {
   "cell_type": "code",
   "execution_count": 7,
   "metadata": {},
   "outputs": [],
   "source": [
    "test.df <- test.df %>% mutate(term = factor(term, labels = c('36MO', '60MO')),\n",
    "        verification_status = factor(verification_status, labels = c('NOT_VERIFIED', 'SOURCE_VERIFIED', 'VERIFIED')),\n",
    "        purpose = factor(purpose, labels = c('CREDIT_CARD', 'DEBT_CONSOLIDATION', 'HOME_IMPROVEMENT', 'MAJOR_PURCHASE', 'OTHERS', 'SMALL_BUSINESS')),\n",
    "        initial_list_status = factor(initial_list_status, labels = c('F', 'W')),\n",
    "        regions = factor(regions, labels = c('MIDWEST', 'NORTHEAST', 'SOUTH', 'WEST')))"
   ]
  },
  {
   "cell_type": "markdown",
   "metadata": {},
   "source": [
    "Rename external source columns for readability and ease of programmatic reference"
   ]
  },
  {
   "cell_type": "code",
   "execution_count": 8,
   "metadata": {},
   "outputs": [],
   "source": [
    "train.df <- train.df %>% rename(\"compensation_of_employees\" = \"Compensation.of.employees\", \n",
    "                           \"gross_operating_surplus\" = \"Gross.operating.surplus\",\n",
    "                           \"per_capita_real_gdp_by_state\" = \"Per.capita.real.GDP.by.state\",\n",
    "                           \"quantity_indexes_for_real_gdp_by_state\" = \"Quantity.indexes.for.real.GDP.by.state\",\n",
    "                           \"real_gdp_by_state\" = \"Real.GDP.by.state\",\n",
    "                           \"subsidies\" = \"Subsidies\",\n",
    "                           \"taxes_on_production_and_imports\" = \"Taxes.on.production.and.imports\")"
   ]
  },
  {
   "cell_type": "code",
   "execution_count": 9,
   "metadata": {},
   "outputs": [],
   "source": [
    "test.df <- test.df %>% rename(\"compensation_of_employees\" = \"Compensation.of.employees\", \n",
    "                           \"gross_operating_surplus\" = \"Gross.operating.surplus\",\n",
    "                           \"per_capita_real_gdp_by_state\" = \"Per.capita.real.GDP.by.state\",\n",
    "                           \"quantity_indexes_for_real_gdp_by_state\" = \"Quantity.indexes.for.real.GDP.by.state\",\n",
    "                           \"real_gdp_by_state\" = \"Real.GDP.by.state\",\n",
    "                           \"subsidies\" = \"Subsidies\",\n",
    "                           \"taxes_on_production_and_imports\" = \"Taxes.on.production.and.imports\")"
   ]
  },
  {
   "cell_type": "markdown",
   "metadata": {},
   "source": [
    "Glimpse newly transformed dataframes"
   ]
  },
  {
   "cell_type": "code",
   "execution_count": 10,
   "metadata": {},
   "outputs": [
    {
     "name": "stdout",
     "output_type": "stream",
     "text": [
      "Observations: 204,640\n",
      "Variables: 24\n",
      "$ loan_amnt                              <int> 7500, 5600, 11200, 25000, 5000…\n",
      "$ term                                   <fct> 36MO, 36MO, 36MO, 36MO, 36MO, …\n",
      "$ int_rate                               <dbl> 13.87, 18.04, 11.34, 15.25, 12…\n",
      "$ installment                            <dbl> 255.86, 202.57, 368.48, 869.70…\n",
      "$ grade                                  <fct> D, G, C, E, C, B, A, B, B, C, …\n",
      "$ home_ownership                         <fct> MORTGAGE, OWN, RENT, MORTGAGE,…\n",
      "$ annual_inc                             <dbl> 165000, 45000, 44400, 150000, …\n",
      "$ verification_status                    <fct> NOT_VERIFIED, NOT_VERIFIED, NO…\n",
      "$ purpose                                <fct> OTHERS, HOME_IMPROVEMENT, DEBT…\n",
      "$ dti                                    <dbl> 20.95, 25.84, 6.92, 6.82, 18.2…\n",
      "$ open_acc                               <int> 15, 11, 9, 5, 9, 5, 6, 12, 7, …\n",
      "$ pub_rec                                <int> 0, 0, 0, 0, 0, 0, 0, 0, 0, 0, …\n",
      "$ total_acc                              <int> 29, 17, 11, 12, 12, 18, 14, 30…\n",
      "$ initial_list_status                    <fct> F, F, F, F, F, F, F, F, F, F, …\n",
      "$ compensation_of_employees              <int> 149, 149, 149, 149, 159, 159, …\n",
      "$ gross_operating_surplus                <int> 197, 197, 197, 197, 198, 198, …\n",
      "$ per_capita_real_gdp_by_state           <int> 442, 442, 442, 442, 445, 445, …\n",
      "$ quantity_indexes_for_real_gdp_by_state <int> 333, 333, 333, 333, 335, 335, …\n",
      "$ real_gdp_by_state                      <int> 309, 309, 309, 309, 310, 310, …\n",
      "$ subsidies                              <int> 6, 6, 6, 6, 377, 377, 377, 377…\n",
      "$ taxes_on_production_and_imports        <int> 339, 339, 339, 339, 4, 4, 4, 4…\n",
      "$ default                                <lgl> FALSE, TRUE, FALSE, FALSE, FAL…\n",
      "$ regions                                <fct> WEST, WEST, WEST, WEST, WEST, …\n",
      "$ month                                  <int> 6, 1, 3, 12, 12, 7, 11, 4, 5, …\n"
     ]
    }
   ],
   "source": [
    "glimpse(train.df)"
   ]
  },
  {
   "cell_type": "code",
   "execution_count": 11,
   "metadata": {},
   "outputs": [
    {
     "name": "stdout",
     "output_type": "stream",
     "text": [
      "Observations: 51,159\n",
      "Variables: 24\n",
      "$ loan_amnt                              <int> 12200, 9325, 15000, 15000, 400…\n",
      "$ term                                   <fct> 36MO, 36MO, 36MO, 36MO, 36MO, …\n",
      "$ int_rate                               <dbl> 12.29, 12.53, 11.89, 13.16, 12…\n",
      "$ installment                            <dbl> 406.91, 312.08, 497.46, 506.56…\n",
      "$ grade                                  <fct> C, C, B, C, C, B, B, D, A, B, …\n",
      "$ home_ownership                         <fct> OWN, MORTGAGE, MORTGAGE, MORTG…\n",
      "$ annual_inc                             <dbl> 38400, 85000, 90000, 150000, 8…\n",
      "$ verification_status                    <fct> NOT_VERIFIED, NOT_VERIFIED, VE…\n",
      "$ purpose                                <fct> HOME_IMPROVEMENT, SMALL_BUSINE…\n",
      "$ dti                                    <dbl> 9.31, 18.58, 17.11, 4.06, 12.2…\n",
      "$ open_acc                               <int> 4, 16, 18, 8, 6, 12, 6, 8, 7, …\n",
      "$ pub_rec                                <int> 0, 0, 0, 0, 0, 0, 0, 0, 0, 0, …\n",
      "$ total_acc                              <int> 8, 41, 23, 32, 7, 49, 12, 24, …\n",
      "$ initial_list_status                    <fct> F, F, F, F, F, F, F, F, F, F, …\n",
      "$ compensation_of_employees              <int> 149, 159, 159, 159, 170, 170, …\n",
      "$ gross_operating_surplus                <int> 197, 198, 198, 198, 193, 193, …\n",
      "$ per_capita_real_gdp_by_state           <int> 442, 445, 445, 445, 456, 456, …\n",
      "$ quantity_indexes_for_real_gdp_by_state <int> 333, 335, 335, 335, 1, 1, 1, 1…\n",
      "$ real_gdp_by_state                      <int> 309, 310, 310, 310, 339, 339, …\n",
      "$ subsidies                              <int> 6, 377, 377, 377, 23, 23, 23, …\n",
      "$ taxes_on_production_and_imports        <int> 339, 4, 4, 4, 324, 324, 324, 3…\n",
      "$ default                                <lgl> FALSE, TRUE, FALSE, FALSE, FAL…\n",
      "$ regions                                <fct> WEST, WEST, WEST, WEST, WEST, …\n",
      "$ month                                  <int> 3, 3, 1, 1, 12, 7, 5, 9, 8, 11…\n"
     ]
    }
   ],
   "source": [
    "glimpse(test.df)"
   ]
  },
  {
   "cell_type": "markdown",
   "metadata": {},
   "source": [
    "### 3.2) One-hot encoded version (for monotonic constraints)"
   ]
  },
  {
   "cell_type": "code",
   "execution_count": 12,
   "metadata": {},
   "outputs": [
    {
     "name": "stdout",
     "output_type": "stream",
     "text": [
      "Observations: 204,640\n",
      "Variables: 44\n",
      "$ loan_amnt                              <int> 7500, 5600, 11200, 25000, 5000…\n",
      "$ term_36MO                              <int> 1, 1, 1, 1, 1, 1, 1, 1, 1, 1, …\n",
      "$ term_60MO                              <int> 0, 0, 0, 0, 0, 0, 0, 0, 0, 0, …\n",
      "$ int_rate                               <dbl> 13.87, 18.04, 11.34, 15.25, 12…\n",
      "$ installment                            <dbl> 255.86, 202.57, 368.48, 869.70…\n",
      "$ grade_A                                <int> 0, 0, 0, 0, 0, 0, 1, 0, 0, 0, …\n",
      "$ grade_B                                <int> 0, 0, 0, 0, 0, 1, 0, 1, 1, 0, …\n",
      "$ grade_C                                <int> 0, 0, 1, 0, 1, 0, 0, 0, 0, 1, …\n",
      "$ grade_D                                <int> 1, 0, 0, 0, 0, 0, 0, 0, 0, 0, …\n",
      "$ grade_E                                <int> 0, 0, 0, 1, 0, 0, 0, 0, 0, 0, …\n",
      "$ grade_F                                <int> 0, 0, 0, 0, 0, 0, 0, 0, 0, 0, …\n",
      "$ grade_G                                <int> 0, 1, 0, 0, 0, 0, 0, 0, 0, 0, …\n",
      "$ home_ownership_MORTGAGE                <int> 1, 0, 0, 1, 0, 1, 1, 1, 1, 1, …\n",
      "$ home_ownership_OWN                     <int> 0, 1, 0, 0, 0, 0, 0, 0, 0, 0, …\n",
      "$ home_ownership_RENT                    <int> 0, 0, 1, 0, 1, 0, 0, 0, 0, 0, …\n",
      "$ annual_inc                             <dbl> 165000, 45000, 44400, 150000, …\n",
      "$ verification_status_NOT_VERIFIED       <int> 1, 1, 1, 0, 1, 1, 1, 0, 1, 0, …\n",
      "$ verification_status_SOURCE_VERIFIED    <int> 0, 0, 0, 0, 0, 0, 0, 0, 0, 0, …\n",
      "$ verification_status_VERIFIED           <int> 0, 0, 0, 1, 0, 0, 0, 1, 0, 1, …\n",
      "$ purpose_CREDIT_CARD                    <int> 0, 0, 0, 0, 0, 0, 1, 0, 0, 0, …\n",
      "$ purpose_DEBT_CONSOLIDATION             <int> 0, 0, 1, 0, 0, 0, 0, 0, 1, 1, …\n",
      "$ purpose_HOME_IMPROVEMENT               <int> 0, 1, 0, 0, 0, 0, 0, 0, 0, 0, …\n",
      "$ purpose_MAJOR_PURCHASE                 <int> 0, 0, 0, 0, 0, 0, 0, 0, 0, 0, …\n",
      "$ purpose_OTHERS                         <int> 1, 0, 0, 0, 1, 1, 0, 1, 0, 0, …\n",
      "$ purpose_SMALL_BUSINESS                 <int> 0, 0, 0, 1, 0, 0, 0, 0, 0, 0, …\n",
      "$ dti                                    <dbl> 20.95, 25.84, 6.92, 6.82, 18.2…\n",
      "$ open_acc                               <int> 15, 11, 9, 5, 9, 5, 6, 12, 7, …\n",
      "$ pub_rec                                <int> 0, 0, 0, 0, 0, 0, 0, 0, 0, 0, …\n",
      "$ total_acc                              <int> 29, 17, 11, 12, 12, 18, 14, 30…\n",
      "$ initial_list_status_F                  <int> 1, 1, 1, 1, 1, 1, 1, 1, 1, 1, …\n",
      "$ initial_list_status_W                  <int> 0, 0, 0, 0, 0, 0, 0, 0, 0, 0, …\n",
      "$ compensation_of_employees              <int> 149, 149, 149, 149, 159, 159, …\n",
      "$ gross_operating_surplus                <int> 197, 197, 197, 197, 198, 198, …\n",
      "$ per_capita_real_gdp_by_state           <int> 442, 442, 442, 442, 445, 445, …\n",
      "$ quantity_indexes_for_real_gdp_by_state <int> 333, 333, 333, 333, 335, 335, …\n",
      "$ real_gdp_by_state                      <int> 309, 309, 309, 309, 310, 310, …\n",
      "$ subsidies                              <int> 6, 6, 6, 6, 377, 377, 377, 377…\n",
      "$ taxes_on_production_and_imports        <int> 339, 339, 339, 339, 4, 4, 4, 4…\n",
      "$ default                                <lgl> FALSE, TRUE, FALSE, FALSE, FAL…\n",
      "$ regions_MIDWEST                        <int> 0, 0, 0, 0, 0, 0, 0, 0, 0, 0, …\n",
      "$ regions_NORTHEAST                      <int> 0, 0, 0, 0, 0, 0, 0, 0, 0, 0, …\n",
      "$ regions_SOUTH                          <int> 0, 0, 0, 0, 0, 0, 0, 0, 0, 0, …\n",
      "$ regions_WEST                           <int> 1, 1, 1, 1, 1, 1, 1, 1, 1, 1, …\n",
      "$ month                                  <int> 6, 1, 3, 12, 12, 7, 11, 4, 5, …\n"
     ]
    }
   ],
   "source": [
    "train.1hot.df <- one_hot(as.data.table(train.df))\n",
    "glimpse(train.1hot.df)"
   ]
  },
  {
   "cell_type": "code",
   "execution_count": 13,
   "metadata": {},
   "outputs": [
    {
     "name": "stdout",
     "output_type": "stream",
     "text": [
      "Observations: 51,159\n",
      "Variables: 44\n",
      "$ loan_amnt                              <int> 12200, 9325, 15000, 15000, 400…\n",
      "$ term_36MO                              <int> 1, 1, 1, 1, 1, 1, 1, 1, 1, 1, …\n",
      "$ term_60MO                              <int> 0, 0, 0, 0, 0, 0, 0, 0, 0, 0, …\n",
      "$ int_rate                               <dbl> 12.29, 12.53, 11.89, 13.16, 12…\n",
      "$ installment                            <dbl> 406.91, 312.08, 497.46, 506.56…\n",
      "$ grade_A                                <int> 0, 0, 0, 0, 0, 0, 0, 0, 1, 0, …\n",
      "$ grade_B                                <int> 0, 0, 1, 0, 0, 1, 1, 0, 0, 1, …\n",
      "$ grade_C                                <int> 1, 1, 0, 1, 1, 0, 0, 0, 0, 0, …\n",
      "$ grade_D                                <int> 0, 0, 0, 0, 0, 0, 0, 1, 0, 0, …\n",
      "$ grade_E                                <int> 0, 0, 0, 0, 0, 0, 0, 0, 0, 0, …\n",
      "$ grade_F                                <int> 0, 0, 0, 0, 0, 0, 0, 0, 0, 0, …\n",
      "$ grade_G                                <int> 0, 0, 0, 0, 0, 0, 0, 0, 0, 0, …\n",
      "$ home_ownership_MORTGAGE                <int> 0, 1, 1, 1, 1, 0, 0, 1, 1, 1, …\n",
      "$ home_ownership_OWN                     <int> 1, 0, 0, 0, 0, 0, 0, 0, 0, 0, …\n",
      "$ home_ownership_RENT                    <int> 0, 0, 0, 0, 0, 1, 1, 0, 0, 0, …\n",
      "$ annual_inc                             <dbl> 38400, 85000, 90000, 150000, 8…\n",
      "$ verification_status_NOT_VERIFIED       <int> 1, 1, 0, 0, 1, 1, 1, 0, 0, 0, …\n",
      "$ verification_status_SOURCE_VERIFIED    <int> 0, 0, 0, 0, 0, 0, 0, 1, 0, 0, …\n",
      "$ verification_status_VERIFIED           <int> 0, 0, 1, 1, 0, 0, 0, 0, 1, 1, …\n",
      "$ purpose_CREDIT_CARD                    <int> 0, 0, 0, 0, 0, 0, 0, 0, 0, 1, …\n",
      "$ purpose_DEBT_CONSOLIDATION             <int> 0, 0, 0, 0, 0, 0, 1, 0, 1, 0, …\n",
      "$ purpose_HOME_IMPROVEMENT               <int> 1, 0, 1, 0, 0, 0, 0, 1, 0, 0, …\n",
      "$ purpose_MAJOR_PURCHASE                 <int> 0, 0, 0, 0, 0, 0, 0, 0, 0, 0, …\n",
      "$ purpose_OTHERS                         <int> 0, 0, 0, 0, 1, 1, 0, 0, 0, 0, …\n",
      "$ purpose_SMALL_BUSINESS                 <int> 0, 1, 0, 1, 0, 0, 0, 0, 0, 0, …\n",
      "$ dti                                    <dbl> 9.31, 18.58, 17.11, 4.06, 12.2…\n",
      "$ open_acc                               <int> 4, 16, 18, 8, 6, 12, 6, 8, 7, …\n",
      "$ pub_rec                                <int> 0, 0, 0, 0, 0, 0, 0, 0, 0, 0, …\n",
      "$ total_acc                              <int> 8, 41, 23, 32, 7, 49, 12, 24, …\n",
      "$ initial_list_status_F                  <int> 1, 1, 1, 1, 1, 1, 1, 1, 1, 1, …\n",
      "$ initial_list_status_W                  <int> 0, 0, 0, 0, 0, 0, 0, 0, 0, 0, …\n",
      "$ compensation_of_employees              <int> 149, 159, 159, 159, 170, 170, …\n",
      "$ gross_operating_surplus                <int> 197, 198, 198, 198, 193, 193, …\n",
      "$ per_capita_real_gdp_by_state           <int> 442, 445, 445, 445, 456, 456, …\n",
      "$ quantity_indexes_for_real_gdp_by_state <int> 333, 335, 335, 335, 1, 1, 1, 1…\n",
      "$ real_gdp_by_state                      <int> 309, 310, 310, 310, 339, 339, …\n",
      "$ subsidies                              <int> 6, 377, 377, 377, 23, 23, 23, …\n",
      "$ taxes_on_production_and_imports        <int> 339, 4, 4, 4, 324, 324, 324, 3…\n",
      "$ default                                <lgl> FALSE, TRUE, FALSE, FALSE, FAL…\n",
      "$ regions_MIDWEST                        <int> 0, 0, 0, 0, 0, 0, 0, 0, 0, 0, …\n",
      "$ regions_NORTHEAST                      <int> 0, 0, 0, 0, 0, 0, 0, 0, 0, 0, …\n",
      "$ regions_SOUTH                          <int> 0, 0, 0, 0, 0, 0, 0, 0, 0, 0, …\n",
      "$ regions_WEST                           <int> 1, 1, 1, 1, 1, 1, 1, 1, 1, 1, …\n",
      "$ month                                  <int> 3, 3, 1, 1, 12, 7, 5, 9, 8, 11…\n"
     ]
    }
   ],
   "source": [
    "test.1hot.df <- one_hot(as.data.table(test.df))\n",
    "glimpse(test.1hot.df)"
   ]
  },
  {
   "cell_type": "code",
   "execution_count": 14,
   "metadata": {},
   "outputs": [],
   "source": [
    "write.csv(train.1hot.df, file = \"./data/new.train.1hot.df.csv\")\n",
    "write.csv(test.1hot.df, file = \"./data/new.test.1hot.df.csv\")\n",
    "write.csv(train.df, file = \"./data/new.train.df.csv\")\n",
    "write.csv(test.df, file = \"./data/new.test.df.csv\")"
   ]
  },
  {
   "cell_type": "markdown",
   "metadata": {},
   "source": [
    "### 3.3) Calculate Sampled Medians (for Cost Sensitive Learning & Evaluation )"
   ]
  },
  {
   "cell_type": "markdown",
   "metadata": {},
   "source": [
    "Calculate median sample returns"
   ]
  },
  {
   "cell_type": "code",
   "execution_count": 15,
   "metadata": {},
   "outputs": [
    {
     "data": {
      "text/html": [
       "4120.55362822518"
      ],
      "text/latex": [
       "4120.55362822518"
      ],
      "text/markdown": [
       "4120.55362822518"
      ],
      "text/plain": [
       "[1] 4120.554"
      ]
     },
     "metadata": {},
     "output_type": "display_data"
    }
   ],
   "source": [
    "mreturns <- mean((train.df %>% mutate(returns = (installment * ifelse(term=='36MO', 36, 60)) - loan_amnt))$returns)\n",
    "mreturns"
   ]
  },
  {
   "cell_type": "markdown",
   "metadata": {},
   "source": [
    "Median sample loan amount"
   ]
  },
  {
   "cell_type": "code",
   "execution_count": 16,
   "metadata": {},
   "outputs": [
    {
     "data": {
      "text/html": [
       "13522.2866985927"
      ],
      "text/latex": [
       "13522.2866985927"
      ],
      "text/markdown": [
       "13522.2866985927"
      ],
      "text/plain": [
       "[1] 13522.29"
      ]
     },
     "metadata": {},
     "output_type": "display_data"
    }
   ],
   "source": [
    "mloan_amnt <- mean(train.df$loan_amnt)\n",
    "mloan_amnt"
   ]
  },
  {
   "cell_type": "markdown",
   "metadata": {},
   "source": [
    "### 3.4) Generate Y/X Sets for all versions"
   ]
  },
  {
   "cell_type": "markdown",
   "metadata": {},
   "source": [
    "Remove returns from all training set to"
   ]
  },
  {
   "cell_type": "code",
   "execution_count": 17,
   "metadata": {},
   "outputs": [],
   "source": [
    "y_train <- subset(train.1hot.df, select=default)\n",
    "x_train <- subset(train.df, select=-c(default))\n",
    "x_train.1hot <- subset(train.1hot.df, select=-c(default))\n",
    "y_test <- subset(test.1hot.df, select=default)\n",
    "x_test <- subset(test.df, select=-c(default))\n",
    "x_test.1hot <- subset(test.1hot.df, select=-c(default))"
   ]
  },
  {
   "cell_type": "markdown",
   "metadata": {},
   "source": [
    "### 3.7) Create Constraint Matrix"
   ]
  },
  {
   "cell_type": "markdown",
   "metadata": {},
   "source": [
    "**Calculate the Correlation Direction Between Response and Predictors**"
   ]
  },
  {
   "cell_type": "code",
   "execution_count": 18,
   "metadata": {},
   "outputs": [],
   "source": [
    "mono <- cor(y_train, x_train.1hot, method = 'spearman', use=\"pairwise.complete.obs\") / abs(cor(y_train, x_train.1hot, method = 'spearman', use=\"pairwise.complete.obs\"))"
   ]
  },
  {
   "cell_type": "markdown",
   "metadata": {},
   "source": [
    "Take a look at the constraints"
   ]
  },
  {
   "cell_type": "code",
   "execution_count": 19,
   "metadata": {},
   "outputs": [
    {
     "name": "stdout",
     "output_type": "stream",
     "text": [
      "Observations: 1\n",
      "Variables: 43\n",
      "$ loan_amnt                              <dbl> 1\n",
      "$ term_36MO                              <dbl> -1\n",
      "$ term_60MO                              <dbl> 1\n",
      "$ int_rate                               <dbl> 1\n",
      "$ installment                            <dbl> 1\n",
      "$ grade_A                                <dbl> -1\n",
      "$ grade_B                                <dbl> -1\n",
      "$ grade_C                                <dbl> 1\n",
      "$ grade_D                                <dbl> 1\n",
      "$ grade_E                                <dbl> 1\n",
      "$ grade_F                                <dbl> 1\n",
      "$ grade_G                                <dbl> 1\n",
      "$ home_ownership_MORTGAGE                <dbl> -1\n",
      "$ home_ownership_OWN                     <dbl> 1\n",
      "$ home_ownership_RENT                    <dbl> 1\n",
      "$ annual_inc                             <dbl> -1\n",
      "$ verification_status_NOT_VERIFIED       <dbl> -1\n",
      "$ verification_status_SOURCE_VERIFIED    <dbl> 1\n",
      "$ verification_status_VERIFIED           <dbl> 1\n",
      "$ purpose_CREDIT_CARD                    <dbl> -1\n",
      "$ purpose_DEBT_CONSOLIDATION             <dbl> 1\n",
      "$ purpose_HOME_IMPROVEMENT               <dbl> -1\n",
      "$ purpose_MAJOR_PURCHASE                 <dbl> -1\n",
      "$ purpose_OTHERS                         <dbl> 1\n",
      "$ purpose_SMALL_BUSINESS                 <dbl> 1\n",
      "$ dti                                    <dbl> 1\n",
      "$ open_acc                               <dbl> 1\n",
      "$ pub_rec                                <dbl> 1\n",
      "$ total_acc                              <dbl> -1\n",
      "$ initial_list_status_F                  <dbl> 1\n",
      "$ initial_list_status_W                  <dbl> -1\n",
      "$ compensation_of_employees              <dbl> 1\n",
      "$ gross_operating_surplus                <dbl> -1\n",
      "$ per_capita_real_gdp_by_state           <dbl> -1\n",
      "$ quantity_indexes_for_real_gdp_by_state <dbl> 1\n",
      "$ real_gdp_by_state                      <dbl> 1\n",
      "$ subsidies                              <dbl> -1\n",
      "$ taxes_on_production_and_imports        <dbl> 1\n",
      "$ regions_MIDWEST                        <dbl> 1\n",
      "$ regions_NORTHEAST                      <dbl> 1\n",
      "$ regions_SOUTH                          <dbl> 1\n",
      "$ regions_WEST                           <dbl> -1\n",
      "$ month                                  <dbl> -1\n"
     ]
    }
   ],
   "source": [
    "glimpse(as.data.frame(mono))"
   ]
  },
  {
   "cell_type": "markdown",
   "metadata": {},
   "source": [
    "### 3.8) Create DMatrixes"
   ]
  },
  {
   "cell_type": "code",
   "execution_count": 20,
   "metadata": {},
   "outputs": [],
   "source": [
    "dtrain.1hot <- xgb.DMatrix(data = data.matrix(x_train.1hot), label = data.matrix(y_train))\n",
    "dtrain <- xgb.DMatrix(data = data.matrix(x_train), label = data.matrix(y_train))"
   ]
  },
  {
   "cell_type": "markdown",
   "metadata": {},
   "source": [
    "### 3.9) Create Folds on Sampling"
   ]
  },
  {
   "cell_type": "code",
   "execution_count": 21,
   "metadata": {},
   "outputs": [],
   "source": [
    "seedNum <- 19\n",
    "cv_folds <- KFold(y_train$default, nfolds = 5, stratified = FALSE, seed=seedNum)"
   ]
  },
  {
   "cell_type": "markdown",
   "metadata": {},
   "source": [
    "## 4) Modelling"
   ]
  },
  {
   "cell_type": "markdown",
   "metadata": {},
   "source": [
    "### 4.1) Monotonic Constrained XGBoost"
   ]
  },
  {
   "cell_type": "markdown",
   "metadata": {},
   "source": [
    "#### 4.1.1) Perform Hyperparameter Tuning with Bayesian Optimization and Cross Validation on the Training Data Sample\n",
    "\n",
    "Optimize the PR AUC"
   ]
  },
  {
   "cell_type": "code",
   "execution_count": 22,
   "metadata": {},
   "outputs": [],
   "source": [
    "xgb.mono.cv.bayes <- function(nround, max_depth, min_child_weight, eta, gamma) { # subsample, colsample_bytree, max_delta_step\n",
    "    xgb.getLift <- function(preds, dtrain) {\n",
    "        labels <- getinfo(dtrain, \"label\")\n",
    "        lift <- getLift(preds, labels, thresholds[i])\n",
    "        return(list(metric = \"Lift\", value = lift))\n",
    "    }\n",
    "    params <- list(\n",
    "                    booster = \"gbtree\", #\"gblinear\", \"dart\"\n",
    "                    max_depth = max_depth,\n",
    "                    min_child_weight = min_child_weight,\n",
    "                    eta = eta,\n",
    "                    gamma = gamma,\n",
    "                    subsample = 0.9, #subsample, \n",
    "                    colsample_bytree = 0.8, #colsample_bytree,\n",
    "                    #max_delta_step = max_delta_step,\n",
    "                    #lambda = 1, \n",
    "                    #alpha = 0,\n",
    "                    objective = \"binary:logistic\",\n",
    "                    eval_metric = \"aucpr\", \n",
    "                    monotone_constraints = mono\n",
    "                 )\n",
    "    cv <- xgb.cv(params = params, data = dtrain.1hot, folds = cv_folds, nrounds = 300, \n",
    "                 early_stopping_rounds = 20, maximize = TRUE, verbose = TRUE, print_every_n=20)\n",
    "    return(list(Score = cv$evaluation_log$test_aucpr_mean[cv$best_iteration], Pred=cv$best_iteration))\n",
    "}"
   ]
  },
  {
   "cell_type": "code",
   "execution_count": 23,
   "metadata": {},
   "outputs": [
    {
     "name": "stdout",
     "output_type": "stream",
     "text": [
      "\n",
      " Best Parameters Found: \n",
      "Round = 2\tmax_depth = 5.0000\tmin_child_weight = 2.0000\teta = 0.1703\tgamma = 0.3935\tValue = 0.3490 \n",
      "Time difference of 46.96268 mins\n"
     ]
    }
   ],
   "source": [
    "stime <- Sys.time()\n",
    "xgb.mono.cv.bayes.opt <- BayesianOptimization(xgb.mono.cv.bayes,\n",
    "                              bounds = list(max_depth = c(3L, 15L), \n",
    "                                            min_child_weight = c(1L, 7L),\n",
    "                                            eta=c(0.05, 0.3),\n",
    "                                            gamma = c(0.0, 0.4) #,\n",
    "                                            #subsample = c(0.6, 0.9),\n",
    "                                            #colsample_bytree=c(0.3, 0.7),\n",
    "                                            #max_delta_step=c(1L, 10L)\n",
    "                                        ),\n",
    "                              init_grid_dt = NULL, init_points = 10, n_iter = 10,\n",
    "                              acq = \"ucb\", kappa = 2.576, eps = 0.0, verbose = FALSE)\n",
    "print(Sys.time() - stime)"
   ]
  },
  {
   "cell_type": "markdown",
   "metadata": {},
   "source": [
    "**Bayesian Optimization History**"
   ]
  },
  {
   "cell_type": "code",
   "execution_count": 24,
   "metadata": {},
   "outputs": [
    {
     "data": {
      "text/html": [
       "<table>\n",
       "<thead><tr><th scope=col>Round</th><th scope=col>max_depth</th><th scope=col>min_child_weight</th><th scope=col>eta</th><th scope=col>gamma</th><th scope=col>Value</th></tr></thead>\n",
       "<tbody>\n",
       "\t<tr><td> 1         </td><td>12         </td><td>6          </td><td>0.24412329 </td><td>0.133080461</td><td>0.3482882  </td></tr>\n",
       "\t<tr><td> 2         </td><td> 5         </td><td>2          </td><td>0.17025765 </td><td>0.393479593</td><td>0.3489536  </td></tr>\n",
       "\t<tr><td> 3         </td><td> 9         </td><td>3          </td><td>0.09932515 </td><td>0.338871139</td><td>0.3487988  </td></tr>\n",
       "\t<tr><td> 4         </td><td>12         </td><td>2          </td><td>0.09238451 </td><td>0.231440735</td><td>0.3487566  </td></tr>\n",
       "\t<tr><td> 5         </td><td> 6         </td><td>4          </td><td>0.21399187 </td><td>0.235047035</td><td>0.3484740  </td></tr>\n",
       "\t<tr><td> 6         </td><td>13         </td><td>4          </td><td>0.29085539 </td><td>0.280479506</td><td>0.3473796  </td></tr>\n",
       "\t<tr><td> 7         </td><td> 9         </td><td>2          </td><td>0.28628159 </td><td>0.076092796</td><td>0.3468610  </td></tr>\n",
       "\t<tr><td> 8         </td><td> 9         </td><td>5          </td><td>0.24449615 </td><td>0.015563134</td><td>0.3473460  </td></tr>\n",
       "\t<tr><td> 9         </td><td> 8         </td><td>5          </td><td>0.22571625 </td><td>0.159017075</td><td>0.3477340  </td></tr>\n",
       "\t<tr><td>10         </td><td> 5         </td><td>4          </td><td>0.13333981 </td><td>0.243278985</td><td>0.3482796  </td></tr>\n",
       "\t<tr><td>11         </td><td>13         </td><td>4          </td><td>0.17715689 </td><td>0.007961098</td><td>0.3480950  </td></tr>\n",
       "\t<tr><td>12         </td><td> 9         </td><td>1          </td><td>0.05000000 </td><td>0.269397921</td><td>0.3486998  </td></tr>\n",
       "\t<tr><td>13         </td><td> 3         </td><td>4          </td><td>0.21062590 </td><td>0.203176104</td><td>0.3467652  </td></tr>\n",
       "\t<tr><td>14         </td><td>11         </td><td>4          </td><td>0.07743618 </td><td>0.398617274</td><td>0.3489254  </td></tr>\n",
       "\t<tr><td>15         </td><td> 7         </td><td>1          </td><td>0.06034497 </td><td>0.343793001</td><td>0.3486718  </td></tr>\n",
       "\t<tr><td>16         </td><td>11         </td><td>6          </td><td>0.10517521 </td><td>0.024682905</td><td>0.3489106  </td></tr>\n",
       "\t<tr><td>17         </td><td> 6         </td><td>2          </td><td>0.16638651 </td><td>0.400000000</td><td>0.3483354  </td></tr>\n",
       "\t<tr><td>18         </td><td> 5         </td><td>2          </td><td>0.30000000 </td><td>0.319268032</td><td>0.3475118  </td></tr>\n",
       "\t<tr><td>19         </td><td> 8         </td><td>3          </td><td>0.10102293 </td><td>0.353023278</td><td>0.3486124  </td></tr>\n",
       "\t<tr><td>20         </td><td>14         </td><td>3          </td><td>0.05000000 </td><td>0.292797604</td><td>0.3484092  </td></tr>\n",
       "</tbody>\n",
       "</table>\n"
      ],
      "text/latex": [
       "\\begin{tabular}{r|llllll}\n",
       " Round & max\\_depth & min\\_child\\_weight & eta & gamma & Value\\\\\n",
       "\\hline\n",
       "\t  1          & 12          & 6           & 0.24412329  & 0.133080461 & 0.3482882  \\\\\n",
       "\t  2          &  5          & 2           & 0.17025765  & 0.393479593 & 0.3489536  \\\\\n",
       "\t  3          &  9          & 3           & 0.09932515  & 0.338871139 & 0.3487988  \\\\\n",
       "\t  4          & 12          & 2           & 0.09238451  & 0.231440735 & 0.3487566  \\\\\n",
       "\t  5          &  6          & 4           & 0.21399187  & 0.235047035 & 0.3484740  \\\\\n",
       "\t  6          & 13          & 4           & 0.29085539  & 0.280479506 & 0.3473796  \\\\\n",
       "\t  7          &  9          & 2           & 0.28628159  & 0.076092796 & 0.3468610  \\\\\n",
       "\t  8          &  9          & 5           & 0.24449615  & 0.015563134 & 0.3473460  \\\\\n",
       "\t  9          &  8          & 5           & 0.22571625  & 0.159017075 & 0.3477340  \\\\\n",
       "\t 10          &  5          & 4           & 0.13333981  & 0.243278985 & 0.3482796  \\\\\n",
       "\t 11          & 13          & 4           & 0.17715689  & 0.007961098 & 0.3480950  \\\\\n",
       "\t 12          &  9          & 1           & 0.05000000  & 0.269397921 & 0.3486998  \\\\\n",
       "\t 13          &  3          & 4           & 0.21062590  & 0.203176104 & 0.3467652  \\\\\n",
       "\t 14          & 11          & 4           & 0.07743618  & 0.398617274 & 0.3489254  \\\\\n",
       "\t 15          &  7          & 1           & 0.06034497  & 0.343793001 & 0.3486718  \\\\\n",
       "\t 16          & 11          & 6           & 0.10517521  & 0.024682905 & 0.3489106  \\\\\n",
       "\t 17          &  6          & 2           & 0.16638651  & 0.400000000 & 0.3483354  \\\\\n",
       "\t 18          &  5          & 2           & 0.30000000  & 0.319268032 & 0.3475118  \\\\\n",
       "\t 19          &  8          & 3           & 0.10102293  & 0.353023278 & 0.3486124  \\\\\n",
       "\t 20          & 14          & 3           & 0.05000000  & 0.292797604 & 0.3484092  \\\\\n",
       "\\end{tabular}\n"
      ],
      "text/markdown": [
       "\n",
       "| Round | max_depth | min_child_weight | eta | gamma | Value |\n",
       "|---|---|---|---|---|---|\n",
       "|  1          | 12          | 6           | 0.24412329  | 0.133080461 | 0.3482882   |\n",
       "|  2          |  5          | 2           | 0.17025765  | 0.393479593 | 0.3489536   |\n",
       "|  3          |  9          | 3           | 0.09932515  | 0.338871139 | 0.3487988   |\n",
       "|  4          | 12          | 2           | 0.09238451  | 0.231440735 | 0.3487566   |\n",
       "|  5          |  6          | 4           | 0.21399187  | 0.235047035 | 0.3484740   |\n",
       "|  6          | 13          | 4           | 0.29085539  | 0.280479506 | 0.3473796   |\n",
       "|  7          |  9          | 2           | 0.28628159  | 0.076092796 | 0.3468610   |\n",
       "|  8          |  9          | 5           | 0.24449615  | 0.015563134 | 0.3473460   |\n",
       "|  9          |  8          | 5           | 0.22571625  | 0.159017075 | 0.3477340   |\n",
       "| 10          |  5          | 4           | 0.13333981  | 0.243278985 | 0.3482796   |\n",
       "| 11          | 13          | 4           | 0.17715689  | 0.007961098 | 0.3480950   |\n",
       "| 12          |  9          | 1           | 0.05000000  | 0.269397921 | 0.3486998   |\n",
       "| 13          |  3          | 4           | 0.21062590  | 0.203176104 | 0.3467652   |\n",
       "| 14          | 11          | 4           | 0.07743618  | 0.398617274 | 0.3489254   |\n",
       "| 15          |  7          | 1           | 0.06034497  | 0.343793001 | 0.3486718   |\n",
       "| 16          | 11          | 6           | 0.10517521  | 0.024682905 | 0.3489106   |\n",
       "| 17          |  6          | 2           | 0.16638651  | 0.400000000 | 0.3483354   |\n",
       "| 18          |  5          | 2           | 0.30000000  | 0.319268032 | 0.3475118   |\n",
       "| 19          |  8          | 3           | 0.10102293  | 0.353023278 | 0.3486124   |\n",
       "| 20          | 14          | 3           | 0.05000000  | 0.292797604 | 0.3484092   |\n",
       "\n"
      ],
      "text/plain": [
       "   Round max_depth min_child_weight eta        gamma       Value    \n",
       "1   1    12        6                0.24412329 0.133080461 0.3482882\n",
       "2   2     5        2                0.17025765 0.393479593 0.3489536\n",
       "3   3     9        3                0.09932515 0.338871139 0.3487988\n",
       "4   4    12        2                0.09238451 0.231440735 0.3487566\n",
       "5   5     6        4                0.21399187 0.235047035 0.3484740\n",
       "6   6    13        4                0.29085539 0.280479506 0.3473796\n",
       "7   7     9        2                0.28628159 0.076092796 0.3468610\n",
       "8   8     9        5                0.24449615 0.015563134 0.3473460\n",
       "9   9     8        5                0.22571625 0.159017075 0.3477340\n",
       "10 10     5        4                0.13333981 0.243278985 0.3482796\n",
       "11 11    13        4                0.17715689 0.007961098 0.3480950\n",
       "12 12     9        1                0.05000000 0.269397921 0.3486998\n",
       "13 13     3        4                0.21062590 0.203176104 0.3467652\n",
       "14 14    11        4                0.07743618 0.398617274 0.3489254\n",
       "15 15     7        1                0.06034497 0.343793001 0.3486718\n",
       "16 16    11        6                0.10517521 0.024682905 0.3489106\n",
       "17 17     6        2                0.16638651 0.400000000 0.3483354\n",
       "18 18     5        2                0.30000000 0.319268032 0.3475118\n",
       "19 19     8        3                0.10102293 0.353023278 0.3486124\n",
       "20 20    14        3                0.05000000 0.292797604 0.3484092"
      ]
     },
     "metadata": {},
     "output_type": "display_data"
    }
   ],
   "source": [
    "xgb.mono.cv.bayes.opt$History"
   ]
  },
  {
   "cell_type": "markdown",
   "metadata": {},
   "source": [
    "**Bayesian Optimization Best Parameters**"
   ]
  },
  {
   "cell_type": "code",
   "execution_count": 25,
   "metadata": {},
   "outputs": [
    {
     "data": {
      "text/html": [
       "<dl class=dl-horizontal>\n",
       "\t<dt>max_depth</dt>\n",
       "\t\t<dd>5</dd>\n",
       "\t<dt>min_child_weight</dt>\n",
       "\t\t<dd>2</dd>\n",
       "\t<dt>eta</dt>\n",
       "\t\t<dd>0.170257653004955</dd>\n",
       "\t<dt>gamma</dt>\n",
       "\t\t<dd>0.393479593470693</dd>\n",
       "</dl>\n"
      ],
      "text/latex": [
       "\\begin{description*}\n",
       "\\item[max\\textbackslash{}\\_depth] 5\n",
       "\\item[min\\textbackslash{}\\_child\\textbackslash{}\\_weight] 2\n",
       "\\item[eta] 0.170257653004955\n",
       "\\item[gamma] 0.393479593470693\n",
       "\\end{description*}\n"
      ],
      "text/markdown": [
       "max_depth\n",
       ":   5min_child_weight\n",
       ":   2eta\n",
       ":   0.170257653004955gamma\n",
       ":   0.393479593470693\n",
       "\n"
      ],
      "text/plain": [
       "       max_depth min_child_weight              eta            gamma \n",
       "       5.0000000        2.0000000        0.1702577        0.3934796 "
      ]
     },
     "metadata": {},
     "output_type": "display_data"
    }
   ],
   "source": [
    "xgb.mono.cv.bayes.opt$Best_Par"
   ]
  },
  {
   "cell_type": "markdown",
   "metadata": {},
   "source": [
    "**Set Optimal # Rounds**"
   ]
  },
  {
   "cell_type": "code",
   "execution_count": 26,
   "metadata": {},
   "outputs": [
    {
     "data": {
      "text/html": [
       "153"
      ],
      "text/latex": [
       "153"
      ],
      "text/markdown": [
       "153"
      ],
      "text/plain": [
       "[1] 153"
      ]
     },
     "metadata": {},
     "output_type": "display_data"
    }
   ],
   "source": [
    "xgb.mono.cv.bayes.opt.nrounds <- xgb.mono.cv.bayes.opt$Pred[[which.max(xgb.mono.cv.bayes.opt$History$Value)]]\n",
    "xgb.mono.cv.bayes.opt.nrounds"
   ]
  },
  {
   "cell_type": "markdown",
   "metadata": {},
   "source": [
    "#### 4.1.2) Perform Cost Sensitive Learning with Cross Validation on the Training Data Sample"
   ]
  },
  {
   "cell_type": "markdown",
   "metadata": {},
   "source": [
    "**Objective Functions to Test**"
   ]
  },
  {
   "cell_type": "code",
   "execution_count": 27,
   "metadata": {},
   "outputs": [],
   "source": [
    "#To Minimize\n",
    "getCost <- function(obs, pred, threshold = 0.5) {\n",
    "    tp_num <- sum(obs == 1 & obs == pred) #No Value assigned\n",
    "    tn_num <- sum(obs == 0 & obs == pred) #No Value assigned\n",
    "    fp_num <- sum(obs == 0 & obs != pred) #Value of median loan_amnt \n",
    "    fn_num <- sum(obs == 1 & obs != pred) #Value of median returns\n",
    "    profit <- (tn_num * mreturns) + (fn_num * mloan_amnt)\n",
    "    return(profit)\n",
    "}\n",
    "\n",
    "#To Maximize\n",
    "getProfit <- function(obs, pred, threshold = 0.5) {\n",
    "    pred <- ifelse(pred >= threshold, 1, 0)\n",
    "    tp_num <- sum(obs == 1 & obs == pred) #No Value assigned\n",
    "    tn_num <- sum(obs == 0 & obs == pred) #Value of median returns\n",
    "    fp_num <- sum(obs == 0 & obs != pred) #No Value assigned\n",
    "    fn_num <- sum(obs == 1 & obs != pred) #Value of median loan_amnt\n",
    "    #print(sprintf(\"%s, %s, %s, %s\", tp_num, tn_num, fp_num, fn_num))\n",
    "    profit <- (tn_num * mreturns) - (fn_num * mloan_amnt)\n",
    "    return(profit)\n",
    "}\n",
    "\n",
    "# Predict non-returning for everyone\n",
    "getBenchmarkProfit <- function(obs) { \n",
    "  n <- length(obs)\n",
    "  getProfit(obs, rep(0, times = n))\n",
    "}\n",
    "\n",
    "getLift <- function(probs, labels, thresh) {\n",
    "    pred_profit <- as.numeric(getProfit(obs = labels,\n",
    "                                      pred = probs,\n",
    "                                      threshold = thresh))\n",
    "    naive_profit <- as.numeric(getBenchmarkProfit(labels))\n",
    "    profit_lift <- pred_profit/naive_profit\n",
    "    #print(sprintf(\"%.2f / %.2f = %.4f\", pred_profit, naive_profit, profit_lift))\n",
    "    return(profit_lift)\n",
    "}"
   ]
  },
  {
   "cell_type": "markdown",
   "metadata": {},
   "source": [
    "**Custom Cost Sensitive Learning Function**"
   ]
  },
  {
   "cell_type": "code",
   "execution_count": 28,
   "metadata": {},
   "outputs": [],
   "source": [
    "CSL <- function(params, data, nfold, nrounds, tstart, tend, tinterval, feval = \"lift\", verbose = FALSE, print_every_n = 50){\n",
    "    thresholds <- seq(tstart, tend, by = tinterval)\n",
    "    performance <- vector(length = length(thresholds))\n",
    "    for(i in 1:length(thresholds)) {\n",
    "        print(paste(i, \":\", thresholds[i]))\n",
    "        xgb.getCost <- function(preds, dtrain) {\n",
    "            labels <- getinfo(dtrain, \"label\")\n",
    "            cost <- getCost(labels, preds, thresholds[i])\n",
    "            return(list(metric = \"Cost\", value = cost))\n",
    "        }\n",
    "        xgb.getLift <- function(preds, dtrain) {\n",
    "            labels <- getinfo(dtrain, \"label\")\n",
    "            lift <- getLift(preds, labels, thresholds[i])\n",
    "            return(list(metric = \"Lift\", value = lift))\n",
    "        }\n",
    "        # train the model again using the current threshold \n",
    "        if (feval == \"lift\"){\n",
    "            xgb.csl <- xgb.cv(params = params, data = data, nfold = nfold,\n",
    "                            nrounds = nrounds, feval = xgb.getLift, maximize = TRUE, \n",
    "                            early_stopping_rounds = 10, verbose = verbose, print_every_n = print_every_n)   \n",
    "        }else{\n",
    "            xgb.csl <- xgb.cv(params = params, data = data, nfold = nfold,\n",
    "                            nrounds = nrounds, feval = xgb.getCost, maximize = FALSE, \n",
    "                            early_stopping_rounds = 10, verbose = verbose, print_every_n = print_every_n)  \n",
    "        }\n",
    "        # store results\n",
    "        performance[i] <- as.data.frame(xgb.csl$evaluation_log)[xgb.csl$best_iteration,4]\n",
    "    }\n",
    "    return(list(\"thresholds\" = thresholds, \"performance\" = performance))\n",
    "}"
   ]
  },
  {
   "cell_type": "markdown",
   "metadata": {},
   "source": [
    "**Run CSL on a 0.003 threshold interval**"
   ]
  },
  {
   "cell_type": "code",
   "execution_count": 29,
   "metadata": {},
   "outputs": [
    {
     "name": "stdout",
     "output_type": "stream",
     "text": [
      "[1] \"1 : 0.1\"\n",
      "[1] \"2 : 0.13\"\n",
      "[1] \"3 : 0.16\"\n",
      "[1] \"4 : 0.19\"\n",
      "[1] \"5 : 0.22\"\n",
      "[1] \"6 : 0.25\"\n",
      "[1] \"7 : 0.28\"\n",
      "[1] \"8 : 0.31\"\n",
      "[1] \"9 : 0.34\"\n",
      "[1] \"10 : 0.37\"\n",
      "[1] \"11 : 0.4\"\n",
      "[1] \"12 : 0.43\"\n",
      "[1] \"13 : 0.46\"\n",
      "[1] \"14 : 0.49\"\n",
      "[1] \"15 : 0.52\"\n",
      "[1] \"16 : 0.55\"\n",
      "[1] \"17 : 0.58\"\n",
      "[1] \"18 : 0.61\"\n",
      "[1] \"19 : 0.64\"\n",
      "[1] \"20 : 0.67\"\n",
      "Time difference of 13.39847 mins\n"
     ]
    }
   ],
   "source": [
    "params <- list(\n",
    "                objective = \"binary:logistic\",\n",
    "                eta = xgb.mono.cv.bayes.opt$Best_Par[\"eta\"],\n",
    "                max_depth = xgb.mono.cv.bayes.opt$Best_Par[\"max_depth\"],\n",
    "                gamma = xgb.mono.cv.bayes.opt$Best_Par[\"gamma\"],\n",
    "                min_child_weight = xgb.mono.cv.bayes.opt$Best_Par[\"min_child_weight\"],\n",
    "                subsample = 0.75,\n",
    "                colsample_bytree = 1,\n",
    "                monotone_constraints = mono\n",
    "              )\n",
    "stime <- Sys.time()\n",
    "xgb.mono.CSL.cv.opt1 <- CSL(params, dtrain.1hot, 5, xgb.mono.cv.bayes.opt.nrounds, \n",
    "                           0.1, 0.69, 0.03, feval = \"lift\")\n",
    "print(Sys.time() - stime)"
   ]
  },
  {
   "cell_type": "markdown",
   "metadata": {},
   "source": [
    "**Plot the lift for every threshold in the 0.10-0.69 range**"
   ]
  },
  {
   "cell_type": "code",
   "execution_count": 30,
   "metadata": {},
   "outputs": [
    {
     "data": {
      "image/png": "[encoded data removed]",
      "text/plain": [
       "plot without title"
      ]
     },
     "metadata": {},
     "output_type": "display_data"
    }
   ],
   "source": [
    "xgb.mono.CSL.cv.opt1.df <- as.data.frame(xgb.mono.CSL.cv.opt1)\n",
    "ggplot(xgb.mono.CSL.cv.opt1.df, aes(x = thresholds, y = performance)) +\n",
    "  geom_line() +\n",
    "  labs(title = \"Profit lift over naïve predictions using XGBoost\",\n",
    "          x = \"Threshold\", y = \"Lift over naive profit\")"
   ]
  },
  {
   "cell_type": "markdown",
   "metadata": {},
   "source": [
    "**Set Optimal Threshold for CSL on a 0.03 scale**"
   ]
  },
  {
   "cell_type": "code",
   "execution_count": 31,
   "metadata": {},
   "outputs": [
    {
     "data": {
      "text/html": [
       "0.25"
      ],
      "text/latex": [
       "0.25"
      ],
      "text/markdown": [
       "0.25"
      ],
      "text/plain": [
       "[1] 0.25"
      ]
     },
     "metadata": {},
     "output_type": "display_data"
    }
   ],
   "source": [
    "xgb.mono.CSL.cv.opt1.threshold <- xgb.mono.CSL.cv.opt1.df$thresholds[which.max(xgb.mono.CSL.cv.opt1.df$performance)]\n",
    "xgb.mono.CSL.cv.opt1.threshold"
   ]
  },
  {
   "cell_type": "markdown",
   "metadata": {},
   "source": [
    "**Get more granular at a 0.005 threshold level**"
   ]
  },
  {
   "cell_type": "code",
   "execution_count": 32,
   "metadata": {},
   "outputs": [
    {
     "name": "stdout",
     "output_type": "stream",
     "text": [
      "[1] \"1 : 0.22\"\n",
      "[1] \"2 : 0.225\"\n",
      "[1] \"3 : 0.23\"\n",
      "[1] \"4 : 0.235\"\n",
      "[1] \"5 : 0.24\"\n",
      "[1] \"6 : 0.245\"\n",
      "[1] \"7 : 0.25\"\n",
      "[1] \"8 : 0.255\"\n",
      "[1] \"9 : 0.26\"\n",
      "[1] \"10 : 0.265\"\n",
      "[1] \"11 : 0.27\"\n",
      "[1] \"12 : 0.275\"\n",
      "[1] \"13 : 0.28\"\n",
      "Time difference of 9.208706 mins\n"
     ]
    }
   ],
   "source": [
    "params <- list(\n",
    "                objective = \"binary:logistic\",\n",
    "                eta = xgb.mono.cv.bayes.opt$Best_Par[\"eta\"],\n",
    "                max_depth = xgb.mono.cv.bayes.opt$Best_Par[\"max_depth\"],\n",
    "                gamma = xgb.mono.cv.bayes.opt$Best_Par[\"gamma\"],\n",
    "                min_child_weight = xgb.mono.cv.bayes.opt$Best_Par[\"min_child_weight\"],\n",
    "                subsample = 0.75,\n",
    "                colsample_bytree = 1,\n",
    "                monotone_constraints = mono\n",
    "              )\n",
    "stime <- Sys.time()\n",
    "xgb.mono.CSL.cv.opt2 <- CSL(params, dtrain.1hot, 5, xgb.mono.cv.bayes.opt.nrounds, \n",
    "                           xgb.mono.CSL.cv.opt1.threshold - 0.03, xgb.mono.CSL.cv.opt1.threshold + 0.03, 0.005, feval = \"lift\")\n",
    "print(Sys.time() - stime)"
   ]
  },
  {
   "cell_type": "markdown",
   "metadata": {},
   "source": [
    "**Plot the lift for every threshold in the 0.13-0.19 range**"
   ]
  },
  {
   "cell_type": "code",
   "execution_count": 33,
   "metadata": {},
   "outputs": [
    {
     "data": {
      "image/png": "[encoded data removed]",
      "text/plain": [
       "plot without title"
      ]
     },
     "metadata": {},
     "output_type": "display_data"
    }
   ],
   "source": [
    "xgb.mono.CSL.cv.opt2.df <- as.data.frame(xgb.mono.CSL.cv.opt2)\n",
    "ggplot(xgb.mono.CSL.cv.opt2.df, aes(x = thresholds, y = performance)) +\n",
    "  geom_line() +\n",
    "  labs(title = \"Profit lift over naïve predictions using XGBoost\",\n",
    "          x = \"Threshold\", y = \"Lift over naive profit\")"
   ]
  },
  {
   "cell_type": "markdown",
   "metadata": {},
   "source": [
    "**Set Optimal Threshold for CSL on a 0.005 scale**"
   ]
  },
  {
   "cell_type": "code",
   "execution_count": 34,
   "metadata": {},
   "outputs": [
    {
     "data": {
      "text/html": [
       "0.225"
      ],
      "text/latex": [
       "0.225"
      ],
      "text/markdown": [
       "0.225"
      ],
      "text/plain": [
       "[1] 0.225"
      ]
     },
     "metadata": {},
     "output_type": "display_data"
    }
   ],
   "source": [
    "xgb.mono.CSL.cv.opt2.threshold <- xgb.mono.CSL.cv.opt2.df$thresholds[which.max(xgb.mono.CSL.cv.opt2.df$performance)]\n",
    "xgb.mono.CSL.cv.opt2.threshold"
   ]
  },
  {
   "cell_type": "markdown",
   "metadata": {},
   "source": [
    "#### 4.1.3) Run & Test XGBoost on Optimal Params but on Full Training Set"
   ]
  },
  {
   "cell_type": "markdown",
   "metadata": {},
   "source": [
    "**Set Optimal Params for Monotonic**"
   ]
  },
  {
   "cell_type": "code",
   "execution_count": 35,
   "metadata": {},
   "outputs": [],
   "source": [
    "xgb.mono.cv.bayes.opt.params <- list(\n",
    "    booster = \"gbtree\",\n",
    "    max_depth = xgb.mono.cv.bayes.opt$Best_Par[\"max_depth\"],\n",
    "    min_child_weight = xgb.mono.cv.bayes.opt$Best_Par[\"min_child_weight\"],\n",
    "    eta = xgb.mono.cv.bayes.opt$Best_Par[\"eta\"],\n",
    "    gamma = xgb.mono.cv.bayes.opt$Best_Par[\"gamma\"],\n",
    "    subsample = 0.9, #xgb.mono.cv.bayes.opt$Best_Par[\"subsample\"],\n",
    "    colsample_bytree = 0.8, #xgb.mono.cv.bayes.opt$Best_Par[\"colsample_bytree\"],\n",
    "    #max_delta_step = xgb.mono.cv.bayes.opt$Best_Par[\"max_delta_step\"], \n",
    "    objective = \"binary:logistic\",\n",
    "    eval_metric=c(\"logloss\", \"auc\", \"aucpr\", \"error\"),\n",
    "    monotone_constraints = mono\n",
    ")"
   ]
  },
  {
   "cell_type": "markdown",
   "metadata": {},
   "source": [
    "**Train model on full training set**"
   ]
  },
  {
   "cell_type": "code",
   "execution_count": 36,
   "metadata": {},
   "outputs": [
    {
     "name": "stdout",
     "output_type": "stream",
     "text": [
      "Time difference of 11.91339 secs\n"
     ]
    }
   ],
   "source": [
    "stime <- Sys.time()\n",
    "xgb.mono.opt.mdl <- xgb.train (params = xgb.mono.cv.bayes.opt.params, nrounds = xgb.mono.cv.bayes.opt.nrounds, data = dtrain.1hot, \n",
    "                              verbose=1, print_every_n=5)\n",
    "print(Sys.time() - stime)"
   ]
  },
  {
   "cell_type": "markdown",
   "metadata": {},
   "source": [
    "**Get Predictions using Test Dataset**"
   ]
  },
  {
   "cell_type": "code",
   "execution_count": 37,
   "metadata": {},
   "outputs": [],
   "source": [
    "xgb.mono.opt.pred <- predict(xgb.mono.opt.mdl, as.matrix(x_test.1hot))"
   ]
  },
  {
   "cell_type": "markdown",
   "metadata": {},
   "source": [
    "**Plot ROC Curve**"
   ]
  },
  {
   "cell_type": "code",
   "execution_count": 38,
   "metadata": {},
   "outputs": [],
   "source": [
    "xgb.mono.opt.pred.fg <- xgb.mono.opt.pred[y_test$default==TRUE]\n",
    "xgb.mono.opt.pred.bg <- xgb.mono.opt.pred[y_test$default==FALSE]"
   ]
  },
  {
   "cell_type": "code",
   "execution_count": 39,
   "metadata": {},
   "outputs": [
    {
     "data": {
      "image/png": "[encoded data removed]",
      "text/plain": [
       "Plot with title “ROC curve\n",
       "AUC = 0.7100376”"
      ]
     },
     "metadata": {},
     "output_type": "display_data"
    }
   ],
   "source": [
    "xgb.mono.opt.roc <- roc.curve(scores.class0 = xgb.mono.opt.pred.fg, scores.class1 = xgb.mono.opt.pred.bg, curve = T)\n",
    "plot(xgb.mono.opt.roc)"
   ]
  },
  {
   "cell_type": "code",
   "execution_count": 40,
   "metadata": {},
   "outputs": [
    {
     "data": {
      "image/png": "[encoded data removed]",
      "text/plain": [
       "Plot with title “PR curve\n",
       "AUC = 0.3513739”"
      ]
     },
     "metadata": {},
     "output_type": "display_data"
    }
   ],
   "source": [
    "xgb.mono.opt.prc <- pr.curve(scores.class0 = xgb.mono.opt.pred.fg, scores.class1 = xgb.mono.opt.pred.bg, curve = T)\n",
    "plot(xgb.mono.opt.prc)"
   ]
  },
  {
   "cell_type": "markdown",
   "metadata": {},
   "source": [
    "**Calculate AUC**"
   ]
  },
  {
   "cell_type": "code",
   "execution_count": 41,
   "metadata": {},
   "outputs": [
    {
     "data": {
      "text/html": [
       "0.710037598946877"
      ],
      "text/latex": [
       "0.710037598946877"
      ],
      "text/markdown": [
       "0.710037598946877"
      ],
      "text/plain": [
       "Area under the curve: 0.71"
      ]
     },
     "metadata": {},
     "output_type": "display_data"
    }
   ],
   "source": [
    "xgb.mono.opt.auc <- auc(roc(y_test$default, xgb.mono.opt.pred))\n",
    "xgb.mono.opt.auc"
   ]
  },
  {
   "cell_type": "markdown",
   "metadata": {},
   "source": [
    "**Calculate F-score**"
   ]
  },
  {
   "cell_type": "code",
   "execution_count": 42,
   "metadata": {},
   "outputs": [
    {
     "data": {
      "text/html": [
       "0.810023626011852"
      ],
      "text/latex": [
       "0.810023626011852"
      ],
      "text/markdown": [
       "0.810023626011852"
      ],
      "text/plain": [
       "[1] 0.8100236"
      ]
     },
     "metadata": {},
     "output_type": "display_data"
    }
   ],
   "source": [
    "xgb.mono.opt.f1 <- F1_Score(ifelse(xgb.mono.opt.pred > xgb.mono.CSL.cv.opt2.threshold, 1, 0), ifelse(y_test$default, 1, 0), positive = \"0\")\n",
    "xgb.mono.opt.f1"
   ]
  },
  {
   "cell_type": "markdown",
   "metadata": {},
   "source": [
    "**Generate and Save Confusion Matrix**"
   ]
  },
  {
   "cell_type": "code",
   "execution_count": 43,
   "metadata": {},
   "outputs": [
    {
     "data": {
      "text/plain": [
       "Confusion Matrix and Statistics\n",
       "\n",
       "       \n",
       "        FALSE  TRUE\n",
       "  FALSE 31371  4344\n",
       "  TRUE  10371  5073\n",
       "                                          \n",
       "               Accuracy : 0.7124          \n",
       "                 95% CI : (0.7084, 0.7163)\n",
       "    No Information Rate : 0.8159          \n",
       "    P-Value [Acc > NIR] : 1               \n",
       "                                          \n",
       "                  Kappa : 0.2326          \n",
       "                                          \n",
       " Mcnemar's Test P-Value : <2e-16          \n",
       "                                          \n",
       "            Sensitivity : 0.7515          \n",
       "            Specificity : 0.5387          \n",
       "         Pos Pred Value : 0.8784          \n",
       "         Neg Pred Value : 0.3285          \n",
       "             Prevalence : 0.8159          \n",
       "         Detection Rate : 0.6132          \n",
       "   Detection Prevalence : 0.6981          \n",
       "      Balanced Accuracy : 0.6451          \n",
       "                                          \n",
       "       'Positive' Class : FALSE           \n",
       "                                          "
      ]
     },
     "metadata": {},
     "output_type": "display_data"
    }
   ],
   "source": [
    "xgb.mono.opt.cm <- confusionMatrix(table(xgb.mono.opt.pred > xgb.mono.CSL.cv.opt2.threshold, y_test$default))\n",
    "xgb.mono.opt.cm"
   ]
  },
  {
   "cell_type": "markdown",
   "metadata": {},
   "source": [
    "**Calculate Feature Importance/Influence**"
   ]
  },
  {
   "cell_type": "code",
   "execution_count": 44,
   "metadata": {},
   "outputs": [
    {
     "name": "stdout",
     "output_type": "stream",
     "text": [
      "                                   Feature         Gain        Cover\n",
      " 1:                               int_rate 4.902382e-01 9.296981e-02\n",
      " 2:                             annual_inc 1.275431e-01 1.104498e-01\n",
      " 3:                                    dti 6.876151e-02 6.278423e-02\n",
      " 4:                              term_36MO 3.690891e-02 1.990864e-02\n",
      " 5:                              loan_amnt 2.854673e-02 5.597795e-02\n",
      " 6:                              term_60MO 2.709661e-02 6.662207e-03\n",
      " 7:                                grade_A 2.514980e-02 6.036515e-03\n",
      " 8:                              total_acc 2.491878e-02 9.758906e-02\n",
      " 9:                            installment 1.754920e-02 5.242464e-02\n",
      "10:                    home_ownership_RENT 1.522776e-02 1.870599e-02\n",
      "11:                gross_operating_surplus 1.435303e-02 2.731568e-02\n",
      "12:                 purpose_SMALL_BUSINESS 1.306090e-02 2.705396e-02\n",
      "13:                      real_gdp_by_state 1.148905e-02 5.899623e-02\n",
      "14:                                  month 1.122232e-02 2.375789e-02\n",
      "15:                                grade_B 9.848721e-03 3.876167e-03\n",
      "16:                               open_acc 9.578666e-03 7.629429e-02\n",
      "17: quantity_indexes_for_real_gdp_by_state 9.443811e-03 4.567010e-02\n",
      "18:           per_capita_real_gdp_by_state 8.463990e-03 4.936450e-02\n",
      "19:                  initial_list_status_F 7.771208e-03 1.430076e-02\n",
      "20:              compensation_of_employees 6.816246e-03 2.822439e-02\n",
      "21:                           regions_WEST 5.815471e-03 5.719501e-03\n",
      "22:                              subsidies 4.899787e-03 2.114471e-02\n",
      "23:                home_ownership_MORTGAGE 4.882117e-03 3.469844e-03\n",
      "24:                      regions_NORTHEAST 3.750381e-03 1.810191e-02\n",
      "25:        taxes_on_production_and_imports 2.961288e-03 1.028350e-02\n",
      "26:                         purpose_OTHERS 2.601109e-03 2.284209e-02\n",
      "27:                    purpose_CREDIT_CARD 1.867753e-03 8.367656e-03\n",
      "28:                                pub_rec 1.582408e-03 7.455798e-03\n",
      "29:    verification_status_SOURCE_VERIFIED 1.555406e-03 8.526045e-03\n",
      "30:                  initial_list_status_W 1.260835e-03 2.872968e-03\n",
      "31:                                grade_D 7.860528e-04 5.165782e-03\n",
      "32:                                grade_C 7.665257e-04 1.480469e-03\n",
      "33:           verification_status_VERIFIED 6.262336e-04 3.733875e-04\n",
      "34:       verification_status_NOT_VERIFIED 5.634862e-04 2.043520e-03\n",
      "35:                 purpose_MAJOR_PURCHASE 5.596501e-04 6.072063e-04\n",
      "36:                          regions_SOUTH 3.795661e-04 1.682191e-04\n",
      "37:             purpose_DEBT_CONSOLIDATION 3.771086e-04 2.716693e-04\n",
      "38:                                grade_E 2.612159e-04 2.846302e-05\n",
      "39:                     home_ownership_OWN 2.267653e-04 3.484582e-04\n",
      "40:                        regions_MIDWEST 1.454032e-04 2.096335e-03\n",
      "41:                                grade_F 9.587066e-05 1.548765e-04\n",
      "42:               purpose_HOME_IMPROVEMENT 2.385228e-05 5.497247e-07\n",
      "43:                                grade_G 2.314095e-05 1.142289e-04\n",
      "                                   Feature         Gain        Cover\n",
      "       Frequency\n",
      " 1: 0.0721481963\n",
      " 2: 0.1007474813\n",
      " 3: 0.0786480338\n",
      " 4: 0.0201494963\n",
      " 5: 0.0588235294\n",
      " 6: 0.0035749106\n",
      " 7: 0.0016249594\n",
      " 8: 0.0792980175\n",
      " 9: 0.0594735132\n",
      "10: 0.0165745856\n",
      "11: 0.0484237894\n",
      "12: 0.0136496588\n",
      "13: 0.0454988625\n",
      "14: 0.0380240494\n",
      "15: 0.0035749106\n",
      "16: 0.0555736107\n",
      "17: 0.0435489113\n",
      "18: 0.0454988625\n",
      "19: 0.0201494963\n",
      "20: 0.0370490738\n",
      "21: 0.0064998375\n",
      "22: 0.0295742606\n",
      "23: 0.0100747481\n",
      "24: 0.0146246344\n",
      "25: 0.0181995450\n",
      "26: 0.0133246669\n",
      "27: 0.0097497563\n",
      "28: 0.0094247644\n",
      "29: 0.0077998050\n",
      "30: 0.0035749106\n",
      "31: 0.0042248944\n",
      "32: 0.0058498538\n",
      "33: 0.0051998700\n",
      "34: 0.0048748781\n",
      "35: 0.0029249269\n",
      "36: 0.0019499513\n",
      "37: 0.0022749431\n",
      "38: 0.0022749431\n",
      "39: 0.0022749431\n",
      "40: 0.0012999675\n",
      "41: 0.0012999675\n",
      "42: 0.0003249919\n",
      "43: 0.0003249919\n",
      "       Frequency\n"
     ]
    }
   ],
   "source": [
    "xgb.mono.opt.imp <- xgb.importance(model = xgb.mono.opt.mdl)\n",
    "print(xgb.mono.opt.imp)"
   ]
  },
  {
   "cell_type": "markdown",
   "metadata": {},
   "source": [
    "**Plot Importance/Influence**"
   ]
  },
  {
   "cell_type": "code",
   "execution_count": 45,
   "metadata": {},
   "outputs": [
    {
     "data": {
      "image/png": "[encoded data removed]",
      "text/plain": [
       "plot without title"
      ]
     },
     "metadata": {},
     "output_type": "display_data"
    }
   ],
   "source": [
    "xgb.plot.importance(importance_matrix = xgb.mono.opt.imp)"
   ]
  },
  {
   "cell_type": "markdown",
   "metadata": {},
   "source": [
    "**Dump Tree**"
   ]
  },
  {
   "cell_type": "code",
   "execution_count": 46,
   "metadata": {},
   "outputs": [
    {
     "name": "stderr",
     "output_type": "stream",
     "text": [
      "Warning message:\n",
      "“'with.stats' is deprecated.\n",
      "Use 'with_stats' instead.\n",
      "See help(\"Deprecated\") and help(\"xgboost-deprecated\").”"
     ]
    },
    {
     "data": {
      "text/html": [
       "TRUE"
      ],
      "text/latex": [
       "TRUE"
      ],
      "text/markdown": [
       "TRUE"
      ],
      "text/plain": [
       "[1] TRUE"
      ]
     },
     "metadata": {},
     "output_type": "display_data"
    }
   ],
   "source": [
    "xgb.dump(xgb.mono.opt.mdl, with.stats = T, fname = \"./models/new.xgb.mono.opt.tree.costopt.txt\")"
   ]
  },
  {
   "cell_type": "markdown",
   "metadata": {},
   "source": [
    "**Save Model**"
   ]
  },
  {
   "cell_type": "code",
   "execution_count": 47,
   "metadata": {},
   "outputs": [
    {
     "data": {
      "text/html": [
       "TRUE"
      ],
      "text/latex": [
       "TRUE"
      ],
      "text/markdown": [
       "TRUE"
      ],
      "text/plain": [
       "[1] TRUE"
      ]
     },
     "metadata": {},
     "output_type": "display_data"
    }
   ],
   "source": [
    "xgb.save(xgb.mono.opt.mdl, \"./models/new.xgb.mono.opt.costopt.mdl\")"
   ]
  },
  {
   "cell_type": "markdown",
   "metadata": {},
   "source": [
    "**Partial Graph (for 3 top vars)**"
   ]
  },
  {
   "cell_type": "code",
   "execution_count": 75,
   "metadata": {},
   "outputs": [
    {
     "name": "stdout",
     "output_type": "stream",
     "text": [
      "Time difference of 2.014887 mins\n"
     ]
    }
   ],
   "source": [
    "stime <- Sys.time()\n",
    "xgb.mono.opt.mdl.1p <- partial(xgb.mono.opt.mdl, pred.var = \"int_rate\", train = x_train.1hot,\n",
    "                                 grid.resolution = 250, trim.outliers = FALSE, prob = TRUE, rug = TRUE, plot = TRUE)\n",
    "print(Sys.time() - stime)"
   ]
  },
  {
   "cell_type": "code",
   "execution_count": 76,
   "metadata": {},
   "outputs": [
    {
     "name": "stdout",
     "output_type": "stream",
     "text": [
      "Time difference of 2.047591 mins\n"
     ]
    }
   ],
   "source": [
    "stime <- Sys.time()\n",
    "xgb.mono.opt.mdl.2p <- partial(xgb.mono.opt.mdl, pred.var = \"quantity_indexes_for_real_gdp_by_state\", train = x_train.1hot,\n",
    "                                 grid.resolution = 250, trim.outliers = FALSE, prob = TRUE, rug = TRUE, plot = TRUE)\n",
    "print(Sys.time() - stime)"
   ]
  },
  {
   "cell_type": "code",
   "execution_count": 77,
   "metadata": {},
   "outputs": [
    {
     "name": "stdout",
     "output_type": "stream",
     "text": [
      "Time difference of 1.983705 mins\n"
     ]
    }
   ],
   "source": [
    "stime <- Sys.time()\n",
    "xgb.mono.opt.mdl.3p <- partial(xgb.mono.opt.mdl, pred.var = \"annual_inc\", train = x_train.1hot,\n",
    "                                 grid.resolution = 250, trim.outliers = FALSE, prob = TRUE, rug = TRUE, plot = TRUE)\n",
    "print(Sys.time() - stime)"
   ]
  },
  {
   "cell_type": "markdown",
   "metadata": {},
   "source": [
    "#### 4.1.4) Calculate Model Relative Losses"
   ]
  },
  {
   "cell_type": "markdown",
   "metadata": {},
   "source": [
    "**Losses ($L$)**: We cannot calculate the Loss Given Default (LGD) or Exposure to Default (EAD) precisely because we don't know what is the value of the collateral for each loan and administrative costs associated to a default so we are going to assume it's `loan_amnt` which is potentially a larger amount.\n",
    "\n",
    "**Returns ($R$)**: We cannot calculate the Return on Allocated Equity (ROE) precisely because to do this we would need to factor cost of funds, income taxes and other costs associated in producing this money but we can calculate how much money is _yielded by the interest of each loan_ should it go to full term. Although this can be calculated using the compounded annualized `int_rate` on the `loan_amnt` for the duration of the `term` and deduct the `loan_amnt`. It's far easier to just leverage the `installment` column like this:\n",
    "\n",
    "(`installment` * `term`) - `loan_amnt`\n",
    "\n",
    "So I devised a way to best depict the relative amount of losses like this:\n",
    "\n",
    "Cost Ratio = $\\Large{\\frac{L(FN) + R(FP)}{R(TN+FP)}}$ \n",
    "\n",
    "Which is the ratio produced by bad predictions over the total amount made by if everything was hypothetically a good prediction. In other words the total lost loan principals by false negatives plus the total lost in revenue by false positives over the total produced in revenue by all negatives (non-defaults).\n",
    "\n",
    "On the other hand, we also used the profit lift ratio which was used for Bayesian Optimization of the hyperparameter tuning of the model which is:\n",
    "\n",
    "Lift Ratio = $\\Large{\\frac{R(TN) - L(FN)}{\\text{naïve: } R(TN)  - L(FN)}}$ "
   ]
  },
  {
   "cell_type": "code",
   "execution_count": 48,
   "metadata": {},
   "outputs": [
    {
     "data": {
      "text/html": [
       "2.26175722136225"
      ],
      "text/latex": [
       "2.26175722136225"
      ],
      "text/markdown": [
       "2.26175722136225"
      ],
      "text/plain": [
       "[1] 2.261757"
      ]
     },
     "metadata": {},
     "output_type": "display_data"
    }
   ],
   "source": [
    "xgb.mono.opt.NIR <- sum(xgb.mono.opt.cm$table[,1])/sum(xgb.mono.opt.cm$table)\n",
    "xgb.mono.opt.costs <- ((xgb.mono.opt.cm$table[1,2]*mloan_amnt)+(xgb.mono.opt.cm$table[2,1]*mreturns))\n",
    "xgb.mono.opt.profits <- (xgb.mono.opt.cm$table[1,1]*mreturns) - (xgb.mono.opt.cm$table[1,2]*mloan_amnt)\n",
    "xgb.mono.opt.naive <- (round(xgb.mono.opt.NIR * sum(xgb.mono.opt.cm$table[1,]),0)*mreturns)-(round((1-xgb.mono.opt.NIR) * sum(xgb.mono.opt.cm$table[1,]),0)*mloan_amnt)\n",
    "xgb.mono.opt.best <- ((sum(xgb.mono.opt.cm$table[,1])*mreturns))\n",
    "xgb.mono.opt.worst <- (sum(xgb.mono.opt.cm$table[,1])*mreturns)+(sum(xgb.mono.opt.cm$table[,2])*mloan_amnt)\n",
    "xgb.mono.opt.lift.ratio <- xgb.mono.opt.profits / xgb.mono.opt.naive\n",
    "xgb.mono.opt.worst.ratio <- xgb.mono.opt.worst / xgb.mono.opt.best\n",
    "xgb.mono.opt.cost.ratio <- xgb.mono.opt.costs / xgb.mono.opt.best\n",
    "xgb.mono.opt.lift.ratio"
   ]
  },
  {
   "cell_type": "code",
   "execution_count": 86,
   "metadata": {},
   "outputs": [
    {
     "name": "stdout",
     "output_type": "stream",
     "text": [
      "[1] \"0.0125 0.995266358517244 172000149.549375\"\n",
      "[1] \"0.015 0.992233641762579 172000149.549375\"\n",
      "[1] \"0.0175 0.988786913521992 172000149.549375\"\n",
      "[1] \"0.02 0.984049558808822 172000149.549375\"\n",
      "[1] \"0.0225 0.979076350462954 172000149.549375\"\n",
      "[1] \"0.025 0.974924417270298 172000149.549375\"\n",
      "[1] \"0.0275 0.97015264482177 172000149.549375\"\n",
      "[1] \"0.03 0.964552849401399 172000149.549375\"\n",
      "[1] \"0.0325 0.958624408191304 172000149.549375\"\n",
      "[1] \"0.035 0.953031360589565 172000149.549375\"\n",
      "[1] \"0.0375 0.947308068507224 172000149.549375\"\n",
      "[1] \"0.04 0.940924450257217 172000149.549375\"\n",
      "[1] \"0.0425 0.93490693012051 172000149.549375\"\n",
      "[1] \"0.045 0.927848811423376 172000149.549375\"\n",
      "[1] \"0.0475 0.922360694331538 172000149.549375\"\n",
      "[1] \"0.05 0.915504011531746 172000149.549375\"\n",
      "[1] \"0.0525 0.908110499226257 172000149.549375\"\n",
      "[1] \"0.055 0.900979153185801 172000149.549375\"\n",
      "[1] \"0.0575 0.892954661933199 172000149.549375\"\n",
      "[1] \"0.06 0.885809141613283 172000149.549375\"\n",
      "[1] \"0.0625 0.877699284664483 172000149.549375\"\n",
      "[1] \"0.065 0.869332651984893 172000149.549375\"\n",
      "[1] \"0.0675 0.861605423374877 172000149.549375\"\n",
      "[1] \"0.07 0.854388711638222 172000149.549375\"\n",
      "[1] \"0.0725 0.847932864706526 172000149.549375\"\n",
      "[1] \"0.075 0.841172328671417 172000149.549375\"\n",
      "[1] \"0.0775 0.833747753238228 172000149.549375\"\n",
      "[1] \"0.08 0.824193068649931 172000149.549375\"\n",
      "[1] \"0.0825 0.815561555136529 172000149.549375\"\n",
      "[1] \"0.085 0.809700233490002 172000149.549375\"\n",
      "[1] \"0.0875 0.802432893811945 172000149.549375\"\n",
      "[1] \"0.09 0.795301867790928 172000149.549375\"\n",
      "[1] \"0.0925 0.78752233393568 172000149.549375\"\n",
      "[1] \"0.095 0.780722988292605 172000149.549375\"\n",
      "[1] \"0.0975 0.773243751668162 172000149.549375\"\n",
      "[1] \"0.1 0.764693890620544 172000149.549375\"\n",
      "[1] \"0.1025 0.757733595991923 172000149.549375\"\n",
      "[1] \"0.105 0.749402379709324 172000149.549375\"\n",
      "[1] \"0.1075 0.740684143215333 172000149.549375\"\n",
      "[1] \"0.11 0.73278346864414 172000149.549375\"\n",
      "[1] \"0.1125 0.725878513848969 172000149.549375\"\n",
      "[1] \"0.115 0.71995510455036 172000149.549375\"\n",
      "[1] \"0.1175 0.714414323590534 172000149.549375\"\n",
      "[1] \"0.12 0.707740830555452 172000149.549375\"\n",
      "[1] \"0.1225 0.702501704110821 172000149.549375\"\n",
      "[1] \"0.125 0.696086344090919 172000149.549375\"\n",
      "[1] \"0.1275 0.689830575772173 172000149.549375\"\n",
      "[1] \"0.13 0.682813264006273 172000149.549375\"\n",
      "[1] \"0.1325 0.676817984648731 172000149.549375\"\n",
      "[1] \"0.135 0.67273788291169 172000149.549375\"\n",
      "[1] \"0.1375 0.666866778858313 172000149.549375\"\n",
      "[1] \"0.14 0.662271448355863 172000149.549375\"\n",
      "[1] \"0.1425 0.658602323516526 172000149.549375\"\n",
      "[1] \"0.145 0.654491517274542 172000149.549375\"\n",
      "[1] \"0.1475 0.65037464185612 172000149.549375\"\n",
      "[1] \"0.15 0.646328957854437 172000149.549375\"\n",
      "[1] \"0.1525 0.641589208591926 172000149.549375\"\n",
      "[1] \"0.155 0.637667021252212 172000149.549375\"\n",
      "[1] \"0.1575 0.633710416177142 172000149.549375\"\n",
      "[1] \"0.16 0.629935003543514 172000149.549375\"\n",
      "[1] \"0.1625 0.626882004729634 172000149.549375\"\n",
      "[1] \"0.165 0.624034155043508 172000149.549375\"\n",
      "[1] \"0.1675 0.620728093729252 172000149.549375\"\n",
      "[1] \"0.17 0.617062682120329 172000149.549375\"\n",
      "[1] \"0.1725 0.614741879533048 172000149.549375\"\n",
      "[1] \"0.175 0.612363381166295 172000149.549375\"\n",
      "[1] \"0.1775 0.61027168439308 172000149.549375\"\n",
      "[1] \"0.18 0.607670828030893 172000149.549375\"\n",
      "[1] \"0.1825 0.605378374002533 172000149.549375\"\n",
      "[1] \"0.185 0.602490716046807 172000149.549375\"\n",
      "[1] \"0.1875 0.599499126242815 172000149.549375\"\n",
      "[1] \"0.19 0.597337595337251 172000149.549375\"\n",
      "[1] \"0.1925 0.597411782738891 172000149.549375\"\n",
      "[1] \"0.195 0.596787513007094 172000149.549375\"\n",
      "[1] \"0.1975 0.595353107813326 172000149.549375\"\n",
      "[1] \"0.2 0.594555750743108 172000149.549375\"\n",
      "[1] \"0.2025 0.59401381211929 172000149.549375\"\n",
      "[1] \"0.205 0.591913011581419 172000149.549375\"\n",
      "[1] \"0.2075 0.592295601316885 172000149.549375\"\n",
      "[1] \"0.21 0.591358217359214 172000149.549375\"\n",
      "[1] \"0.2125 0.5902396409601 172000149.549375\"\n",
      "[1] \"0.215 0.591117216005077 172000149.549375\"\n",
      "[1] \"0.2175 0.590288475787721 172000149.549375\"\n",
      "[1] \"0.22 0.590729439944855 172000149.549375\"\n",
      "[1] \"0.2225 0.589126339285275 172000149.549375\"\n",
      "[1] \"0.225 0.589970853879286 172000149.549375\"\n",
      "[1] \"0.2275 0.588975774142141 172000149.549375\"\n",
      "[1] \"0.23 0.588805004146427 172000149.549375\"\n",
      "[1] \"0.2325 0.590354045050311 172000149.549375\"\n",
      "[1] \"0.235 0.589663654416579 172000149.549375\"\n",
      "[1] \"0.2375 0.589239821920489 172000149.549375\"\n",
      "[1] \"0.24 0.589708455994348 172000149.549375\"\n",
      "[1] \"0.2425 0.590926495162485 172000149.549375\"\n",
      "[1] \"0.245 0.591904967467511 172000149.549375\"\n",
      "[1] \"0.2475 0.591901894275975 172000149.549375\"\n",
      "[1] \"0.25 0.593170881404953 172000149.549375\"\n",
      "[1] \"0.2525 0.593654368400467 172000149.549375\"\n",
      "[1] \"0.255 0.594674684901678 172000149.549375\"\n",
      "[1] \"0.2575 0.594873726249677 172000149.549375\"\n",
      "[1] \"0.26 0.595620058152419 172000149.549375\"\n",
      "[1] \"0.2625 0.596291485408009 172000149.549375\"\n",
      "[1] \"0.265 0.598296381994 172000149.549375\"\n",
      "[1] \"0.2675 0.59869821652373 172000149.549375\"\n",
      "[1] \"0.27 0.599232651480085 172000149.549375\"\n",
      "[1] \"0.2725 0.599501206940994 172000149.549375\"\n",
      "[1] \"0.275 0.600645020104174 172000149.549375\"\n",
      "[1] \"0.2775 0.601816503184079 172000149.549375\"\n",
      "[1] \"0.28 0.603634816794385 172000149.549375\"\n",
      "[1] \"0.2825 0.605343129379987 172000149.549375\"\n",
      "[1] \"0.285 0.605741929321498 172000149.549375\"\n",
      "[1] \"0.2875 0.607115526940938 172000149.549375\"\n",
      "[1] \"0.29 0.609651862498384 172000149.549375\"\n",
      "[1] \"0.2925 0.609715947473733 172000149.549375\"\n",
      "[1] \"0.295 0.610539219950212 172000149.549375\"\n",
      "[1] \"0.2975 0.610848940965111 172000149.549375\"\n",
      "[1] \"0.3 0.611484273181515 172000149.549375\"\n",
      "[1] \"0.3025 0.613590067027555 172000149.549375\"\n",
      "[1] \"0.305 0.613832309856128 172000149.549375\"\n",
      "[1] \"0.3075 0.614338076234125 172000149.549375\"\n",
      "[1] \"0.31 0.616023789417805 172000149.549375\"\n",
      "[1] \"0.3125 0.616543051433067 172000149.549375\"\n",
      "[1] \"0.315 0.617137896737676 172000149.549375\"\n",
      "[1] \"0.3175 0.618269571547981 172000149.549375\"\n",
      "[1] \"0.32 0.619445446500495 172000149.549375\"\n",
      "[1] \"0.3225 0.619715359245794 172000149.549375\"\n",
      "[1] \"0.325 0.621274541179286 172000149.549375\"\n"
     ]
    },
    {
     "data": {
      "text/html": [
       "0.588805004146427"
      ],
      "text/latex": [
       "0.588805004146427"
      ],
      "text/markdown": [
       "0.588805004146427"
      ],
      "text/plain": [
       "[1] 0.588805"
      ]
     },
     "metadata": {},
     "output_type": "display_data"
    }
   ],
   "source": [
    "threshs <- seq(0.0125, 0.325, by = 0.0025)\n",
    "crs <- c()\n",
    "rets <- c()\n",
    "for(i in 1:length(threshs)) {\n",
    "    cm <- confusionMatrix(table(xgb.mono.opt.pred > threshs[i], y_test$default))\n",
    "    nir <- sum(cm$table[,1])/sum(cm$table)\n",
    "    cr <-  ((cm$table[1,2]*mloan_amnt)+(cm$table[2,1]*mreturns)) / (sum(cm$table[,1])*mreturns)\n",
    "    pr <-  (cm$table[1,1]*mreturns) - (cm$table[1,2]*mloan_amnt)\n",
    "    nv <- (round(nir * sum(cm$table[1,]),0)*mreturns)-(round((1-nir) * sum(cm$table[1,]),0)*mloan_amnt)\n",
    "    print(paste(threshs[i],cr,sum(cm$table[,1])*mreturns))\n",
    "    crs <- c(crs,cr)\n",
    "    rets <- c(rets, sum(cm$table[1,])*mreturns)\n",
    "}\n",
    "min(crs) #xgb.mono.CSL.cv.opt2.threshold = 0.185"
   ]
  },
  {
   "cell_type": "markdown",
   "metadata": {},
   "source": [
    "### 4.2) Non-Monotonic Constrained XGBoost"
   ]
  },
  {
   "cell_type": "markdown",
   "metadata": {},
   "source": [
    "#### 4.2.1) Perform Hyperparameter Tuning with Bayesian Optimization and Cross Validation on the Training Data Sample\n",
    "\n",
    "Optimize the PR AUC"
   ]
  },
  {
   "cell_type": "code",
   "execution_count": 49,
   "metadata": {},
   "outputs": [],
   "source": [
    "xgb.cv.bayes <- function(nround, max_depth, min_child_weight, eta, gamma) { # subsample, colsample_bytree, max_delta_step\n",
    "    params <- list(\n",
    "                    booster = \"gbtree\", #\"gblinear\", \"dart\"\n",
    "                    max_depth = max_depth,\n",
    "                    min_child_weight = min_child_weight,\n",
    "                    eta = eta,\n",
    "                    gamma = gamma,\n",
    "                    subsample = 0.9, #subsample, \n",
    "                    colsample_bytree = 0.8, #colsample_bytree,\n",
    "                    #max_delta_step = max_delta_step,\n",
    "                    #lambda = 1, \n",
    "                    #alpha = 0,\n",
    "                    objective = \"binary:logistic\",\n",
    "                    eval_metric = \"aucpr\"\n",
    "                 )\n",
    "    cv <- xgb.cv(params = params, data = dtrain.1hot, folds = cv_folds, nrounds = 500, \n",
    "                 early_stopping_rounds = 10, maximize = TRUE, verbose = TRUE, print_every_n=20)\n",
    "    return(list(Score = cv$evaluation_log$test_aucpr_mean[cv$best_iteration], Pred=cv$best_iteration))\n",
    "}"
   ]
  },
  {
   "cell_type": "code",
   "execution_count": 50,
   "metadata": {},
   "outputs": [
    {
     "name": "stdout",
     "output_type": "stream",
     "text": [
      "\n",
      " Best Parameters Found: \n",
      "Round = 19\tmax_depth = 5.0000\tmin_child_weight = 2.0000\teta = 0.0692\tgamma = 0.1934\tValue = 0.3575 \n",
      "Time difference of 27.4368 mins\n"
     ]
    }
   ],
   "source": [
    "stime <- Sys.time()\n",
    "xgb.cv.bayes.opt <- BayesianOptimization(xgb.cv.bayes,\n",
    "                              bounds = list(max_depth = c(3L, 15L), \n",
    "                                            min_child_weight = c(1L, 7L),\n",
    "                                            eta=c(0.05, 0.3),\n",
    "                                            gamma = c(0.0, 0.4) #,\n",
    "                                            #subsample = c(0.6, 0.9),\n",
    "                                            #colsample_bytree=c(0.3, 0.7),\n",
    "                                            #max_delta_step=c(1L, 10L)\n",
    "                                        ),\n",
    "                              init_grid_dt = NULL, init_points = 10, n_iter = 10,\n",
    "                              acq = \"ucb\", kappa = 2.576, eps = 0.0, verbose = FALSE)\n",
    "print(Sys.time() - stime)"
   ]
  },
  {
   "cell_type": "markdown",
   "metadata": {},
   "source": [
    "**Bayesian Optimization History**"
   ]
  },
  {
   "cell_type": "code",
   "execution_count": 51,
   "metadata": {},
   "outputs": [
    {
     "data": {
      "text/html": [
       "<table>\n",
       "<thead><tr><th scope=col>Round</th><th scope=col>max_depth</th><th scope=col>min_child_weight</th><th scope=col>eta</th><th scope=col>gamma</th><th scope=col>Value</th></tr></thead>\n",
       "<tbody>\n",
       "\t<tr><td> 1        </td><td> 8        </td><td>6         </td><td>0.19108176</td><td>0.04066041</td><td>0.3496600 </td></tr>\n",
       "\t<tr><td> 2        </td><td> 4        </td><td>5         </td><td>0.11149073</td><td>0.04746462</td><td>0.3562832 </td></tr>\n",
       "\t<tr><td> 3        </td><td>11        </td><td>5         </td><td>0.23826744</td><td>0.36749836</td><td>0.3368512 </td></tr>\n",
       "\t<tr><td> 4        </td><td>15        </td><td>5         </td><td>0.12306733</td><td>0.26890431</td><td>0.3307060 </td></tr>\n",
       "\t<tr><td> 5        </td><td> 7        </td><td>3         </td><td>0.25608782</td><td>0.13806367</td><td>0.3484536 </td></tr>\n",
       "\t<tr><td> 6        </td><td>10        </td><td>2         </td><td>0.19699559</td><td>0.16508066</td><td>0.3384774 </td></tr>\n",
       "\t<tr><td> 7        </td><td> 4        </td><td>2         </td><td>0.15987103</td><td>0.36876282</td><td>0.3561296 </td></tr>\n",
       "\t<tr><td> 8        </td><td> 3        </td><td>4         </td><td>0.18723189</td><td>0.01477852</td><td>0.3558280 </td></tr>\n",
       "\t<tr><td> 9        </td><td> 4        </td><td>4         </td><td>0.19243697</td><td>0.13068782</td><td>0.3552168 </td></tr>\n",
       "\t<tr><td>10        </td><td>13        </td><td>7         </td><td>0.22006562</td><td>0.16888285</td><td>0.3305362 </td></tr>\n",
       "\t<tr><td>11        </td><td> 3        </td><td>1         </td><td>0.05000000</td><td>0.00360458</td><td>0.3550408 </td></tr>\n",
       "\t<tr><td>12        </td><td> 3        </td><td>7         </td><td>0.05000000</td><td>0.40000000</td><td>0.3551236 </td></tr>\n",
       "\t<tr><td>13        </td><td> 6        </td><td>7         </td><td>0.05000000</td><td>0.38982015</td><td>0.3566024 </td></tr>\n",
       "\t<tr><td>14        </td><td> 6        </td><td>6         </td><td>0.12191094</td><td>0.34240928</td><td>0.3564342 </td></tr>\n",
       "\t<tr><td>15        </td><td> 3        </td><td>7         </td><td>0.17296356</td><td>0.40000000</td><td>0.3558346 </td></tr>\n",
       "\t<tr><td>16        </td><td> 5        </td><td>1         </td><td>0.05325885</td><td>0.37020227</td><td>0.3574818 </td></tr>\n",
       "\t<tr><td>17        </td><td> 6        </td><td>1         </td><td>0.05000000</td><td>0.37044653</td><td>0.3570436 </td></tr>\n",
       "\t<tr><td>18        </td><td> 5        </td><td>1         </td><td>0.07093983</td><td>0.13640908</td><td>0.3575136 </td></tr>\n",
       "\t<tr><td>19        </td><td> 5        </td><td>2         </td><td>0.06918026</td><td>0.19339989</td><td>0.3575162 </td></tr>\n",
       "\t<tr><td>20        </td><td> 5        </td><td>2         </td><td>0.06868732</td><td>0.33801475</td><td>0.3573184 </td></tr>\n",
       "</tbody>\n",
       "</table>\n"
      ],
      "text/latex": [
       "\\begin{tabular}{r|llllll}\n",
       " Round & max\\_depth & min\\_child\\_weight & eta & gamma & Value\\\\\n",
       "\\hline\n",
       "\t  1         &  8         & 6          & 0.19108176 & 0.04066041 & 0.3496600 \\\\\n",
       "\t  2         &  4         & 5          & 0.11149073 & 0.04746462 & 0.3562832 \\\\\n",
       "\t  3         & 11         & 5          & 0.23826744 & 0.36749836 & 0.3368512 \\\\\n",
       "\t  4         & 15         & 5          & 0.12306733 & 0.26890431 & 0.3307060 \\\\\n",
       "\t  5         &  7         & 3          & 0.25608782 & 0.13806367 & 0.3484536 \\\\\n",
       "\t  6         & 10         & 2          & 0.19699559 & 0.16508066 & 0.3384774 \\\\\n",
       "\t  7         &  4         & 2          & 0.15987103 & 0.36876282 & 0.3561296 \\\\\n",
       "\t  8         &  3         & 4          & 0.18723189 & 0.01477852 & 0.3558280 \\\\\n",
       "\t  9         &  4         & 4          & 0.19243697 & 0.13068782 & 0.3552168 \\\\\n",
       "\t 10         & 13         & 7          & 0.22006562 & 0.16888285 & 0.3305362 \\\\\n",
       "\t 11         &  3         & 1          & 0.05000000 & 0.00360458 & 0.3550408 \\\\\n",
       "\t 12         &  3         & 7          & 0.05000000 & 0.40000000 & 0.3551236 \\\\\n",
       "\t 13         &  6         & 7          & 0.05000000 & 0.38982015 & 0.3566024 \\\\\n",
       "\t 14         &  6         & 6          & 0.12191094 & 0.34240928 & 0.3564342 \\\\\n",
       "\t 15         &  3         & 7          & 0.17296356 & 0.40000000 & 0.3558346 \\\\\n",
       "\t 16         &  5         & 1          & 0.05325885 & 0.37020227 & 0.3574818 \\\\\n",
       "\t 17         &  6         & 1          & 0.05000000 & 0.37044653 & 0.3570436 \\\\\n",
       "\t 18         &  5         & 1          & 0.07093983 & 0.13640908 & 0.3575136 \\\\\n",
       "\t 19         &  5         & 2          & 0.06918026 & 0.19339989 & 0.3575162 \\\\\n",
       "\t 20         &  5         & 2          & 0.06868732 & 0.33801475 & 0.3573184 \\\\\n",
       "\\end{tabular}\n"
      ],
      "text/markdown": [
       "\n",
       "| Round | max_depth | min_child_weight | eta | gamma | Value |\n",
       "|---|---|---|---|---|---|\n",
       "|  1         |  8         | 6          | 0.19108176 | 0.04066041 | 0.3496600  |\n",
       "|  2         |  4         | 5          | 0.11149073 | 0.04746462 | 0.3562832  |\n",
       "|  3         | 11         | 5          | 0.23826744 | 0.36749836 | 0.3368512  |\n",
       "|  4         | 15         | 5          | 0.12306733 | 0.26890431 | 0.3307060  |\n",
       "|  5         |  7         | 3          | 0.25608782 | 0.13806367 | 0.3484536  |\n",
       "|  6         | 10         | 2          | 0.19699559 | 0.16508066 | 0.3384774  |\n",
       "|  7         |  4         | 2          | 0.15987103 | 0.36876282 | 0.3561296  |\n",
       "|  8         |  3         | 4          | 0.18723189 | 0.01477852 | 0.3558280  |\n",
       "|  9         |  4         | 4          | 0.19243697 | 0.13068782 | 0.3552168  |\n",
       "| 10         | 13         | 7          | 0.22006562 | 0.16888285 | 0.3305362  |\n",
       "| 11         |  3         | 1          | 0.05000000 | 0.00360458 | 0.3550408  |\n",
       "| 12         |  3         | 7          | 0.05000000 | 0.40000000 | 0.3551236  |\n",
       "| 13         |  6         | 7          | 0.05000000 | 0.38982015 | 0.3566024  |\n",
       "| 14         |  6         | 6          | 0.12191094 | 0.34240928 | 0.3564342  |\n",
       "| 15         |  3         | 7          | 0.17296356 | 0.40000000 | 0.3558346  |\n",
       "| 16         |  5         | 1          | 0.05325885 | 0.37020227 | 0.3574818  |\n",
       "| 17         |  6         | 1          | 0.05000000 | 0.37044653 | 0.3570436  |\n",
       "| 18         |  5         | 1          | 0.07093983 | 0.13640908 | 0.3575136  |\n",
       "| 19         |  5         | 2          | 0.06918026 | 0.19339989 | 0.3575162  |\n",
       "| 20         |  5         | 2          | 0.06868732 | 0.33801475 | 0.3573184  |\n",
       "\n"
      ],
      "text/plain": [
       "   Round max_depth min_child_weight eta        gamma      Value    \n",
       "1   1     8        6                0.19108176 0.04066041 0.3496600\n",
       "2   2     4        5                0.11149073 0.04746462 0.3562832\n",
       "3   3    11        5                0.23826744 0.36749836 0.3368512\n",
       "4   4    15        5                0.12306733 0.26890431 0.3307060\n",
       "5   5     7        3                0.25608782 0.13806367 0.3484536\n",
       "6   6    10        2                0.19699559 0.16508066 0.3384774\n",
       "7   7     4        2                0.15987103 0.36876282 0.3561296\n",
       "8   8     3        4                0.18723189 0.01477852 0.3558280\n",
       "9   9     4        4                0.19243697 0.13068782 0.3552168\n",
       "10 10    13        7                0.22006562 0.16888285 0.3305362\n",
       "11 11     3        1                0.05000000 0.00360458 0.3550408\n",
       "12 12     3        7                0.05000000 0.40000000 0.3551236\n",
       "13 13     6        7                0.05000000 0.38982015 0.3566024\n",
       "14 14     6        6                0.12191094 0.34240928 0.3564342\n",
       "15 15     3        7                0.17296356 0.40000000 0.3558346\n",
       "16 16     5        1                0.05325885 0.37020227 0.3574818\n",
       "17 17     6        1                0.05000000 0.37044653 0.3570436\n",
       "18 18     5        1                0.07093983 0.13640908 0.3575136\n",
       "19 19     5        2                0.06918026 0.19339989 0.3575162\n",
       "20 20     5        2                0.06868732 0.33801475 0.3573184"
      ]
     },
     "metadata": {},
     "output_type": "display_data"
    }
   ],
   "source": [
    "xgb.cv.bayes.opt$History"
   ]
  },
  {
   "cell_type": "markdown",
   "metadata": {},
   "source": [
    "**Bayesian Optimization Best Parameters**"
   ]
  },
  {
   "cell_type": "code",
   "execution_count": 52,
   "metadata": {},
   "outputs": [
    {
     "data": {
      "text/html": [
       "<dl class=dl-horizontal>\n",
       "\t<dt>max_depth</dt>\n",
       "\t\t<dd>5</dd>\n",
       "\t<dt>min_child_weight</dt>\n",
       "\t\t<dd>2</dd>\n",
       "\t<dt>eta</dt>\n",
       "\t\t<dd>0.0691802625378494</dd>\n",
       "\t<dt>gamma</dt>\n",
       "\t\t<dd>0.193399890288106</dd>\n",
       "</dl>\n"
      ],
      "text/latex": [
       "\\begin{description*}\n",
       "\\item[max\\textbackslash{}\\_depth] 5\n",
       "\\item[min\\textbackslash{}\\_child\\textbackslash{}\\_weight] 2\n",
       "\\item[eta] 0.0691802625378494\n",
       "\\item[gamma] 0.193399890288106\n",
       "\\end{description*}\n"
      ],
      "text/markdown": [
       "max_depth\n",
       ":   5min_child_weight\n",
       ":   2eta\n",
       ":   0.0691802625378494gamma\n",
       ":   0.193399890288106\n",
       "\n"
      ],
      "text/plain": [
       "       max_depth min_child_weight              eta            gamma \n",
       "      5.00000000       2.00000000       0.06918026       0.19339989 "
      ]
     },
     "metadata": {},
     "output_type": "display_data"
    }
   ],
   "source": [
    "xgb.cv.bayes.opt$Best_Par"
   ]
  },
  {
   "cell_type": "markdown",
   "metadata": {},
   "source": [
    "**Set Optimal # Rounds**"
   ]
  },
  {
   "cell_type": "code",
   "execution_count": 53,
   "metadata": {},
   "outputs": [
    {
     "data": {
      "text/html": [
       "269"
      ],
      "text/latex": [
       "269"
      ],
      "text/markdown": [
       "269"
      ],
      "text/plain": [
       "[1] 269"
      ]
     },
     "metadata": {},
     "output_type": "display_data"
    }
   ],
   "source": [
    "xgb.cv.bayes.opt.nrounds <- xgb.cv.bayes.opt$Pred[[which.max(xgb.cv.bayes.opt$History$Value)]]\n",
    "xgb.cv.bayes.opt.nrounds"
   ]
  },
  {
   "cell_type": "markdown",
   "metadata": {},
   "source": [
    "#### 4.1.2) Perform Cost Sensitive Learning with Cross Validation on the Training Data Sample"
   ]
  },
  {
   "cell_type": "markdown",
   "metadata": {},
   "source": [
    "**Run CSL on a 0.003 threshold interval**"
   ]
  },
  {
   "cell_type": "code",
   "execution_count": 54,
   "metadata": {},
   "outputs": [
    {
     "name": "stdout",
     "output_type": "stream",
     "text": [
      "[1] \"1 : 0.1\"\n",
      "[1] \"2 : 0.13\"\n",
      "[1] \"3 : 0.16\"\n",
      "[1] \"4 : 0.19\"\n",
      "[1] \"5 : 0.22\"\n",
      "[1] \"6 : 0.25\"\n",
      "[1] \"7 : 0.28\"\n",
      "[1] \"8 : 0.31\"\n",
      "[1] \"9 : 0.34\"\n",
      "[1] \"10 : 0.37\"\n",
      "[1] \"11 : 0.4\"\n",
      "[1] \"12 : 0.43\"\n",
      "[1] \"13 : 0.46\"\n",
      "[1] \"14 : 0.49\"\n",
      "[1] \"15 : 0.52\"\n",
      "[1] \"16 : 0.55\"\n",
      "[1] \"17 : 0.58\"\n",
      "[1] \"18 : 0.61\"\n",
      "[1] \"19 : 0.64\"\n",
      "[1] \"20 : 0.67\"\n",
      "Time difference of 6.826219 mins\n"
     ]
    }
   ],
   "source": [
    "params <- list(\n",
    "                objective = \"binary:logistic\",\n",
    "                eta = xgb.cv.bayes.opt$Best_Par[\"eta\"],\n",
    "                max_depth = xgb.cv.bayes.opt$Best_Par[\"max_depth\"],\n",
    "                gamma = xgb.cv.bayes.opt$Best_Par[\"gamma\"],\n",
    "                min_child_weight = xgb.cv.bayes.opt$Best_Par[\"min_child_weight\"],\n",
    "                subsample = 0.75,\n",
    "                colsample_bytree = 1\n",
    "              )\n",
    "stime <- Sys.time()\n",
    "xgb.CSL.cv.opt1 <- CSL(params, dtrain.1hot, 5, xgb.cv.bayes.opt.nrounds, \n",
    "                           0.1, 0.69, 0.03, feval = \"lift\")\n",
    "print(Sys.time() - stime)"
   ]
  },
  {
   "cell_type": "markdown",
   "metadata": {},
   "source": [
    "**Plot the lift for every threshold in the 0.10-0.69 range**"
   ]
  },
  {
   "cell_type": "code",
   "execution_count": 55,
   "metadata": {},
   "outputs": [
    {
     "data": {
      "image/png": "[encoded data removed]",
      "text/plain": [
       "plot without title"
      ]
     },
     "metadata": {},
     "output_type": "display_data"
    }
   ],
   "source": [
    "xgb.CSL.cv.opt1.df <- as.data.frame(xgb.CSL.cv.opt1)\n",
    "ggplot(xgb.CSL.cv.opt1.df, aes(x = thresholds, y = performance)) +\n",
    "  geom_line() +\n",
    "  labs(title = \"Profit lift over naïve predictions using XGBoost\",\n",
    "          x = \"Threshold\", y = \"Lift over naive profit\")"
   ]
  },
  {
   "cell_type": "markdown",
   "metadata": {},
   "source": [
    "**Set Optimal Threshold for CSL on a 0.03 scale**"
   ]
  },
  {
   "cell_type": "code",
   "execution_count": 56,
   "metadata": {},
   "outputs": [
    {
     "data": {
      "text/html": [
       "0.25"
      ],
      "text/latex": [
       "0.25"
      ],
      "text/markdown": [
       "0.25"
      ],
      "text/plain": [
       "[1] 0.25"
      ]
     },
     "metadata": {},
     "output_type": "display_data"
    }
   ],
   "source": [
    "xgb.CSL.cv.opt1.threshold <- xgb.CSL.cv.opt1.df$thresholds[which.max(xgb.CSL.cv.opt1.df$performance)]\n",
    "xgb.CSL.cv.opt1.threshold"
   ]
  },
  {
   "cell_type": "markdown",
   "metadata": {},
   "source": [
    "**Get more granular at a 0.005 threshold level**"
   ]
  },
  {
   "cell_type": "code",
   "execution_count": 57,
   "metadata": {},
   "outputs": [
    {
     "name": "stdout",
     "output_type": "stream",
     "text": [
      "[1] \"1 : 0.22\"\n",
      "[1] \"2 : 0.225\"\n",
      "[1] \"3 : 0.23\"\n",
      "[1] \"4 : 0.235\"\n",
      "[1] \"5 : 0.24\"\n",
      "[1] \"6 : 0.245\"\n",
      "[1] \"7 : 0.25\"\n",
      "[1] \"8 : 0.255\"\n",
      "[1] \"9 : 0.26\"\n",
      "[1] \"10 : 0.265\"\n",
      "[1] \"11 : 0.27\"\n",
      "[1] \"12 : 0.275\"\n",
      "[1] \"13 : 0.28\"\n",
      "Time difference of 9.619052 mins\n"
     ]
    }
   ],
   "source": [
    "params <- list(\n",
    "                objective = \"binary:logistic\",\n",
    "                eta = xgb.cv.bayes.opt$Best_Par[\"eta\"],\n",
    "                max_depth = xgb.cv.bayes.opt$Best_Par[\"max_depth\"],\n",
    "                gamma = xgb.cv.bayes.opt$Best_Par[\"gamma\"],\n",
    "                min_child_weight = xgb.cv.bayes.opt$Best_Par[\"min_child_weight\"],\n",
    "                subsample = 0.75,\n",
    "                colsample_bytree = 1,\n",
    "                monotone_constraints = mono\n",
    "              )\n",
    "stime <- Sys.time()\n",
    "xgb.CSL.cv.opt2 <- CSL(params, dtrain.1hot, 5, xgb.cv.bayes.opt.nrounds, \n",
    "                           xgb.CSL.cv.opt1.threshold - 0.03, xgb.CSL.cv.opt1.threshold + 0.03, 0.005, feval = \"lift\")\n",
    "print(Sys.time() - stime)"
   ]
  },
  {
   "cell_type": "markdown",
   "metadata": {},
   "source": [
    "**Plot the lift for every threshold in the 0.13-0.19 range**"
   ]
  },
  {
   "cell_type": "code",
   "execution_count": 58,
   "metadata": {},
   "outputs": [
    {
     "data": {
      "image/png": "[encoded data removed]",
      "text/plain": [
       "plot without title"
      ]
     },
     "metadata": {},
     "output_type": "display_data"
    }
   ],
   "source": [
    "xgb.CSL.cv.opt2.df <- as.data.frame(xgb.CSL.cv.opt2)\n",
    "ggplot(xgb.CSL.cv.opt2.df[which(xgb.CSL.cv.opt2.df$performance>0),], aes(x = thresholds, y = performance)) +\n",
    "  geom_line() +\n",
    "  labs(title = \"Profit lift over naïve predictions using XGBoost\",\n",
    "          x = \"Threshold\", y = \"Lift over naive profit\")"
   ]
  },
  {
   "cell_type": "markdown",
   "metadata": {},
   "source": [
    "**Set Optimal Threshold for CSL on a 0.005 scale**"
   ]
  },
  {
   "cell_type": "code",
   "execution_count": 59,
   "metadata": {},
   "outputs": [
    {
     "data": {
      "text/html": [
       "0.245"
      ],
      "text/latex": [
       "0.245"
      ],
      "text/markdown": [
       "0.245"
      ],
      "text/plain": [
       "[1] 0.245"
      ]
     },
     "metadata": {},
     "output_type": "display_data"
    }
   ],
   "source": [
    "xgb.CSL.cv.opt2.threshold <- xgb.CSL.cv.opt2.df$thresholds[which.max(xgb.CSL.cv.opt2.df$performance)]\n",
    "xgb.CSL.cv.opt2.threshold"
   ]
  },
  {
   "cell_type": "markdown",
   "metadata": {},
   "source": [
    "#### 4.2.2) Run & Test XGBoost on Optimal Params but on Full Training Set"
   ]
  },
  {
   "cell_type": "markdown",
   "metadata": {},
   "source": [
    "**Set Optimal Params for Non-Monotonic**"
   ]
  },
  {
   "cell_type": "code",
   "execution_count": 60,
   "metadata": {},
   "outputs": [],
   "source": [
    "xgb.cv.bayes.opt.params <- list(\n",
    "    booster = \"gbtree\",\n",
    "    max_depth = xgb.cv.bayes.opt$Best_Par[\"max_depth\"],\n",
    "    min_child_weight = xgb.cv.bayes.opt$Best_Par[\"min_child_weight\"],\n",
    "    eta = xgb.cv.bayes.opt$Best_Par[\"eta\"],\n",
    "    gamma = xgb.cv.bayes.opt$Best_Par[\"gamma\"],\n",
    "    subsample = 0.9, #xgb.cv.bayes.opt$Best_Par[\"subsample\"],\n",
    "    colsample_bytree = 0.8, #xgb.cv.bayes.opt$Best_Par[\"colsample_bytree\"],\n",
    "    #max_delta_step = xgb.cv.bayes.opt$Best_Par[\"max_delta_step\"], \n",
    "    objective = \"binary:logistic\",\n",
    "    eval_metric=c(\"logloss\", \"auc\", \"aucpr\", \"error\")\n",
    ")"
   ]
  },
  {
   "cell_type": "markdown",
   "metadata": {},
   "source": [
    "**Train model on full training set**"
   ]
  },
  {
   "cell_type": "code",
   "execution_count": 61,
   "metadata": {},
   "outputs": [
    {
     "name": "stdout",
     "output_type": "stream",
     "text": [
      "Time difference of 20.16907 secs\n"
     ]
    }
   ],
   "source": [
    "stime <- Sys.time()\n",
    "xgb.opt.mdl <- xgb.train(params = xgb.cv.bayes.opt.params, nrounds = xgb.cv.bayes.opt.nrounds, data = dtrain.1hot, \n",
    "                              verbose=1, print_every_n=30)\n",
    "print(Sys.time() - stime)"
   ]
  },
  {
   "cell_type": "markdown",
   "metadata": {},
   "source": [
    "**Get Predictions using Test Dataset**"
   ]
  },
  {
   "cell_type": "code",
   "execution_count": 62,
   "metadata": {},
   "outputs": [],
   "source": [
    "xgb.opt.pred <- predict(xgb.opt.mdl, as.matrix(x_test.1hot))"
   ]
  },
  {
   "cell_type": "markdown",
   "metadata": {},
   "source": [
    "**Plot ROC Curve**"
   ]
  },
  {
   "cell_type": "code",
   "execution_count": 63,
   "metadata": {},
   "outputs": [],
   "source": [
    "xgb.opt.pred.fg <- xgb.opt.pred[y_test$default==TRUE]\n",
    "xgb.opt.pred.bg <- xgb.opt.pred[y_test$default==FALSE]"
   ]
  },
  {
   "cell_type": "code",
   "execution_count": 64,
   "metadata": {},
   "outputs": [
    {
     "data": {
      "image/png": "[encoded data removed]",
      "text/plain": [
       "Plot with title “ROC curve\n",
       "AUC = 0.7171984”"
      ]
     },
     "metadata": {},
     "output_type": "display_data"
    }
   ],
   "source": [
    "xgb.opt.roc <- roc.curve(scores.class0 = xgb.opt.pred.fg, scores.class1 = xgb.opt.pred.bg, curve = T)\n",
    "plot(xgb.opt.roc)"
   ]
  },
  {
   "cell_type": "code",
   "execution_count": 65,
   "metadata": {},
   "outputs": [
    {
     "data": {
      "image/png": "[encoded data removed]",
      "text/plain": [
       "Plot with title “PR curve\n",
       "AUC = 0.3593283”"
      ]
     },
     "metadata": {},
     "output_type": "display_data"
    }
   ],
   "source": [
    "xgb.opt.prc <- pr.curve(scores.class0 = xgb.opt.pred.fg, scores.class1 = xgb.opt.pred.bg, curve = T)\n",
    "plot(xgb.opt.prc)"
   ]
  },
  {
   "cell_type": "markdown",
   "metadata": {},
   "source": [
    "**Calculate AUC**"
   ]
  },
  {
   "cell_type": "code",
   "execution_count": 66,
   "metadata": {},
   "outputs": [
    {
     "data": {
      "text/html": [
       "0.717198386553174"
      ],
      "text/latex": [
       "0.717198386553174"
      ],
      "text/markdown": [
       "0.717198386553174"
      ],
      "text/plain": [
       "Area under the curve: 0.7172"
      ]
     },
     "metadata": {},
     "output_type": "display_data"
    }
   ],
   "source": [
    "xgb.opt.auc <- auc(roc(y_test$default, xgb.opt.pred))\n",
    "xgb.opt.auc"
   ]
  },
  {
   "cell_type": "markdown",
   "metadata": {},
   "source": [
    "**Calculate F-score**"
   ]
  },
  {
   "cell_type": "code",
   "execution_count": 67,
   "metadata": {},
   "outputs": [
    {
     "data": {
      "text/html": [
       "0.898440215502259"
      ],
      "text/latex": [
       "0.898440215502259"
      ],
      "text/markdown": [
       "0.898440215502259"
      ],
      "text/plain": [
       "[1] 0.8984402"
      ]
     },
     "metadata": {},
     "output_type": "display_data"
    }
   ],
   "source": [
    "xgb.opt.f1 <- F1_Score(ifelse(xgb.opt.pred > 0.5, 1, 0), ifelse(y_test$default, 1, 0), positive = \"0\")\n",
    "xgb.opt.f1"
   ]
  },
  {
   "cell_type": "markdown",
   "metadata": {},
   "source": [
    "**Generate and Save Confusion Matrix**"
   ]
  },
  {
   "cell_type": "code",
   "execution_count": 68,
   "metadata": {},
   "outputs": [
    {
     "data": {
      "text/plain": [
       "Confusion Matrix and Statistics\n",
       "\n",
       "       \n",
       "        FALSE  TRUE\n",
       "  FALSE 33078  4734\n",
       "  TRUE   8664  4683\n",
       "                                          \n",
       "               Accuracy : 0.7381          \n",
       "                 95% CI : (0.7343, 0.7419)\n",
       "    No Information Rate : 0.8159          \n",
       "    P-Value [Acc > NIR] : 1               \n",
       "                                          \n",
       "                  Kappa : 0.2494          \n",
       "                                          \n",
       " Mcnemar's Test P-Value : <2e-16          \n",
       "                                          \n",
       "            Sensitivity : 0.7924          \n",
       "            Specificity : 0.4973          \n",
       "         Pos Pred Value : 0.8748          \n",
       "         Neg Pred Value : 0.3509          \n",
       "             Prevalence : 0.8159          \n",
       "         Detection Rate : 0.6466          \n",
       "   Detection Prevalence : 0.7391          \n",
       "      Balanced Accuracy : 0.6449          \n",
       "                                          \n",
       "       'Positive' Class : FALSE           \n",
       "                                          "
      ]
     },
     "metadata": {},
     "output_type": "display_data"
    }
   ],
   "source": [
    "xgb.opt.cm <- confusionMatrix(table(xgb.opt.pred > xgb.CSL.cv.opt2.threshold, y_test$default))\n",
    "xgb.opt.cm"
   ]
  },
  {
   "cell_type": "markdown",
   "metadata": {},
   "source": [
    "**Calculate Feature Importance/Influence**"
   ]
  },
  {
   "cell_type": "code",
   "execution_count": 69,
   "metadata": {},
   "outputs": [
    {
     "name": "stdout",
     "output_type": "stream",
     "text": [
      "                                   Feature         Gain       Cover   Frequency\n",
      " 1:                               int_rate 0.4285738018 0.136197849 0.083989145\n",
      " 2:                             annual_inc 0.1137493599 0.112107753 0.117503392\n",
      " 3:                                    dti 0.0702980480 0.081522529 0.110990502\n",
      " 4:                              term_36MO 0.0437926855 0.023491593 0.017639077\n",
      " 5: quantity_indexes_for_real_gdp_by_state 0.0344446469 0.070826970 0.060786974\n",
      " 6:                            installment 0.0336952353 0.061038075 0.079104478\n",
      " 7:                              loan_amnt 0.0289468499 0.047709805 0.056445047\n",
      " 8:                              total_acc 0.0239398821 0.047464551 0.053867028\n",
      " 9:                gross_operating_surplus 0.0168217951 0.039236935 0.037720488\n",
      "10:           per_capita_real_gdp_by_state 0.0163410237 0.043880701 0.040434193\n",
      "11:                      real_gdp_by_state 0.0159090802 0.038936850 0.038127544\n",
      "12:                                  month 0.0155728063 0.032636109 0.040434193\n",
      "13:              compensation_of_employees 0.0154267686 0.029686924 0.037720488\n",
      "14:        taxes_on_production_and_imports 0.0141684910 0.037243932 0.031071913\n",
      "15:                                grade_A 0.0138051411 0.003664740 0.001221167\n",
      "16:                              subsidies 0.0135989045 0.030288238 0.032293080\n",
      "17:                 purpose_SMALL_BUSINESS 0.0135242421 0.023894880 0.017232022\n",
      "18:                               open_acc 0.0109790234 0.041546298 0.036499322\n",
      "19:                    home_ownership_RENT 0.0105886166 0.013265116 0.010719132\n",
      "20:                                grade_B 0.0093255021 0.002806467 0.002306649\n",
      "21:                              term_60MO 0.0076845116 0.002044102 0.002035278\n",
      "22:                                grade_C 0.0062566119 0.002974466 0.004748982\n",
      "23:                                pub_rec 0.0051606500 0.014137433 0.012075984\n",
      "24:                                grade_D 0.0049780764 0.002583895 0.002578019\n",
      "25:                           regions_WEST 0.0049111321 0.004500002 0.005698779\n",
      "26:                  initial_list_status_F 0.0040234162 0.004963874 0.006105834\n",
      "27:                home_ownership_MORTGAGE 0.0036258677 0.003059724 0.007869742\n",
      "28:           verification_status_VERIFIED 0.0022566718 0.002426213 0.005698779\n",
      "29:                         purpose_OTHERS 0.0022331421 0.009288447 0.005970149\n",
      "30:                    purpose_CREDIT_CARD 0.0021228373 0.007328683 0.007327001\n",
      "31:                                grade_E 0.0019322306 0.000853935 0.001628223\n",
      "32:       verification_status_NOT_VERIFIED 0.0015509025 0.001090148 0.004884668\n",
      "33:               purpose_HOME_IMPROVEMENT 0.0013935420 0.006207245 0.004341927\n",
      "34:    verification_status_SOURCE_VERIFIED 0.0012459094 0.005094319 0.004070556\n",
      "35:             purpose_DEBT_CONSOLIDATION 0.0012181146 0.002931158 0.004748982\n",
      "36:                      regions_NORTHEAST 0.0010602232 0.001668332 0.002170963\n",
      "37:                                grade_F 0.0009952312 0.001459564 0.001899593\n",
      "38:                     home_ownership_OWN 0.0008265859 0.002802595 0.002713704\n",
      "39:                  initial_list_status_W 0.0007503011 0.001011996 0.001356852\n",
      "40:                          regions_SOUTH 0.0007022260 0.001077288 0.001628223\n",
      "41:                                grade_G 0.0006398897 0.001904792 0.001356852\n",
      "42:                 purpose_MAJOR_PURCHASE 0.0005754481 0.001800524 0.001628223\n",
      "43:                        regions_MIDWEST 0.0003545745 0.001344949 0.001356852\n",
      "                                   Feature         Gain       Cover   Frequency\n"
     ]
    }
   ],
   "source": [
    "xgb.opt.imp <- xgb.importance(model = xgb.opt.mdl)\n",
    "print(xgb.opt.imp)"
   ]
  },
  {
   "cell_type": "markdown",
   "metadata": {},
   "source": [
    "**Plot Importance/Influence**"
   ]
  },
  {
   "cell_type": "code",
   "execution_count": 70,
   "metadata": {},
   "outputs": [
    {
     "data": {
      "image/png": "[encoded data removed]",
      "text/plain": [
       "plot without title"
      ]
     },
     "metadata": {},
     "output_type": "display_data"
    }
   ],
   "source": [
    "xgb.plot.importance(importance_matrix = xgb.opt.imp)"
   ]
  },
  {
   "cell_type": "markdown",
   "metadata": {},
   "source": [
    "**Dump Tree**"
   ]
  },
  {
   "cell_type": "code",
   "execution_count": 71,
   "metadata": {},
   "outputs": [
    {
     "name": "stderr",
     "output_type": "stream",
     "text": [
      "Warning message:\n",
      "“'with.stats' is deprecated.\n",
      "Use 'with_stats' instead.\n",
      "See help(\"Deprecated\") and help(\"xgboost-deprecated\").”"
     ]
    },
    {
     "data": {
      "text/html": [
       "TRUE"
      ],
      "text/latex": [
       "TRUE"
      ],
      "text/markdown": [
       "TRUE"
      ],
      "text/plain": [
       "[1] TRUE"
      ]
     },
     "metadata": {},
     "output_type": "display_data"
    }
   ],
   "source": [
    "xgb.dump(xgb.opt.mdl, with.stats = T, fname = \"./models/new.xgb.opt.tree.costopt.txt\")"
   ]
  },
  {
   "cell_type": "markdown",
   "metadata": {},
   "source": [
    "**Save Model**"
   ]
  },
  {
   "cell_type": "code",
   "execution_count": 72,
   "metadata": {},
   "outputs": [
    {
     "data": {
      "text/html": [
       "TRUE"
      ],
      "text/latex": [
       "TRUE"
      ],
      "text/markdown": [
       "TRUE"
      ],
      "text/plain": [
       "[1] TRUE"
      ]
     },
     "metadata": {},
     "output_type": "display_data"
    }
   ],
   "source": [
    "xgb.save(xgb.opt.mdl, \"./models/new.xgb.opt.costopt.mdl\")"
   ]
  },
  {
   "cell_type": "markdown",
   "metadata": {},
   "source": [
    "**Partial Graph (for 3 top vars)**"
   ]
  },
  {
   "cell_type": "code",
   "execution_count": 78,
   "metadata": {},
   "outputs": [
    {
     "name": "stdout",
     "output_type": "stream",
     "text": [
      "Time difference of 3.70379 mins\n"
     ]
    }
   ],
   "source": [
    "stime <- Sys.time()\n",
    "xgb.opt.mdl.1p <- partial(xgb.opt.mdl, pred.var = \"int_rate\", train = x_train.1hot,\n",
    "                         grid.resolution = 250, trim.outliers = FALSE, prob = TRUE, rug = TRUE, plot = TRUE)\n",
    "print(Sys.time() - stime)"
   ]
  },
  {
   "cell_type": "code",
   "execution_count": 79,
   "metadata": {},
   "outputs": [
    {
     "name": "stdout",
     "output_type": "stream",
     "text": [
      "Time difference of 3.781479 mins\n"
     ]
    }
   ],
   "source": [
    "stime <- Sys.time()\n",
    "xgb.opt.mdl.2p <- partial(xgb.opt.mdl, pred.var = \"quantity_indexes_for_real_gdp_by_state\", train = x_train.1hot,\n",
    "                         grid.resolution = 250, trim.outliers = FALSE, prob = TRUE, rug = TRUE, plot = TRUE)\n",
    "print(Sys.time() - stime)"
   ]
  },
  {
   "cell_type": "code",
   "execution_count": 80,
   "metadata": {},
   "outputs": [
    {
     "name": "stdout",
     "output_type": "stream",
     "text": [
      "Time difference of 3.842599 mins\n"
     ]
    }
   ],
   "source": [
    "stime <- Sys.time()\n",
    "xgb.opt.mdl.3p <- partial(xgb.opt.mdl, pred.var = \"annual_inc\", train = x_train.1hot,\n",
    "                         grid.resolution = 250, trim.outliers = FALSE, prob = TRUE, rug = TRUE, plot = TRUE)\n",
    "print(Sys.time() - stime)"
   ]
  },
  {
   "cell_type": "markdown",
   "metadata": {},
   "source": [
    "#### 4.2.4) Calculate Model Relative Losses"
   ]
  },
  {
   "cell_type": "code",
   "execution_count": 73,
   "metadata": {},
   "outputs": [
    {
     "data": {
      "text/html": [
       "2.1896497804293"
      ],
      "text/latex": [
       "2.1896497804293"
      ],
      "text/markdown": [
       "2.1896497804293"
      ],
      "text/plain": [
       "[1] 2.18965"
      ]
     },
     "metadata": {},
     "output_type": "display_data"
    }
   ],
   "source": [
    "xgb.opt.NIR <- sum(xgb.opt.cm$table[,1])/sum(xgb.opt.cm$table)\n",
    "xgb.opt.costs <- ((xgb.opt.cm$table[1,2]*mloan_amnt)+(xgb.opt.cm$table[2,1]*mreturns))\n",
    "xgb.opt.profits <- (xgb.opt.cm$table[1,1]*mreturns) - (xgb.opt.cm$table[1,2]*mloan_amnt)\n",
    "xgb.opt.naive <- (round(xgb.opt.NIR * sum(xgb.opt.cm$table[1,]),0)*mreturns)-(round((1-xgb.opt.NIR) * sum(xgb.opt.cm$table[1,]),0)*mloan_amnt)\n",
    "xgb.opt.best <- ((sum(xgb.opt.cm$table[,1])*mreturns))\n",
    "xgb.opt.worst <- (sum(xgb.opt.cm$table[,1])*mreturns)+(sum(xgb.opt.cm$table[,2])*mloan_amnt)\n",
    "xgb.opt.lift.ratio <- xgb.opt.profits / xgb.opt.naive\n",
    "xgb.opt.worst.ratio <- xgb.opt.worst / xgb.opt.best\n",
    "xgb.opt.cost.ratio <- xgb.opt.costs / xgb.opt.best\n",
    "xgb.opt.lift.ratio"
   ]
  },
  {
   "cell_type": "code",
   "execution_count": 169,
   "metadata": {},
   "outputs": [
    {
     "name": "stdout",
     "output_type": "stream",
     "text": [
      "[1] \"0.15 0.244203619308192 350083389.6\"\n",
      "[1] \"0.1525 0.244255501804019 350083389.6\"\n",
      "[1] \"0.155 0.243686691040882 350083389.6\"\n",
      "[1] \"0.1575 0.243046323612264 350083389.6\"\n",
      "[1] \"0.16 0.242668475351165 350083389.6\"\n",
      "[1] \"0.1625 0.242810807154045 350083389.6\"\n",
      "[1] \"0.165 0.243311139375463 350083389.6\"\n",
      "[1] \"0.1675 0.243257129386524 350083389.6\"\n",
      "[1] \"0.17 0.24356916704168 350083389.6\"\n",
      "[1] \"0.1725 0.243464770200568 350083389.6\"\n",
      "[1] \"0.175 0.243434597960714 350083389.6\"\n",
      "[1] \"0.1775 0.24361939964489 350083389.6\"\n",
      "[1] \"0.18 0.243677052194538 350083389.6\"\n",
      "[1] \"0.1825 0.243753119785264 350083389.6\"\n",
      "[1] \"0.185 0.244184693531658 350083389.6\"\n",
      "[1] \"0.1875 0.244059257131918 350083389.6\"\n",
      "[1] \"0.19 0.244016135977221 350083389.6\"\n",
      "[1] \"0.1925 0.243954426108539 350083389.6\"\n",
      "[1] \"0.195 0.244624811528047 350083389.6\"\n",
      "[1] \"0.1975 0.245128115612829 350083389.6\"\n",
      "[1] \"0.2 0.245570447938784 350083389.6\"\n",
      "[1] \"0.2025 0.245951851924139 350083389.6\"\n",
      "[1] \"0.205 0.246240399176025 350083389.6\"\n",
      "[1] \"0.2075 0.247080707538945 350083389.6\"\n",
      "[1] \"0.21 0.24746749081408 350083389.6\"\n",
      "[1] \"0.2125 0.2477163229569 350083389.6\"\n",
      "[1] \"0.215 0.248241057364351 350083389.6\"\n",
      "[1] \"0.2175 0.248362566699737 350083389.6\"\n",
      "[1] \"0.22 0.248725512225788 350083389.6\"\n",
      "[1] \"0.2225 0.248849776333404 350083389.6\"\n",
      "[1] \"0.225 0.24962919977395 350083389.6\"\n",
      "[1] \"0.2275 0.250278719307738 350083389.6\"\n",
      "[1] \"0.23 0.250978538857246 350083389.6\"\n",
      "[1] \"0.2325 0.251312354180885 350083389.6\"\n",
      "[1] \"0.235 0.251680722414943 350083389.6\"\n",
      "[1] \"0.2375 0.252049090649001 350083389.6\"\n",
      "[1] \"0.24 0.252847189639985 350083389.6\"\n",
      "[1] \"0.2425 0.253263320208666 350083389.6\"\n",
      "[1] \"0.245 0.253931471874666 350083389.6\"\n",
      "[1] \"0.2475 0.254246828739 350083389.6\"\n",
      "[1] \"0.25 0.254607280002181 350083389.6\"\n",
      "[1] \"0.2525 0.254768851792447 350083389.6\"\n",
      "[1] \"0.255 0.254747421469779 350083389.6\"\n",
      "[1] \"0.2575 0.254768417610179 350083389.6\"\n",
      "[1] \"0.26 0.254898191262257 350083389.6\"\n",
      "[1] \"0.2625 0.255388720105103 350083389.6\"\n",
      "[1] \"0.265 0.256152483276801 350083389.6\"\n",
      "[1] \"0.2675 0.256499811952232 350083389.6\"\n",
      "[1] \"0.27 0.256894859544059 350083389.6\"\n",
      "[1] \"0.2725 0.257136122061816 350083389.6\"\n",
      "[1] \"0.275 0.257486118673024 350083389.6\"\n",
      "[1] \"0.2775 0.257804317146043 350083389.6\"\n",
      "[1] \"0.28 0.257897043624831 350083389.6\"\n",
      "[1] \"0.2825 0.257976517261189 350083389.6\"\n",
      "[1] \"0.285 0.258148804212789 350083389.6\"\n",
      "[1] \"0.2875 0.25861024627145 350083389.6\"\n",
      "[1] \"0.29 0.258811750261915 350083389.6\"\n",
      "[1] \"0.2925 0.258899184287377 350083389.6\"\n",
      "[1] \"0.295 0.258983993795289 350083389.6\"\n",
      "[1] \"0.2975 0.259182873268204 350083389.6\"\n",
      "[1] \"0.3 0.259410926361757 350083389.6\"\n",
      "[1] \"0.3025 0.259408215007754 350083389.6\"\n",
      "[1] \"0.305 0.259477147155684 350083389.6\"\n",
      "[1] \"0.3075 0.259638892618857 350083389.6\"\n",
      "[1] \"0.31 0.259707824766788 350083389.6\"\n",
      "[1] \"0.3125 0.259819183377788 350083389.6\"\n",
      "[1] \"0.315 0.259909328757253 350083389.6\"\n",
      "[1] \"0.3175 0.26013208939748 350083389.6\"\n",
      "[1] \"0.32 0.260214274387841 350083389.6\"\n",
      "[1] \"0.3225 0.260378687786791 350083389.6\"\n",
      "[1] \"0.325 0.260492714333568 350083389.6\"\n",
      "[1] \"0.3275 0.260779158086625 350083389.6\"\n",
      "[1] \"0.33 0.260736688205329 350083389.6\"\n",
      "[1] \"0.3325 0.260866635530314 350083389.6\"\n",
      "[1] \"0.335 0.261036384800817 350083389.6\"\n",
      "[1] \"0.3375 0.261182252904009 350083389.6\"\n",
      "[1] \"0.34 0.261397096573359 350083389.6\"\n",
      "[1] \"0.3425 0.26142360225822 350083389.6\"\n",
      "[1] \"0.345 0.261516415573462 350083389.6\"\n",
      "[1] \"0.3475 0.261603936435378 350083389.6\"\n",
      "[1] \"0.35 0.261691457297293 350083389.6\"\n"
     ]
    },
    {
     "data": {
      "text/html": [
       "0.242668475351165"
      ],
      "text/latex": [
       "0.242668475351165"
      ],
      "text/markdown": [
       "0.242668475351165"
      ],
      "text/plain": [
       "[1] 0.2426685"
      ]
     },
     "metadata": {},
     "output_type": "display_data"
    },
    {
     "data": {
      "text/html": [
       "369577055.6"
      ],
      "text/latex": [
       "369577055.6"
      ],
      "text/markdown": [
       "369577055.6"
      ],
      "text/plain": [
       "[1] 369577056"
      ]
     },
     "metadata": {},
     "output_type": "display_data"
    }
   ],
   "source": [
    "threshs <- seq(0.15, 0.35, by = 0.0025)\n",
    "crs <- c()\n",
    "rets <- c()\n",
    "for(i in 1:length(threshs)) {\n",
    "    cm <- confusionMatrix(table(xgb.opt.pred > threshs[i], y_test$default))\n",
    "    cr <- ((cm$table[1,2]*mloan_amnt)+(cm$table[2,1]*mreturns)) / (sum(cm$table[,1])*mreturns)\n",
    "    print(paste(threshs[i],cr,sum(cm$table[,1])*mreturns))\n",
    "    crs <- c(crs,cr)\n",
    "    rets <- c(rets, sum(cm$table[1,])*mreturns)\n",
    "}\n",
    "min(crs) #xgb.CSL.cv.opt2.threshold = 0.16 #0.43\n",
    "max(rets)"
   ]
  },
  {
   "cell_type": "markdown",
   "metadata": {},
   "source": [
    "### 4.3) Compare Models"
   ]
  },
  {
   "cell_type": "markdown",
   "metadata": {},
   "source": [
    "#### 4.3.1) Plot Monotonic Constraint Differences for Top 3 features"
   ]
  },
  {
   "cell_type": "code",
   "execution_count": 81,
   "metadata": {},
   "outputs": [
    {
     "data": {
      "image/png": "[encoded data removed]",
      "text/plain": [
       "plot without title"
      ]
     },
     "metadata": {},
     "output_type": "display_data"
    }
   ],
   "source": [
    "xgb.mono.opt.mdl.1p.df <- as.data.frame(xgb.mono.opt.mdl.1p$panel.args)\n",
    "xgb.mono.opt.mdl.1p.df$model <- \"monotonic\"\n",
    "xgb.opt.mdl.1p.df <- as.data.frame(xgb.opt.mdl.1p$panel.args)\n",
    "xgb.opt.mdl.1p.df$model <- \"non-monotonic\"\n",
    "xgb.opt.mdl.1p.df <- rbind.data.frame(xgb.mono.opt.mdl.1p.df, xgb.opt.mdl.1p.df)\n",
    "ggplot(xgb.opt.mdl.1p.df, aes(x=x, y=y)) + geom_line(aes(colour = model)) +\n",
    "            xlab(\"int_rate\") + ylab(\"yhat\") + theme_minimal() + theme(legend.position=c(0.2, 0.8))"
   ]
  },
  {
   "cell_type": "code",
   "execution_count": 82,
   "metadata": {},
   "outputs": [
    {
     "data": {
      "image/png": "[encoded data removed]",
      "text/plain": [
       "plot without title"
      ]
     },
     "metadata": {},
     "output_type": "display_data"
    }
   ],
   "source": [
    "xgb.mono.opt.mdl.2p.df <- as.data.frame(xgb.mono.opt.mdl.2p$panel.args)\n",
    "xgb.mono.opt.mdl.2p.df$model <- \"monotonic\"\n",
    "xgb.opt.mdl.2p.df <- as.data.frame(xgb.opt.mdl.2p$panel.args)\n",
    "xgb.opt.mdl.2p.df$model <- \"non-monotonic\"\n",
    "xgb.opt.mdl.2p.df <- rbind.data.frame(xgb.mono.opt.mdl.2p.df, xgb.opt.mdl.2p.df)\n",
    "ggplot(xgb.opt.mdl.2p.df, aes(x=x, y=y)) + geom_line(aes(colour = model)) +\n",
    "            xlab(\"quantity_indexes_for_real_gdp_by_state\") + ylab(\"yhat\") + theme_minimal() + theme(legend.position=c(0.6, 0.8))"
   ]
  },
  {
   "cell_type": "code",
   "execution_count": 83,
   "metadata": {},
   "outputs": [
    {
     "data": {
      "image/png": "[encoded data removed]",
      "text/plain": [
       "plot without title"
      ]
     },
     "metadata": {},
     "output_type": "display_data"
    }
   ],
   "source": [
    "xgb.mono.opt.mdl.3p.df <- as.data.frame(xgb.mono.opt.mdl.3p$panel.args)\n",
    "xgb.mono.opt.mdl.3p.df$model <- \"monotonic\"\n",
    "xgb.opt.mdl.3p.df <- as.data.frame(xgb.opt.mdl.3p$panel.args)\n",
    "xgb.opt.mdl.3p.df$model <- \"non-monotonic\"\n",
    "xgb.opt.mdl.3p.df <- rbind.data.frame(xgb.mono.opt.mdl.3p.df, xgb.opt.mdl.3p.df)\n",
    "ggplot(xgb.opt.mdl.3p.df, aes(x=x, y=y)) + geom_line(aes(colour = model)) +\n",
    "            xlab(\"annual_inc\") + ylab(\"yhat\") + theme_minimal() + theme(legend.position=c(0.6, 0.8))"
   ]
  },
  {
   "cell_type": "markdown",
   "metadata": {},
   "source": [
    "#### 4.3.2) Compare Metrics"
   ]
  },
  {
   "cell_type": "code",
   "execution_count": 74,
   "metadata": {},
   "outputs": [
    {
     "data": {
      "text/html": [
       "<table>\n",
       "<thead><tr><th></th><th scope=col>Monotonic XGBoost</th><th scope=col>Non-Monotonic XGBoost</th></tr></thead>\n",
       "<tbody>\n",
       "\t<tr><th scope=row>Accuracy</th><td>        0.71237</td><td>        0.73811</td></tr>\n",
       "\t<tr><th scope=row>Kappa</th><td>        0.23261</td><td>        0.24943</td></tr>\n",
       "\t<tr><th scope=row>AccuracyLower</th><td>        0.70842</td><td>        0.73428</td></tr>\n",
       "\t<tr><th scope=row>AccuracyUpper</th><td>        0.71629</td><td>        0.74192</td></tr>\n",
       "\t<tr><th scope=row>AccuracyNull</th><td>        0.81593</td><td>        0.81593</td></tr>\n",
       "\t<tr><th scope=row>AccuracyPValue</th><td>        1.00000</td><td>        1.00000</td></tr>\n",
       "\t<tr><th scope=row>McnemarPValue</th><td>        0.00000</td><td>        0.00000</td></tr>\n",
       "\t<tr><th scope=row>Sensitivity</th><td>        0.75155</td><td>        0.79244</td></tr>\n",
       "\t<tr><th scope=row>Specificity</th><td>        0.53871</td><td>        0.49729</td></tr>\n",
       "\t<tr><th scope=row>Pos Pred Value</th><td>        0.87837</td><td>        0.87480</td></tr>\n",
       "\t<tr><th scope=row>Neg Pred Value</th><td>        0.32848</td><td>        0.35087</td></tr>\n",
       "\t<tr><th scope=row>Precision</th><td>        0.87837</td><td>        0.87480</td></tr>\n",
       "\t<tr><th scope=row>Recall</th><td>        0.75155</td><td>        0.79244</td></tr>\n",
       "\t<tr><th scope=row>F1</th><td>        0.81002</td><td>        0.83159</td></tr>\n",
       "\t<tr><th scope=row>Prevalence</th><td>        0.81593</td><td>        0.81593</td></tr>\n",
       "\t<tr><th scope=row>Detection Rate</th><td>        0.61321</td><td>        0.64657</td></tr>\n",
       "\t<tr><th scope=row>Detection Prevalence</th><td>        0.69812</td><td>        0.73911</td></tr>\n",
       "\t<tr><th scope=row>Balanced Accuracy</th><td>        0.64513</td><td>        0.64487</td></tr>\n",
       "\t<tr><th scope=row>COSTS</th><td>101475075.09701</td><td> 99714981.86608</td></tr>\n",
       "\t<tr><th scope=row>BEST CASE</th><td>172000149.54938</td><td>172000149.54938</td></tr>\n",
       "\t<tr><th scope=row>LIFT RATIO</th><td>        2.26176</td><td>        2.18965</td></tr>\n",
       "\t<tr><th scope=row>COST RATIO</th><td>        0.58997</td><td>        0.57974</td></tr>\n",
       "</tbody>\n",
       "</table>\n"
      ],
      "text/latex": [
       "\\begin{tabular}{r|ll}\n",
       "  & Monotonic XGBoost & Non-Monotonic XGBoost\\\\\n",
       "\\hline\n",
       "\tAccuracy &         0.71237 &         0.73811\\\\\n",
       "\tKappa &         0.23261 &         0.24943\\\\\n",
       "\tAccuracyLower &         0.70842 &         0.73428\\\\\n",
       "\tAccuracyUpper &         0.71629 &         0.74192\\\\\n",
       "\tAccuracyNull &         0.81593 &         0.81593\\\\\n",
       "\tAccuracyPValue &         1.00000 &         1.00000\\\\\n",
       "\tMcnemarPValue &         0.00000 &         0.00000\\\\\n",
       "\tSensitivity &         0.75155 &         0.79244\\\\\n",
       "\tSpecificity &         0.53871 &         0.49729\\\\\n",
       "\tPos Pred Value &         0.87837 &         0.87480\\\\\n",
       "\tNeg Pred Value &         0.32848 &         0.35087\\\\\n",
       "\tPrecision &         0.87837 &         0.87480\\\\\n",
       "\tRecall &         0.75155 &         0.79244\\\\\n",
       "\tF1 &         0.81002 &         0.83159\\\\\n",
       "\tPrevalence &         0.81593 &         0.81593\\\\\n",
       "\tDetection Rate &         0.61321 &         0.64657\\\\\n",
       "\tDetection Prevalence &         0.69812 &         0.73911\\\\\n",
       "\tBalanced Accuracy &         0.64513 &         0.64487\\\\\n",
       "\tCOSTS & 101475075.09701 &  99714981.86608\\\\\n",
       "\tBEST CASE & 172000149.54938 & 172000149.54938\\\\\n",
       "\tLIFT RATIO &         2.26176 &         2.18965\\\\\n",
       "\tCOST RATIO &         0.58997 &         0.57974\\\\\n",
       "\\end{tabular}\n"
      ],
      "text/markdown": [
       "\n",
       "| <!--/--> | Monotonic XGBoost | Non-Monotonic XGBoost |\n",
       "|---|---|---|\n",
       "| Accuracy |         0.71237 |         0.73811 |\n",
       "| Kappa |         0.23261 |         0.24943 |\n",
       "| AccuracyLower |         0.70842 |         0.73428 |\n",
       "| AccuracyUpper |         0.71629 |         0.74192 |\n",
       "| AccuracyNull |         0.81593 |         0.81593 |\n",
       "| AccuracyPValue |         1.00000 |         1.00000 |\n",
       "| McnemarPValue |         0.00000 |         0.00000 |\n",
       "| Sensitivity |         0.75155 |         0.79244 |\n",
       "| Specificity |         0.53871 |         0.49729 |\n",
       "| Pos Pred Value |         0.87837 |         0.87480 |\n",
       "| Neg Pred Value |         0.32848 |         0.35087 |\n",
       "| Precision |         0.87837 |         0.87480 |\n",
       "| Recall |         0.75155 |         0.79244 |\n",
       "| F1 |         0.81002 |         0.83159 |\n",
       "| Prevalence |         0.81593 |         0.81593 |\n",
       "| Detection Rate |         0.61321 |         0.64657 |\n",
       "| Detection Prevalence |         0.69812 |         0.73911 |\n",
       "| Balanced Accuracy |         0.64513 |         0.64487 |\n",
       "| COSTS | 101475075.09701 |  99714981.86608 |\n",
       "| BEST CASE | 172000149.54938 | 172000149.54938 |\n",
       "| LIFT RATIO |         2.26176 |         2.18965 |\n",
       "| COST RATIO |         0.58997 |         0.57974 |\n",
       "\n"
      ],
      "text/plain": [
       "                     Monotonic XGBoost Non-Monotonic XGBoost\n",
       "Accuracy                     0.71237           0.73811      \n",
       "Kappa                        0.23261           0.24943      \n",
       "AccuracyLower                0.70842           0.73428      \n",
       "AccuracyUpper                0.71629           0.74192      \n",
       "AccuracyNull                 0.81593           0.81593      \n",
       "AccuracyPValue               1.00000           1.00000      \n",
       "McnemarPValue                0.00000           0.00000      \n",
       "Sensitivity                  0.75155           0.79244      \n",
       "Specificity                  0.53871           0.49729      \n",
       "Pos Pred Value               0.87837           0.87480      \n",
       "Neg Pred Value               0.32848           0.35087      \n",
       "Precision                    0.87837           0.87480      \n",
       "Recall                       0.75155           0.79244      \n",
       "F1                           0.81002           0.83159      \n",
       "Prevalence                   0.81593           0.81593      \n",
       "Detection Rate               0.61321           0.64657      \n",
       "Detection Prevalence         0.69812           0.73911      \n",
       "Balanced Accuracy            0.64513           0.64487      \n",
       "COSTS                101475075.09701    99714981.86608      \n",
       "BEST CASE            172000149.54938   172000149.54938      \n",
       "LIFT RATIO                   2.26176           2.18965      \n",
       "COST RATIO                   0.58997           0.57974      "
      ]
     },
     "metadata": {},
     "output_type": "display_data"
    }
   ],
   "source": [
    "options(scipen=999)\n",
    "makeCMStatsCol <- function(cm, colname, costs, best, worst, ratio){\n",
    "    cm.df1 <- as.data.frame(cm$overall)\n",
    "    colnames(cm.df1) <- c(colname)\n",
    "    cm.df2 <- as.data.frame(cm$byClass) \n",
    "    colnames(cm.df2) <- c(colname)\n",
    "    cm.df3 <- data.frame(costs)\n",
    "    row.names(cm.df3) <- c(\"COSTS\")\n",
    "    colnames(cm.df3) <- c(colname)\n",
    "    cm.df4 <- data.frame(best)\n",
    "    row.names(cm.df4) <- c(\"BEST CASE\")\n",
    "    colnames(cm.df4) <- c(colname)\n",
    "    cm.df5 <- data.frame(worst)\n",
    "    row.names(cm.df5) <- c(\"LIFT RATIO\")\n",
    "    colnames(cm.df5) <- c(colname)\n",
    "    cm.df6 <- data.frame(ratio)\n",
    "    row.names(cm.df6) <- c(\"COST RATIO\")\n",
    "    colnames(cm.df6) <- c(colname)\n",
    "    cm.df <- rbind(cm.df1, cm.df2, cm.df3, cm.df4, cm.df5, cm.df6) \n",
    "    cm.df <- round(cm.df, 5)\n",
    "    return(cm.df)\n",
    "}\n",
    "cbind(\n",
    "    makeCMStatsCol(xgb.mono.opt.cm, \"Monotonic XGBoost\", xgb.mono.opt.costs, xgb.mono.opt.best, xgb.mono.opt.lift.ratio, xgb.mono.opt.cost.ratio),\n",
    "    makeCMStatsCol(xgb.opt.cm, \"Non-Monotonic XGBoost\", xgb.opt.costs, xgb.opt.best, xgb.opt.lift.ratio, xgb.opt.cost.ratio)\n",
    ")"
   ]
  },
  {
   "cell_type": "markdown",
   "metadata": {},
   "source": [
    "### 4.4) Export Predictions"
   ]
  },
  {
   "cell_type": "code",
   "execution_count": 89,
   "metadata": {},
   "outputs": [],
   "source": [
    "xgb.mono.opt.pred.df <- as.data.frame(xgb.mono.opt.pred > xgb.mono.CSL.cv.opt2.threshold)\n",
    "colnames(xgb.mono.opt.pred.df) <- c(\"XGB_mono_pred\")"
   ]
  },
  {
   "cell_type": "code",
   "execution_count": 91,
   "metadata": {},
   "outputs": [],
   "source": [
    "xgb.opt.pred.df <- as.data.frame(xgb.opt.pred > xgb.CSL.cv.opt2.threshold)\n",
    "colnames(xgb.opt.pred.df) <- c(\"XGB_pred\")"
   ]
  },
  {
   "cell_type": "code",
   "execution_count": 93,
   "metadata": {},
   "outputs": [],
   "source": [
    "write.csv(xgb.mono.opt.pred.df, file = \"./pred/XGB_mono_pred.csv\")\n",
    "write.csv(xgb.opt.pred.df, file = \"./pred/XGB_pred.csv\")"
   ]
  },
  {
   "cell_type": "markdown",
   "metadata": {},
   "source": [
    "## XNN"
   ]
  },
  {
   "cell_type": "code",
   "execution_count": 94,
   "metadata": {},
   "outputs": [
    {
     "name": "stdout",
     "output_type": "stream",
     "text": [
      "Observations: 51,159\n",
      "Variables: 2\n",
      "$ X        <int> 0, 1, 2, 3, 4, 5, 6, 7, 8, 9, 10, 11, 12, 13, 14, 15, 16, 17…\n",
      "$ XNN_prob <dbl> 0.15377873, 0.27356870, 0.15619719, 0.18449620, 0.14224678, …\n"
     ]
    }
   ],
   "source": [
    "xnn.prob.df <- read.csv(file=\"./pred/XNN_prob.csv\", header=TRUE, sep=\",\")\n",
    "glimpse(xnn.prob.df)"
   ]
  },
  {
   "cell_type": "markdown",
   "metadata": {},
   "source": [
    "Find optimal Threshold"
   ]
  },
  {
   "cell_type": "code",
   "execution_count": 121,
   "metadata": {},
   "outputs": [
    {
     "data": {
      "text/html": [
       "44674297.9954269"
      ],
      "text/latex": [
       "44674297.9954269"
      ],
      "text/markdown": [
       "44674297.9954269"
      ],
      "text/plain": [
       "[1] 44674298"
      ]
     },
     "metadata": {},
     "output_type": "display_data"
    }
   ],
   "source": [
    "xnn.res.df <- data.frame(Threshold=0, CR=0, Profit=0, stringsAsFactors=FALSE)\n",
    "threshs <- seq(0.03, 0.5725, by = 0.0025)\n",
    "crs <- c()\n",
    "rets <- c()\n",
    "for(i in 1:length(threshs)) {\n",
    "    cm <- confusionMatrix(table(xnn.prob.df$XNN_prob > threshs[i], y_test$default))\n",
    "    nir <- sum(cm$table[,1])/sum(cm$table)\n",
    "    cr <-  ((cm$table[1,2]*mloan_amnt)+(cm$table[2,1]*mreturns)) / (sum(cm$table[,1])*mreturns)\n",
    "    pr <-  (cm$table[1,1]*mreturns) - (cm$table[1,2]*mloan_amnt)\n",
    "    nv <- (round(nir * sum(cm$table[1,]),0)*mreturns)-(round((1-nir) * sum(cm$table[1,]),0)*mloan_amnt)\n",
    "    crs <- c(crs,pr)\n",
    "    rets <- c(rets, sum(cm$table[1,])*mreturns)\n",
    "    xnn.res.df[nrow(xnn.res.df) + 1,] = list(threshs[i],cr,pr)\n",
    "}\n",
    "max(pr) #xgb.mono.CSL.cv.opt2.threshold = 0.035, 0.26"
   ]
  },
  {
   "cell_type": "code",
   "execution_count": 126,
   "metadata": {},
   "outputs": [
    {
     "data": {
      "text/html": [
       "<table>\n",
       "<thead><tr><th scope=col>Threshold</th><th scope=col>CR</th><th scope=col>Profit</th></tr></thead>\n",
       "<tbody>\n",
       "\t<tr><td>0.2600   </td><td>0.6072993</td><td>67544575 </td></tr>\n",
       "\t<tr><td>0.2675   </td><td>0.6076366</td><td>67486564 </td></tr>\n",
       "\t<tr><td>0.2650   </td><td>0.6076620</td><td>67482203 </td></tr>\n",
       "\t<tr><td>0.2700   </td><td>0.6077789</td><td>67462081 </td></tr>\n",
       "\t<tr><td>0.2625   </td><td>0.6077936</td><td>67459561 </td></tr>\n",
       "\t<tr><td>0.2725   </td><td>0.6082695</td><td>67377705 </td></tr>\n",
       "\t<tr><td>0.2525   </td><td>0.6092605</td><td>67207247 </td></tr>\n",
       "\t<tr><td>0.2575   </td><td>0.6094652</td><td>67172036 </td></tr>\n",
       "\t<tr><td>0.2825   </td><td>0.6094897</td><td>67167823 </td></tr>\n",
       "\t<tr><td>0.2750   </td><td>0.6100179</td><td>67076973 </td></tr>\n",
       "\t<tr><td>0.2550   </td><td>0.6101067</td><td>67061702 </td></tr>\n",
       "\t<tr><td>0.2850   </td><td>0.6102364</td><td>67039399 </td></tr>\n",
       "\t<tr><td>0.2800   </td><td>0.6105034</td><td>66993476 </td></tr>\n",
       "\t<tr><td>0.2775   </td><td>0.6107339</td><td>66953830 </td></tr>\n",
       "\t<tr><td>0.2875   </td><td>0.6110691</td><td>66896175 </td></tr>\n",
       "\t<tr><td>0.2500   </td><td>0.6113509</td><td>66847708 </td></tr>\n",
       "\t<tr><td>0.2900   </td><td>0.6116787</td><td>66791314 </td></tr>\n",
       "\t<tr><td>0.2925   </td><td>0.6117320</td><td>66782152 </td></tr>\n",
       "\t<tr><td>0.2950   </td><td>0.6120279</td><td>66731263 </td></tr>\n",
       "\t<tr><td>0.2475   </td><td>0.6121759</td><td>66705803 </td></tr>\n",
       "\t<tr><td>0.2975   </td><td>0.6140368</td><td>66385727 </td></tr>\n",
       "\t<tr><td>0.2450   </td><td>0.6142558</td><td>66348064 </td></tr>\n",
       "\t<tr><td>0.3000   </td><td>0.6144943</td><td>66307038 </td></tr>\n",
       "\t<tr><td>0.3025   </td><td>0.6164148</td><td>65976706 </td></tr>\n",
       "\t<tr><td>0.2425   </td><td>0.6164352</td><td>65973204 </td></tr>\n",
       "\t<tr><td>0.3050   </td><td>0.6178839</td><td>65724027 </td></tr>\n",
       "\t<tr><td>0.2400   </td><td>0.6188984</td><td>65549535 </td></tr>\n",
       "\t<tr><td>0.3075   </td><td>0.6192983</td><td>65480749 </td></tr>\n",
       "\t<tr><td>0.2375   </td><td>0.6195227</td><td>65442161 </td></tr>\n",
       "\t<tr><td>0.3100   </td><td>0.6205248</td><td>65269797 </td></tr>\n",
       "\t<tr><td>⋮</td><td>⋮</td><td>⋮</td></tr>\n",
       "\t<tr><td>0.3125   </td><td>0.6223569</td><td>64954670 </td></tr>\n",
       "\t<tr><td>0.2325   </td><td>0.6229981</td><td>64844379 </td></tr>\n",
       "\t<tr><td>0.3150   </td><td>0.6239434</td><td>64681793 </td></tr>\n",
       "\t<tr><td>0.2275   </td><td>0.6252808</td><td>64451752 </td></tr>\n",
       "\t<tr><td>0.2300   </td><td>0.6253243</td><td>64444273 </td></tr>\n",
       "\t<tr><td>0.3175   </td><td>0.6263916</td><td>64260693 </td></tr>\n",
       "\t<tr><td>0.2250   </td><td>0.6264375</td><td>64252799 </td></tr>\n",
       "\t<tr><td>0.3200   </td><td>0.6271096</td><td>64137200 </td></tr>\n",
       "\t<tr><td>0.2225   </td><td>0.6277889</td><td>64020358 </td></tr>\n",
       "\t<tr><td>0.2200   </td><td>0.6295716</td><td>63713748 </td></tr>\n",
       "\t<tr><td>0.2175   </td><td>0.6300649</td><td>63628892 </td></tr>\n",
       "\t<tr><td>0.3225   </td><td>0.6304915</td><td>63555515 </td></tr>\n",
       "\t<tr><td>0.2150   </td><td>0.6320115</td><td>63294077 </td></tr>\n",
       "\t<tr><td>0.3250   </td><td>0.6320578</td><td>63286120 </td></tr>\n",
       "\t<tr><td>0.2125   </td><td>0.6331436</td><td>63099360 </td></tr>\n",
       "\t<tr><td>0.3275   </td><td>0.6338089</td><td>62984921 </td></tr>\n",
       "\t<tr><td>0.2100   </td><td>0.6351000</td><td>62762863 </td></tr>\n",
       "\t<tr><td>0.2075   </td><td>0.6359759</td><td>62612195 </td></tr>\n",
       "\t<tr><td>0.3300   </td><td>0.6371294</td><td>62413798 </td></tr>\n",
       "\t<tr><td>0.2050   </td><td>0.6391497</td><td>62066304 </td></tr>\n",
       "\t<tr><td>0.3325   </td><td>0.6397460</td><td>61963737 </td></tr>\n",
       "\t<tr><td>0.2025   </td><td>0.6419679</td><td>61581583 </td></tr>\n",
       "\t<tr><td>0.2000   </td><td>0.6439445</td><td>61241603 </td></tr>\n",
       "\t<tr><td>0.3350   </td><td>0.6439806</td><td>61235394 </td></tr>\n",
       "\t<tr><td>0.3375   </td><td>0.6458319</td><td>60916958 </td></tr>\n",
       "\t<tr><td>0.3400   </td><td>0.6469893</td><td>60717900 </td></tr>\n",
       "\t<tr><td>0.1975   </td><td>0.6469985</td><td>60716315 </td></tr>\n",
       "\t<tr><td>0.3425   </td><td>0.6480814</td><td>60530044 </td></tr>\n",
       "\t<tr><td>0.1950   </td><td>0.6490402</td><td>60365134 </td></tr>\n",
       "\t<tr><td>0.3450   </td><td>0.6505041</td><td>60113353 </td></tr>\n",
       "</tbody>\n",
       "</table>\n"
      ],
      "text/latex": [
       "\\begin{tabular}{r|lll}\n",
       " Threshold & CR & Profit\\\\\n",
       "\\hline\n",
       "\t 0.2600    & 0.6072993 & 67544575 \\\\\n",
       "\t 0.2675    & 0.6076366 & 67486564 \\\\\n",
       "\t 0.2650    & 0.6076620 & 67482203 \\\\\n",
       "\t 0.2700    & 0.6077789 & 67462081 \\\\\n",
       "\t 0.2625    & 0.6077936 & 67459561 \\\\\n",
       "\t 0.2725    & 0.6082695 & 67377705 \\\\\n",
       "\t 0.2525    & 0.6092605 & 67207247 \\\\\n",
       "\t 0.2575    & 0.6094652 & 67172036 \\\\\n",
       "\t 0.2825    & 0.6094897 & 67167823 \\\\\n",
       "\t 0.2750    & 0.6100179 & 67076973 \\\\\n",
       "\t 0.2550    & 0.6101067 & 67061702 \\\\\n",
       "\t 0.2850    & 0.6102364 & 67039399 \\\\\n",
       "\t 0.2800    & 0.6105034 & 66993476 \\\\\n",
       "\t 0.2775    & 0.6107339 & 66953830 \\\\\n",
       "\t 0.2875    & 0.6110691 & 66896175 \\\\\n",
       "\t 0.2500    & 0.6113509 & 66847708 \\\\\n",
       "\t 0.2900    & 0.6116787 & 66791314 \\\\\n",
       "\t 0.2925    & 0.6117320 & 66782152 \\\\\n",
       "\t 0.2950    & 0.6120279 & 66731263 \\\\\n",
       "\t 0.2475    & 0.6121759 & 66705803 \\\\\n",
       "\t 0.2975    & 0.6140368 & 66385727 \\\\\n",
       "\t 0.2450    & 0.6142558 & 66348064 \\\\\n",
       "\t 0.3000    & 0.6144943 & 66307038 \\\\\n",
       "\t 0.3025    & 0.6164148 & 65976706 \\\\\n",
       "\t 0.2425    & 0.6164352 & 65973204 \\\\\n",
       "\t 0.3050    & 0.6178839 & 65724027 \\\\\n",
       "\t 0.2400    & 0.6188984 & 65549535 \\\\\n",
       "\t 0.3075    & 0.6192983 & 65480749 \\\\\n",
       "\t 0.2375    & 0.6195227 & 65442161 \\\\\n",
       "\t 0.3100    & 0.6205248 & 65269797 \\\\\n",
       "\t ⋮ & ⋮ & ⋮\\\\\n",
       "\t 0.3125    & 0.6223569 & 64954670 \\\\\n",
       "\t 0.2325    & 0.6229981 & 64844379 \\\\\n",
       "\t 0.3150    & 0.6239434 & 64681793 \\\\\n",
       "\t 0.2275    & 0.6252808 & 64451752 \\\\\n",
       "\t 0.2300    & 0.6253243 & 64444273 \\\\\n",
       "\t 0.3175    & 0.6263916 & 64260693 \\\\\n",
       "\t 0.2250    & 0.6264375 & 64252799 \\\\\n",
       "\t 0.3200    & 0.6271096 & 64137200 \\\\\n",
       "\t 0.2225    & 0.6277889 & 64020358 \\\\\n",
       "\t 0.2200    & 0.6295716 & 63713748 \\\\\n",
       "\t 0.2175    & 0.6300649 & 63628892 \\\\\n",
       "\t 0.3225    & 0.6304915 & 63555515 \\\\\n",
       "\t 0.2150    & 0.6320115 & 63294077 \\\\\n",
       "\t 0.3250    & 0.6320578 & 63286120 \\\\\n",
       "\t 0.2125    & 0.6331436 & 63099360 \\\\\n",
       "\t 0.3275    & 0.6338089 & 62984921 \\\\\n",
       "\t 0.2100    & 0.6351000 & 62762863 \\\\\n",
       "\t 0.2075    & 0.6359759 & 62612195 \\\\\n",
       "\t 0.3300    & 0.6371294 & 62413798 \\\\\n",
       "\t 0.2050    & 0.6391497 & 62066304 \\\\\n",
       "\t 0.3325    & 0.6397460 & 61963737 \\\\\n",
       "\t 0.2025    & 0.6419679 & 61581583 \\\\\n",
       "\t 0.2000    & 0.6439445 & 61241603 \\\\\n",
       "\t 0.3350    & 0.6439806 & 61235394 \\\\\n",
       "\t 0.3375    & 0.6458319 & 60916958 \\\\\n",
       "\t 0.3400    & 0.6469893 & 60717900 \\\\\n",
       "\t 0.1975    & 0.6469985 & 60716315 \\\\\n",
       "\t 0.3425    & 0.6480814 & 60530044 \\\\\n",
       "\t 0.1950    & 0.6490402 & 60365134 \\\\\n",
       "\t 0.3450    & 0.6505041 & 60113353 \\\\\n",
       "\\end{tabular}\n"
      ],
      "text/markdown": [
       "\n",
       "| Threshold | CR | Profit |\n",
       "|---|---|---|\n",
       "| 0.2600    | 0.6072993 | 67544575  |\n",
       "| 0.2675    | 0.6076366 | 67486564  |\n",
       "| 0.2650    | 0.6076620 | 67482203  |\n",
       "| 0.2700    | 0.6077789 | 67462081  |\n",
       "| 0.2625    | 0.6077936 | 67459561  |\n",
       "| 0.2725    | 0.6082695 | 67377705  |\n",
       "| 0.2525    | 0.6092605 | 67207247  |\n",
       "| 0.2575    | 0.6094652 | 67172036  |\n",
       "| 0.2825    | 0.6094897 | 67167823  |\n",
       "| 0.2750    | 0.6100179 | 67076973  |\n",
       "| 0.2550    | 0.6101067 | 67061702  |\n",
       "| 0.2850    | 0.6102364 | 67039399  |\n",
       "| 0.2800    | 0.6105034 | 66993476  |\n",
       "| 0.2775    | 0.6107339 | 66953830  |\n",
       "| 0.2875    | 0.6110691 | 66896175  |\n",
       "| 0.2500    | 0.6113509 | 66847708  |\n",
       "| 0.2900    | 0.6116787 | 66791314  |\n",
       "| 0.2925    | 0.6117320 | 66782152  |\n",
       "| 0.2950    | 0.6120279 | 66731263  |\n",
       "| 0.2475    | 0.6121759 | 66705803  |\n",
       "| 0.2975    | 0.6140368 | 66385727  |\n",
       "| 0.2450    | 0.6142558 | 66348064  |\n",
       "| 0.3000    | 0.6144943 | 66307038  |\n",
       "| 0.3025    | 0.6164148 | 65976706  |\n",
       "| 0.2425    | 0.6164352 | 65973204  |\n",
       "| 0.3050    | 0.6178839 | 65724027  |\n",
       "| 0.2400    | 0.6188984 | 65549535  |\n",
       "| 0.3075    | 0.6192983 | 65480749  |\n",
       "| 0.2375    | 0.6195227 | 65442161  |\n",
       "| 0.3100    | 0.6205248 | 65269797  |\n",
       "| ⋮ | ⋮ | ⋮ |\n",
       "| 0.3125    | 0.6223569 | 64954670  |\n",
       "| 0.2325    | 0.6229981 | 64844379  |\n",
       "| 0.3150    | 0.6239434 | 64681793  |\n",
       "| 0.2275    | 0.6252808 | 64451752  |\n",
       "| 0.2300    | 0.6253243 | 64444273  |\n",
       "| 0.3175    | 0.6263916 | 64260693  |\n",
       "| 0.2250    | 0.6264375 | 64252799  |\n",
       "| 0.3200    | 0.6271096 | 64137200  |\n",
       "| 0.2225    | 0.6277889 | 64020358  |\n",
       "| 0.2200    | 0.6295716 | 63713748  |\n",
       "| 0.2175    | 0.6300649 | 63628892  |\n",
       "| 0.3225    | 0.6304915 | 63555515  |\n",
       "| 0.2150    | 0.6320115 | 63294077  |\n",
       "| 0.3250    | 0.6320578 | 63286120  |\n",
       "| 0.2125    | 0.6331436 | 63099360  |\n",
       "| 0.3275    | 0.6338089 | 62984921  |\n",
       "| 0.2100    | 0.6351000 | 62762863  |\n",
       "| 0.2075    | 0.6359759 | 62612195  |\n",
       "| 0.3300    | 0.6371294 | 62413798  |\n",
       "| 0.2050    | 0.6391497 | 62066304  |\n",
       "| 0.3325    | 0.6397460 | 61963737  |\n",
       "| 0.2025    | 0.6419679 | 61581583  |\n",
       "| 0.2000    | 0.6439445 | 61241603  |\n",
       "| 0.3350    | 0.6439806 | 61235394  |\n",
       "| 0.3375    | 0.6458319 | 60916958  |\n",
       "| 0.3400    | 0.6469893 | 60717900  |\n",
       "| 0.1975    | 0.6469985 | 60716315  |\n",
       "| 0.3425    | 0.6480814 | 60530044  |\n",
       "| 0.1950    | 0.6490402 | 60365134  |\n",
       "| 0.3450    | 0.6505041 | 60113353  |\n",
       "\n"
      ],
      "text/plain": [
       "   Threshold CR        Profit  \n",
       "1  0.2600    0.6072993 67544575\n",
       "2  0.2675    0.6076366 67486564\n",
       "3  0.2650    0.6076620 67482203\n",
       "4  0.2700    0.6077789 67462081\n",
       "5  0.2625    0.6077936 67459561\n",
       "6  0.2725    0.6082695 67377705\n",
       "7  0.2525    0.6092605 67207247\n",
       "8  0.2575    0.6094652 67172036\n",
       "9  0.2825    0.6094897 67167823\n",
       "10 0.2750    0.6100179 67076973\n",
       "11 0.2550    0.6101067 67061702\n",
       "12 0.2850    0.6102364 67039399\n",
       "13 0.2800    0.6105034 66993476\n",
       "14 0.2775    0.6107339 66953830\n",
       "15 0.2875    0.6110691 66896175\n",
       "16 0.2500    0.6113509 66847708\n",
       "17 0.2900    0.6116787 66791314\n",
       "18 0.2925    0.6117320 66782152\n",
       "19 0.2950    0.6120279 66731263\n",
       "20 0.2475    0.6121759 66705803\n",
       "21 0.2975    0.6140368 66385727\n",
       "22 0.2450    0.6142558 66348064\n",
       "23 0.3000    0.6144943 66307038\n",
       "24 0.3025    0.6164148 65976706\n",
       "25 0.2425    0.6164352 65973204\n",
       "26 0.3050    0.6178839 65724027\n",
       "27 0.2400    0.6188984 65549535\n",
       "28 0.3075    0.6192983 65480749\n",
       "29 0.2375    0.6195227 65442161\n",
       "30 0.3100    0.6205248 65269797\n",
       "⋮  ⋮         ⋮         ⋮       \n",
       "32 0.3125    0.6223569 64954670\n",
       "33 0.2325    0.6229981 64844379\n",
       "34 0.3150    0.6239434 64681793\n",
       "35 0.2275    0.6252808 64451752\n",
       "36 0.2300    0.6253243 64444273\n",
       "37 0.3175    0.6263916 64260693\n",
       "38 0.2250    0.6264375 64252799\n",
       "39 0.3200    0.6271096 64137200\n",
       "40 0.2225    0.6277889 64020358\n",
       "41 0.2200    0.6295716 63713748\n",
       "42 0.2175    0.6300649 63628892\n",
       "43 0.3225    0.6304915 63555515\n",
       "44 0.2150    0.6320115 63294077\n",
       "45 0.3250    0.6320578 63286120\n",
       "46 0.2125    0.6331436 63099360\n",
       "47 0.3275    0.6338089 62984921\n",
       "48 0.2100    0.6351000 62762863\n",
       "49 0.2075    0.6359759 62612195\n",
       "50 0.3300    0.6371294 62413798\n",
       "51 0.2050    0.6391497 62066304\n",
       "52 0.3325    0.6397460 61963737\n",
       "53 0.2025    0.6419679 61581583\n",
       "54 0.2000    0.6439445 61241603\n",
       "55 0.3350    0.6439806 61235394\n",
       "56 0.3375    0.6458319 60916958\n",
       "57 0.3400    0.6469893 60717900\n",
       "58 0.1975    0.6469985 60716315\n",
       "59 0.3425    0.6480814 60530044\n",
       "60 0.1950    0.6490402 60365134\n",
       "61 0.3450    0.6505041 60113353"
      ]
     },
     "metadata": {},
     "output_type": "display_data"
    }
   ],
   "source": [
    "xnn.res.df[which(xnn.res.df$Profit > 60000000),] %>% arrange(-Profit)"
   ]
  },
  {
   "cell_type": "code",
   "execution_count": 127,
   "metadata": {},
   "outputs": [
    {
     "data": {
      "text/plain": [
       "Confusion Matrix and Statistics\n",
       "\n",
       "       \n",
       "        FALSE  TRUE\n",
       "  FALSE 30500  4299\n",
       "  TRUE  11242  5118\n",
       "                                             \n",
       "               Accuracy : 0.6962             \n",
       "                 95% CI : (0.6922, 0.7002)   \n",
       "    No Information Rate : 0.8159             \n",
       "    P-Value [Acc > NIR] : 1                  \n",
       "                                             \n",
       "                  Kappa : 0.2133             \n",
       "                                             \n",
       " Mcnemar's Test P-Value : <0.0000000000000002\n",
       "                                             \n",
       "            Sensitivity : 0.7307             \n",
       "            Specificity : 0.5435             \n",
       "         Pos Pred Value : 0.8765             \n",
       "         Neg Pred Value : 0.3128             \n",
       "             Prevalence : 0.8159             \n",
       "         Detection Rate : 0.5962             \n",
       "   Detection Prevalence : 0.6802             \n",
       "      Balanced Accuracy : 0.6371             \n",
       "                                             \n",
       "       'Positive' Class : FALSE              \n",
       "                                             "
      ]
     },
     "metadata": {},
     "output_type": "display_data"
    }
   ],
   "source": [
    "xnn.cm <- confusionMatrix(table(xnn.prob.df$XNN_prob > 0.26, y_test$default))\n",
    "xnn.cm"
   ]
  },
  {
   "cell_type": "markdown",
   "metadata": {},
   "source": [
    "Calculate Profit Lift"
   ]
  },
  {
   "cell_type": "code",
   "execution_count": 129,
   "metadata": {},
   "outputs": [
    {
     "data": {
      "text/html": [
       "2.22397448973067"
      ],
      "text/latex": [
       "2.22397448973067"
      ],
      "text/markdown": [
       "2.22397448973067"
      ],
      "text/plain": [
       "[1] 2.223974"
      ]
     },
     "metadata": {},
     "output_type": "display_data"
    }
   ],
   "source": [
    "pr <-  (xnn.cm$table[1,1]*mreturns) - (xnn.cm$table[1,2]*mloan_amnt)\n",
    "nv <- (round(nir * sum(xnn.cm$table[1,]),0)*mreturns)-(round((1-nir) * sum(xnn.cm$table[1,]),0)*mloan_amnt)\n",
    "pr / nv"
   ]
  },
  {
   "cell_type": "code",
   "execution_count": 130,
   "metadata": {},
   "outputs": [],
   "source": [
    "xnn.pred.fg <- xnn.prob.df$XNN_prob[y_test$default==TRUE]\n",
    "xnn.pred.bg <- xnn.prob.df$XNN_prob[y_test$default==FALSE]"
   ]
  },
  {
   "cell_type": "code",
   "execution_count": 131,
   "metadata": {},
   "outputs": [
    {
     "data": {
      "image/png": "[encoded data removed]",
      "text/plain": [
       "Plot with title “ROC curve\n",
       "AUC = 0.6957307”"
      ]
     },
     "metadata": {},
     "output_type": "display_data"
    }
   ],
   "source": [
    "xnn.pred.roc <- roc.curve(scores.class0 = xnn.pred.fg, scores.class1 = xnn.pred.bg, curve = T)\n",
    "plot(xnn.pred.roc)"
   ]
  },
  {
   "cell_type": "code",
   "execution_count": 132,
   "metadata": {},
   "outputs": [
    {
     "data": {
      "image/png": "[encoded data removed]",
      "text/plain": [
       "Plot with title “PR curve\n",
       "AUC = 0.3329955”"
      ]
     },
     "metadata": {},
     "output_type": "display_data"
    }
   ],
   "source": [
    "xnn.pred.prc <- pr.curve(scores.class0 = xnn.pred.fg, scores.class1 = xnn.pred.bg, curve = T)\n",
    "plot(xnn.pred.prc)"
   ]
  },
  {
   "cell_type": "markdown",
   "metadata": {},
   "source": [
    "Calculate F1 Score"
   ]
  },
  {
   "cell_type": "code",
   "execution_count": 133,
   "metadata": {},
   "outputs": [
    {
     "data": {
      "text/html": [
       "0.796958492833906"
      ],
      "text/latex": [
       "0.796958492833906"
      ],
      "text/markdown": [
       "0.796958492833906"
      ],
      "text/plain": [
       "[1] 0.7969585"
      ]
     },
     "metadata": {},
     "output_type": "display_data"
    }
   ],
   "source": [
    "xnn.pred.f1 <- F1_Score(ifelse(xnn.prob.df$XNN_prob > 0.26, 1, 0), ifelse(y_test$default, 1, 0), positive = \"0\")\n",
    "xnn.pred.f1"
   ]
  },
  {
   "cell_type": "code",
   "execution_count": 134,
   "metadata": {},
   "outputs": [],
   "source": [
    "XNN.pred.df <- as.data.frame(xnn.prob.df$XNN_prob > 0.26)\n",
    "colnames(XNN.pred.df) <- c(\"XNN_pred\")"
   ]
  },
  {
   "cell_type": "code",
   "execution_count": 135,
   "metadata": {},
   "outputs": [],
   "source": [
    "write.csv(XNN.pred.df , file = \"./pred/XNN_pred.csv\")"
   ]
  },
  {
   "cell_type": "code",
   "execution_count": null,
   "metadata": {},
   "outputs": [],
   "source": []
  }
 ],
 "metadata": {
  "kernelspec": {
   "display_name": "R",
   "language": "R",
   "name": "ir"
  },
  "language_info": {
   "codemirror_mode": "r",
   "file_extension": ".r",
   "mimetype": "text/x-r-source",
   "name": "R",
   "pygments_lexer": "r",
   "version": "3.4.4"
  }
 },
 "nbformat": 4,
 "nbformat_minor": 2
}
