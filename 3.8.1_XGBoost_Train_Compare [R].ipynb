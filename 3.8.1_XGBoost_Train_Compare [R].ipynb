{
 "cells": [
  {
   "cell_type": "markdown",
   "metadata": {},
   "source": [
    "# 3.8.1 Monotonic XGBoost Model\n",
    "#### and comparison with non-monotonic model"
   ]
  },
  {
   "cell_type": "markdown",
   "metadata": {},
   "source": [
    "## 1) Load Required Libraries"
   ]
  },
  {
   "cell_type": "code",
   "execution_count": 82,
   "metadata": {},
   "outputs": [],
   "source": [
    "library(\"dplyr\")\n",
    "library(\"ggplot2\")\n",
    "library(\"ROSE\")\n",
    "library(\"xgboost\")\n",
    "library(\"gbm\")\n",
    "library(\"Matrix\")\n",
    "library(\"pdp\") \n",
    "library(\"caret\")\n",
    "library(\"mltools\")\n",
    "library(\"data.table\")\n",
    "library(\"pROC\")\n",
    "library(\"PRROC\")\n",
    "library(\"rBayesianOptimization\")\n",
    "library(\"DiagrammeR\")\n",
    "library(\"MLmetrics\")"
   ]
  },
  {
   "cell_type": "markdown",
   "metadata": {},
   "source": [
    "## 2) Load Data"
   ]
  },
  {
   "cell_type": "code",
   "execution_count": 2,
   "metadata": {},
   "outputs": [
    {
     "name": "stdout",
     "output_type": "stream",
     "text": [
      "Observations: 884,570\n",
      "Variables: 27\n",
      "$ X                                      <int> 1, 2, 3, 4, 5, 6, 7, 8, 9, 10,…\n",
      "$ loan_amnt                              <int> 5600, 7500, 12200, 11200, 2500…\n",
      "$ term                                   <fct>  36 months,  36 months,  36 mo…\n",
      "$ int_rate                               <dbl> 18.04, 13.87, 12.29, 11.34, 15…\n",
      "$ installment                            <dbl> 202.57, 255.86, 406.91, 368.48…\n",
      "$ grade                                  <fct> G, D, C, C, E, C, C, A, B, C, …\n",
      "$ home_ownership                         <fct> OWN, MORTGAGE, OWN, RENT, MORT…\n",
      "$ annual_inc                             <dbl> 0.6677529, 0.7174611, 0.661276…\n",
      "$ verification_status                    <fct> Not Verified, Not Verified, No…\n",
      "$ pymnt_plan                             <fct> n, n, n, n, n, n, n, n, n, n, …\n",
      "$ purpose                                <fct> home_improvement, Others, home…\n",
      "$ dti                                    <dbl> 25.84, 20.95, 9.31, 6.92, 6.82…\n",
      "$ open_acc                               <int> 11, 15, 4, 9, 5, 9, 16, 6, 7, …\n",
      "$ pub_rec                                <int> 0, 0, 0, 0, 0, 0, 0, 0, 0, 0, …\n",
      "$ total_acc                              <int> 17, 29, 8, 11, 12, 12, 41, 14,…\n",
      "$ initial_list_status                    <fct> f, f, f, f, f, f, f, f, f, f, …\n",
      "$ application_type                       <fct> INDIVIDUAL, INDIVIDUAL, INDIVI…\n",
      "$ Compensation.of.employees              <int> 149, 149, 149, 149, 149, 159, …\n",
      "$ Gross.operating.surplus                <int> 197, 197, 197, 197, 197, 198, …\n",
      "$ Per.capita.real.GDP.by.state           <int> 442, 442, 442, 442, 442, 445, …\n",
      "$ Quantity.indexes.for.real.GDP.by.state <int> 333, 333, 333, 333, 333, 335, …\n",
      "$ Real.GDP.by.state                      <int> 309, 309, 309, 309, 309, 310, …\n",
      "$ Subsidies                              <int> 6, 6, 6, 6, 6, 377, 377, 377, …\n",
      "$ Taxes.on.production.and.imports        <int> 339, 339, 339, 339, 339, 4, 4,…\n",
      "$ regions                                <fct> West, West, West, West, West, …\n",
      "$ month                                  <int> 1, 6, 3, 3, 12, 12, 3, 11, 5, …\n",
      "$ default                                <lgl> TRUE, FALSE, FALSE, FALSE, FAL…\n"
     ]
    }
   ],
   "source": [
    "transformed2.df <- read.csv(file=\"TransfromedData2.csv\", header=TRUE, sep=\",\")\n",
    "glimpse(transformed2.df)"
   ]
  },
  {
   "cell_type": "markdown",
   "metadata": {},
   "source": [
    "## 3) Transform Data for Modelling"
   ]
  },
  {
   "cell_type": "markdown",
   "metadata": {},
   "source": [
    "### 3.1) Basic Transforms"
   ]
  },
  {
   "cell_type": "markdown",
   "metadata": {},
   "source": [
    "Convert all factor levels to uppercase and replace spaces for underscores to make them more readable"
   ]
  },
  {
   "cell_type": "code",
   "execution_count": 3,
   "metadata": {},
   "outputs": [],
   "source": [
    "transformed2.df <- transformed2.df %>% mutate(term = factor(term, labels = c('36MO', '60MO')),\n",
    "        verification_status = factor(verification_status, labels = c('NOT_VERIFIED', 'SOURCE_VERIFIED', 'VERIFIED')),\n",
    "        purpose = factor(purpose, labels = c('CREDIT_CARD', 'DEBT_CONSOLIDATION', 'HOME_IMPROVEMENT', 'MAJOR_PURCHASE', 'OTHERS', 'SMALL_BUSINESS')),\n",
    "        initial_list_status = factor(initial_list_status, labels = c('F', 'W')),\n",
    "        regions = factor(regions, labels = c('MIDWEST', 'NORTHEAST', 'SOUTH', 'WEST')),\n",
    "        pymnt_plan = factor(pymnt_plan, labels = c(\"N\", \"Y\")))"
   ]
  },
  {
   "cell_type": "markdown",
   "metadata": {},
   "source": [
    "Rename external source columns for readability and ease of programmatic reference"
   ]
  },
  {
   "cell_type": "code",
   "execution_count": 4,
   "metadata": {},
   "outputs": [],
   "source": [
    "transformed2.df <- transformed2.df %>% rename(\"compensation_of_employees\" = \"Compensation.of.employees\", \n",
    "                           \"gross_operating_surplus\" = \"Gross.operating.surplus\",\n",
    "                           \"per_capita_real_gdp_by_state\" = \"Per.capita.real.GDP.by.state\",\n",
    "                           \"quantity_indexes_for_real_gdp_by_state\" = \"Quantity.indexes.for.real.GDP.by.state\",\n",
    "                           \"real_gdp_by_state\" = \"Real.GDP.by.state\",\n",
    "                           \"subsidies\" = \"Subsidies\",\n",
    "                           \"taxes_on_production_and_imports\" = \"Taxes.on.production.and.imports\")"
   ]
  },
  {
   "cell_type": "markdown",
   "metadata": {},
   "source": [
    "Add a `returns` with the amount expected to be gained from the loan from interests alone"
   ]
  },
  {
   "cell_type": "code",
   "execution_count": 5,
   "metadata": {},
   "outputs": [],
   "source": [
    "transformed2.df <- transformed2.df %>% mutate(returns = (installment * ifelse(term=='36MO', 36, 60)) - loan_amnt)"
   ]
  },
  {
   "cell_type": "markdown",
   "metadata": {},
   "source": [
    "Glimpse newly transformed dataframe"
   ]
  },
  {
   "cell_type": "code",
   "execution_count": 6,
   "metadata": {},
   "outputs": [
    {
     "name": "stdout",
     "output_type": "stream",
     "text": [
      "Observations: 884,570\n",
      "Variables: 28\n",
      "$ X                                      <int> 1, 2, 3, 4, 5, 6, 7, 8, 9, 10,…\n",
      "$ loan_amnt                              <int> 5600, 7500, 12200, 11200, 2500…\n",
      "$ term                                   <fct> 36MO, 36MO, 36MO, 36MO, 36MO, …\n",
      "$ int_rate                               <dbl> 18.04, 13.87, 12.29, 11.34, 15…\n",
      "$ installment                            <dbl> 202.57, 255.86, 406.91, 368.48…\n",
      "$ grade                                  <fct> G, D, C, C, E, C, C, A, B, C, …\n",
      "$ home_ownership                         <fct> OWN, MORTGAGE, OWN, RENT, MORT…\n",
      "$ annual_inc                             <dbl> 0.6677529, 0.7174611, 0.661276…\n",
      "$ verification_status                    <fct> NOT_VERIFIED, NOT_VERIFIED, NO…\n",
      "$ pymnt_plan                             <fct> N, N, N, N, N, N, N, N, N, N, …\n",
      "$ purpose                                <fct> HOME_IMPROVEMENT, OTHERS, HOME…\n",
      "$ dti                                    <dbl> 25.84, 20.95, 9.31, 6.92, 6.82…\n",
      "$ open_acc                               <int> 11, 15, 4, 9, 5, 9, 16, 6, 7, …\n",
      "$ pub_rec                                <int> 0, 0, 0, 0, 0, 0, 0, 0, 0, 0, …\n",
      "$ total_acc                              <int> 17, 29, 8, 11, 12, 12, 41, 14,…\n",
      "$ initial_list_status                    <fct> F, F, F, F, F, F, F, F, F, F, …\n",
      "$ application_type                       <fct> INDIVIDUAL, INDIVIDUAL, INDIVI…\n",
      "$ compensation_of_employees              <int> 149, 149, 149, 149, 149, 159, …\n",
      "$ gross_operating_surplus                <int> 197, 197, 197, 197, 197, 198, …\n",
      "$ per_capita_real_gdp_by_state           <int> 442, 442, 442, 442, 442, 445, …\n",
      "$ quantity_indexes_for_real_gdp_by_state <int> 333, 333, 333, 333, 333, 335, …\n",
      "$ real_gdp_by_state                      <int> 309, 309, 309, 309, 309, 310, …\n",
      "$ subsidies                              <int> 6, 6, 6, 6, 6, 377, 377, 377, …\n",
      "$ taxes_on_production_and_imports        <int> 339, 339, 339, 339, 339, 4, 4,…\n",
      "$ regions                                <fct> WEST, WEST, WEST, WEST, WEST, …\n",
      "$ month                                  <int> 1, 6, 3, 3, 12, 12, 3, 11, 5, …\n",
      "$ default                                <lgl> TRUE, FALSE, FALSE, FALSE, FAL…\n",
      "$ returns                                <dbl> 1692.52, 1710.96, 2448.76, 206…\n"
     ]
    }
   ],
   "source": [
    "glimpse(transformed2.df)"
   ]
  },
  {
   "cell_type": "markdown",
   "metadata": {},
   "source": [
    "### 3.2) One-hot encoded version (for monotonic constraints)"
   ]
  },
  {
   "cell_type": "code",
   "execution_count": 7,
   "metadata": {},
   "outputs": [
    {
     "name": "stdout",
     "output_type": "stream",
     "text": [
      "Observations: 884,570\n",
      "Variables: 50\n",
      "$ X                                      <int> 1, 2, 3, 4, 5, 6, 7, 8, 9, 10,…\n",
      "$ loan_amnt                              <int> 5600, 7500, 12200, 11200, 2500…\n",
      "$ term_36MO                              <int> 1, 1, 1, 1, 1, 1, 1, 1, 1, 1, …\n",
      "$ term_60MO                              <int> 0, 0, 0, 0, 0, 0, 0, 0, 0, 0, …\n",
      "$ int_rate                               <dbl> 18.04, 13.87, 12.29, 11.34, 15…\n",
      "$ installment                            <dbl> 202.57, 255.86, 406.91, 368.48…\n",
      "$ grade_A                                <int> 0, 0, 0, 0, 0, 0, 0, 1, 0, 0, …\n",
      "$ grade_B                                <int> 0, 0, 0, 0, 0, 0, 0, 0, 1, 0, …\n",
      "$ grade_C                                <int> 0, 0, 1, 1, 0, 1, 1, 0, 0, 1, …\n",
      "$ grade_D                                <int> 0, 1, 0, 0, 0, 0, 0, 0, 0, 0, …\n",
      "$ grade_E                                <int> 0, 0, 0, 0, 1, 0, 0, 0, 0, 0, …\n",
      "$ grade_F                                <int> 0, 0, 0, 0, 0, 0, 0, 0, 0, 0, …\n",
      "$ grade_G                                <int> 1, 0, 0, 0, 0, 0, 0, 0, 0, 0, …\n",
      "$ home_ownership_MORTGAGE                <int> 0, 1, 0, 0, 1, 0, 1, 1, 1, 1, …\n",
      "$ home_ownership_OWN                     <int> 1, 0, 1, 0, 0, 0, 0, 0, 0, 0, …\n",
      "$ home_ownership_RENT                    <int> 0, 0, 0, 1, 0, 1, 0, 0, 0, 0, …\n",
      "$ annual_inc                             <dbl> 0.6677529, 0.7174611, 0.661276…\n",
      "$ verification_status_NOT_VERIFIED       <int> 1, 1, 1, 1, 0, 1, 1, 1, 1, 0, …\n",
      "$ verification_status_SOURCE_VERIFIED    <int> 0, 0, 0, 0, 0, 0, 0, 0, 0, 0, …\n",
      "$ verification_status_VERIFIED           <int> 0, 0, 0, 0, 1, 0, 0, 0, 0, 1, …\n",
      "$ pymnt_plan_N                           <int> 1, 1, 1, 1, 1, 1, 1, 1, 1, 1, …\n",
      "$ pymnt_plan_Y                           <int> 0, 0, 0, 0, 0, 0, 0, 0, 0, 0, …\n",
      "$ purpose_CREDIT_CARD                    <int> 0, 0, 0, 0, 0, 0, 0, 1, 0, 0, …\n",
      "$ purpose_DEBT_CONSOLIDATION             <int> 0, 0, 0, 1, 0, 0, 0, 0, 1, 0, …\n",
      "$ purpose_HOME_IMPROVEMENT               <int> 1, 0, 1, 0, 0, 0, 0, 0, 0, 0, …\n",
      "$ purpose_MAJOR_PURCHASE                 <int> 0, 0, 0, 0, 0, 0, 0, 0, 0, 0, …\n",
      "$ purpose_OTHERS                         <int> 0, 1, 0, 0, 0, 1, 0, 0, 0, 0, …\n",
      "$ purpose_SMALL_BUSINESS                 <int> 0, 0, 0, 0, 1, 0, 1, 0, 0, 1, …\n",
      "$ dti                                    <dbl> 25.84, 20.95, 9.31, 6.92, 6.82…\n",
      "$ open_acc                               <int> 11, 15, 4, 9, 5, 9, 16, 6, 7, …\n",
      "$ pub_rec                                <int> 0, 0, 0, 0, 0, 0, 0, 0, 0, 0, …\n",
      "$ total_acc                              <int> 17, 29, 8, 11, 12, 12, 41, 14,…\n",
      "$ initial_list_status_F                  <int> 1, 1, 1, 1, 1, 1, 1, 1, 1, 1, …\n",
      "$ initial_list_status_W                  <int> 0, 0, 0, 0, 0, 0, 0, 0, 0, 0, …\n",
      "$ application_type_INDIVIDUAL            <int> 1, 1, 1, 1, 1, 1, 1, 1, 1, 1, …\n",
      "$ application_type_JOINT                 <int> 0, 0, 0, 0, 0, 0, 0, 0, 0, 0, …\n",
      "$ compensation_of_employees              <int> 149, 149, 149, 149, 149, 159, …\n",
      "$ gross_operating_surplus                <int> 197, 197, 197, 197, 197, 198, …\n",
      "$ per_capita_real_gdp_by_state           <int> 442, 442, 442, 442, 442, 445, …\n",
      "$ quantity_indexes_for_real_gdp_by_state <int> 333, 333, 333, 333, 333, 335, …\n",
      "$ real_gdp_by_state                      <int> 309, 309, 309, 309, 309, 310, …\n",
      "$ subsidies                              <int> 6, 6, 6, 6, 6, 377, 377, 377, …\n",
      "$ taxes_on_production_and_imports        <int> 339, 339, 339, 339, 339, 4, 4,…\n",
      "$ regions_MIDWEST                        <int> 0, 0, 0, 0, 0, 0, 0, 0, 0, 0, …\n",
      "$ regions_NORTHEAST                      <int> 0, 0, 0, 0, 0, 0, 0, 0, 0, 0, …\n",
      "$ regions_SOUTH                          <int> 0, 0, 0, 0, 0, 0, 0, 0, 0, 0, …\n",
      "$ regions_WEST                           <int> 1, 1, 1, 1, 1, 1, 1, 1, 1, 1, …\n",
      "$ month                                  <int> 1, 6, 3, 3, 12, 12, 3, 11, 5, …\n",
      "$ default                                <lgl> TRUE, FALSE, FALSE, FALSE, FAL…\n",
      "$ returns                                <dbl> 1692.52, 1710.96, 2448.76, 206…\n"
     ]
    }
   ],
   "source": [
    "transformed2.1hot.df <- one_hot(as.data.table(transformed2.df))\n",
    "glimpse(transformed2.1hot.df)"
   ]
  },
  {
   "cell_type": "markdown",
   "metadata": {},
   "source": [
    "### 3.3) Train / Test split both versions"
   ]
  },
  {
   "cell_type": "markdown",
   "metadata": {},
   "source": [
    "Initialize Seed"
   ]
  },
  {
   "cell_type": "code",
   "execution_count": 8,
   "metadata": {},
   "outputs": [],
   "source": [
    "seedNum = 19\n",
    "set.seed(seedNum)"
   ]
  },
  {
   "cell_type": "markdown",
   "metadata": {},
   "source": [
    "Create partitions"
   ]
  },
  {
   "cell_type": "code",
   "execution_count": 9,
   "metadata": {},
   "outputs": [],
   "source": [
    "train.indx <- createDataPartition(y=transformed2.df$default, p=0.85, list=FALSE)\n",
    "train.1hot.df <- transformed2.1hot.df[train.indx,-1]\n",
    "test.1hot.df <- transformed2.1hot.df[-train.indx,-1]\n",
    "train.df <- transformed2.df[train.indx,-1]\n",
    "test.df <- transformed2.df[-train.indx,-1]"
   ]
  },
  {
   "cell_type": "code",
   "execution_count": 247,
   "metadata": {},
   "outputs": [],
   "source": [
    "write.csv(transformed2.1hot.df[train.indx,], file = \"train.1hot.df.csv\")\n",
    "write.csv(transformed2.1hot.df[-train.indx,], file = \"test.1hot.df.csv\")\n",
    "write.csv(transformed2.df[train.indx,], file = \"train.df.csv\")\n",
    "write.csv(transformed2.df[-train.indx,], file = \"test.df.csv\")"
   ]
  },
  {
   "cell_type": "markdown",
   "metadata": {},
   "source": [
    "### 3.4) Create sampled versions of both training datasets (for cross validation)"
   ]
  },
  {
   "cell_type": "markdown",
   "metadata": {},
   "source": [
    "Undersample train dataset for cross validation "
   ]
  },
  {
   "cell_type": "raw",
   "metadata": {},
   "source": [
    "train.samp.df <- downSample(x = train.df[, -26], y = as.factor(train.df$default))\n",
    "train.samp.df <- train.samp.df %>% rename(\"default\" = \"Class\")\n",
    "#train.samp.df$default <- as.logical(train.samp.df$default)\n",
    "table(train.samp.df$default)"
   ]
  },
  {
   "cell_type": "raw",
   "metadata": {},
   "source": [
    "train.samp.1hot.df <- downSample(x = train.1hot.df[, -48], y = as.factor(train.1hot.df$default))\n",
    "train.samp.1hot.df <- train.samp.1hot.df %>% rename(\"default\" = \"Class\") %>% mutate(default = as.logical(default)) \n",
    "#train.samp.1hot.df$default <- as.logical(train.samp.1hot.df$default)\n",
    "table(train.samp.1hot.df$default)"
   ]
  },
  {
   "cell_type": "code",
   "execution_count": 10,
   "metadata": {},
   "outputs": [],
   "source": [
    "train.samp.indx <- createDataPartition(y=train.df$default, p=0.15, list=FALSE)\n",
    "train.samp.df <- transformed2.1hot.df[train.samp.indx,-1]\n",
    "train.samp.1hot.df <- transformed2.1hot.df[train.samp.indx,-1]"
   ]
  },
  {
   "cell_type": "markdown",
   "metadata": {},
   "source": [
    "### 3.4) Calculate Sampled Medians (for Cost Sensitive Learning & Evaluation )"
   ]
  },
  {
   "cell_type": "markdown",
   "metadata": {},
   "source": [
    "Calculate mean sample returns"
   ]
  },
  {
   "cell_type": "code",
   "execution_count": 11,
   "metadata": {},
   "outputs": [
    {
     "data": {
      "text/html": [
       "2786.8"
      ],
      "text/latex": [
       "2786.8"
      ],
      "text/markdown": [
       "2786.8"
      ],
      "text/plain": [
       "[1] 2786.8"
      ]
     },
     "metadata": {},
     "output_type": "display_data"
    }
   ],
   "source": [
    "mreturns <- median(train.1hot.df$returns)\n",
    "mreturns"
   ]
  },
  {
   "cell_type": "markdown",
   "metadata": {},
   "source": [
    "Median sample loan amount"
   ]
  },
  {
   "cell_type": "code",
   "execution_count": 12,
   "metadata": {},
   "outputs": [
    {
     "data": {
      "text/html": [
       "13000"
      ],
      "text/latex": [
       "13000"
      ],
      "text/markdown": [
       "13000"
      ],
      "text/plain": [
       "[1] 13000"
      ]
     },
     "metadata": {},
     "output_type": "display_data"
    }
   ],
   "source": [
    "mloan_amnt <- median(train.1hot.df$loan_amnt)\n",
    "mloan_amnt"
   ]
  },
  {
   "cell_type": "markdown",
   "metadata": {},
   "source": [
    "### 3.6) Generate Y/X Sets for all versions"
   ]
  },
  {
   "cell_type": "markdown",
   "metadata": {},
   "source": [
    "Remove returns from all training set to"
   ]
  },
  {
   "cell_type": "code",
   "execution_count": 13,
   "metadata": {},
   "outputs": [],
   "source": [
    "y_train <- subset(train.1hot.df, select=default)\n",
    "y_train.samp <- subset(train.samp.1hot.df, select=default)\n",
    "x_train <- subset(train.df, select=-c(default, returns))\n",
    "x_train.samp <- subset(train.samp.df, select=-c(default, returns))\n",
    "y_test <- subset(test.1hot.df, select=default)\n",
    "x_test <- subset(test.df, select=-c(default, returns))\n",
    "x_train.1hot <- subset(train.1hot.df, select=-c(default, returns))\n",
    "x_train.samp.1hot <- subset(train.samp.1hot.df, select=-c(default, returns))\n",
    "x_test.1hot <- subset(test.1hot.df, select=-c(default, returns))"
   ]
  },
  {
   "cell_type": "markdown",
   "metadata": {},
   "source": [
    "### 3.7) Create Constraint Matrix"
   ]
  },
  {
   "cell_type": "markdown",
   "metadata": {},
   "source": [
    "**Calculate the Correlation Direction Between Response and Predictors**"
   ]
  },
  {
   "cell_type": "code",
   "execution_count": 14,
   "metadata": {},
   "outputs": [],
   "source": [
    "mono <- cor(y_train, x_train.1hot, method = 'spearman', use=\"pairwise.complete.obs\") / abs(cor(y_train, x_train.1hot, method = 'spearman', use=\"pairwise.complete.obs\"))"
   ]
  },
  {
   "cell_type": "markdown",
   "metadata": {},
   "source": [
    "Take a look at the constraints"
   ]
  },
  {
   "cell_type": "code",
   "execution_count": 15,
   "metadata": {},
   "outputs": [
    {
     "name": "stdout",
     "output_type": "stream",
     "text": [
      "Observations: 1\n",
      "Variables: 47\n",
      "$ loan_amnt                              <dbl> -1\n",
      "$ term_36MO                              <dbl> -1\n",
      "$ term_60MO                              <dbl> 1\n",
      "$ int_rate                               <dbl> 1\n",
      "$ installment                            <dbl> 1\n",
      "$ grade_A                                <dbl> -1\n",
      "$ grade_B                                <dbl> -1\n",
      "$ grade_C                                <dbl> 1\n",
      "$ grade_D                                <dbl> 1\n",
      "$ grade_E                                <dbl> 1\n",
      "$ grade_F                                <dbl> 1\n",
      "$ grade_G                                <dbl> 1\n",
      "$ home_ownership_MORTGAGE                <dbl> -1\n",
      "$ home_ownership_OWN                     <dbl> -1\n",
      "$ home_ownership_RENT                    <dbl> 1\n",
      "$ annual_inc                             <dbl> -1\n",
      "$ verification_status_NOT_VERIFIED       <dbl> -1\n",
      "$ verification_status_SOURCE_VERIFIED    <dbl> -1\n",
      "$ verification_status_VERIFIED           <dbl> 1\n",
      "$ pymnt_plan_N                           <dbl> 1\n",
      "$ pymnt_plan_Y                           <dbl> -1\n",
      "$ purpose_CREDIT_CARD                    <dbl> -1\n",
      "$ purpose_DEBT_CONSOLIDATION             <dbl> 1\n",
      "$ purpose_HOME_IMPROVEMENT               <dbl> -1\n",
      "$ purpose_MAJOR_PURCHASE                 <dbl> -1\n",
      "$ purpose_OTHERS                         <dbl> 1\n",
      "$ purpose_SMALL_BUSINESS                 <dbl> 1\n",
      "$ dti                                    <dbl> 1\n",
      "$ open_acc                               <dbl> -1\n",
      "$ pub_rec                                <dbl> -1\n",
      "$ total_acc                              <dbl> -1\n",
      "$ initial_list_status_F                  <dbl> 1\n",
      "$ initial_list_status_W                  <dbl> -1\n",
      "$ application_type_INDIVIDUAL            <dbl> 1\n",
      "$ application_type_JOINT                 <dbl> -1\n",
      "$ compensation_of_employees              <dbl> -1\n",
      "$ gross_operating_surplus                <dbl> -1\n",
      "$ per_capita_real_gdp_by_state           <dbl> -1\n",
      "$ quantity_indexes_for_real_gdp_by_state <dbl> -1\n",
      "$ real_gdp_by_state                      <dbl> -1\n",
      "$ subsidies                              <dbl> 1\n",
      "$ taxes_on_production_and_imports        <dbl> -1\n",
      "$ regions_MIDWEST                        <dbl> -1\n",
      "$ regions_NORTHEAST                      <dbl> 1\n",
      "$ regions_SOUTH                          <dbl> -1\n",
      "$ regions_WEST                           <dbl> 1\n",
      "$ month                                  <dbl> -1\n"
     ]
    }
   ],
   "source": [
    "glimpse(as.data.frame(mono))"
   ]
  },
  {
   "cell_type": "markdown",
   "metadata": {},
   "source": [
    "### 3.8) Create DMatrixes"
   ]
  },
  {
   "cell_type": "code",
   "execution_count": 16,
   "metadata": {},
   "outputs": [],
   "source": [
    "dtrain.1hot <- xgb.DMatrix(data = data.matrix(x_train.1hot), label = data.matrix(y_train))\n",
    "dtrain.samp.1hot <- xgb.DMatrix(data = data.matrix(x_train.samp.1hot), label = data.matrix(y_train.samp))\n",
    "dtrain.samp <- xgb.DMatrix(data = data.matrix(x_train.samp), label = data.matrix(y_train.samp))\n",
    "dtrain <- xgb.DMatrix(data = data.matrix(x_train), label = data.matrix(y_train))"
   ]
  },
  {
   "cell_type": "markdown",
   "metadata": {},
   "source": [
    "### 3.9) Create Folds on Sampling"
   ]
  },
  {
   "cell_type": "code",
   "execution_count": 17,
   "metadata": {},
   "outputs": [],
   "source": [
    "cv_folds <- KFold(y_train.samp$default, nfolds = 5, stratified = FALSE, seed=seedNum)"
   ]
  },
  {
   "cell_type": "markdown",
   "metadata": {},
   "source": [
    "## 4) Modelling"
   ]
  },
  {
   "cell_type": "markdown",
   "metadata": {},
   "source": [
    "### 4.1) Monotonic Constrained XGBoost"
   ]
  },
  {
   "cell_type": "markdown",
   "metadata": {},
   "source": [
    "#### 4.1.1) Perform Hyperparameter Tuning with Bayesian Optimization and Cross Validation on the Training Data Sample\n",
    "\n",
    "Optimize the PR AUC"
   ]
  },
  {
   "cell_type": "code",
   "execution_count": 18,
   "metadata": {},
   "outputs": [],
   "source": [
    "xgb.mono.cv.bayes <- function(nround, max_depth, min_child_weight, eta, gamma) { # subsample, colsample_bytree, max_delta_step\n",
    "    xgb.getLift <- function(preds, dtrain) {\n",
    "        labels <- getinfo(dtrain, \"label\")\n",
    "        lift <- getLift(preds, labels, thresholds[i])\n",
    "        return(list(metric = \"Lift\", value = lift))\n",
    "    }\n",
    "    params <- list(\n",
    "                    booster = \"gbtree\", #\"gblinear\", \"dart\"\n",
    "                    max_depth = max_depth,\n",
    "                    min_child_weight = min_child_weight,\n",
    "                    eta = eta,\n",
    "                    gamma = gamma,\n",
    "                    subsample = 0.9, #subsample, \n",
    "                    colsample_bytree = 0.8, #colsample_bytree,\n",
    "                    #max_delta_step = max_delta_step,\n",
    "                    #lambda = 1, \n",
    "                    #alpha = 0,\n",
    "                    objective = \"binary:logistic\",\n",
    "                    eval_metric = \"aucpr\", \n",
    "                    monotone_constraints = mono\n",
    "                 )\n",
    "    cv <- xgb.cv(params = params, data = dtrain.samp.1hot, folds = cv_folds, nrounds = 300, \n",
    "                 early_stopping_rounds = 20, maximize = TRUE, verbose = TRUE, print_every_n=20)\n",
    "    return(list(Score = cv$evaluation_log$test_aucpr_mean[cv$best_iteration], Pred=cv$best_iteration))\n",
    "}"
   ]
  },
  {
   "cell_type": "code",
   "execution_count": 19,
   "metadata": {},
   "outputs": [
    {
     "name": "stdout",
     "output_type": "stream",
     "text": [
      "\n",
      " Best Parameters Found: \n",
      "Round = 11\tmax_depth = 5.0000\tmin_child_weight = 6.0000\teta = 0.0751\tgamma = 0.3117\tValue = 0.1692 \n",
      "Time difference of 20.6332 mins\n"
     ]
    }
   ],
   "source": [
    "stime <- Sys.time()\n",
    "xgb.mono.cv.bayes.opt <- BayesianOptimization(xgb.mono.cv.bayes,\n",
    "                              bounds = list(max_depth = c(3L, 15L), \n",
    "                                            min_child_weight = c(1L, 7L),\n",
    "                                            eta=c(0.05, 0.3),\n",
    "                                            gamma = c(0.0, 0.4) #,\n",
    "                                            #subsample = c(0.6, 0.9),\n",
    "                                            #colsample_bytree=c(0.3, 0.7),\n",
    "                                            #max_delta_step=c(1L, 10L)\n",
    "                                        ),\n",
    "                              init_grid_dt = NULL, init_points = 10, n_iter = 10,\n",
    "                              acq = \"ucb\", kappa = 2.576, eps = 0.0, verbose = FALSE)\n",
    "print(Sys.time() - stime)"
   ]
  },
  {
   "cell_type": "markdown",
   "metadata": {},
   "source": [
    "**Bayesian Optimization History**"
   ]
  },
  {
   "cell_type": "code",
   "execution_count": 20,
   "metadata": {},
   "outputs": [
    {
     "data": {
      "text/html": [
       "<table>\n",
       "<thead><tr><th scope=col>Round</th><th scope=col>max_depth</th><th scope=col>min_child_weight</th><th scope=col>eta</th><th scope=col>gamma</th><th scope=col>Value</th></tr></thead>\n",
       "<tbody>\n",
       "\t<tr><td> 1          </td><td>10          </td><td>6           </td><td>0.27433871  </td><td>3.965552e-02</td><td>0.1678812   </td></tr>\n",
       "\t<tr><td> 2          </td><td> 4          </td><td>6           </td><td>0.21047853  </td><td>3.314499e-01</td><td>0.1685486   </td></tr>\n",
       "\t<tr><td> 3          </td><td> 5          </td><td>5           </td><td>0.26499207  </td><td>3.638495e-01</td><td>0.1676472   </td></tr>\n",
       "\t<tr><td> 4          </td><td>11          </td><td>5           </td><td>0.11324031  </td><td>3.535268e-01</td><td>0.1687902   </td></tr>\n",
       "\t<tr><td> 5          </td><td> 5          </td><td>5           </td><td>0.27523709  </td><td>2.197864e-01</td><td>0.1681124   </td></tr>\n",
       "\t<tr><td> 6          </td><td>12          </td><td>2           </td><td>0.10558071  </td><td>3.766433e-01</td><td>0.1683930   </td></tr>\n",
       "\t<tr><td> 7          </td><td>13          </td><td>6           </td><td>0.15469901  </td><td>2.533106e-01</td><td>0.1682302   </td></tr>\n",
       "\t<tr><td> 8          </td><td> 9          </td><td>1           </td><td>0.29712824  </td><td>8.060083e-03</td><td>0.1681588   </td></tr>\n",
       "\t<tr><td> 9          </td><td> 7          </td><td>2           </td><td>0.25850542  </td><td>2.006403e-01</td><td>0.1682324   </td></tr>\n",
       "\t<tr><td>10          </td><td> 5          </td><td>2           </td><td>0.28158400  </td><td>1.477750e-01</td><td>0.1660932   </td></tr>\n",
       "\t<tr><td>11          </td><td> 5          </td><td>6           </td><td>0.07514248  </td><td>3.117276e-01</td><td>0.1691834   </td></tr>\n",
       "\t<tr><td>12          </td><td>13          </td><td>5           </td><td>0.05134431  </td><td>2.074424e-01</td><td>0.1687106   </td></tr>\n",
       "\t<tr><td>13          </td><td> 8          </td><td>6           </td><td>0.05000000  </td><td>2.220446e-16</td><td>0.1679876   </td></tr>\n",
       "\t<tr><td>14          </td><td>14          </td><td>7           </td><td>0.11017667  </td><td>3.122176e-01</td><td>0.1679088   </td></tr>\n",
       "\t<tr><td>15          </td><td> 3          </td><td>5           </td><td>0.19559944  </td><td>2.838491e-01</td><td>0.1671634   </td></tr>\n",
       "\t<tr><td>16          </td><td> 7          </td><td>3           </td><td>0.27799387  </td><td>3.195761e-01</td><td>0.1670748   </td></tr>\n",
       "\t<tr><td>17          </td><td>12          </td><td>7           </td><td>0.07076874  </td><td>1.002607e-01</td><td>0.1690064   </td></tr>\n",
       "\t<tr><td>18          </td><td>10          </td><td>7           </td><td>0.18046299  </td><td>1.239510e-01</td><td>0.1673892   </td></tr>\n",
       "\t<tr><td>19          </td><td> 4          </td><td>6           </td><td>0.06705794  </td><td>3.632550e-01</td><td>0.1678492   </td></tr>\n",
       "\t<tr><td>20          </td><td> 5          </td><td>5           </td><td>0.23364743  </td><td>2.801779e-01</td><td>0.1669612   </td></tr>\n",
       "</tbody>\n",
       "</table>\n"
      ],
      "text/latex": [
       "\\begin{tabular}{r|llllll}\n",
       " Round & max\\_depth & min\\_child\\_weight & eta & gamma & Value\\\\\n",
       "\\hline\n",
       "\t  1           & 10           & 6            & 0.27433871   & 3.965552e-02 & 0.1678812   \\\\\n",
       "\t  2           &  4           & 6            & 0.21047853   & 3.314499e-01 & 0.1685486   \\\\\n",
       "\t  3           &  5           & 5            & 0.26499207   & 3.638495e-01 & 0.1676472   \\\\\n",
       "\t  4           & 11           & 5            & 0.11324031   & 3.535268e-01 & 0.1687902   \\\\\n",
       "\t  5           &  5           & 5            & 0.27523709   & 2.197864e-01 & 0.1681124   \\\\\n",
       "\t  6           & 12           & 2            & 0.10558071   & 3.766433e-01 & 0.1683930   \\\\\n",
       "\t  7           & 13           & 6            & 0.15469901   & 2.533106e-01 & 0.1682302   \\\\\n",
       "\t  8           &  9           & 1            & 0.29712824   & 8.060083e-03 & 0.1681588   \\\\\n",
       "\t  9           &  7           & 2            & 0.25850542   & 2.006403e-01 & 0.1682324   \\\\\n",
       "\t 10           &  5           & 2            & 0.28158400   & 1.477750e-01 & 0.1660932   \\\\\n",
       "\t 11           &  5           & 6            & 0.07514248   & 3.117276e-01 & 0.1691834   \\\\\n",
       "\t 12           & 13           & 5            & 0.05134431   & 2.074424e-01 & 0.1687106   \\\\\n",
       "\t 13           &  8           & 6            & 0.05000000   & 2.220446e-16 & 0.1679876   \\\\\n",
       "\t 14           & 14           & 7            & 0.11017667   & 3.122176e-01 & 0.1679088   \\\\\n",
       "\t 15           &  3           & 5            & 0.19559944   & 2.838491e-01 & 0.1671634   \\\\\n",
       "\t 16           &  7           & 3            & 0.27799387   & 3.195761e-01 & 0.1670748   \\\\\n",
       "\t 17           & 12           & 7            & 0.07076874   & 1.002607e-01 & 0.1690064   \\\\\n",
       "\t 18           & 10           & 7            & 0.18046299   & 1.239510e-01 & 0.1673892   \\\\\n",
       "\t 19           &  4           & 6            & 0.06705794   & 3.632550e-01 & 0.1678492   \\\\\n",
       "\t 20           &  5           & 5            & 0.23364743   & 2.801779e-01 & 0.1669612   \\\\\n",
       "\\end{tabular}\n"
      ],
      "text/markdown": [
       "\n",
       "| Round | max_depth | min_child_weight | eta | gamma | Value |\n",
       "|---|---|---|---|---|---|\n",
       "|  1           | 10           | 6            | 0.27433871   | 3.965552e-02 | 0.1678812    |\n",
       "|  2           |  4           | 6            | 0.21047853   | 3.314499e-01 | 0.1685486    |\n",
       "|  3           |  5           | 5            | 0.26499207   | 3.638495e-01 | 0.1676472    |\n",
       "|  4           | 11           | 5            | 0.11324031   | 3.535268e-01 | 0.1687902    |\n",
       "|  5           |  5           | 5            | 0.27523709   | 2.197864e-01 | 0.1681124    |\n",
       "|  6           | 12           | 2            | 0.10558071   | 3.766433e-01 | 0.1683930    |\n",
       "|  7           | 13           | 6            | 0.15469901   | 2.533106e-01 | 0.1682302    |\n",
       "|  8           |  9           | 1            | 0.29712824   | 8.060083e-03 | 0.1681588    |\n",
       "|  9           |  7           | 2            | 0.25850542   | 2.006403e-01 | 0.1682324    |\n",
       "| 10           |  5           | 2            | 0.28158400   | 1.477750e-01 | 0.1660932    |\n",
       "| 11           |  5           | 6            | 0.07514248   | 3.117276e-01 | 0.1691834    |\n",
       "| 12           | 13           | 5            | 0.05134431   | 2.074424e-01 | 0.1687106    |\n",
       "| 13           |  8           | 6            | 0.05000000   | 2.220446e-16 | 0.1679876    |\n",
       "| 14           | 14           | 7            | 0.11017667   | 3.122176e-01 | 0.1679088    |\n",
       "| 15           |  3           | 5            | 0.19559944   | 2.838491e-01 | 0.1671634    |\n",
       "| 16           |  7           | 3            | 0.27799387   | 3.195761e-01 | 0.1670748    |\n",
       "| 17           | 12           | 7            | 0.07076874   | 1.002607e-01 | 0.1690064    |\n",
       "| 18           | 10           | 7            | 0.18046299   | 1.239510e-01 | 0.1673892    |\n",
       "| 19           |  4           | 6            | 0.06705794   | 3.632550e-01 | 0.1678492    |\n",
       "| 20           |  5           | 5            | 0.23364743   | 2.801779e-01 | 0.1669612    |\n",
       "\n"
      ],
      "text/plain": [
       "   Round max_depth min_child_weight eta        gamma        Value    \n",
       "1   1    10        6                0.27433871 3.965552e-02 0.1678812\n",
       "2   2     4        6                0.21047853 3.314499e-01 0.1685486\n",
       "3   3     5        5                0.26499207 3.638495e-01 0.1676472\n",
       "4   4    11        5                0.11324031 3.535268e-01 0.1687902\n",
       "5   5     5        5                0.27523709 2.197864e-01 0.1681124\n",
       "6   6    12        2                0.10558071 3.766433e-01 0.1683930\n",
       "7   7    13        6                0.15469901 2.533106e-01 0.1682302\n",
       "8   8     9        1                0.29712824 8.060083e-03 0.1681588\n",
       "9   9     7        2                0.25850542 2.006403e-01 0.1682324\n",
       "10 10     5        2                0.28158400 1.477750e-01 0.1660932\n",
       "11 11     5        6                0.07514248 3.117276e-01 0.1691834\n",
       "12 12    13        5                0.05134431 2.074424e-01 0.1687106\n",
       "13 13     8        6                0.05000000 2.220446e-16 0.1679876\n",
       "14 14    14        7                0.11017667 3.122176e-01 0.1679088\n",
       "15 15     3        5                0.19559944 2.838491e-01 0.1671634\n",
       "16 16     7        3                0.27799387 3.195761e-01 0.1670748\n",
       "17 17    12        7                0.07076874 1.002607e-01 0.1690064\n",
       "18 18    10        7                0.18046299 1.239510e-01 0.1673892\n",
       "19 19     4        6                0.06705794 3.632550e-01 0.1678492\n",
       "20 20     5        5                0.23364743 2.801779e-01 0.1669612"
      ]
     },
     "metadata": {},
     "output_type": "display_data"
    }
   ],
   "source": [
    "xgb.mono.cv.bayes.opt$History"
   ]
  },
  {
   "cell_type": "markdown",
   "metadata": {},
   "source": [
    "**Bayesian Optimization Best Parameters**"
   ]
  },
  {
   "cell_type": "code",
   "execution_count": 21,
   "metadata": {},
   "outputs": [
    {
     "data": {
      "text/html": [
       "<dl class=dl-horizontal>\n",
       "\t<dt>max_depth</dt>\n",
       "\t\t<dd>5</dd>\n",
       "\t<dt>min_child_weight</dt>\n",
       "\t\t<dd>6</dd>\n",
       "\t<dt>eta</dt>\n",
       "\t\t<dd>0.0751424812491867</dd>\n",
       "\t<dt>gamma</dt>\n",
       "\t\t<dd>0.311727586073164</dd>\n",
       "</dl>\n"
      ],
      "text/latex": [
       "\\begin{description*}\n",
       "\\item[max\\textbackslash{}\\_depth] 5\n",
       "\\item[min\\textbackslash{}\\_child\\textbackslash{}\\_weight] 6\n",
       "\\item[eta] 0.0751424812491867\n",
       "\\item[gamma] 0.311727586073164\n",
       "\\end{description*}\n"
      ],
      "text/markdown": [
       "max_depth\n",
       ":   5min_child_weight\n",
       ":   6eta\n",
       ":   0.0751424812491867gamma\n",
       ":   0.311727586073164\n",
       "\n"
      ],
      "text/plain": [
       "       max_depth min_child_weight              eta            gamma \n",
       "      5.00000000       6.00000000       0.07514248       0.31172759 "
      ]
     },
     "metadata": {},
     "output_type": "display_data"
    }
   ],
   "source": [
    "xgb.mono.cv.bayes.opt$Best_Par"
   ]
  },
  {
   "cell_type": "markdown",
   "metadata": {},
   "source": [
    "**Set Optimal # Rounds**"
   ]
  },
  {
   "cell_type": "code",
   "execution_count": 22,
   "metadata": {},
   "outputs": [
    {
     "data": {
      "text/html": [
       "229"
      ],
      "text/latex": [
       "229"
      ],
      "text/markdown": [
       "229"
      ],
      "text/plain": [
       "[1] 229"
      ]
     },
     "metadata": {},
     "output_type": "display_data"
    }
   ],
   "source": [
    "xgb.mono.cv.bayes.opt.nrounds <- xgb.mono.cv.bayes.opt$Pred[[which.max(xgb.mono.cv.bayes.opt$History$Value)]]\n",
    "xgb.mono.cv.bayes.opt.nrounds"
   ]
  },
  {
   "cell_type": "markdown",
   "metadata": {},
   "source": [
    "#### 4.1.2) Perform Cost Sensitive Learning with Cross Validation on the Training Data Sample"
   ]
  },
  {
   "cell_type": "markdown",
   "metadata": {},
   "source": [
    "**Objective Functions to Test**"
   ]
  },
  {
   "cell_type": "code",
   "execution_count": 23,
   "metadata": {},
   "outputs": [],
   "source": [
    "#To Minimize\n",
    "getCost <- function(obs, pred, threshold = 0.5) {\n",
    "    tp_num <- sum(obs == 1 & obs == pred) #No Value assigned\n",
    "    tn_num <- sum(obs == 0 & obs == pred) #No Value assigned\n",
    "    fp_num <- sum(obs == 0 & obs != pred) #Value of median loan_amnt \n",
    "    fn_num <- sum(obs == 1 & obs != pred) #Value of median returns\n",
    "    profit <- (tn_num * mreturns) + (fn_num * mloan_amnt)\n",
    "    return(profit)\n",
    "}\n",
    "\n",
    "#To Maximize\n",
    "getProfit <- function(obs, pred, threshold = 0.5) {\n",
    "    pred <- ifelse(pred >= threshold, 1, 0)\n",
    "    tp_num <- sum(obs == 1 & obs == pred) #No Value assigned\n",
    "    tn_num <- sum(obs == 0 & obs == pred) #Value of median returns\n",
    "    fp_num <- sum(obs == 0 & obs != pred) #No Value assigned\n",
    "    fn_num <- sum(obs == 1 & obs != pred) #Value of median loan_amnt\n",
    "    #print(sprintf(\"%s, %s, %s, %s\", tp_num, tn_num, fp_num, fn_num))\n",
    "    profit <- (tn_num * mreturns) - (fn_num * mloan_amnt)\n",
    "    return(profit)\n",
    "}\n",
    "\n",
    "# Predict non-returning for everyone\n",
    "getBenchmarkProfit <- function(obs) { \n",
    "  n <- length(obs)\n",
    "  getProfit(obs, rep(0, times = n))\n",
    "}\n",
    "\n",
    "getLift <- function(probs, labels, thresh) {\n",
    "    pred_profit <- as.numeric(getProfit(obs = labels,\n",
    "                                      pred = probs,\n",
    "                                      threshold = thresh))\n",
    "    naive_profit <- as.numeric(getBenchmarkProfit(labels))\n",
    "    profit_lift <- pred_profit/naive_profit\n",
    "    #print(sprintf(\"%.2f / %.2f = %.4f\", pred_profit, naive_profit, profit_lift))\n",
    "    return(profit_lift)\n",
    "}"
   ]
  },
  {
   "cell_type": "markdown",
   "metadata": {},
   "source": [
    "**Custom Cost Sensitive Learning Function**"
   ]
  },
  {
   "cell_type": "code",
   "execution_count": 24,
   "metadata": {},
   "outputs": [],
   "source": [
    "CSL <- function(params, data, nfold, nrounds, tstart, tend, tinterval, feval = \"lift\", verbose = FALSE, print_every_n = 50){\n",
    "    thresholds <- seq(tstart, tend, by = tinterval)\n",
    "    performance <- vector(length = length(thresholds))\n",
    "    for(i in 1:length(thresholds)) {\n",
    "        print(paste(i, \":\", thresholds[i]))\n",
    "        xgb.getCost <- function(preds, dtrain) {\n",
    "            labels <- getinfo(dtrain, \"label\")\n",
    "            cost <- getCost(labels, preds, thresholds[i])\n",
    "            return(list(metric = \"Cost\", value = cost))\n",
    "        }\n",
    "        xgb.getLift <- function(preds, dtrain) {\n",
    "            labels <- getinfo(dtrain, \"label\")\n",
    "            lift <- getLift(preds, labels, thresholds[i])\n",
    "            return(list(metric = \"Lift\", value = lift))\n",
    "        }\n",
    "        # train the model again using the current threshold \n",
    "        if (feval == \"lift\"){\n",
    "            xgb.csl <- xgb.cv(params = params, data = data, nfold = nfold,\n",
    "                            nrounds = nrounds, feval = xgb.getLift, maximize = TRUE, \n",
    "                            early_stopping_rounds = 10, verbose = verbose, print_every_n = print_every_n)   \n",
    "        }else{\n",
    "            xgb.csl <- xgb.cv(params = params, data = data, nfold = nfold,\n",
    "                            nrounds = nrounds, feval = xgb.getCost, maximize = FALSE, \n",
    "                            early_stopping_rounds = 10, verbose = verbose, print_every_n = print_every_n)  \n",
    "        }\n",
    "        # store results\n",
    "        performance[i] <- as.data.frame(xgb.csl$evaluation_log)[xgb.csl$best_iteration,4]\n",
    "    }\n",
    "    return(list(\"thresholds\" = thresholds, \"performance\" = performance))\n",
    "}"
   ]
  },
  {
   "cell_type": "markdown",
   "metadata": {},
   "source": [
    "**Run CSL on a 0.003 threshold interval**"
   ]
  },
  {
   "cell_type": "code",
   "execution_count": 25,
   "metadata": {},
   "outputs": [
    {
     "name": "stdout",
     "output_type": "stream",
     "text": [
      "[1] \"1 : 0.1\"\n",
      "[1] \"2 : 0.13\"\n",
      "[1] \"3 : 0.16\"\n",
      "[1] \"4 : 0.19\"\n",
      "[1] \"5 : 0.22\"\n",
      "[1] \"6 : 0.25\"\n",
      "[1] \"7 : 0.28\"\n",
      "[1] \"8 : 0.31\"\n",
      "[1] \"9 : 0.34\"\n",
      "[1] \"10 : 0.37\"\n",
      "[1] \"11 : 0.4\"\n",
      "[1] \"12 : 0.43\"\n",
      "[1] \"13 : 0.46\"\n",
      "[1] \"14 : 0.49\"\n",
      "[1] \"15 : 0.52\"\n",
      "[1] \"16 : 0.55\"\n",
      "[1] \"17 : 0.58\"\n",
      "[1] \"18 : 0.61\"\n",
      "[1] \"19 : 0.64\"\n",
      "[1] \"20 : 0.67\"\n",
      "Time difference of 1.852866 mins\n"
     ]
    }
   ],
   "source": [
    "params <- list(\n",
    "                objective = \"binary:logistic\",\n",
    "                eta = xgb.mono.cv.bayes.opt$Best_Par[\"eta\"],\n",
    "                max_depth = xgb.mono.cv.bayes.opt$Best_Par[\"max_depth\"],\n",
    "                gamma = xgb.mono.cv.bayes.opt$Best_Par[\"gamma\"],\n",
    "                min_child_weight = xgb.mono.cv.bayes.opt$Best_Par[\"min_child_weight\"],\n",
    "                subsample = 0.75,\n",
    "                colsample_bytree = 1,\n",
    "                monotone_constraints = mono\n",
    "              )\n",
    "stime <- Sys.time()\n",
    "xgb.mono.CSL.cv.opt1 <- CSL(params, dtrain.samp.1hot, 5, xgb.mono.cv.bayes.opt.nrounds, \n",
    "                           0.1, 0.69, 0.03, feval = \"lift\")\n",
    "print(Sys.time() - stime)"
   ]
  },
  {
   "cell_type": "markdown",
   "metadata": {},
   "source": [
    "**Plot the lift for every threshold in the 0.10-0.69 range**"
   ]
  },
  {
   "cell_type": "code",
   "execution_count": 26,
   "metadata": {},
   "outputs": [
    {
     "data": {
      "image/png": "[encoded data removed]",
      "text/plain": [
       "plot without title"
      ]
     },
     "metadata": {},
     "output_type": "display_data"
    }
   ],
   "source": [
    "xgb.mono.CSL.cv.opt1.df <- as.data.frame(xgb.mono.CSL.cv.opt1)\n",
    "ggplot(xgb.mono.CSL.cv.opt1.df, aes(x = thresholds, y = performance)) +\n",
    "  geom_line() +\n",
    "  labs(title = \"Profit lift over naïve predictions using XGBoost\",\n",
    "          x = \"Threshold\", y = \"Lift over naive profit\")"
   ]
  },
  {
   "cell_type": "markdown",
   "metadata": {},
   "source": [
    "**Set Optimal Threshold for CSL on a 0.03 scale**"
   ]
  },
  {
   "cell_type": "code",
   "execution_count": 27,
   "metadata": {},
   "outputs": [
    {
     "data": {
      "text/html": [
       "0.25"
      ],
      "text/latex": [
       "0.25"
      ],
      "text/markdown": [
       "0.25"
      ],
      "text/plain": [
       "[1] 0.25"
      ]
     },
     "metadata": {},
     "output_type": "display_data"
    }
   ],
   "source": [
    "xgb.mono.CSL.cv.opt1.threshold <- xgb.mono.CSL.cv.opt1.df$thresholds[which.max(xgb.mono.CSL.cv.opt1.df$performance)]\n",
    "xgb.mono.CSL.cv.opt1.threshold"
   ]
  },
  {
   "cell_type": "markdown",
   "metadata": {},
   "source": [
    "**Get more granular at a 0.005 threshold level**"
   ]
  },
  {
   "cell_type": "code",
   "execution_count": 28,
   "metadata": {},
   "outputs": [
    {
     "name": "stdout",
     "output_type": "stream",
     "text": [
      "[1] \"1 : 0.22\"\n",
      "[1] \"2 : 0.225\"\n",
      "[1] \"3 : 0.23\"\n",
      "[1] \"4 : 0.235\"\n",
      "[1] \"5 : 0.24\"\n",
      "[1] \"6 : 0.245\"\n",
      "[1] \"7 : 0.25\"\n",
      "[1] \"8 : 0.255\"\n",
      "[1] \"9 : 0.26\"\n",
      "[1] \"10 : 0.265\"\n",
      "[1] \"11 : 0.27\"\n",
      "[1] \"12 : 0.275\"\n",
      "[1] \"13 : 0.28\"\n",
      "Time difference of 2.053602 mins\n"
     ]
    }
   ],
   "source": [
    "params <- list(\n",
    "                objective = \"binary:logistic\",\n",
    "                eta = xgb.mono.cv.bayes.opt$Best_Par[\"eta\"],\n",
    "                max_depth = xgb.mono.cv.bayes.opt$Best_Par[\"max_depth\"],\n",
    "                gamma = xgb.mono.cv.bayes.opt$Best_Par[\"gamma\"],\n",
    "                min_child_weight = xgb.mono.cv.bayes.opt$Best_Par[\"min_child_weight\"],\n",
    "                subsample = 0.75,\n",
    "                colsample_bytree = 1,\n",
    "                monotone_constraints = mono\n",
    "              )\n",
    "stime <- Sys.time()\n",
    "xgb.mono.CSL.cv.opt2 <- CSL(params, dtrain.samp.1hot, 5, xgb.mono.cv.bayes.opt.nrounds, \n",
    "                           xgb.mono.CSL.cv.opt1.threshold - 0.03, xgb.mono.CSL.cv.opt1.threshold + 0.03, 0.005, feval = \"lift\")\n",
    "print(Sys.time() - stime)"
   ]
  },
  {
   "cell_type": "markdown",
   "metadata": {},
   "source": [
    "**Plot the lift for every threshold in the 0.13-0.19 range**"
   ]
  },
  {
   "cell_type": "code",
   "execution_count": 29,
   "metadata": {},
   "outputs": [
    {
     "data": {
      "image/png": "[encoded data removed]",
      "text/plain": [
       "plot without title"
      ]
     },
     "metadata": {},
     "output_type": "display_data"
    }
   ],
   "source": [
    "xgb.mono.CSL.cv.opt2.df <- as.data.frame(xgb.mono.CSL.cv.opt2)\n",
    "ggplot(xgb.mono.CSL.cv.opt2.df, aes(x = thresholds, y = performance)) +\n",
    "  geom_line() +\n",
    "  labs(title = \"Profit lift over naïve predictions using XGBoost\",\n",
    "          x = \"Threshold\", y = \"Lift over naive profit\")"
   ]
  },
  {
   "cell_type": "markdown",
   "metadata": {},
   "source": [
    "**Set Optimal Threshold for CSL on a 0.005 scale**"
   ]
  },
  {
   "cell_type": "code",
   "execution_count": 30,
   "metadata": {},
   "outputs": [
    {
     "data": {
      "text/html": [
       "0.22"
      ],
      "text/latex": [
       "0.22"
      ],
      "text/markdown": [
       "0.22"
      ],
      "text/plain": [
       "[1] 0.22"
      ]
     },
     "metadata": {},
     "output_type": "display_data"
    }
   ],
   "source": [
    "xgb.mono.CSL.cv.opt2.threshold <- xgb.mono.CSL.cv.opt2.df$thresholds[which.max(xgb.mono.CSL.cv.opt2.df$performance)]\n",
    "xgb.mono.CSL.cv.opt2.threshold"
   ]
  },
  {
   "cell_type": "markdown",
   "metadata": {},
   "source": [
    "#### 4.1.3) Run & Test XGBoost on Optimal Params but on Full Training Set"
   ]
  },
  {
   "cell_type": "markdown",
   "metadata": {},
   "source": [
    "**Set Optimal Params for Monotonic**"
   ]
  },
  {
   "cell_type": "code",
   "execution_count": 31,
   "metadata": {},
   "outputs": [],
   "source": [
    "xgb.mono.cv.bayes.opt.params <- list(\n",
    "    booster = \"gbtree\",\n",
    "    max_depth = xgb.mono.cv.bayes.opt$Best_Par[\"max_depth\"],\n",
    "    min_child_weight = xgb.mono.cv.bayes.opt$Best_Par[\"min_child_weight\"],\n",
    "    eta = xgb.mono.cv.bayes.opt$Best_Par[\"eta\"],\n",
    "    gamma = xgb.mono.cv.bayes.opt$Best_Par[\"gamma\"],\n",
    "    subsample = 0.9, #xgb.mono.cv.bayes.opt$Best_Par[\"subsample\"],\n",
    "    colsample_bytree = 0.8, #xgb.mono.cv.bayes.opt$Best_Par[\"colsample_bytree\"],\n",
    "    #max_delta_step = xgb.mono.cv.bayes.opt$Best_Par[\"max_delta_step\"], \n",
    "    objective = \"binary:logistic\",\n",
    "    eval_metric=c(\"logloss\", \"auc\", \"aucpr\", \"error\"),\n",
    "    monotone_constraints = mono\n",
    ")"
   ]
  },
  {
   "cell_type": "markdown",
   "metadata": {},
   "source": [
    "**Train model on full training set**"
   ]
  },
  {
   "cell_type": "code",
   "execution_count": 32,
   "metadata": {},
   "outputs": [
    {
     "name": "stdout",
     "output_type": "stream",
     "text": [
      "Time difference of 1.539833 mins\n"
     ]
    }
   ],
   "source": [
    "stime <- Sys.time()\n",
    "xgb.mono.opt.mdl <- xgb.train (params = xgb.mono.cv.bayes.opt.params, nrounds = xgb.mono.cv.bayes.opt.nrounds, data = dtrain.1hot, \n",
    "                              verbose=1, print_every_n=5)\n",
    "print(Sys.time() - stime)"
   ]
  },
  {
   "cell_type": "markdown",
   "metadata": {},
   "source": [
    "**Get Predictions using Test Dataset**"
   ]
  },
  {
   "cell_type": "code",
   "execution_count": 33,
   "metadata": {},
   "outputs": [],
   "source": [
    "xgb.mono.opt.pred <- predict(xgb.mono.opt.mdl, as.matrix(x_test.1hot))"
   ]
  },
  {
   "cell_type": "markdown",
   "metadata": {},
   "source": [
    "**Plot ROC Curve**"
   ]
  },
  {
   "cell_type": "code",
   "execution_count": 34,
   "metadata": {},
   "outputs": [],
   "source": [
    "xgb.mono.opt.pred.fg <- xgb.mono.opt.pred[y_test$default==TRUE]\n",
    "xgb.mono.opt.pred.bg <- xgb.mono.opt.pred[y_test$default==FALSE]"
   ]
  },
  {
   "cell_type": "code",
   "execution_count": 35,
   "metadata": {},
   "outputs": [
    {
     "data": {
      "image/png": "[encoded data removed]",
      "text/plain": [
       "Plot with title “ROC curve\n",
       "AUC = 0.8020836”"
      ]
     },
     "metadata": {},
     "output_type": "display_data"
    }
   ],
   "source": [
    "xgb.mono.opt.roc <- roc.curve(scores.class0 = xgb.mono.opt.pred.fg, scores.class1 = xgb.mono.opt.pred.bg, curve = T)\n",
    "plot(xgb.mono.opt.roc)"
   ]
  },
  {
   "cell_type": "code",
   "execution_count": 36,
   "metadata": {},
   "outputs": [
    {
     "data": {
      "image/png": "[encoded data removed]",
      "text/plain": [
       "Plot with title “PR curve\n",
       "AUC = 0.1742085”"
      ]
     },
     "metadata": {},
     "output_type": "display_data"
    }
   ],
   "source": [
    "xgb.mono.opt.prc <- pr.curve(scores.class0 = xgb.mono.opt.pred.fg, scores.class1 = xgb.mono.opt.pred.bg, curve = T)\n",
    "plot(xgb.mono.opt.prc)"
   ]
  },
  {
   "cell_type": "markdown",
   "metadata": {},
   "source": [
    "**Calculate AUC**"
   ]
  },
  {
   "cell_type": "code",
   "execution_count": 37,
   "metadata": {},
   "outputs": [
    {
     "data": {
      "text/html": [
       "0.802083551770671"
      ],
      "text/latex": [
       "0.802083551770671"
      ],
      "text/markdown": [
       "0.802083551770671"
      ],
      "text/plain": [
       "Area under the curve: 0.8021"
      ]
     },
     "metadata": {},
     "output_type": "display_data"
    }
   ],
   "source": [
    "xgb.mono.opt.auc <- auc(roc(y_test$default, xgb.mono.opt.pred))\n",
    "xgb.mono.opt.auc"
   ]
  },
  {
   "cell_type": "markdown",
   "metadata": {},
   "source": [
    "**Calculate F-score**"
   ]
  },
  {
   "cell_type": "code",
   "execution_count": 38,
   "metadata": {},
   "outputs": [
    {
     "data": {
      "text/html": [
       "0.965138839794195"
      ],
      "text/latex": [
       "0.965138839794195"
      ],
      "text/markdown": [
       "0.965138839794195"
      ],
      "text/plain": [
       "[1] 0.9651388"
      ]
     },
     "metadata": {},
     "output_type": "display_data"
    }
   ],
   "source": [
    "xgb.mono.opt.f1 <- F1_Score(ifelse(xgb.mono.opt.pred > xgb.mono.CSL.cv.opt2.threshold, 1, 0), ifelse(y_test$default, 1, 0), positive = \"0\")\n",
    "xgb.mono.opt.f1"
   ]
  },
  {
   "cell_type": "markdown",
   "metadata": {},
   "source": [
    "**Generate and Save Confusion Matrix**"
   ]
  },
  {
   "cell_type": "code",
   "execution_count": 99,
   "metadata": {},
   "outputs": [
    {
     "data": {
      "text/plain": [
       "Confusion Matrix and Statistics\n",
       "\n",
       "       \n",
       "         FALSE   TRUE\n",
       "  FALSE 120939   5662\n",
       "  TRUE    4683   1401\n",
       "                                          \n",
       "               Accuracy : 0.922           \n",
       "                 95% CI : (0.9206, 0.9235)\n",
       "    No Information Rate : 0.9468          \n",
       "    P-Value [Acc > NIR] : 1               \n",
       "                                          \n",
       "                  Kappa : 0.1724          \n",
       "                                          \n",
       " Mcnemar's Test P-Value : <2e-16          \n",
       "                                          \n",
       "            Sensitivity : 0.9627          \n",
       "            Specificity : 0.1984          \n",
       "         Pos Pred Value : 0.9553          \n",
       "         Neg Pred Value : 0.2303          \n",
       "             Prevalence : 0.9468          \n",
       "         Detection Rate : 0.9115          \n",
       "   Detection Prevalence : 0.9541          \n",
       "      Balanced Accuracy : 0.5805          \n",
       "                                          \n",
       "       'Positive' Class : FALSE           \n",
       "                                          "
      ]
     },
     "metadata": {},
     "output_type": "display_data"
    }
   ],
   "source": [
    "xgb.mono.opt.cm <- confusionMatrix(table(xgb.mono.opt.pred > xgb.mono.CSL.cv.opt2.threshold, y_test$default))\n",
    "xgb.mono.opt.cm"
   ]
  },
  {
   "cell_type": "markdown",
   "metadata": {},
   "source": [
    "**Calculate Feature Importance/Influence**"
   ]
  },
  {
   "cell_type": "code",
   "execution_count": 40,
   "metadata": {},
   "outputs": [
    {
     "name": "stdout",
     "output_type": "stream",
     "text": [
      "                                   Feature         Gain        Cover\n",
      " 1:                               int_rate 3.027121e-01 1.782937e-01\n",
      " 2: quantity_indexes_for_real_gdp_by_state 2.068279e-01 1.417588e-01\n",
      " 3:                  initial_list_status_F 7.374966e-02 5.085524e-02\n",
      " 4:                      real_gdp_by_state 7.209323e-02 7.430250e-02\n",
      " 5:                              subsidies 4.951181e-02 7.041468e-02\n",
      " 6:                             annual_inc 4.227995e-02 6.046599e-02\n",
      " 7:        taxes_on_production_and_imports 3.945428e-02 5.534083e-02\n",
      " 8:                                  month 3.533584e-02 5.114343e-02\n",
      " 9:              compensation_of_employees 3.286279e-02 3.411792e-02\n",
      "10:                gross_operating_surplus 2.654717e-02 4.502726e-02\n",
      "11:           per_capita_real_gdp_by_state 2.558498e-02 1.976713e-02\n",
      "12:                  initial_list_status_W 1.765045e-02 1.035401e-02\n",
      "13:                            installment 8.888659e-03 4.567262e-02\n",
      "14:                 purpose_SMALL_BUSINESS 7.173686e-03 1.320090e-02\n",
      "15:                              term_36MO 6.503023e-03 4.005199e-03\n",
      "16:                              loan_amnt 5.043383e-03 2.581741e-02\n",
      "17:                                pub_rec 4.864500e-03 1.898334e-02\n",
      "18:                      regions_NORTHEAST 4.720719e-03 6.465372e-03\n",
      "19:                          regions_SOUTH 4.628777e-03 1.293321e-02\n",
      "20:                                grade_A 4.620581e-03 5.005653e-03\n",
      "21:                                    dti 4.596990e-03 1.818002e-02\n",
      "22:                                grade_C 3.823804e-03 2.806517e-03\n",
      "23:    verification_status_SOURCE_VERIFIED 3.587481e-03 8.253083e-03\n",
      "24:                    home_ownership_RENT 3.505520e-03 6.512509e-03\n",
      "25:                                grade_D 2.540288e-03 2.272825e-03\n",
      "26:                                grade_B 2.469486e-03 2.056896e-03\n",
      "27:           verification_status_VERIFIED 1.488504e-03 2.034986e-03\n",
      "28:                    purpose_CREDIT_CARD 1.444979e-03 8.446197e-03\n",
      "29:                        regions_MIDWEST 9.259492e-04 1.147194e-03\n",
      "30:                              term_60MO 7.354461e-04 3.585022e-04\n",
      "31:                               open_acc 7.317516e-04 5.848291e-03\n",
      "32:                              total_acc 6.770194e-04 4.073939e-03\n",
      "33:                                grade_E 6.694835e-04 1.151430e-03\n",
      "34:                         purpose_OTHERS 5.569151e-04 3.235785e-03\n",
      "35:                                grade_G 3.890044e-04 3.065135e-03\n",
      "36:                home_ownership_MORTGAGE 1.672388e-04 3.351336e-04\n",
      "37:                                grade_F 1.670830e-04 1.073847e-03\n",
      "38:            application_type_INDIVIDUAL 1.375226e-04 3.792757e-03\n",
      "39:                           regions_WEST 1.087301e-04 3.106067e-05\n",
      "40:       verification_status_NOT_VERIFIED 8.522641e-05 1.240782e-04\n",
      "41:                 purpose_MAJOR_PURCHASE 6.472281e-05 2.754687e-04\n",
      "42:                     home_ownership_OWN 3.476317e-05 8.340816e-04\n",
      "43:             purpose_DEBT_CONSOLIDATION 3.063491e-05 1.575558e-04\n",
      "44:               purpose_HOME_IMPROVEMENT 7.960177e-06 7.586465e-06\n",
      "                                   Feature         Gain        Cover\n",
      "       Frequency\n",
      " 1: 0.1041826554\n",
      " 2: 0.1036070606\n",
      " 3: 0.0253261704\n",
      " 4: 0.0688795088\n",
      " 5: 0.0757866462\n",
      " 6: 0.0711818880\n",
      " 7: 0.0644666155\n",
      " 8: 0.0673445894\n",
      " 9: 0.0496930161\n",
      "10: 0.0521872602\n",
      "11: 0.0427858787\n",
      "12: 0.0040291635\n",
      "13: 0.0602455871\n",
      "14: 0.0088257866\n",
      "15: 0.0051803530\n",
      "16: 0.0322333078\n",
      "17: 0.0111281658\n",
      "18: 0.0086339217\n",
      "19: 0.0099769762\n",
      "20: 0.0072908672\n",
      "21: 0.0353031466\n",
      "22: 0.0028779739\n",
      "23: 0.0069071374\n",
      "24: 0.0059478127\n",
      "25: 0.0028779739\n",
      "26: 0.0057559478\n",
      "27: 0.0026861090\n",
      "28: 0.0107444359\n",
      "29: 0.0055640829\n",
      "30: 0.0007674597\n",
      "31: 0.0132386800\n",
      "32: 0.0118956255\n",
      "33: 0.0017267843\n",
      "34: 0.0072908672\n",
      "35: 0.0017267843\n",
      "36: 0.0028779739\n",
      "37: 0.0021105142\n",
      "38: 0.0011511896\n",
      "39: 0.0009593246\n",
      "40: 0.0009593246\n",
      "41: 0.0017267843\n",
      "42: 0.0011511896\n",
      "43: 0.0005755948\n",
      "44: 0.0001918649\n",
      "       Frequency\n"
     ]
    }
   ],
   "source": [
    "xgb.mono.opt.imp <- xgb.importance(model = xgb.mono.opt.mdl)\n",
    "print(xgb.mono.opt.imp)"
   ]
  },
  {
   "cell_type": "markdown",
   "metadata": {},
   "source": [
    "**Plot Importance/Influence**"
   ]
  },
  {
   "cell_type": "code",
   "execution_count": 41,
   "metadata": {},
   "outputs": [
    {
     "data": {
      "image/png": "[encoded data removed]",
      "text/plain": [
       "plot without title"
      ]
     },
     "metadata": {},
     "output_type": "display_data"
    }
   ],
   "source": [
    "xgb.plot.importance(importance_matrix = xgb.mono.opt.imp)"
   ]
  },
  {
   "cell_type": "markdown",
   "metadata": {},
   "source": [
    "**Dump Tree**"
   ]
  },
  {
   "cell_type": "code",
   "execution_count": 42,
   "metadata": {},
   "outputs": [
    {
     "name": "stderr",
     "output_type": "stream",
     "text": [
      "Warning message:\n",
      "“'with.stats' is deprecated.\n",
      "Use 'with_stats' instead.\n",
      "See help(\"Deprecated\") and help(\"xgboost-deprecated\").”"
     ]
    },
    {
     "data": {
      "text/html": [
       "TRUE"
      ],
      "text/latex": [
       "TRUE"
      ],
      "text/markdown": [
       "TRUE"
      ],
      "text/plain": [
       "[1] TRUE"
      ]
     },
     "metadata": {},
     "output_type": "display_data"
    }
   ],
   "source": [
    "xgb.dump(xgb.mono.opt.mdl, with.stats = T, fname = \"./models/xgb.mono.opt.tree.costopt.txt\")"
   ]
  },
  {
   "cell_type": "markdown",
   "metadata": {},
   "source": [
    "**Save Model**"
   ]
  },
  {
   "cell_type": "code",
   "execution_count": 43,
   "metadata": {},
   "outputs": [
    {
     "data": {
      "text/html": [
       "TRUE"
      ],
      "text/latex": [
       "TRUE"
      ],
      "text/markdown": [
       "TRUE"
      ],
      "text/plain": [
       "[1] TRUE"
      ]
     },
     "metadata": {},
     "output_type": "display_data"
    }
   ],
   "source": [
    "xgb.save(xgb.mono.opt.mdl, \"./models/xgb.mono.opt.costopt.mdl\")"
   ]
  },
  {
   "cell_type": "markdown",
   "metadata": {},
   "source": [
    "**Partial Graph (for 3 top vars)**"
   ]
  },
  {
   "cell_type": "code",
   "execution_count": 44,
   "metadata": {},
   "outputs": [
    {
     "name": "stdout",
     "output_type": "stream",
     "text": [
      "Time difference of 11.43204 mins\n"
     ]
    }
   ],
   "source": [
    "stime <- Sys.time()\n",
    "xgb.mono.opt.mdl.1p <- partial(xgb.mono.opt.mdl, pred.var = \"int_rate\", train = x_train.1hot,\n",
    "                                 grid.resolution = 250, trim.outliers = FALSE, prob = TRUE, rug = TRUE, plot = TRUE)\n",
    "print(Sys.time() - stime)"
   ]
  },
  {
   "cell_type": "code",
   "execution_count": 45,
   "metadata": {},
   "outputs": [
    {
     "name": "stdout",
     "output_type": "stream",
     "text": [
      "Time difference of 11.97422 mins\n"
     ]
    }
   ],
   "source": [
    "stime <- Sys.time()\n",
    "xgb.mono.opt.mdl.2p <- partial(xgb.mono.opt.mdl, pred.var = \"quantity_indexes_for_real_gdp_by_state\", train = x_train.1hot,\n",
    "                                 grid.resolution = 250, trim.outliers = FALSE, prob = TRUE, rug = TRUE, plot = TRUE)\n",
    "print(Sys.time() - stime)"
   ]
  },
  {
   "cell_type": "code",
   "execution_count": 46,
   "metadata": {},
   "outputs": [
    {
     "name": "stdout",
     "output_type": "stream",
     "text": [
      "Time difference of 11.93448 mins\n"
     ]
    }
   ],
   "source": [
    "stime <- Sys.time()\n",
    "xgb.mono.opt.mdl.3p <- partial(xgb.mono.opt.mdl, pred.var = \"annual_inc\", train = x_train.1hot,\n",
    "                                 grid.resolution = 250, trim.outliers = FALSE, prob = TRUE, rug = TRUE, plot = TRUE)\n",
    "print(Sys.time() - stime)"
   ]
  },
  {
   "cell_type": "markdown",
   "metadata": {},
   "source": [
    "#### 4.1.4) Calculate Model Relative Losses"
   ]
  },
  {
   "cell_type": "markdown",
   "metadata": {},
   "source": [
    "**Losses ($L$)**: We cannot calculate the Loss Given Default (LGD) or Exposure to Default (EAD) precisely because we don't know what is the value of the collateral for each loan and administrative costs associated to a default so we are going to assume it's `loan_amnt` which is potentially a larger amount.\n",
    "\n",
    "**Returns ($R$)**: We cannot calculate the Return on Allocated Equity (ROE) precisely because to do this we would need to factor cost of funds, income taxes and other costs associated in producing this money but we can calculate how much money is _yielded by the interest of each loan_ should it go to full term. Although this can be calculated using the compounded annualized `int_rate` on the `loan_amnt` for the duration of the `term` and deduct the `loan_amnt`. It's far easier to just leverage the `installment` column like this:\n",
    "\n",
    "(`installment` * `term`) - `loan_amnt`\n",
    "\n",
    "So I devised a way to best depict the relative amount of losses like this:\n",
    "\n",
    "Cost Ratio = $\\Large{\\frac{L(FN) + R(FP)}{R(TN+FP)}}$ \n",
    "\n",
    "Which is the ratio produced by bad predictions over the total amount made by if everything was hypothetically a good prediction. In other words the total lost loan principals by false negatives plus the total lost in revenue by false positives over the total produced in revenue by all negatives (non-defaults).\n",
    "\n",
    "On the other hand, we also used the profit lift ratio which was used for Bayesian Optimization of the hyperparameter tuning of the model which is:\n",
    "\n",
    "Lift Ratio = $\\Large{\\frac{R(TN) - L(FN)}{\\text{naïve: } R(TN)  - L(FN)}}$ "
   ]
  },
  {
   "cell_type": "code",
   "execution_count": 252,
   "metadata": {},
   "outputs": [
    {
     "data": {
      "text/html": [
       "1.06899634171648"
      ],
      "text/latex": [
       "1.06899634171648"
      ],
      "text/markdown": [
       "1.06899634171648"
      ],
      "text/plain": [
       "[1] 1.068996"
      ]
     },
     "metadata": {},
     "output_type": "display_data"
    }
   ],
   "source": [
    "xgb.mono.opt.NIR <- sum(xgb.mono.opt.cm$table[,1])/sum(xgb.mono.opt.cm$table)\n",
    "xgb.mono.opt.costs <- ((xgb.mono.opt.cm$table[1,2]*mloan_amnt)+(xgb.mono.opt.cm$table[2,1]*mreturns))\n",
    "xgb.mono.opt.profits <- (xgb.mono.opt.cm$table[1,1]*mreturns) - (xgb.mono.opt.cm$table[1,2]*mloan_amnt)\n",
    "xgb.mono.opt.naive <- (round(xgb.mono.opt.NIR * sum(xgb.mono.opt.cm$table[1,]),0)*mreturns)-(round((1-xgb.mono.opt.NIR) * sum(xgb.mono.opt.cm$table[1,]),0)*mloan_amnt)\n",
    "xgb.mono.opt.best <- ((sum(xgb.mono.opt.cm$table[,1])*mreturns))\n",
    "xgb.mono.opt.worst <- (sum(xgb.mono.opt.cm$table[,1])*mreturns)+(sum(xgb.mono.opt.cm$table[,2])*mloan_amnt)\n",
    "xgb.mono.opt.lift.ratio <- xgb.mono.opt.profits / xgb.mono.opt.naive\n",
    "xgb.mono.opt.worst.ratio <- xgb.mono.opt.worst / xgb.mono.opt.best\n",
    "xgb.mono.opt.cost.ratio <- xgb.mono.opt.costs / xgb.mono.opt.best\n",
    "xgb.mono.opt.lift.ratio"
   ]
  },
  {
   "cell_type": "code",
   "execution_count": 251,
   "metadata": {},
   "outputs": [
    {
     "name": "stdout",
     "output_type": "stream",
     "text": [
      "[1] \"0.01 1.409876400308 350083389.6\"\n",
      "[1] \"0.0125 1.40476099777655 350083389.6\"\n",
      "[1] \"0.015 1.39806817121177 350083389.6\"\n",
      "[1] \"0.0175 1.39002593746939 350083389.6\"\n",
      "[1] \"0.02 1.38312932320217 350083389.6\"\n",
      "[1] \"0.0225 1.37634110485672 350083389.6\"\n",
      "[1] \"0.025 1.37081252805342 350083389.6\"\n",
      "[1] \"0.0275 1.36135863054007 350083389.6\"\n",
      "[1] \"0.03 1.35467836633666 350083389.6\"\n",
      "[1] \"0.0325 1.34598658885118 350083389.6\"\n",
      "[1] \"0.035 1.33950246258306 350083389.6\"\n",
      "[1] \"0.0375 1.33158705779945 350083389.6\"\n",
      "[1] \"0.04 1.3234302946327 350083389.6\"\n",
      "[1] \"0.0425 1.31718783461331 350083389.6\"\n",
      "[1] \"0.045 1.30912147085888 350083389.6\"\n",
      "[1] \"0.0475 1.30142119382327 350083389.6\"\n",
      "[1] \"0.05 1.29351866229479 350083389.6\"\n",
      "[1] \"0.0525 1.28661459415962 350083389.6\"\n",
      "[1] \"0.055 1.2799884281448 350083389.6\"\n",
      "[1] \"0.0575 1.27382582799561 350083389.6\"\n",
      "[1] \"0.06 1.26595559025385 350083389.6\"\n",
      "[1] \"0.0625 1.25761372863699 350083389.6\"\n",
      "[1] \"0.065 1.25222122925724 350083389.6\"\n",
      "[1] \"0.0675 1.24480951112471 350083389.6\"\n",
      "[1] \"0.07 1.24024927843063 350083389.6\"\n",
      "[1] \"0.0725 1.23404242427578 350083389.6\"\n",
      "[1] \"0.075 1.22681030688901 350083389.6\"\n",
      "[1] \"0.0775 1.22052642611127 350083389.6\"\n",
      "[1] \"0.08 1.21401979395203 350083389.6\"\n",
      "[1] \"0.0825 1.20822290972477 350083389.6\"\n",
      "[1] \"0.085 1.20217998528582 350083389.6\"\n",
      "[1] \"0.0875 1.19697325687664 350083389.6\"\n",
      "[1] \"0.09 1.19159623110165 350083389.6\"\n",
      "[1] \"0.0925 1.18715730554595 350083389.6\"\n",
      "[1] \"0.095 1.1806724346503 350083389.6\"\n",
      "[1] \"0.0975 1.17666711529883 350083389.6\"\n",
      "[1] \"0.1 1.17209687158147 350083389.6\"\n",
      "[1] \"0.1025 1.16846700042436 350083389.6\"\n",
      "[1] \"0.105 1.16425424423654 350083389.6\"\n",
      "[1] \"0.1075 1.16059824961802 350083389.6\"\n",
      "[1] \"0.11 1.15680161526119 350083389.6\"\n",
      "[1] \"0.1125 1.15254448920006 350083389.6\"\n",
      "[1] \"0.115 1.14767310270163 350083389.6\"\n",
      "[1] \"0.1175 1.14412770985821 350083389.6\"\n",
      "[1] \"0.12 1.14039131999958 350083389.6\"\n",
      "[1] \"0.1225 1.13603280334263 350083389.6\"\n",
      "[1] \"0.125 1.13250580630534 350083389.6\"\n",
      "[1] \"0.1275 1.12921351354219 350083389.6\"\n",
      "[1] \"0.13 1.12496207723095 350083389.6\"\n",
      "[1] \"0.1325 1.12189179847374 350083389.6\"\n",
      "[1] \"0.135 1.11866893820367 350083389.6\"\n",
      "[1] \"0.1375 1.1146450075213 350083389.6\"\n",
      "[1] \"0.14 1.11176914117607 350083389.6\"\n",
      "[1] \"0.1425 1.10851702399026 350083389.6\"\n",
      "[1] \"0.145 1.10573042871003 350083389.6\"\n",
      "[1] \"0.1475 1.10324943436642 350083389.6\"\n",
      "[1] \"0.15 1.10038194930031 350083389.6\"\n",
      "[1] \"0.1525 1.0976498274222 350083389.6\"\n",
      "[1] \"0.155 1.0946830643803 350083389.6\"\n",
      "[1] \"0.1575 1.09132837141406 350083389.6\"\n",
      "[1] \"0.16 1.08905575354916 350083389.6\"\n",
      "[1] \"0.1625 1.08650413341411 350083389.6\"\n",
      "[1] \"0.165 1.08402438605279 350083389.6\"\n",
      "[1] \"0.1675 1.08234387438483 350083389.6\"\n",
      "[1] \"0.17 1.08028480183457 350083389.6\"\n",
      "[1] \"0.1725 1.07791053501335 350083389.6\"\n",
      "[1] \"0.175 1.07568660349523 350083389.6\"\n",
      "[1] \"0.1775 1.07339705637875 350083389.6\"\n",
      "[1] \"0.18 1.07184967418138 350083389.6\"\n",
      "[1] \"0.1825 1.07045110602949 350083389.6\"\n",
      "[1] \"0.185 1.06899634171648 350083389.6\"\n",
      "[1] \"0.1875 1.06729327270874 350083389.6\"\n",
      "[1] \"0.19 1.06526689367374 350083389.6\"\n",
      "[1] \"0.1925 1.06356785254297 350083389.6\"\n",
      "[1] \"0.195 1.06149694221164 350083389.6\"\n",
      "[1] \"0.1975 1.06052133402739 350083389.6\"\n",
      "[1] \"0.2 1.05878860046426 350083389.6\"\n",
      "[1] \"0.2025 1.05763353010111 350083389.6\"\n",
      "[1] \"0.205 1.05610010877781 350083389.6\"\n",
      "[1] \"0.2075 1.05444532874239 350083389.6\"\n",
      "[1] \"0.21 1.05311776780104 350083389.6\"\n",
      "[1] \"0.2125 1.05141616459922 350083389.6\"\n",
      "[1] \"0.215 1.04959209052774 350083389.6\"\n",
      "[1] \"0.2175 1.04795964618718 350083389.6\"\n",
      "[1] \"0.22 1.04684387436562 350083389.6\"\n",
      "[1] \"0.2225 1.045278011452 350083389.6\"\n",
      "[1] \"0.225 1.04334630601027 350083389.6\"\n",
      "[1] \"0.2275 1.04180267209709 350083389.6\"\n",
      "[1] \"0.23 1.04044671543041 350083389.6\"\n",
      "[1] \"0.2325 1.03940965269982 350083389.6\"\n",
      "[1] \"0.235 1.03793848410123 350083389.6\"\n",
      "[1] \"0.2375 1.03640844771093 350083389.6\"\n",
      "[1] \"0.24 1.03500444005362 350083389.6\"\n",
      "[1] \"0.2425 1.03379284715003 350083389.6\"\n",
      "[1] \"0.245 1.03245602056656 350083389.6\"\n",
      "[1] \"0.2475 1.03099594879287 350083389.6\"\n",
      "[1] \"0.25 1.02985046569855 350083389.6\"\n",
      "[1] \"0.2525 1.02889712146524 350083389.6\"\n",
      "[1] \"0.255 1.02788150054945 350083389.6\"\n",
      "[1] \"0.2575 1.02668751806403 350083389.6\"\n",
      "[1] \"0.26 1.02567714361087 350083389.6\"\n",
      "[1] \"0.2625 1.02473209788885 350083389.6\"\n",
      "[1] \"0.265 1.02366583139579 350083389.6\"\n",
      "[1] \"0.2675 1.02290745201237 350083389.6\"\n",
      "[1] \"0.27 1.02203056966916 350083389.6\"\n",
      "[1] \"0.2725 1.02127533663369 350083389.6\"\n",
      "[1] \"0.275 1.0208310357199 350083389.6\"\n",
      "[1] \"0.2775 1.02007759186989 350083389.6\"\n",
      "[1] \"0.28 1.01957654140483 350083389.6\"\n",
      "[1] \"0.2825 1.01870400896942 350083389.6\"\n",
      "[1] \"0.285 1.01826287995648 350083389.6\"\n",
      "[1] \"0.2875 1.01733041121599 350083389.6\"\n",
      "[1] \"0.29 1.01670566701812 350083389.6\"\n",
      "[1] \"0.2925 1.01614442393389 350083389.6\"\n",
      "[1] \"0.295 1.01558475781979 350083389.6\"\n",
      "[1] \"0.2975 1.01490105575409 350083389.6\"\n",
      "[1] \"0.3 1.01446662590382 350083389.6\"\n"
     ]
    },
    {
     "data": {
      "text/html": [
       "1.409876400308"
      ],
      "text/latex": [
       "1.409876400308"
      ],
      "text/markdown": [
       "1.409876400308"
      ],
      "text/plain": [
       "[1] 1.409876"
      ]
     },
     "metadata": {},
     "output_type": "display_data"
    }
   ],
   "source": [
    "threshs <- seq(0.01, 0.3, by = 0.0025)\n",
    "crs <- c()\n",
    "rets <- c()\n",
    "for(i in 1:length(threshs)) {\n",
    "    cm <- confusionMatrix(table(xgb.mono.opt.pred > threshs[i], y_test$default))\n",
    "    nir <- sum(cm$table[,1])/sum(cm$table)\n",
    "    cr <-  ((cm$table[1,2]*mloan_amnt)+(cm$table[2,1]*mreturns)) / (sum(cm$table[,1])*mreturns)\n",
    "    pr <-  (cm$table[1,1]*mreturns) - (cm$table[1,2]*mloan_amnt)\n",
    "    nv <- (round(nir * sum(cm$table[1,]),0)*mreturns)-(round((1-nir) * sum(cm$table[1,]),0)*mloan_amnt)\n",
    "    print(paste(threshs[i],pr/nv,sum(cm$table[,1])*mreturns))\n",
    "    crs <- c(crs,pr/nv)\n",
    "    rets <- c(rets, sum(cm$table[1,])*mreturns)\n",
    "}\n",
    "max(crs) #xgb.mono.CSL.cv.opt2.threshold = 0.185"
   ]
  },
  {
   "cell_type": "markdown",
   "metadata": {},
   "source": [
    "### 4.2) Non-Monotonic Constrained XGBoost"
   ]
  },
  {
   "cell_type": "markdown",
   "metadata": {},
   "source": [
    "#### 4.2.1) Perform Hyperparameter Tuning with Bayesian Optimization and Cross Validation on the Training Data Sample\n",
    "\n",
    "Optimize the PR AUC"
   ]
  },
  {
   "cell_type": "code",
   "execution_count": 53,
   "metadata": {},
   "outputs": [],
   "source": [
    "xgb.cv.bayes <- function(nround, max_depth, min_child_weight, eta, gamma) { # subsample, colsample_bytree, max_delta_step\n",
    "    params <- list(\n",
    "                    booster = \"gbtree\", #\"gblinear\", \"dart\"\n",
    "                    max_depth = max_depth,\n",
    "                    min_child_weight = min_child_weight,\n",
    "                    eta = eta,\n",
    "                    gamma = gamma,\n",
    "                    subsample = 0.9, #subsample, \n",
    "                    colsample_bytree = 0.8, #colsample_bytree,\n",
    "                    #max_delta_step = max_delta_step,\n",
    "                    #lambda = 1, \n",
    "                    #alpha = 0,\n",
    "                    objective = \"binary:logistic\",\n",
    "                    eval_metric = \"aucpr\"\n",
    "                 )\n",
    "    cv <- xgb.cv(params = params, data = dtrain.samp.1hot, folds = cv_folds, nrounds = 500, \n",
    "                 early_stopping_rounds = 10, maximize = TRUE, verbose = TRUE, print_every_n=20)\n",
    "    return(list(Score = cv$evaluation_log$test_aucpr_mean[cv$best_iteration], Pred=cv$best_iteration))\n",
    "}"
   ]
  },
  {
   "cell_type": "code",
   "execution_count": 54,
   "metadata": {},
   "outputs": [
    {
     "name": "stdout",
     "output_type": "stream",
     "text": [
      "\n",
      " Best Parameters Found: \n",
      "Round = 12\tmax_depth = 3.0000\tmin_child_weight = 3.0000\teta = 0.0500\tgamma = 0.1518\tValue = 0.1829 \n",
      "Time difference of 13.98026 mins\n"
     ]
    }
   ],
   "source": [
    "stime <- Sys.time()\n",
    "xgb.cv.bayes.opt <- BayesianOptimization(xgb.cv.bayes,\n",
    "                              bounds = list(max_depth = c(3L, 15L), \n",
    "                                            min_child_weight = c(1L, 7L),\n",
    "                                            eta=c(0.05, 0.3),\n",
    "                                            gamma = c(0.0, 0.4) #,\n",
    "                                            #subsample = c(0.6, 0.9),\n",
    "                                            #colsample_bytree=c(0.3, 0.7),\n",
    "                                            #max_delta_step=c(1L, 10L)\n",
    "                                        ),\n",
    "                              init_grid_dt = NULL, init_points = 10, n_iter = 10,\n",
    "                              acq = \"ucb\", kappa = 2.576, eps = 0.0, verbose = FALSE)\n",
    "print(Sys.time() - stime)"
   ]
  },
  {
   "cell_type": "markdown",
   "metadata": {},
   "source": [
    "**Bayesian Optimization History**"
   ]
  },
  {
   "cell_type": "code",
   "execution_count": 55,
   "metadata": {},
   "outputs": [
    {
     "data": {
      "text/html": [
       "<table>\n",
       "<thead><tr><th scope=col>Round</th><th scope=col>max_depth</th><th scope=col>min_child_weight</th><th scope=col>eta</th><th scope=col>gamma</th><th scope=col>Value</th></tr></thead>\n",
       "<tbody>\n",
       "\t<tr><td> 1          </td><td>11          </td><td>3           </td><td>0.20096395  </td><td>1.119322e-01</td><td>0.1633786   </td></tr>\n",
       "\t<tr><td> 2          </td><td> 4          </td><td>2           </td><td>0.26775587  </td><td>1.955466e-01</td><td>0.1771936   </td></tr>\n",
       "\t<tr><td> 3          </td><td> 5          </td><td>4           </td><td>0.18150431  </td><td>2.906475e-02</td><td>0.1741850   </td></tr>\n",
       "\t<tr><td> 4          </td><td> 9          </td><td>4           </td><td>0.20856328  </td><td>2.921487e-01</td><td>0.1673138   </td></tr>\n",
       "\t<tr><td> 5          </td><td> 9          </td><td>5           </td><td>0.16171490  </td><td>2.111039e-01</td><td>0.1667874   </td></tr>\n",
       "\t<tr><td> 6          </td><td>12          </td><td>2           </td><td>0.07037210  </td><td>9.757713e-02</td><td>0.1644152   </td></tr>\n",
       "\t<tr><td> 7          </td><td>10          </td><td>2           </td><td>0.18517906  </td><td>6.035988e-02</td><td>0.1638684   </td></tr>\n",
       "\t<tr><td> 8          </td><td> 3          </td><td>2           </td><td>0.19190987  </td><td>1.687915e-01</td><td>0.1806736   </td></tr>\n",
       "\t<tr><td> 9          </td><td> 9          </td><td>6           </td><td>0.09300389  </td><td>3.566921e-01</td><td>0.1715136   </td></tr>\n",
       "\t<tr><td>10          </td><td> 5          </td><td>2           </td><td>0.20507702  </td><td>3.092699e-01</td><td>0.1764342   </td></tr>\n",
       "\t<tr><td>11          </td><td> 3          </td><td>7           </td><td>0.05000000  </td><td>4.000000e-01</td><td>0.1800798   </td></tr>\n",
       "\t<tr><td>12          </td><td> 3          </td><td>3           </td><td>0.05000000  </td><td>1.517759e-01</td><td>0.1829272   </td></tr>\n",
       "\t<tr><td>13          </td><td> 3          </td><td>2           </td><td>0.05000000  </td><td>2.381709e-01</td><td>0.1823386   </td></tr>\n",
       "\t<tr><td>14          </td><td> 3          </td><td>2           </td><td>0.05000000  </td><td>2.220446e-16</td><td>0.1824922   </td></tr>\n",
       "\t<tr><td>15          </td><td> 3          </td><td>6           </td><td>0.05000000  </td><td>1.099679e-01</td><td>0.1798710   </td></tr>\n",
       "\t<tr><td>16          </td><td> 3          </td><td>4           </td><td>0.05000000  </td><td>4.000000e-01</td><td>0.1802540   </td></tr>\n",
       "\t<tr><td>17          </td><td> 3          </td><td>1           </td><td>0.05000000  </td><td>8.742415e-02</td><td>0.1824586   </td></tr>\n",
       "\t<tr><td>18          </td><td> 3          </td><td>7           </td><td>0.30000000  </td><td>4.000000e-01</td><td>0.1816930   </td></tr>\n",
       "\t<tr><td>19          </td><td>15          </td><td>7           </td><td>0.05000000  </td><td>4.000000e-01</td><td>0.1684036   </td></tr>\n",
       "\t<tr><td>20          </td><td> 5          </td><td>7           </td><td>0.30000000  </td><td>4.000000e-01</td><td>0.1725862   </td></tr>\n",
       "</tbody>\n",
       "</table>\n"
      ],
      "text/latex": [
       "\\begin{tabular}{r|llllll}\n",
       " Round & max\\_depth & min\\_child\\_weight & eta & gamma & Value\\\\\n",
       "\\hline\n",
       "\t  1           & 11           & 3            & 0.20096395   & 1.119322e-01 & 0.1633786   \\\\\n",
       "\t  2           &  4           & 2            & 0.26775587   & 1.955466e-01 & 0.1771936   \\\\\n",
       "\t  3           &  5           & 4            & 0.18150431   & 2.906475e-02 & 0.1741850   \\\\\n",
       "\t  4           &  9           & 4            & 0.20856328   & 2.921487e-01 & 0.1673138   \\\\\n",
       "\t  5           &  9           & 5            & 0.16171490   & 2.111039e-01 & 0.1667874   \\\\\n",
       "\t  6           & 12           & 2            & 0.07037210   & 9.757713e-02 & 0.1644152   \\\\\n",
       "\t  7           & 10           & 2            & 0.18517906   & 6.035988e-02 & 0.1638684   \\\\\n",
       "\t  8           &  3           & 2            & 0.19190987   & 1.687915e-01 & 0.1806736   \\\\\n",
       "\t  9           &  9           & 6            & 0.09300389   & 3.566921e-01 & 0.1715136   \\\\\n",
       "\t 10           &  5           & 2            & 0.20507702   & 3.092699e-01 & 0.1764342   \\\\\n",
       "\t 11           &  3           & 7            & 0.05000000   & 4.000000e-01 & 0.1800798   \\\\\n",
       "\t 12           &  3           & 3            & 0.05000000   & 1.517759e-01 & 0.1829272   \\\\\n",
       "\t 13           &  3           & 2            & 0.05000000   & 2.381709e-01 & 0.1823386   \\\\\n",
       "\t 14           &  3           & 2            & 0.05000000   & 2.220446e-16 & 0.1824922   \\\\\n",
       "\t 15           &  3           & 6            & 0.05000000   & 1.099679e-01 & 0.1798710   \\\\\n",
       "\t 16           &  3           & 4            & 0.05000000   & 4.000000e-01 & 0.1802540   \\\\\n",
       "\t 17           &  3           & 1            & 0.05000000   & 8.742415e-02 & 0.1824586   \\\\\n",
       "\t 18           &  3           & 7            & 0.30000000   & 4.000000e-01 & 0.1816930   \\\\\n",
       "\t 19           & 15           & 7            & 0.05000000   & 4.000000e-01 & 0.1684036   \\\\\n",
       "\t 20           &  5           & 7            & 0.30000000   & 4.000000e-01 & 0.1725862   \\\\\n",
       "\\end{tabular}\n"
      ],
      "text/markdown": [
       "\n",
       "| Round | max_depth | min_child_weight | eta | gamma | Value |\n",
       "|---|---|---|---|---|---|\n",
       "|  1           | 11           | 3            | 0.20096395   | 1.119322e-01 | 0.1633786    |\n",
       "|  2           |  4           | 2            | 0.26775587   | 1.955466e-01 | 0.1771936    |\n",
       "|  3           |  5           | 4            | 0.18150431   | 2.906475e-02 | 0.1741850    |\n",
       "|  4           |  9           | 4            | 0.20856328   | 2.921487e-01 | 0.1673138    |\n",
       "|  5           |  9           | 5            | 0.16171490   | 2.111039e-01 | 0.1667874    |\n",
       "|  6           | 12           | 2            | 0.07037210   | 9.757713e-02 | 0.1644152    |\n",
       "|  7           | 10           | 2            | 0.18517906   | 6.035988e-02 | 0.1638684    |\n",
       "|  8           |  3           | 2            | 0.19190987   | 1.687915e-01 | 0.1806736    |\n",
       "|  9           |  9           | 6            | 0.09300389   | 3.566921e-01 | 0.1715136    |\n",
       "| 10           |  5           | 2            | 0.20507702   | 3.092699e-01 | 0.1764342    |\n",
       "| 11           |  3           | 7            | 0.05000000   | 4.000000e-01 | 0.1800798    |\n",
       "| 12           |  3           | 3            | 0.05000000   | 1.517759e-01 | 0.1829272    |\n",
       "| 13           |  3           | 2            | 0.05000000   | 2.381709e-01 | 0.1823386    |\n",
       "| 14           |  3           | 2            | 0.05000000   | 2.220446e-16 | 0.1824922    |\n",
       "| 15           |  3           | 6            | 0.05000000   | 1.099679e-01 | 0.1798710    |\n",
       "| 16           |  3           | 4            | 0.05000000   | 4.000000e-01 | 0.1802540    |\n",
       "| 17           |  3           | 1            | 0.05000000   | 8.742415e-02 | 0.1824586    |\n",
       "| 18           |  3           | 7            | 0.30000000   | 4.000000e-01 | 0.1816930    |\n",
       "| 19           | 15           | 7            | 0.05000000   | 4.000000e-01 | 0.1684036    |\n",
       "| 20           |  5           | 7            | 0.30000000   | 4.000000e-01 | 0.1725862    |\n",
       "\n"
      ],
      "text/plain": [
       "   Round max_depth min_child_weight eta        gamma        Value    \n",
       "1   1    11        3                0.20096395 1.119322e-01 0.1633786\n",
       "2   2     4        2                0.26775587 1.955466e-01 0.1771936\n",
       "3   3     5        4                0.18150431 2.906475e-02 0.1741850\n",
       "4   4     9        4                0.20856328 2.921487e-01 0.1673138\n",
       "5   5     9        5                0.16171490 2.111039e-01 0.1667874\n",
       "6   6    12        2                0.07037210 9.757713e-02 0.1644152\n",
       "7   7    10        2                0.18517906 6.035988e-02 0.1638684\n",
       "8   8     3        2                0.19190987 1.687915e-01 0.1806736\n",
       "9   9     9        6                0.09300389 3.566921e-01 0.1715136\n",
       "10 10     5        2                0.20507702 3.092699e-01 0.1764342\n",
       "11 11     3        7                0.05000000 4.000000e-01 0.1800798\n",
       "12 12     3        3                0.05000000 1.517759e-01 0.1829272\n",
       "13 13     3        2                0.05000000 2.381709e-01 0.1823386\n",
       "14 14     3        2                0.05000000 2.220446e-16 0.1824922\n",
       "15 15     3        6                0.05000000 1.099679e-01 0.1798710\n",
       "16 16     3        4                0.05000000 4.000000e-01 0.1802540\n",
       "17 17     3        1                0.05000000 8.742415e-02 0.1824586\n",
       "18 18     3        7                0.30000000 4.000000e-01 0.1816930\n",
       "19 19    15        7                0.05000000 4.000000e-01 0.1684036\n",
       "20 20     5        7                0.30000000 4.000000e-01 0.1725862"
      ]
     },
     "metadata": {},
     "output_type": "display_data"
    }
   ],
   "source": [
    "xgb.cv.bayes.opt$History"
   ]
  },
  {
   "cell_type": "markdown",
   "metadata": {},
   "source": [
    "**Bayesian Optimization Best Parameters**"
   ]
  },
  {
   "cell_type": "code",
   "execution_count": 56,
   "metadata": {},
   "outputs": [
    {
     "data": {
      "text/html": [
       "<dl class=dl-horizontal>\n",
       "\t<dt>max_depth</dt>\n",
       "\t\t<dd>3</dd>\n",
       "\t<dt>min_child_weight</dt>\n",
       "\t\t<dd>3</dd>\n",
       "\t<dt>eta</dt>\n",
       "\t\t<dd>0.0500000000000002</dd>\n",
       "\t<dt>gamma</dt>\n",
       "\t\t<dd>0.151775866080844</dd>\n",
       "</dl>\n"
      ],
      "text/latex": [
       "\\begin{description*}\n",
       "\\item[max\\textbackslash{}\\_depth] 3\n",
       "\\item[min\\textbackslash{}\\_child\\textbackslash{}\\_weight] 3\n",
       "\\item[eta] 0.0500000000000002\n",
       "\\item[gamma] 0.151775866080844\n",
       "\\end{description*}\n"
      ],
      "text/markdown": [
       "max_depth\n",
       ":   3min_child_weight\n",
       ":   3eta\n",
       ":   0.0500000000000002gamma\n",
       ":   0.151775866080844\n",
       "\n"
      ],
      "text/plain": [
       "       max_depth min_child_weight              eta            gamma \n",
       "       3.0000000        3.0000000        0.0500000        0.1517759 "
      ]
     },
     "metadata": {},
     "output_type": "display_data"
    }
   ],
   "source": [
    "xgb.cv.bayes.opt$Best_Par"
   ]
  },
  {
   "cell_type": "markdown",
   "metadata": {},
   "source": [
    "**Set Optimal # Rounds**"
   ]
  },
  {
   "cell_type": "code",
   "execution_count": 57,
   "metadata": {},
   "outputs": [
    {
     "data": {
      "text/html": [
       "499"
      ],
      "text/latex": [
       "499"
      ],
      "text/markdown": [
       "499"
      ],
      "text/plain": [
       "[1] 499"
      ]
     },
     "metadata": {},
     "output_type": "display_data"
    }
   ],
   "source": [
    "xgb.cv.bayes.opt.nrounds <- xgb.cv.bayes.opt$Pred[[which.max(xgb.cv.bayes.opt$History$Value)]]\n",
    "xgb.cv.bayes.opt.nrounds"
   ]
  },
  {
   "cell_type": "markdown",
   "metadata": {},
   "source": [
    "#### 4.1.2) Perform Cost Sensitive Learning with Cross Validation on the Training Data Sample"
   ]
  },
  {
   "cell_type": "markdown",
   "metadata": {},
   "source": [
    "**Run CSL on a 0.003 threshold interval**"
   ]
  },
  {
   "cell_type": "code",
   "execution_count": 58,
   "metadata": {},
   "outputs": [
    {
     "name": "stdout",
     "output_type": "stream",
     "text": [
      "[1] \"1 : 0.1\"\n",
      "[1] \"2 : 0.13\"\n",
      "[1] \"3 : 0.16\"\n",
      "[1] \"4 : 0.19\"\n",
      "[1] \"5 : 0.22\"\n",
      "[1] \"6 : 0.25\"\n",
      "[1] \"7 : 0.28\"\n",
      "[1] \"8 : 0.31\"\n",
      "[1] \"9 : 0.34\"\n",
      "[1] \"10 : 0.37\"\n",
      "[1] \"11 : 0.4\"\n",
      "[1] \"12 : 0.43\"\n",
      "[1] \"13 : 0.46\"\n",
      "[1] \"14 : 0.49\"\n",
      "[1] \"15 : 0.52\"\n",
      "[1] \"16 : 0.55\"\n",
      "[1] \"17 : 0.58\"\n",
      "[1] \"18 : 0.61\"\n",
      "[1] \"19 : 0.64\"\n",
      "[1] \"20 : 0.67\"\n",
      "Time difference of 1.198393 mins\n"
     ]
    }
   ],
   "source": [
    "params <- list(\n",
    "                objective = \"binary:logistic\",\n",
    "                eta = xgb.cv.bayes.opt$Best_Par[\"eta\"],\n",
    "                max_depth = xgb.cv.bayes.opt$Best_Par[\"max_depth\"],\n",
    "                gamma = xgb.cv.bayes.opt$Best_Par[\"gamma\"],\n",
    "                min_child_weight = xgb.cv.bayes.opt$Best_Par[\"min_child_weight\"],\n",
    "                subsample = 0.75,\n",
    "                colsample_bytree = 1\n",
    "              )\n",
    "stime <- Sys.time()\n",
    "xgb.CSL.cv.opt1 <- CSL(params, dtrain.samp.1hot, 5, xgb.cv.bayes.opt.nrounds, \n",
    "                           0.1, 0.69, 0.03, feval = \"lift\")\n",
    "print(Sys.time() - stime)"
   ]
  },
  {
   "cell_type": "markdown",
   "metadata": {},
   "source": [
    "**Plot the lift for every threshold in the 0.10-0.69 range**"
   ]
  },
  {
   "cell_type": "code",
   "execution_count": 59,
   "metadata": {},
   "outputs": [
    {
     "data": {
      "image/png": "[encoded data removed]",
      "text/plain": [
       "plot without title"
      ]
     },
     "metadata": {},
     "output_type": "display_data"
    }
   ],
   "source": [
    "xgb.CSL.cv.opt1.df <- as.data.frame(xgb.CSL.cv.opt1)\n",
    "ggplot(xgb.CSL.cv.opt1.df, aes(x = thresholds, y = performance)) +\n",
    "  geom_line() +\n",
    "  labs(title = \"Profit lift over naïve predictions using XGBoost\",\n",
    "          x = \"Threshold\", y = \"Lift over naive profit\")"
   ]
  },
  {
   "cell_type": "markdown",
   "metadata": {},
   "source": [
    "**Set Optimal Threshold for CSL on a 0.03 scale**"
   ]
  },
  {
   "cell_type": "code",
   "execution_count": 60,
   "metadata": {},
   "outputs": [
    {
     "data": {
      "text/html": [
       "0.31"
      ],
      "text/latex": [
       "0.31"
      ],
      "text/markdown": [
       "0.31"
      ],
      "text/plain": [
       "[1] 0.31"
      ]
     },
     "metadata": {},
     "output_type": "display_data"
    }
   ],
   "source": [
    "xgb.CSL.cv.opt1.threshold <- xgb.CSL.cv.opt1.df$thresholds[which.max(xgb.CSL.cv.opt1.df$performance)]\n",
    "xgb.CSL.cv.opt1.threshold"
   ]
  },
  {
   "cell_type": "markdown",
   "metadata": {},
   "source": [
    "**Get more granular at a 0.005 threshold level**"
   ]
  },
  {
   "cell_type": "code",
   "execution_count": 61,
   "metadata": {},
   "outputs": [
    {
     "name": "stdout",
     "output_type": "stream",
     "text": [
      "[1] \"1 : 0.28\"\n",
      "[1] \"2 : 0.285\"\n",
      "[1] \"3 : 0.29\"\n",
      "[1] \"4 : 0.295\"\n",
      "[1] \"5 : 0.3\"\n",
      "[1] \"6 : 0.305\"\n",
      "[1] \"7 : 0.31\"\n",
      "[1] \"8 : 0.315\"\n",
      "[1] \"9 : 0.32\"\n",
      "[1] \"10 : 0.325\"\n",
      "[1] \"11 : 0.33\"\n",
      "[1] \"12 : 0.335\"\n",
      "[1] \"13 : 0.34\"\n",
      "Time difference of 1.267156 mins\n"
     ]
    }
   ],
   "source": [
    "params <- list(\n",
    "                objective = \"binary:logistic\",\n",
    "                eta = xgb.cv.bayes.opt$Best_Par[\"eta\"],\n",
    "                max_depth = xgb.cv.bayes.opt$Best_Par[\"max_depth\"],\n",
    "                gamma = xgb.cv.bayes.opt$Best_Par[\"gamma\"],\n",
    "                min_child_weight = xgb.cv.bayes.opt$Best_Par[\"min_child_weight\"],\n",
    "                subsample = 0.75,\n",
    "                colsample_bytree = 1,\n",
    "                monotone_constraints = mono\n",
    "              )\n",
    "stime <- Sys.time()\n",
    "xgb.CSL.cv.opt2 <- CSL(params, dtrain.samp.1hot, 5, xgb.cv.bayes.opt.nrounds, \n",
    "                           xgb.CSL.cv.opt1.threshold - 0.03, xgb.CSL.cv.opt1.threshold + 0.03, 0.005, feval = \"lift\")\n",
    "print(Sys.time() - stime)"
   ]
  },
  {
   "cell_type": "markdown",
   "metadata": {},
   "source": [
    "**Plot the lift for every threshold in the 0.13-0.19 range**"
   ]
  },
  {
   "cell_type": "code",
   "execution_count": 62,
   "metadata": {},
   "outputs": [
    {
     "data": {
      "image/png": "[encoded data removed]",
      "text/plain": [
       "plot without title"
      ]
     },
     "metadata": {},
     "output_type": "display_data"
    }
   ],
   "source": [
    "xgb.CSL.cv.opt2.df <- as.data.frame(xgb.CSL.cv.opt2)\n",
    "ggplot(xgb.CSL.cv.opt2.df[which(xgb.CSL.cv.opt2.df$performance>0),], aes(x = thresholds, y = performance)) +\n",
    "  geom_line() +\n",
    "  labs(title = \"Profit lift over naïve predictions using XGBoost\",\n",
    "          x = \"Threshold\", y = \"Lift over naive profit\")"
   ]
  },
  {
   "cell_type": "markdown",
   "metadata": {},
   "source": [
    "**Set Optimal Threshold for CSL on a 0.005 scale**"
   ]
  },
  {
   "cell_type": "code",
   "execution_count": 63,
   "metadata": {},
   "outputs": [
    {
     "data": {
      "text/html": [
       "0.33"
      ],
      "text/latex": [
       "0.33"
      ],
      "text/markdown": [
       "0.33"
      ],
      "text/plain": [
       "[1] 0.33"
      ]
     },
     "metadata": {},
     "output_type": "display_data"
    }
   ],
   "source": [
    "xgb.CSL.cv.opt2.threshold <- xgb.CSL.cv.opt2.df$thresholds[which.max(xgb.CSL.cv.opt2.df$performance)]\n",
    "xgb.CSL.cv.opt2.threshold"
   ]
  },
  {
   "cell_type": "markdown",
   "metadata": {},
   "source": [
    "#### 4.2.2) Run & Test XGBoost on Optimal Params but on Full Training Set"
   ]
  },
  {
   "cell_type": "markdown",
   "metadata": {},
   "source": [
    "**Set Optimal Params for Non-Monotonic**"
   ]
  },
  {
   "cell_type": "code",
   "execution_count": 64,
   "metadata": {},
   "outputs": [],
   "source": [
    "xgb.cv.bayes.opt.params <- list(\n",
    "    booster = \"gbtree\",\n",
    "    max_depth = xgb.cv.bayes.opt$Best_Par[\"max_depth\"],\n",
    "    min_child_weight = xgb.cv.bayes.opt$Best_Par[\"min_child_weight\"],\n",
    "    eta = xgb.cv.bayes.opt$Best_Par[\"eta\"],\n",
    "    gamma = xgb.cv.bayes.opt$Best_Par[\"gamma\"],\n",
    "    subsample = 0.9, #xgb.cv.bayes.opt$Best_Par[\"subsample\"],\n",
    "    colsample_bytree = 0.8, #xgb.cv.bayes.opt$Best_Par[\"colsample_bytree\"],\n",
    "    #max_delta_step = xgb.cv.bayes.opt$Best_Par[\"max_delta_step\"], \n",
    "    objective = \"binary:logistic\",\n",
    "    eval_metric=c(\"logloss\", \"auc\", \"aucpr\", \"error\")\n",
    ")"
   ]
  },
  {
   "cell_type": "markdown",
   "metadata": {},
   "source": [
    "**Train model on full training set**"
   ]
  },
  {
   "cell_type": "code",
   "execution_count": 65,
   "metadata": {},
   "outputs": [
    {
     "name": "stdout",
     "output_type": "stream",
     "text": [
      "Time difference of 2.044394 mins\n"
     ]
    }
   ],
   "source": [
    "stime <- Sys.time()\n",
    "xgb.opt.mdl <- xgb.train(params = xgb.cv.bayes.opt.params, nrounds = xgb.cv.bayes.opt.nrounds, data = dtrain.1hot, \n",
    "                              verbose=1, print_every_n=30)\n",
    "print(Sys.time() - stime)"
   ]
  },
  {
   "cell_type": "markdown",
   "metadata": {},
   "source": [
    "**Get Predictions using Test Dataset**"
   ]
  },
  {
   "cell_type": "code",
   "execution_count": 66,
   "metadata": {},
   "outputs": [],
   "source": [
    "xgb.opt.pred <- predict(xgb.opt.mdl, as.matrix(x_test.1hot))"
   ]
  },
  {
   "cell_type": "markdown",
   "metadata": {},
   "source": [
    "**Plot ROC Curve**"
   ]
  },
  {
   "cell_type": "code",
   "execution_count": 67,
   "metadata": {},
   "outputs": [],
   "source": [
    "xgb.opt.pred.fg <- xgb.opt.pred[y_test$default==TRUE]\n",
    "xgb.opt.pred.bg <- xgb.opt.pred[y_test$default==FALSE]"
   ]
  },
  {
   "cell_type": "code",
   "execution_count": 68,
   "metadata": {},
   "outputs": [
    {
     "data": {
      "image/png": "[encoded data removed]",
      "text/plain": [
       "Plot with title “ROC curve\n",
       "AUC = 0.8203631”"
      ]
     },
     "metadata": {},
     "output_type": "display_data"
    }
   ],
   "source": [
    "xgb.opt.roc <- roc.curve(scores.class0 = xgb.opt.pred.fg, scores.class1 = xgb.opt.pred.bg, curve = T)\n",
    "plot(xgb.opt.roc)"
   ]
  },
  {
   "cell_type": "code",
   "execution_count": 69,
   "metadata": {},
   "outputs": [
    {
     "data": {
      "image/png": "[encoded data removed]",
      "text/plain": [
       "Plot with title “PR curve\n",
       "AUC = 0.1882866”"
      ]
     },
     "metadata": {},
     "output_type": "display_data"
    }
   ],
   "source": [
    "xgb.opt.prc <- pr.curve(scores.class0 = xgb.opt.pred.fg, scores.class1 = xgb.opt.pred.bg, curve = T)\n",
    "plot(xgb.opt.prc)"
   ]
  },
  {
   "cell_type": "markdown",
   "metadata": {},
   "source": [
    "**Calculate AUC**"
   ]
  },
  {
   "cell_type": "code",
   "execution_count": 70,
   "metadata": {},
   "outputs": [
    {
     "data": {
      "text/html": [
       "0.820363096508004"
      ],
      "text/latex": [
       "0.820363096508004"
      ],
      "text/markdown": [
       "0.820363096508004"
      ],
      "text/plain": [
       "Area under the curve: 0.8204"
      ]
     },
     "metadata": {},
     "output_type": "display_data"
    }
   ],
   "source": [
    "xgb.opt.auc <- auc(roc(y_test$default, xgb.opt.pred))\n",
    "xgb.opt.auc"
   ]
  },
  {
   "cell_type": "markdown",
   "metadata": {},
   "source": [
    "**Calculate F-score**"
   ]
  },
  {
   "cell_type": "code",
   "execution_count": 71,
   "metadata": {},
   "outputs": [
    {
     "data": {
      "text/html": [
       "0.972648613073692"
      ],
      "text/latex": [
       "0.972648613073692"
      ],
      "text/markdown": [
       "0.972648613073692"
      ],
      "text/plain": [
       "[1] 0.9726486"
      ]
     },
     "metadata": {},
     "output_type": "display_data"
    }
   ],
   "source": [
    "xgb.opt.f1 <- F1_Score(ifelse(xgb.opt.pred > 0.5, 1, 0), ifelse(y_test$default, 1, 0), positive = \"0\")\n",
    "xgb.opt.f1"
   ]
  },
  {
   "cell_type": "markdown",
   "metadata": {},
   "source": [
    "**Generate and Save Confusion Matrix**"
   ]
  },
  {
   "cell_type": "code",
   "execution_count": 103,
   "metadata": {},
   "outputs": [
    {
     "data": {
      "text/plain": [
       "Confusion Matrix and Statistics\n",
       "\n",
       "       \n",
       "         FALSE   TRUE\n",
       "  FALSE 117804   4859\n",
       "  TRUE    7818   2204\n",
       "                                         \n",
       "               Accuracy : 0.9045         \n",
       "                 95% CI : (0.9029, 0.906)\n",
       "    No Information Rate : 0.9468         \n",
       "    P-Value [Acc > NIR] : 1              \n",
       "                                         \n",
       "                  Kappa : 0.2086         \n",
       "                                         \n",
       " Mcnemar's Test P-Value : <2e-16         \n",
       "                                         \n",
       "            Sensitivity : 0.9378         \n",
       "            Specificity : 0.3120         \n",
       "         Pos Pred Value : 0.9604         \n",
       "         Neg Pred Value : 0.2199         \n",
       "             Prevalence : 0.9468         \n",
       "         Detection Rate : 0.8878         \n",
       "   Detection Prevalence : 0.9245         \n",
       "      Balanced Accuracy : 0.6249         \n",
       "                                         \n",
       "       'Positive' Class : FALSE          \n",
       "                                         "
      ]
     },
     "metadata": {},
     "output_type": "display_data"
    }
   ],
   "source": [
    "xgb.opt.cm <- confusionMatrix(table(xgb.opt.pred > xgb.CSL.cv.opt2.threshold, y_test$default))\n",
    "xgb.opt.cm"
   ]
  },
  {
   "cell_type": "markdown",
   "metadata": {},
   "source": [
    "**Calculate Feature Importance/Influence**"
   ]
  },
  {
   "cell_type": "code",
   "execution_count": 73,
   "metadata": {},
   "outputs": [
    {
     "name": "stdout",
     "output_type": "stream",
     "text": [
      "                                   Feature         Gain        Cover\n",
      " 1:                               int_rate 2.882493e-01 1.732934e-01\n",
      " 2: quantity_indexes_for_real_gdp_by_state 2.336989e-01 1.983853e-01\n",
      " 3:                      real_gdp_by_state 7.803379e-02 6.052762e-02\n",
      " 4:                  initial_list_status_F 7.267242e-02 5.178454e-02\n",
      " 5:        taxes_on_production_and_imports 4.306518e-02 4.280878e-02\n",
      " 6:           per_capita_real_gdp_by_state 3.820846e-02 4.640008e-02\n",
      " 7:                              subsidies 3.798843e-02 6.787224e-02\n",
      " 8:                gross_operating_surplus 3.729927e-02 6.508382e-02\n",
      " 9:                             annual_inc 3.511635e-02 4.551527e-02\n",
      "10:              compensation_of_employees 3.215348e-02 4.292401e-02\n",
      "11:                                  month 2.847619e-02 4.806333e-02\n",
      "12:                                grade_A 1.184410e-02 1.331042e-02\n",
      "13:                 purpose_SMALL_BUSINESS 7.400719e-03 1.282491e-02\n",
      "14:                                    dti 7.255555e-03 2.445245e-02\n",
      "15:                  initial_list_status_W 7.110897e-03 9.219166e-03\n",
      "16:                                grade_C 5.247650e-03 3.802404e-03\n",
      "17:                              term_36MO 4.760647e-03 7.542393e-03\n",
      "18:                                grade_B 4.076406e-03 5.261036e-03\n",
      "19:                            installment 3.307973e-03 9.803463e-03\n",
      "20:                              loan_amnt 3.067070e-03 1.299453e-02\n",
      "21:                                pub_rec 2.831499e-03 9.201793e-03\n",
      "22:                        regions_MIDWEST 2.733791e-03 7.269661e-03\n",
      "23:                                grade_E 2.526559e-03 1.991332e-03\n",
      "24:                    home_ownership_RENT 2.318569e-03 9.235659e-03\n",
      "25:    verification_status_SOURCE_VERIFIED 1.292746e-03 1.970454e-03\n",
      "26:                    purpose_CREDIT_CARD 1.276873e-03 9.831377e-03\n",
      "27:                      regions_NORTHEAST 1.256395e-03 1.675991e-04\n",
      "28:                              term_60MO 8.960146e-04 7.101231e-04\n",
      "29:                               open_acc 8.548475e-04 6.107488e-03\n",
      "30:                                grade_F 7.863287e-04 1.754463e-03\n",
      "31:                                grade_G 6.685599e-04 5.473296e-03\n",
      "32:                           regions_WEST 6.204340e-04 3.488105e-04\n",
      "33:                              total_acc 6.027862e-04 1.501310e-03\n",
      "34:                         purpose_OTHERS 5.940441e-04 1.489505e-04\n",
      "35:           verification_status_VERIFIED 5.857307e-04 1.065988e-03\n",
      "36:                                grade_D 5.712382e-04 8.640847e-04\n",
      "37:       verification_status_NOT_VERIFIED 2.288312e-04 2.008430e-04\n",
      "38:                          regions_SOUTH 1.080060e-04 6.284314e-06\n",
      "39:                home_ownership_MORTGAGE 9.209925e-05 6.988234e-05\n",
      "40:                     home_ownership_OWN 6.475181e-05 7.557294e-05\n",
      "41:                 purpose_MAJOR_PURCHASE 3.478225e-05 8.734776e-05\n",
      "42:             purpose_DEBT_CONSOLIDATION 2.235094e-05 4.848467e-05\n",
      "                                   Feature         Gain        Cover\n",
      "       Frequency\n",
      " 1: 0.1170858630\n",
      " 2: 0.1491760624\n",
      " 3: 0.0728534258\n",
      " 4: 0.0329575022\n",
      " 5: 0.0503035559\n",
      " 6: 0.0624457936\n",
      " 7: 0.0572419775\n",
      " 8: 0.0705406187\n",
      " 9: 0.0549291703\n",
      "10: 0.0581092801\n",
      "11: 0.0592656837\n",
      "12: 0.0092512287\n",
      "13: 0.0138768430\n",
      "14: 0.0390286210\n",
      "15: 0.0060711188\n",
      "16: 0.0046256143\n",
      "17: 0.0156114484\n",
      "18: 0.0020237063\n",
      "19: 0.0216825672\n",
      "20: 0.0234171726\n",
      "21: 0.0080948251\n",
      "22: 0.0069384215\n",
      "23: 0.0031801099\n",
      "24: 0.0080948251\n",
      "25: 0.0023128072\n",
      "26: 0.0083839260\n",
      "27: 0.0023128072\n",
      "28: 0.0017346054\n",
      "29: 0.0092512287\n",
      "30: 0.0020237063\n",
      "31: 0.0034692108\n",
      "32: 0.0017346054\n",
      "33: 0.0078057242\n",
      "34: 0.0054929170\n",
      "35: 0.0023128072\n",
      "36: 0.0011564036\n",
      "37: 0.0014455045\n",
      "38: 0.0002891009\n",
      "39: 0.0020237063\n",
      "40: 0.0008673027\n",
      "41: 0.0002891009\n",
      "42: 0.0002891009\n",
      "       Frequency\n"
     ]
    }
   ],
   "source": [
    "xgb.opt.imp <- xgb.importance(model = xgb.opt.mdl)\n",
    "print(xgb.opt.imp)"
   ]
  },
  {
   "cell_type": "markdown",
   "metadata": {},
   "source": [
    "**Plot Importance/Influence**"
   ]
  },
  {
   "cell_type": "code",
   "execution_count": 74,
   "metadata": {},
   "outputs": [
    {
     "data": {
      "image/png": "[encoded data removed]",
      "text/plain": [
       "plot without title"
      ]
     },
     "metadata": {},
     "output_type": "display_data"
    }
   ],
   "source": [
    "xgb.plot.importance(importance_matrix = xgb.opt.imp)"
   ]
  },
  {
   "cell_type": "markdown",
   "metadata": {},
   "source": [
    "**Dump Tree**"
   ]
  },
  {
   "cell_type": "code",
   "execution_count": 75,
   "metadata": {},
   "outputs": [
    {
     "name": "stderr",
     "output_type": "stream",
     "text": [
      "Warning message:\n",
      "“'with.stats' is deprecated.\n",
      "Use 'with_stats' instead.\n",
      "See help(\"Deprecated\") and help(\"xgboost-deprecated\").”"
     ]
    },
    {
     "data": {
      "text/html": [
       "TRUE"
      ],
      "text/latex": [
       "TRUE"
      ],
      "text/markdown": [
       "TRUE"
      ],
      "text/plain": [
       "[1] TRUE"
      ]
     },
     "metadata": {},
     "output_type": "display_data"
    }
   ],
   "source": [
    "xgb.dump(xgb.opt.mdl, with.stats = T, fname = \"./models/xgb.opt.tree.costopt.txt\")"
   ]
  },
  {
   "cell_type": "markdown",
   "metadata": {},
   "source": [
    "**Save Model**"
   ]
  },
  {
   "cell_type": "code",
   "execution_count": 76,
   "metadata": {},
   "outputs": [
    {
     "data": {
      "text/html": [
       "TRUE"
      ],
      "text/latex": [
       "TRUE"
      ],
      "text/markdown": [
       "TRUE"
      ],
      "text/plain": [
       "[1] TRUE"
      ]
     },
     "metadata": {},
     "output_type": "display_data"
    }
   ],
   "source": [
    "xgb.save(xgb.opt.mdl, \"./models/xgb.opt.costopt.mdl\")"
   ]
  },
  {
   "cell_type": "markdown",
   "metadata": {},
   "source": [
    "**Partial Graph (for 3 top vars)**"
   ]
  },
  {
   "cell_type": "code",
   "execution_count": 87,
   "metadata": {},
   "outputs": [
    {
     "name": "stdout",
     "output_type": "stream",
     "text": [
      "Time difference of 17.59039 mins\n"
     ]
    }
   ],
   "source": [
    "stime <- Sys.time()\n",
    "xgb.opt.mdl.1p <- partial(xgb.opt.mdl, pred.var = \"int_rate\", train = x_train.1hot,\n",
    "                         grid.resolution = 250, trim.outliers = FALSE, prob = TRUE, rug = TRUE, plot = TRUE)\n",
    "print(Sys.time() - stime)"
   ]
  },
  {
   "cell_type": "code",
   "execution_count": 88,
   "metadata": {},
   "outputs": [
    {
     "name": "stdout",
     "output_type": "stream",
     "text": [
      "Time difference of 17.81613 mins\n"
     ]
    }
   ],
   "source": [
    "stime <- Sys.time()\n",
    "xgb.opt.mdl.2p <- partial(xgb.opt.mdl, pred.var = \"quantity_indexes_for_real_gdp_by_state\", train = x_train.1hot,\n",
    "                         grid.resolution = 250, trim.outliers = FALSE, prob = TRUE, rug = TRUE, plot = TRUE)\n",
    "print(Sys.time() - stime)"
   ]
  },
  {
   "cell_type": "code",
   "execution_count": 89,
   "metadata": {},
   "outputs": [
    {
     "name": "stdout",
     "output_type": "stream",
     "text": [
      "Time difference of 16.83963 mins\n"
     ]
    }
   ],
   "source": [
    "stime <- Sys.time()\n",
    "xgb.opt.mdl.3p <- partial(xgb.opt.mdl, pred.var = \"annual_inc\", train = x_train.1hot,\n",
    "                         grid.resolution = 250, trim.outliers = FALSE, prob = TRUE, rug = TRUE, plot = TRUE)\n",
    "print(Sys.time() - stime)"
   ]
  },
  {
   "cell_type": "markdown",
   "metadata": {},
   "source": [
    "#### 4.2.4) Calculate Model Relative Losses"
   ]
  },
  {
   "cell_type": "code",
   "execution_count": 255,
   "metadata": {},
   "outputs": [
    {
     "data": {
      "text/html": [
       "1.11049132644599"
      ],
      "text/latex": [
       "1.11049132644599"
      ],
      "text/markdown": [
       "1.11049132644599"
      ],
      "text/plain": [
       "[1] 1.110491"
      ]
     },
     "metadata": {},
     "output_type": "display_data"
    }
   ],
   "source": [
    "xgb.opt.NIR <- sum(xgb.opt.cm$table[,1])/sum(xgb.opt.cm$table)\n",
    "xgb.opt.costs <- ((xgb.opt.cm$table[1,2]*mloan_amnt)+(xgb.opt.cm$table[2,1]*mreturns))\n",
    "xgb.opt.profits <- (xgb.opt.cm$table[1,1]*mreturns) - (xgb.opt.cm$table[1,2]*mloan_amnt)\n",
    "xgb.opt.naive <- (round(xgb.opt.NIR * sum(xgb.opt.cm$table[1,]),0)*mreturns)-(round((1-xgb.opt.NIR) * sum(xgb.opt.cm$table[1,]),0)*mloan_amnt)\n",
    "xgb.opt.best <- ((sum(xgb.opt.cm$table[,1])*mreturns))\n",
    "xgb.opt.worst <- (sum(xgb.opt.cm$table[,1])*mreturns)+(sum(xgb.opt.cm$table[,2])*mloan_amnt)\n",
    "xgb.opt.lift.ratio <- xgb.opt.profits / xgb.opt.naive\n",
    "xgb.opt.worst.ratio <- xgb.opt.worst / xgb.opt.best\n",
    "xgb.opt.cost.ratio <- xgb.opt.costs / xgb.opt.best\n",
    "xgb.opt.lift.ratio"
   ]
  },
  {
   "cell_type": "code",
   "execution_count": 169,
   "metadata": {},
   "outputs": [
    {
     "name": "stdout",
     "output_type": "stream",
     "text": [
      "[1] \"0.15 0.244203619308192 350083389.6\"\n",
      "[1] \"0.1525 0.244255501804019 350083389.6\"\n",
      "[1] \"0.155 0.243686691040882 350083389.6\"\n",
      "[1] \"0.1575 0.243046323612264 350083389.6\"\n",
      "[1] \"0.16 0.242668475351165 350083389.6\"\n",
      "[1] \"0.1625 0.242810807154045 350083389.6\"\n",
      "[1] \"0.165 0.243311139375463 350083389.6\"\n",
      "[1] \"0.1675 0.243257129386524 350083389.6\"\n",
      "[1] \"0.17 0.24356916704168 350083389.6\"\n",
      "[1] \"0.1725 0.243464770200568 350083389.6\"\n",
      "[1] \"0.175 0.243434597960714 350083389.6\"\n",
      "[1] \"0.1775 0.24361939964489 350083389.6\"\n",
      "[1] \"0.18 0.243677052194538 350083389.6\"\n",
      "[1] \"0.1825 0.243753119785264 350083389.6\"\n",
      "[1] \"0.185 0.244184693531658 350083389.6\"\n",
      "[1] \"0.1875 0.244059257131918 350083389.6\"\n",
      "[1] \"0.19 0.244016135977221 350083389.6\"\n",
      "[1] \"0.1925 0.243954426108539 350083389.6\"\n",
      "[1] \"0.195 0.244624811528047 350083389.6\"\n",
      "[1] \"0.1975 0.245128115612829 350083389.6\"\n",
      "[1] \"0.2 0.245570447938784 350083389.6\"\n",
      "[1] \"0.2025 0.245951851924139 350083389.6\"\n",
      "[1] \"0.205 0.246240399176025 350083389.6\"\n",
      "[1] \"0.2075 0.247080707538945 350083389.6\"\n",
      "[1] \"0.21 0.24746749081408 350083389.6\"\n",
      "[1] \"0.2125 0.2477163229569 350083389.6\"\n",
      "[1] \"0.215 0.248241057364351 350083389.6\"\n",
      "[1] \"0.2175 0.248362566699737 350083389.6\"\n",
      "[1] \"0.22 0.248725512225788 350083389.6\"\n",
      "[1] \"0.2225 0.248849776333404 350083389.6\"\n",
      "[1] \"0.225 0.24962919977395 350083389.6\"\n",
      "[1] \"0.2275 0.250278719307738 350083389.6\"\n",
      "[1] \"0.23 0.250978538857246 350083389.6\"\n",
      "[1] \"0.2325 0.251312354180885 350083389.6\"\n",
      "[1] \"0.235 0.251680722414943 350083389.6\"\n",
      "[1] \"0.2375 0.252049090649001 350083389.6\"\n",
      "[1] \"0.24 0.252847189639985 350083389.6\"\n",
      "[1] \"0.2425 0.253263320208666 350083389.6\"\n",
      "[1] \"0.245 0.253931471874666 350083389.6\"\n",
      "[1] \"0.2475 0.254246828739 350083389.6\"\n",
      "[1] \"0.25 0.254607280002181 350083389.6\"\n",
      "[1] \"0.2525 0.254768851792447 350083389.6\"\n",
      "[1] \"0.255 0.254747421469779 350083389.6\"\n",
      "[1] \"0.2575 0.254768417610179 350083389.6\"\n",
      "[1] \"0.26 0.254898191262257 350083389.6\"\n",
      "[1] \"0.2625 0.255388720105103 350083389.6\"\n",
      "[1] \"0.265 0.256152483276801 350083389.6\"\n",
      "[1] \"0.2675 0.256499811952232 350083389.6\"\n",
      "[1] \"0.27 0.256894859544059 350083389.6\"\n",
      "[1] \"0.2725 0.257136122061816 350083389.6\"\n",
      "[1] \"0.275 0.257486118673024 350083389.6\"\n",
      "[1] \"0.2775 0.257804317146043 350083389.6\"\n",
      "[1] \"0.28 0.257897043624831 350083389.6\"\n",
      "[1] \"0.2825 0.257976517261189 350083389.6\"\n",
      "[1] \"0.285 0.258148804212789 350083389.6\"\n",
      "[1] \"0.2875 0.25861024627145 350083389.6\"\n",
      "[1] \"0.29 0.258811750261915 350083389.6\"\n",
      "[1] \"0.2925 0.258899184287377 350083389.6\"\n",
      "[1] \"0.295 0.258983993795289 350083389.6\"\n",
      "[1] \"0.2975 0.259182873268204 350083389.6\"\n",
      "[1] \"0.3 0.259410926361757 350083389.6\"\n",
      "[1] \"0.3025 0.259408215007754 350083389.6\"\n",
      "[1] \"0.305 0.259477147155684 350083389.6\"\n",
      "[1] \"0.3075 0.259638892618857 350083389.6\"\n",
      "[1] \"0.31 0.259707824766788 350083389.6\"\n",
      "[1] \"0.3125 0.259819183377788 350083389.6\"\n",
      "[1] \"0.315 0.259909328757253 350083389.6\"\n",
      "[1] \"0.3175 0.26013208939748 350083389.6\"\n",
      "[1] \"0.32 0.260214274387841 350083389.6\"\n",
      "[1] \"0.3225 0.260378687786791 350083389.6\"\n",
      "[1] \"0.325 0.260492714333568 350083389.6\"\n",
      "[1] \"0.3275 0.260779158086625 350083389.6\"\n",
      "[1] \"0.33 0.260736688205329 350083389.6\"\n",
      "[1] \"0.3325 0.260866635530314 350083389.6\"\n",
      "[1] \"0.335 0.261036384800817 350083389.6\"\n",
      "[1] \"0.3375 0.261182252904009 350083389.6\"\n",
      "[1] \"0.34 0.261397096573359 350083389.6\"\n",
      "[1] \"0.3425 0.26142360225822 350083389.6\"\n",
      "[1] \"0.345 0.261516415573462 350083389.6\"\n",
      "[1] \"0.3475 0.261603936435378 350083389.6\"\n",
      "[1] \"0.35 0.261691457297293 350083389.6\"\n"
     ]
    },
    {
     "data": {
      "text/html": [
       "0.242668475351165"
      ],
      "text/latex": [
       "0.242668475351165"
      ],
      "text/markdown": [
       "0.242668475351165"
      ],
      "text/plain": [
       "[1] 0.2426685"
      ]
     },
     "metadata": {},
     "output_type": "display_data"
    },
    {
     "data": {
      "text/html": [
       "369577055.6"
      ],
      "text/latex": [
       "369577055.6"
      ],
      "text/markdown": [
       "369577055.6"
      ],
      "text/plain": [
       "[1] 369577056"
      ]
     },
     "metadata": {},
     "output_type": "display_data"
    }
   ],
   "source": [
    "threshs <- seq(0.15, 0.35, by = 0.0025)\n",
    "crs <- c()\n",
    "rets <- c()\n",
    "for(i in 1:length(threshs)) {\n",
    "    cm <- confusionMatrix(table(xgb.opt.pred > threshs[i], y_test$default))\n",
    "    cr <- ((cm$table[1,2]*mloan_amnt)+(cm$table[2,1]*mreturns)) / (sum(cm$table[,1])*mreturns)\n",
    "    print(paste(threshs[i],cr,sum(cm$table[,1])*mreturns))\n",
    "    crs <- c(crs,cr)\n",
    "    rets <- c(rets, sum(cm$table[1,])*mreturns)\n",
    "}\n",
    "min(crs) #xgb.CSL.cv.opt2.threshold = 0.16 #0.43\n",
    "max(rets)"
   ]
  },
  {
   "cell_type": "markdown",
   "metadata": {},
   "source": [
    "### 4.3) Compare Models"
   ]
  },
  {
   "cell_type": "markdown",
   "metadata": {},
   "source": [
    "#### 4.3.1) Plot Monotonic Constraint Differences for Top 3 features"
   ]
  },
  {
   "cell_type": "code",
   "execution_count": 90,
   "metadata": {},
   "outputs": [
    {
     "data": {
      "image/png": "[encoded data removed]",
      "text/plain": [
       "plot without title"
      ]
     },
     "metadata": {},
     "output_type": "display_data"
    }
   ],
   "source": [
    "xgb.mono.opt.mdl.1p.df <- as.data.frame(xgb.mono.opt.mdl.1p$panel.args)\n",
    "xgb.mono.opt.mdl.1p.df$model <- \"monotonic\"\n",
    "xgb.opt.mdl.1p.df <- as.data.frame(xgb.opt.mdl.1p$panel.args)\n",
    "xgb.opt.mdl.1p.df$model <- \"non-monotonic\"\n",
    "xgb.opt.mdl.1p.df <- rbind.data.frame(xgb.mono.opt.mdl.1p.df, xgb.opt.mdl.1p.df)\n",
    "ggplot(xgb.opt.mdl.1p.df, aes(x=x, y=y)) + geom_line(aes(colour = model)) +\n",
    "            xlab(\"int_rate\") + ylab(\"yhat\") + theme_minimal() + theme(legend.position=c(0.2, 0.8))"
   ]
  },
  {
   "cell_type": "code",
   "execution_count": 91,
   "metadata": {},
   "outputs": [
    {
     "data": {
      "image/png": "[encoded data removed]",
      "text/plain": [
       "plot without title"
      ]
     },
     "metadata": {},
     "output_type": "display_data"
    }
   ],
   "source": [
    "xgb.mono.opt.mdl.2p.df <- as.data.frame(xgb.mono.opt.mdl.2p$panel.args)\n",
    "xgb.mono.opt.mdl.2p.df$model <- \"monotonic\"\n",
    "xgb.opt.mdl.2p.df <- as.data.frame(xgb.opt.mdl.2p$panel.args)\n",
    "xgb.opt.mdl.2p.df$model <- \"non-monotonic\"\n",
    "xgb.opt.mdl.2p.df <- rbind.data.frame(xgb.mono.opt.mdl.2p.df, xgb.opt.mdl.2p.df)\n",
    "ggplot(xgb.opt.mdl.2p.df, aes(x=x, y=y)) + geom_line(aes(colour = model)) +\n",
    "            xlab(\"quantity_indexes_for_real_gdp_by_state\") + ylab(\"yhat\") + theme_minimal() + theme(legend.position=c(0.6, 0.8))"
   ]
  },
  {
   "cell_type": "code",
   "execution_count": 92,
   "metadata": {},
   "outputs": [
    {
     "data": {
      "image/png": "[encoded data removed]",
      "text/plain": [
       "plot without title"
      ]
     },
     "metadata": {},
     "output_type": "display_data"
    }
   ],
   "source": [
    "xgb.mono.opt.mdl.3p.df <- as.data.frame(xgb.mono.opt.mdl.3p$panel.args)\n",
    "xgb.mono.opt.mdl.3p.df$model <- \"monotonic\"\n",
    "xgb.opt.mdl.3p.df <- as.data.frame(xgb.opt.mdl.3p$panel.args)\n",
    "xgb.opt.mdl.3p.df$model <- \"non-monotonic\"\n",
    "xgb.opt.mdl.3p.df <- rbind.data.frame(xgb.mono.opt.mdl.3p.df, xgb.opt.mdl.3p.df)\n",
    "ggplot(xgb.opt.mdl.3p.df, aes(x=x, y=y)) + geom_line(aes(colour = model)) +\n",
    "            xlab(\"annual_inc\") + ylab(\"yhat\") + theme_minimal() + theme(legend.position=c(0.6, 0.8))"
   ]
  },
  {
   "cell_type": "markdown",
   "metadata": {},
   "source": [
    "#### 4.3.2) Compare Metrics"
   ]
  },
  {
   "cell_type": "code",
   "execution_count": 254,
   "metadata": {},
   "outputs": [
    {
     "data": {
      "text/html": [
       "<table>\n",
       "<thead><tr><th></th><th scope=col>Monotonic XGBoost</th><th scope=col>Non-Monotonic XGBoost</th></tr></thead>\n",
       "<tbody>\n",
       "\t<tr><th scope=row>Accuracy</th><td>        0.92203</td><td>        0.90446</td></tr>\n",
       "\t<tr><th scope=row>Kappa</th><td>        0.17235</td><td>        0.20858</td></tr>\n",
       "\t<tr><th scope=row>AccuracyLower</th><td>        0.92058</td><td>        0.90286</td></tr>\n",
       "\t<tr><th scope=row>AccuracyUpper</th><td>        0.92347</td><td>        0.90603</td></tr>\n",
       "\t<tr><th scope=row>AccuracyNull</th><td>        0.94677</td><td>        0.94677</td></tr>\n",
       "\t<tr><th scope=row>AccuracyPValue</th><td>        1.00000</td><td>        1.00000</td></tr>\n",
       "\t<tr><th scope=row>McnemarPValue</th><td>        0.00000</td><td>        0.00000</td></tr>\n",
       "\t<tr><th scope=row>Sensitivity</th><td>        0.96272</td><td>        0.93777</td></tr>\n",
       "\t<tr><th scope=row>Specificity</th><td>        0.19836</td><td>        0.31205</td></tr>\n",
       "\t<tr><th scope=row>Pos Pred Value</th><td>        0.95528</td><td>        0.96039</td></tr>\n",
       "\t<tr><th scope=row>Neg Pred Value</th><td>        0.23028</td><td>        0.21992</td></tr>\n",
       "\t<tr><th scope=row>Precision</th><td>        0.95528</td><td>        0.96039</td></tr>\n",
       "\t<tr><th scope=row>Recall</th><td>        0.96272</td><td>        0.93777</td></tr>\n",
       "\t<tr><th scope=row>F1</th><td>        0.95898</td><td>        0.94894</td></tr>\n",
       "\t<tr><th scope=row>Prevalence</th><td>        0.94677</td><td>        0.94677</td></tr>\n",
       "\t<tr><th scope=row>Detection Rate</th><td>        0.91147</td><td>        0.88785</td></tr>\n",
       "\t<tr><th scope=row>Detection Prevalence</th><td>        0.95415</td><td>        0.92447</td></tr>\n",
       "\t<tr><th scope=row>Balanced Accuracy</th><td>        0.58054</td><td>        0.62491</td></tr>\n",
       "\t<tr><th scope=row>COSTS</th><td> 86656584.40000</td><td> 84954202.40000</td></tr>\n",
       "\t<tr><th scope=row>BEST CASE</th><td>350083389.60000</td><td>350083389.60000</td></tr>\n",
       "\t<tr><th scope=row>LIFT RATIO</th><td>        1.06900</td><td>        1.11049</td></tr>\n",
       "\t<tr><th scope=row>COST RATIO</th><td>        0.24753</td><td>        0.24267</td></tr>\n",
       "</tbody>\n",
       "</table>\n"
      ],
      "text/latex": [
       "\\begin{tabular}{r|ll}\n",
       "  & Monotonic XGBoost & Non-Monotonic XGBoost\\\\\n",
       "\\hline\n",
       "\tAccuracy &         0.92203 &         0.90446\\\\\n",
       "\tKappa &         0.17235 &         0.20858\\\\\n",
       "\tAccuracyLower &         0.92058 &         0.90286\\\\\n",
       "\tAccuracyUpper &         0.92347 &         0.90603\\\\\n",
       "\tAccuracyNull &         0.94677 &         0.94677\\\\\n",
       "\tAccuracyPValue &         1.00000 &         1.00000\\\\\n",
       "\tMcnemarPValue &         0.00000 &         0.00000\\\\\n",
       "\tSensitivity &         0.96272 &         0.93777\\\\\n",
       "\tSpecificity &         0.19836 &         0.31205\\\\\n",
       "\tPos Pred Value &         0.95528 &         0.96039\\\\\n",
       "\tNeg Pred Value &         0.23028 &         0.21992\\\\\n",
       "\tPrecision &         0.95528 &         0.96039\\\\\n",
       "\tRecall &         0.96272 &         0.93777\\\\\n",
       "\tF1 &         0.95898 &         0.94894\\\\\n",
       "\tPrevalence &         0.94677 &         0.94677\\\\\n",
       "\tDetection Rate &         0.91147 &         0.88785\\\\\n",
       "\tDetection Prevalence &         0.95415 &         0.92447\\\\\n",
       "\tBalanced Accuracy &         0.58054 &         0.62491\\\\\n",
       "\tCOSTS &  86656584.40000 &  84954202.40000\\\\\n",
       "\tBEST CASE & 350083389.60000 & 350083389.60000\\\\\n",
       "\tLIFT RATIO &         1.06900 &         1.11049\\\\\n",
       "\tCOST RATIO &         0.24753 &         0.24267\\\\\n",
       "\\end{tabular}\n"
      ],
      "text/markdown": [
       "\n",
       "| <!--/--> | Monotonic XGBoost | Non-Monotonic XGBoost |\n",
       "|---|---|---|\n",
       "| Accuracy |         0.92203 |         0.90446 |\n",
       "| Kappa |         0.17235 |         0.20858 |\n",
       "| AccuracyLower |         0.92058 |         0.90286 |\n",
       "| AccuracyUpper |         0.92347 |         0.90603 |\n",
       "| AccuracyNull |         0.94677 |         0.94677 |\n",
       "| AccuracyPValue |         1.00000 |         1.00000 |\n",
       "| McnemarPValue |         0.00000 |         0.00000 |\n",
       "| Sensitivity |         0.96272 |         0.93777 |\n",
       "| Specificity |         0.19836 |         0.31205 |\n",
       "| Pos Pred Value |         0.95528 |         0.96039 |\n",
       "| Neg Pred Value |         0.23028 |         0.21992 |\n",
       "| Precision |         0.95528 |         0.96039 |\n",
       "| Recall |         0.96272 |         0.93777 |\n",
       "| F1 |         0.95898 |         0.94894 |\n",
       "| Prevalence |         0.94677 |         0.94677 |\n",
       "| Detection Rate |         0.91147 |         0.88785 |\n",
       "| Detection Prevalence |         0.95415 |         0.92447 |\n",
       "| Balanced Accuracy |         0.58054 |         0.62491 |\n",
       "| COSTS |  86656584.40000 |  84954202.40000 |\n",
       "| BEST CASE | 350083389.60000 | 350083389.60000 |\n",
       "| LIFT RATIO |         1.06900 |         1.11049 |\n",
       "| COST RATIO |         0.24753 |         0.24267 |\n",
       "\n"
      ],
      "text/plain": [
       "                     Monotonic XGBoost Non-Monotonic XGBoost\n",
       "Accuracy                     0.92203           0.90446      \n",
       "Kappa                        0.17235           0.20858      \n",
       "AccuracyLower                0.92058           0.90286      \n",
       "AccuracyUpper                0.92347           0.90603      \n",
       "AccuracyNull                 0.94677           0.94677      \n",
       "AccuracyPValue               1.00000           1.00000      \n",
       "McnemarPValue                0.00000           0.00000      \n",
       "Sensitivity                  0.96272           0.93777      \n",
       "Specificity                  0.19836           0.31205      \n",
       "Pos Pred Value               0.95528           0.96039      \n",
       "Neg Pred Value               0.23028           0.21992      \n",
       "Precision                    0.95528           0.96039      \n",
       "Recall                       0.96272           0.93777      \n",
       "F1                           0.95898           0.94894      \n",
       "Prevalence                   0.94677           0.94677      \n",
       "Detection Rate               0.91147           0.88785      \n",
       "Detection Prevalence         0.95415           0.92447      \n",
       "Balanced Accuracy            0.58054           0.62491      \n",
       "COSTS                 86656584.40000    84954202.40000      \n",
       "BEST CASE            350083389.60000   350083389.60000      \n",
       "LIFT RATIO                   1.06900           1.11049      \n",
       "COST RATIO                   0.24753           0.24267      "
      ]
     },
     "metadata": {},
     "output_type": "display_data"
    }
   ],
   "source": [
    "options(scipen=999)\n",
    "makeCMStatsCol <- function(cm, colname, costs, best, worst, ratio){\n",
    "    cm.df1 <- as.data.frame(cm$overall)\n",
    "    colnames(cm.df1) <- c(colname)\n",
    "    cm.df2 <- as.data.frame(cm$byClass) \n",
    "    colnames(cm.df2) <- c(colname)\n",
    "    cm.df3 <- data.frame(costs)\n",
    "    row.names(cm.df3) <- c(\"COSTS\")\n",
    "    colnames(cm.df3) <- c(colname)\n",
    "    cm.df4 <- data.frame(best)\n",
    "    row.names(cm.df4) <- c(\"BEST CASE\")\n",
    "    colnames(cm.df4) <- c(colname)\n",
    "    cm.df5 <- data.frame(worst)\n",
    "    row.names(cm.df5) <- c(\"LIFT RATIO\")\n",
    "    colnames(cm.df5) <- c(colname)\n",
    "    cm.df6 <- data.frame(ratio)\n",
    "    row.names(cm.df6) <- c(\"COST RATIO\")\n",
    "    colnames(cm.df6) <- c(colname)\n",
    "    cm.df <- rbind(cm.df1, cm.df2, cm.df3, cm.df4, cm.df5, cm.df6) \n",
    "    cm.df <- round(cm.df, 5)\n",
    "    return(cm.df)\n",
    "}\n",
    "cbind(\n",
    "    makeCMStatsCol(xgb.mono.opt.cm, \"Monotonic XGBoost\", xgb.mono.opt.costs, xgb.mono.opt.best, xgb.mono.opt.lift.ratio, xgb.mono.opt.cost.ratio),\n",
    "    makeCMStatsCol(xgb.opt.cm, \"Non-Monotonic XGBoost\", xgb.opt.costs, xgb.opt.best, xgb.opt.lift.ratio, xgb.opt.cost.ratio)\n",
    ")"
   ]
  },
  {
   "cell_type": "code",
   "execution_count": null,
   "metadata": {},
   "outputs": [],
   "source": []
  }
 ],
 "metadata": {
  "kernelspec": {
   "display_name": "R",
   "language": "R",
   "name": "ir"
  },
  "language_info": {
   "codemirror_mode": "r",
   "file_extension": ".r",
   "mimetype": "text/x-r-source",
   "name": "R",
   "pygments_lexer": "r",
   "version": "3.4.4"
  }
 },
 "nbformat": 4,
 "nbformat_minor": 2
}
